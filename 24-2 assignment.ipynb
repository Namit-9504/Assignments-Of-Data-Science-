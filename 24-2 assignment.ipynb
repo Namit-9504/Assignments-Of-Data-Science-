{
 "cells": [
  {
   "cell_type": "markdown",
   "id": "10a82aca-5b96-47fb-8e1e-3dfc33b7f4bc",
   "metadata": {
    "jp-MarkdownHeadingCollapsed": true,
    "tags": []
   },
   "source": [
    "## Q1. List any five functions of the pandas library with execution."
   ]
  },
  {
   "cell_type": "markdown",
   "id": "1b24663c-e2ed-42d3-bcde-94b742bf2e67",
   "metadata": {},
   "source": [
    " here are five common functions of the Pandas library with examples:\n",
    " 1. here are five common functions of the Pandas library with examples:"
   ]
  },
  {
   "cell_type": "code",
   "execution_count": null,
   "id": "c2170d3b-8a83-4fab-88c5-c9d3c22c43d0",
   "metadata": {},
   "outputs": [],
   "source": [
    "import pandas as pd\n",
    "\n",
    "# read CSV file into a DataFrame\n",
    "df = pd.read_csv('data.csv')\n",
    "\n",
    "# display the first few rows of the DataFrame\n",
    "print(df.head())\n"
   ]
  },
  {
   "cell_type": "markdown",
   "id": "23c5a5fa-aa96-4696-ad9b-f8c2b5b70761",
   "metadata": {},
   "source": [
    "2. groupby() - This function is used to group rows of a DataFrame based on the values in one or more columns, and then apply a function to each group."
   ]
  },
  {
   "cell_type": "code",
   "execution_count": null,
   "id": "43e9ffa7-4dfe-4c90-870f-cff9d471cd10",
   "metadata": {},
   "outputs": [],
   "source": [
    "import pandas as pd\n",
    "\n",
    "# read CSV file into a DataFrame\n",
    "df = pd.read_csv('data.csv')\n",
    "\n",
    "# group the DataFrame by the 'Category' column and calculate the mean of the 'Value' column for each group\n",
    "grouped = df.groupby('Category')['Value'].mean()\n",
    "\n",
    "# display the resulting Series\n",
    "print(grouped)\n"
   ]
  },
  {
   "cell_type": "markdown",
   "id": "79e9fc7d-255a-4a8f-b2d0-bfae891a0a08",
   "metadata": {},
   "source": [
    "3. fillna() - This function is used to fill missing values in a DataFrame with a specified value or method"
   ]
  },
  {
   "cell_type": "code",
   "execution_count": null,
   "id": "3bd139be-b40e-43ab-9f94-6872653a0405",
   "metadata": {},
   "outputs": [],
   "source": [
    "import pandas as pd\n",
    "import numpy as np\n",
    "\n",
    "# create a DataFrame with missing values\n",
    "df = pd.DataFrame({'A': [1, 2, np.nan, 4], 'B': [5, np.nan, np.nan, 8]})\n",
    "\n",
    "# fill missing values with the mean of each column\n",
    "df.fillna(df.mean(), inplace=True)\n",
    "\n",
    "# display the resulting DataFrame\n",
    "print(df)\n"
   ]
  },
  {
   "cell_type": "markdown",
   "id": "8919c1ce-738e-4a9d-ab19-0e5671e91dd7",
   "metadata": {},
   "source": [
    "4. merge() - This function is used to merge two DataFrames based on a common column or index."
   ]
  },
  {
   "cell_type": "code",
   "execution_count": null,
   "id": "69e790f1-98e3-49d9-93cd-80aaef788405",
   "metadata": {},
   "outputs": [],
   "source": [
    "import pandas as pd\n",
    "\n",
    "# create two DataFrames\n",
    "df1 = pd.DataFrame({'key': ['A', 'B', 'C'], 'value': [1, 2, 3]})\n",
    "df2 = pd.DataFrame({'key': ['B', 'C', 'D'], 'value': [4, 5, 6]})\n",
    "\n",
    "# merge the two DataFrames based on the 'key' column\n",
    "merged = pd.merge(df1, df2, on='key')\n",
    "\n",
    "# display the resulting DataFrame\n",
    "print(merged)\n"
   ]
  },
  {
   "cell_type": "markdown",
   "id": "73ac02b6-286c-465e-8c4e-eefde57e6288",
   "metadata": {},
   "source": [
    "5. pivot_table() - This function is used to create a pivot table from a DataFrame, which is a summary table that displays the relationship between two or more columns."
   ]
  },
  {
   "cell_type": "code",
   "execution_count": null,
   "id": "929824f7-1788-4544-b740-b8c2004a2eb0",
   "metadata": {},
   "outputs": [],
   "source": [
    "import pandas as pd\n",
    "\n",
    "# read CSV file into a DataFrame\n",
    "df = pd.read_csv('data.csv')\n",
    "\n",
    "# create a pivot table that shows the mean value for each combination of 'Category' and 'Year'\n",
    "pivot = pd.pivot_table(df, values='Value', index='Category', columns='Year', aggfunc='mean')\n",
    "\n",
    "# display the resulting DataFrame\n",
    "print(pivot)\n"
   ]
  },
  {
   "cell_type": "markdown",
   "id": "09d52d6f-bfa3-4c7f-8371-8b8dc9f74962",
   "metadata": {},
   "source": [
    "## Q2. Given a Pandas DataFrame df with columns 'A', 'B', and 'C', write a Python function to re-index the## DataFrame with a new index that starts from 1 and increments by 2 for each row."
   ]
  },
  {
   "cell_type": "code",
   "execution_count": null,
   "id": "201279ec-8537-4628-9582-07d9f4adf3f3",
   "metadata": {},
   "outputs": [],
   "source": [
    "import pandas as pd\n",
    "\n",
    "def newindex_df(df):\n",
    "    new_index = range(1, len(df)*2, 2) \n",
    "    return df.reset_index(drop=True).reindex(new_index) \n",
    "new_df = reindex_df(df)"
   ]
  },
  {
   "cell_type": "markdown",
   "id": "600b06fa-672c-4bb1-930f-b1224a20e05e",
   "metadata": {},
   "source": [
    "### Q3. You have a Pandas DataFrame df with a column named 'Values'. Write a Python function that iterates over the DataFrame and calculates the sum of the first three values in the 'Values' column. The function should print the sum to the console."
   ]
  },
  {
   "cell_type": "code",
   "execution_count": 46,
   "id": "1e4fbc35-88db-4a05-9681-fe10e4f26327",
   "metadata": {},
   "outputs": [
    {
     "name": "stdout",
     "output_type": "stream",
     "text": [
      "The sum of the first three values is 60.\n"
     ]
    }
   ],
   "source": [
    "import pandas as pd\n",
    "df = pd.DataFrame({\"Values\":[10, 20, 30, 40, 50]})\n",
    "def calculate_sum(df):\n",
    "    values_sum = 0\n",
    "    for i, row in df.iterrows():\n",
    "        if i < 3:\n",
    "            values_sum += row['Values']\n",
    "        else:\n",
    "            break\n",
    "    print(f\"The sum of the first three values is {values_sum}.\")\n",
    "calculate_sum(df)"
   ]
  },
  {
   "cell_type": "markdown",
   "id": "f5857cfa-e3ab-4608-ba92-5de966896d9e",
   "metadata": {},
   "source": [
    "## Q4. Given a Pandas DataFrame df with a column 'Text', write a Python function to create a new column 'Word_Count' that contains the number of words in each row of the 'Text' column."
   ]
  },
  {
   "cell_type": "code",
   "execution_count": 47,
   "id": "3f72ae7f-e9ff-4489-99d5-1fd5b4858e17",
   "metadata": {},
   "outputs": [],
   "source": [
    "import pandas as pd\n",
    "\n",
    "def add_word_count_column(df):\n",
    "    df['Word_Count'] = df['Text'].apply(lambda x: len(x.split()))  # use apply method and lambda function to split each row and count words\n",
    "\n",
    "        "
   ]
  },
  {
   "cell_type": "markdown",
   "id": "6693b353-48e8-4073-b8e3-995cf42fc03c",
   "metadata": {},
   "source": [
    "### Q5. How are DataFrame.size() and DataFrame.shape() different?"
   ]
  },
  {
   "cell_type": "markdown",
   "id": "2c907778-00a0-4947-8623-1ddbe1fa9620",
   "metadata": {},
   "source": [
    "In Pandas, DataFrame.size and DataFrame.shape are both methods that provide information about the dimensions of a DataFrame, but they return different values.\n",
    "\n",
    "DataFrame.size returns the total number of elements in a DataFrame, which is equal to the product of the number of rows and the number of columns. For example, if a DataFrame has 5 rows and 3 columns, its size method would return 15.\n",
    "\n",
    "DataFrame.shape returns a tuple containing the number of rows and columns in a DataFrame. For example, if a DataFrame has 5 rows and 3 columns, its shape method would return (5, 3)."
   ]
  },
  {
   "cell_type": "markdown",
   "id": "13f0f710-7edb-4af6-9a31-0b3a51b4eeda",
   "metadata": {},
   "source": [
    "### Q6. Which function of pandas do we use to read an excel file?"
   ]
  },
  {
   "cell_type": "markdown",
   "id": "6324ef5c-2a86-4319-9db7-b3ae1c59f752",
   "metadata": {},
   "source": [
    "Function used to read Excel File in Pandas is \"pd.read_excel()\""
   ]
  },
  {
   "cell_type": "markdown",
   "id": "d9cd0d2e-d5b9-4810-98d9-b09773d3ad1d",
   "metadata": {},
   "source": [
    "### Q7. You have a Pandas DataFrame df that contains a column named 'Email' that contains email addresses in the format 'username@domain.com'. Write a Python function that creates a new column 'Username' in df that contains only the username part of each email address."
   ]
  },
  {
   "cell_type": "code",
   "execution_count": 59,
   "id": "a55c6fcb-6c96-4087-a338-8030920462da",
   "metadata": {},
   "outputs": [],
   "source": [
    "import pandas as pd \n",
    "def username(df):\n",
    "    df[\"Username\"]=df['Email'].apply(lambda x :x.split(\"@\")[0] )\n",
    "username(df)"
   ]
  },
  {
   "cell_type": "markdown",
   "id": "0aaea5bc-3540-4c1b-9507-54c66d60e003",
   "metadata": {},
   "source": [
    "### Q8. You have a Pandas DataFrame df with columns 'A', 'B', and 'C'. Write a Python function that selects all rows where the value in column 'A' is greater than 5 and the value in column 'B' is less than 10. The function should return a new DataFrame that contains only the selected rows."
   ]
  },
  {
   "cell_type": "code",
   "execution_count": 61,
   "id": "35446f94-30c3-4f6d-85f0-f0de79efaca7",
   "metadata": {},
   "outputs": [],
   "source": [
    "import pandas as pd \n",
    "df = pd.DataFrame({\"A\":[3,8,6,2,9],\"B\":[5,2,9,3,1],\"C\":[1,4,5,7,2]})"
   ]
  },
  {
   "cell_type": "code",
   "execution_count": 62,
   "id": "98af7826-4385-460e-8fa1-3847adf29e6e",
   "metadata": {},
   "outputs": [
    {
     "data": {
      "text/html": [
       "<div>\n",
       "<style scoped>\n",
       "    .dataframe tbody tr th:only-of-type {\n",
       "        vertical-align: middle;\n",
       "    }\n",
       "\n",
       "    .dataframe tbody tr th {\n",
       "        vertical-align: top;\n",
       "    }\n",
       "\n",
       "    .dataframe thead th {\n",
       "        text-align: right;\n",
       "    }\n",
       "</style>\n",
       "<table border=\"1\" class=\"dataframe\">\n",
       "  <thead>\n",
       "    <tr style=\"text-align: right;\">\n",
       "      <th></th>\n",
       "      <th>A</th>\n",
       "      <th>B</th>\n",
       "      <th>C</th>\n",
       "    </tr>\n",
       "  </thead>\n",
       "  <tbody>\n",
       "    <tr>\n",
       "      <th>0</th>\n",
       "      <td>3</td>\n",
       "      <td>5</td>\n",
       "      <td>1</td>\n",
       "    </tr>\n",
       "    <tr>\n",
       "      <th>1</th>\n",
       "      <td>8</td>\n",
       "      <td>2</td>\n",
       "      <td>4</td>\n",
       "    </tr>\n",
       "    <tr>\n",
       "      <th>2</th>\n",
       "      <td>6</td>\n",
       "      <td>9</td>\n",
       "      <td>5</td>\n",
       "    </tr>\n",
       "    <tr>\n",
       "      <th>3</th>\n",
       "      <td>2</td>\n",
       "      <td>3</td>\n",
       "      <td>7</td>\n",
       "    </tr>\n",
       "    <tr>\n",
       "      <th>4</th>\n",
       "      <td>9</td>\n",
       "      <td>1</td>\n",
       "      <td>2</td>\n",
       "    </tr>\n",
       "  </tbody>\n",
       "</table>\n",
       "</div>"
      ],
      "text/plain": [
       "   A  B  C\n",
       "0  3  5  1\n",
       "1  8  2  4\n",
       "2  6  9  5\n",
       "3  2  3  7\n",
       "4  9  1  2"
      ]
     },
     "execution_count": 62,
     "metadata": {},
     "output_type": "execute_result"
    }
   ],
   "source": [
    "df"
   ]
  },
  {
   "cell_type": "code",
   "execution_count": 63,
   "id": "48dd8e8c-5842-4cf3-b0d6-73adb60b2f71",
   "metadata": {},
   "outputs": [],
   "source": [
    "import pandas as pd\n",
    "\n",
    "def select_rows(df):\n",
    "    new_df = df[(df['A'] > 5) & (df['B'] < 10)]  # use boolean indexing to select rows where A > 5 and B < 10\n",
    "    return new_df\n"
   ]
  },
  {
   "cell_type": "code",
   "execution_count": 65,
   "id": "644f3f2b-85f9-4c7c-91f0-53f67e12097f",
   "metadata": {},
   "outputs": [
    {
     "name": "stdout",
     "output_type": "stream",
     "text": [
      "   A  B  C\n",
      "1  8  2  4\n",
      "2  6  9  5\n",
      "4  9  1  2\n"
     ]
    }
   ],
   "source": [
    "df = pd.DataFrame({\"A\":[3,8,6,2,9],\"B\":[5,2,9,3,1],\"C\":[1,4,5,7,2]})  \n",
    "new_df = select_rows(df)  \n",
    "print(new_df)  \n"
   ]
  },
  {
   "cell_type": "code",
   "execution_count": null,
   "id": "b445031c-db05-4ea0-8b11-ab87492ee5f5",
   "metadata": {},
   "outputs": [],
   "source": []
  },
  {
   "cell_type": "code",
   "execution_count": null,
   "id": "85d08a64-974c-49de-b434-4b1650cb383e",
   "metadata": {},
   "outputs": [],
   "source": []
  },
  {
   "cell_type": "code",
   "execution_count": null,
   "id": "c5ba1b3b-9ddd-4b44-8325-0361f86ccc3a",
   "metadata": {},
   "outputs": [],
   "source": []
  },
  {
   "cell_type": "code",
   "execution_count": null,
   "id": "3bd381cb-b706-4860-8df2-9cf690051d3c",
   "metadata": {},
   "outputs": [],
   "source": []
  },
  {
   "cell_type": "code",
   "execution_count": null,
   "id": "f3f0844a-4e6d-4193-90ac-c1d06763d02d",
   "metadata": {},
   "outputs": [],
   "source": []
  },
  {
   "cell_type": "code",
   "execution_count": null,
   "id": "c857d57a-0ad1-4ce6-b2e7-b2dc2e8fe2ba",
   "metadata": {},
   "outputs": [],
   "source": []
  },
  {
   "cell_type": "code",
   "execution_count": null,
   "id": "7e183ea4-7ae7-4e0a-82ee-723b18760977",
   "metadata": {},
   "outputs": [],
   "source": []
  },
  {
   "cell_type": "code",
   "execution_count": null,
   "id": "2902f948-c05f-4a73-b143-968e45150500",
   "metadata": {},
   "outputs": [],
   "source": []
  },
  {
   "cell_type": "code",
   "execution_count": null,
   "id": "20d39156-e19b-47ef-9613-3427c03a50f3",
   "metadata": {},
   "outputs": [],
   "source": []
  },
  {
   "cell_type": "code",
   "execution_count": null,
   "id": "4954c1bb-aaba-477d-9123-16778ff953ee",
   "metadata": {},
   "outputs": [],
   "source": []
  },
  {
   "cell_type": "code",
   "execution_count": null,
   "id": "64529183-bfbe-464f-8280-204326e12ff7",
   "metadata": {},
   "outputs": [],
   "source": []
  },
  {
   "cell_type": "code",
   "execution_count": null,
   "id": "f62e78a4-189f-47e7-828f-afdd89a5fd04",
   "metadata": {},
   "outputs": [],
   "source": []
  },
  {
   "cell_type": "code",
   "execution_count": null,
   "id": "a8fb8db5-3953-4e99-8494-2f9f0438bae0",
   "metadata": {},
   "outputs": [],
   "source": []
  },
  {
   "cell_type": "code",
   "execution_count": null,
   "id": "bf2e8c76-9594-47c2-9dec-1b6da870b4fd",
   "metadata": {},
   "outputs": [],
   "source": []
  },
  {
   "cell_type": "code",
   "execution_count": null,
   "id": "20752dcc-9091-44cb-ac1c-0a8a684256af",
   "metadata": {},
   "outputs": [],
   "source": []
  },
  {
   "cell_type": "code",
   "execution_count": null,
   "id": "fe768d80-ac20-488d-913f-247fba1c936c",
   "metadata": {},
   "outputs": [],
   "source": []
  }
 ],
 "metadata": {
  "kernelspec": {
   "display_name": "Python 3 (ipykernel)",
   "language": "python",
   "name": "python3"
  },
  "language_info": {
   "codemirror_mode": {
    "name": "ipython",
    "version": 3
   },
   "file_extension": ".py",
   "mimetype": "text/x-python",
   "name": "python",
   "nbconvert_exporter": "python",
   "pygments_lexer": "ipython3",
   "version": "3.10.8"
  }
 },
 "nbformat": 4,
 "nbformat_minor": 5
}

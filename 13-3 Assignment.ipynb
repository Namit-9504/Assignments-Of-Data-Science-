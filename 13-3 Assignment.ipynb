{
 "cells": [
  {
   "cell_type": "markdown",
   "id": "be860b5c-4d63-4aed-bf6f-e0fc2c22317e",
   "metadata": {},
   "source": [
    "## Q1. Explain the assumptions required to use ANOVA and provide examples of violations that could impact the validity of the results."
   ]
  },
  {
   "cell_type": "markdown",
   "id": "56a9ad69-244f-4fc2-9a54-cb6818cb0f62",
   "metadata": {},
   "source": [
    "ANOVA (Analysis of Variance) is a statistical method used to compare the means of two or more groups of data. ANOVA assumes the following:\n",
    "\n",
    "1. Independence: The data within each group should be independent of each other.\n",
    "\n",
    "2. Normality: The data should be normally distributed within each group.\n",
    "\n",
    "3. Homogeneity of variance: The variances of the groups should be equal.\n",
    "\n",
    "4. Samples are in dependent and random\n",
    "\n",
    "If any of these assumptions are violated, the results of ANOVA may not be valid.\n",
    "\n",
    "Examples of violations that could impact the validity of the results are:\n",
    "\n",
    "Violation of independence: If the data within the groups are not independent, the results of ANOVA will be invalid. For example, if the same group of participants is used in multiple treatments, this would violate the independence assumption.\n",
    "\n",
    "Violation of normality: If the data within the groups are not normally distributed, the results of ANOVA may not be valid. For example, if the data are skewed, the results may not accurately reflect the differences between groups.\n",
    "\n",
    "Violation of homogeneity of variance: If the variances of the groups are not equal, the results of ANOVA may not be valid. For example, if the data in one group has much larger variance than the data in another group, this could impact the results.\n",
    "\n",
    "In summary, ANOVA is a powerful statistical tool for comparing means between groups. However, it is important to ensure that the assumptions of independence, normality, and homogeneity of variance are met to ensure that the results are valid. Violations of these assumptions could lead to erroneous conclusions."
   ]
  },
  {
   "cell_type": "markdown",
   "id": "7c3b79c0-5699-4152-9c81-fcd2224040d7",
   "metadata": {},
   "source": [
    "## Q2. What are the three types of ANOVA, and in what situations would each be used?"
   ]
  },
  {
   "cell_type": "markdown",
   "id": "64cb6e01-293c-4fd7-a20f-eeef6e814fda",
   "metadata": {},
   "source": [
    "There are three types of ANOVA:\n",
    "\n",
    "One-way ANOVA: This is used to test for differences in means across two or more independent groups of a single categorical independent variable (also known as a factor) with one or more continuous dependent variables. For example, a one-way ANOVA could be used to compare the effectiveness of three different drugs on blood pressure.\n",
    "\n",
    "Two-way ANOVA: This is used to test for differences in means across two or more independent groups of two categorical independent variables (factors) with one or more continuous dependent variables. This is useful for examining interactions between two categorical variables. For example, a two-way ANOVA could be used to examine the effects of different training programs (factor 1) and gender (factor 2) on job performance.\n",
    "\n",
    "Repeated measures ANOVA: This is used to test for differences in means across two or more dependent groups (i.e., repeated measures) of a single categorical independent variable (factor) with one or more continuous dependent variables. For example, a repeated measures ANOVA could be used to compare the scores of a group of individuals on a memory test when they are given a placebo and then a medication."
   ]
  },
  {
   "cell_type": "markdown",
   "id": "93fddcb6-eba2-4229-8453-da489aa41845",
   "metadata": {},
   "source": [
    "## Q3. What is the partitioning of variance in ANOVA, and why is it important to understand this concept?"
   ]
  },
  {
   "cell_type": "markdown",
   "id": "3d08d7f3-9e2c-413e-9e11-acc0ffd44bbc",
   "metadata": {},
   "source": [
    "The partitioning of variance in ANOVA refers to the division of the total variance in the dependent variable into different components that are associated with different sources of variation. These components include the between-group variance and the within-group variance.\n",
    "\n",
    "The between-group variance reflects the differences in means between the groups being compared and is often referred to as the \"treatment effect.\" The within-group variance reflects the differences within each group and is often referred to as the \"error\" or \"residual\" variance.\n",
    "\n",
    "Understanding the partitioning of variance is important because it allows us to determine the relative contributions of the treatment effect and the error to the total variance in the dependent variable. This, in turn, allows us to determine whether the observed differences between the groups are statistically significant or simply due to chance.\n",
    "\n",
    "Additionally, understanding the partitioning of variance can help us identify potential sources of variability that may be impacting our results. For example, if the within-group variance is large, it may suggest that there is a lot of variability within each group that is not being accounted for in the analysis.\n",
    "\n",
    "In summary, the partitioning of variance in ANOVA is a critical concept that allows us to determine the relative contributions of different sources of variability to the total variance in the dependent variable. This understanding is essential for determining the statistical significance of the observed differences between groups and for identifying potential sources of variability that may be impacting our results."
   ]
  },
  {
   "cell_type": "markdown",
   "id": "a70e460b-ae34-4815-b667-ebba21daf471",
   "metadata": {},
   "source": [
    "## Q4. How would you calculate the total sum of squares (SST), explained sum of squares (SSE), and residual sum of squares (SSR) in a one-way ANOVA using Python?"
   ]
  },
  {
   "cell_type": "code",
   "execution_count": 1,
   "id": "d0b0282e-2354-4bde-841a-dc2ea05352dd",
   "metadata": {},
   "outputs": [
    {
     "name": "stdout",
     "output_type": "stream",
     "text": [
      "Total sum of squares (SST): 130.0\n",
      "Explained sum of squares (SSE): 10.0\n",
      "Residual sum of squares (SSR): 120.0\n"
     ]
    }
   ],
   "source": [
    "import scipy.stats as stats\n",
    "\n",
    "# create sample data\n",
    "group1 = [10, 12, 14, 16, 18]\n",
    "group2 = [9, 11, 13, 15, 17]\n",
    "group3 = [8, 10, 12, 14, 16]\n",
    "\n",
    "# concatenate the groups into a single dataset\n",
    "data = group1 + group2 + group3\n",
    "\n",
    "# calculate the one-way ANOVA\n",
    "F, p = stats.f_oneway(group1, group2, group3)\n",
    "\n",
    "# calculate the total sum of squares (SST)\n",
    "mean = sum(data) / len(data)\n",
    "SST = sum((x - mean)**2 for x in data)\n",
    "\n",
    "# calculate the explained sum of squares (SSE)\n",
    "SSG = len(group1)*(sum(x for x in group1)/len(group1) - mean)**2 + \\\n",
    "      len(group2)*(sum(x for x in group2)/len(group2) - mean)**2 + \\\n",
    "      len(group3)*(sum(x for x in group3)/len(group3) - mean)**2\n",
    "SSE = SSG\n",
    "\n",
    "# calculate the residual sum of squares (SSR)\n",
    "SSR = SST - SSE\n",
    "\n",
    "# print the results\n",
    "print(\"Total sum of squares (SST):\", SST)\n",
    "print(\"Explained sum of squares (SSE):\", SSE)\n",
    "print(\"Residual sum of squares (SSR):\", SSR)\n"
   ]
  },
  {
   "cell_type": "markdown",
   "id": "42bff2e1-06a7-408f-8de7-8e2362818eb4",
   "metadata": {},
   "source": [
    "## Q5. In a two-way ANOVA, how would you calculate the main effects and interaction effects using Python?"
   ]
  },
  {
   "cell_type": "code",
   "execution_count": null,
   "id": "defc64fa-620c-4d71-a0dd-1ae11f450350",
   "metadata": {},
   "outputs": [],
   "source": [
    "import pandas as pd\n",
    "import statsmodels.api as sm\n",
    "from statsmodels.formula.api import ols\n",
    "\n",
    "# load the data into a Pandas DataFrame\n",
    "df = pd.read_csv('data.csv')\n",
    "\n",
    "# fit the two-way ANOVA model\n",
    "model = ols('DepVar ~ C(Group1) + C(Group2) + C(Group1):C(Group2)', data=df).fit()\n",
    "\n",
    "# calculate the two-way ANOVA\n",
    "anova_table = sm.stats.anova_lm(model, typ=2)\n",
    "\n",
    "# extract the main effects and interaction effect\n",
    "main_effect_1 = anova_table['sum_sq']['C(Group1)'] / anova_table['df']['C(Group1)']\n",
    "main_effect_2 = anova_table['sum_sq']['C(Group2)'] / anova_table['df']['C(Group2)']\n",
    "interaction_effect = anova_table['sum_sq']['C(Group1):C(Group2)'] / anova_table['df']['C(Group1):C(Group2)']\n",
    "\n",
    "# print the results\n",
    "print('Main Effect 1:', main_effect_1)\n",
    "print('Main Effect 2:', main_effect_2)\n",
    "print('Interaction Effect:', interaction_effect)\n"
   ]
  },
  {
   "cell_type": "markdown",
   "id": "1879ff73-56b4-436c-a34f-b1304a480083",
   "metadata": {},
   "source": [
    "## Q6. Suppose you conducted a one-way ANOVA and obtained an F-statistic of 5.23 and a p-value of 0.02What can you conclude about the differences between the groups, and how would you interpret these"
   ]
  },
  {
   "cell_type": "markdown",
   "id": "bd489ba3-808b-4b73-bc9e-b4939923c1bc",
   "metadata": {},
   "source": [
    "If a one-way ANOVA yields an F-statistic of 5.23 and a p-value of 0.02, we can conclude that there is at least one group mean that is statistically significantly different from the other group means. The null hypothesis in this case is that all group means are equal, and the alternative hypothesis is that at least one group mean is different from the others.\n",
    "\n",
    "Since the p-value is less than the significance level (usually set at 0.05), we reject the null hypothesis and conclude that there is sufficient evidence to suggest that the group means are not all equal. However, it is important to note that we cannot determine which specific group(s) differ from the others without further post-hoc testing.\n",
    "\n",
    "Furthermore, the F-statistic of 5.23 indicates that the between-group variability is 5.23 times larger than the within-group variability. This means that the differences between the group means are larger than what we would expect due to chance or random error.\n",
    "\n",
    "In summary, we can interpret these results as evidence that there are statistically significant differences between the groups, but we need to conduct further tests to determine which specific group(s) differ from the others."
   ]
  },
  {
   "cell_type": "markdown",
   "id": "a90f42d8-59db-48a4-98a7-faa2600840d2",
   "metadata": {},
   "source": [
    "## Q7. In a repeated measures ANOVA, how would you handle missing data, and what are the potential consequences of using different methods to handle missing data?"
   ]
  },
  {
   "cell_type": "markdown",
   "id": "f9dcba2e-3b16-4b6c-97b7-4f4ad01c9429",
   "metadata": {},
   "source": [
    "Handling missing data in a repeated measures ANOVA depends on the reason for missing data. If the data are missing at random, meaning the reason for the missing data is unrelated to the values of the missing observations or to the outcome of the study, then the missing data can be handled using methods such as mean imputation or multiple imputation. However, if the data are missing not at random, meaning the reason for the missing data is related to the values of the missing observations or to the outcome of the study, then the missing data should not be imputed, and other methods such as maximum likelihood estimation should be used to account for the missing data.\n",
    "\n",
    "The consequences of using different methods to handle missing data can be significant. Mean imputation, for example, can lead to biased estimates and standard errors, and can reduce statistical power. Multiple imputation can be more effective, but requires more computation time and may be less appropriate for small sample sizes. Maximum likelihood estimation is generally considered the most appropriate method for handling missing data not at random, but may be more difficult to implement and may require more assumptions about the missing data mechanism. Therefore, it is important to carefully consider the reason for missing data and the appropriate method for handling missing data in a repeated measures ANOVA analysis"
   ]
  },
  {
   "cell_type": "markdown",
   "id": "b2075499-b505-43e2-b74f-5281f27d2629",
   "metadata": {},
   "source": [
    "## Q8. What are some common post-hoc tests used after ANOVA, and when would you use each one? Provide an example of a situation where a post-hoc test might be necessary."
   ]
  },
  {
   "cell_type": "markdown",
   "id": "a22af5c0-3c03-4239-b22b-bb61ec4298eb",
   "metadata": {},
   "source": [
    "Post-hoc tests are used after ANOVA to determine which specific groups are significantly different from each other when a significant difference is found in the overall ANOVA. Here are some common post-hoc tests and when they might be used:\n",
    "\n",
    "Tukey's Honestly Significant Difference (HSD): This test is used to compare all possible pairs of means after ANOVA. It controls the family-wise error rate, which is the probability of making at least one type I error (rejecting a true null hypothesis) across all pairwise comparisons. It is used when there are multiple pairwise comparisons to be made.\n",
    "\n",
    "Bonferroni correction: This test adjusts the significance level of the post-hoc tests by dividing it by the number of comparisons made. This is done to control the family-wise error rate. It is used when there are a small number of pairwise comparisons to be made.\n",
    "\n",
    "Scheffe's method: This test is used when there are multiple pairwise comparisons to be made, and the sample sizes are unequal. It is more conservative than other post-hoc tests.\n",
    "\n",
    "Dunnett's test: This test is used to compare all groups to a control group. It controls the family-wise error rate, but only requires one set of pairwise comparisons.\n",
    "\n",
    "Games-Howell test: This test is used when the assumption of equal variances is violated. It does not assume equal variances across groups, and therefore can be more robust.\n",
    "\n",
    "An example of a situation where a post-hoc test might be necessary is if a study involves comparing the effectiveness of four different treatments for a medical condition. After conducting an ANOVA, it is found that there is a significant difference between the means. A post-hoc test would be used to determine which specific pairs of treatments are significantly different from each other. This information would be useful for clinicians to make informed decisions about which treatment to use for their patients."
   ]
  },
  {
   "cell_type": "markdown",
   "id": "1d3a10cc-610f-4498-b721-d115ea43ba52",
   "metadata": {},
   "source": [
    "## Q9. A researcher wants to compare the mean weight loss of three diets: A, B, and C. They collect data from 50 participants who were randomly assigned to one of the diets. Conduct a one-way ANOVA using Python to determine if there are any significant differences between the mean weight loss of the three diets. Report the F-statistic and p-value, and interpret the results."
   ]
  },
  {
   "cell_type": "code",
   "execution_count": 7,
   "id": "7a3b45f7-597b-4024-8df4-4d0a7d1730c3",
   "metadata": {},
   "outputs": [
    {
     "name": "stdout",
     "output_type": "stream",
     "text": [
      "F-statistic:  26.270116171334905\n",
      "p-value:  2.7090791490464184e-09\n"
     ]
    }
   ],
   "source": [
    "import numpy as np\n",
    "from scipy.stats import f_oneway\n",
    "\n",
    "# weight loss data for each diet\n",
    "diet_A = np.array([3.2, 4.1, 1.8, 2.9, 4.5, 3.7, 2.6, 1.9, 2.2, 3.1,\n",
    "                   2.4, 3.6, 4.3, 2.7, 1.8, 3.9, 4.2, 3.4, 2.8, 3.5,\n",
    "                   2.1, 2.3, 1.7, 3.3, 2.5])\n",
    "diet_B = np.array([2.5, 1.9, 3.1, 1.8, 2.7, 3.2, 2.3, 3.0, 3.5, 2.2,\n",
    "                   1.7, 2.8, 3.3, 2.1, 3.6, 2.9, 2.0, 2.4, 1.5, 2.6,\n",
    "                   3.8, 3.7, 1.6, 2.4, 3.4])\n",
    "diet_C = np.array([1.2, 1.8, 0.9, 2.4, 1.4, 2.2, 1.0, 1.6, 1.5, 1.9,\n",
    "                   1.1, 1.8, 2.1, 1.5, 2.6, 1.7, 1.2, 2.0, 1.4, 1.9,\n",
    "                   1.3, 2.0, 1.5, 1.7, 1.1])\n",
    "\n",
    "# perform one-way ANOVA\n",
    "f_stat, p_val = f_oneway(diet_A, diet_B, diet_C)\n",
    "\n",
    "# print results\n",
    "print(\"F-statistic: \", f_stat)\n",
    "print(\"p-value: \", p_val)\n"
   ]
  },
  {
   "cell_type": "markdown",
   "id": "02fb0af3-f938-488e-a537-12c5a3d2f0ca",
   "metadata": {},
   "source": [
    "## Q10. A company wants to know if there are any significant differences in the average time it takes to complete a task using three different software programs: Program A, Program B, and Program C. They randomly assign 30 employees to one of the programs and record the time it takes each employee to complete the task. Conduct a two-way ANOVA using Python to determine if there are any main effects or interaction effects between the software programs and employee experience level (novice vs. experienced). Report the F-statistics and p-values, and interpret the results."
   ]
  },
  {
   "cell_type": "code",
   "execution_count": null,
   "id": "b7675980-c6d4-4124-9d28-22280220e34a",
   "metadata": {},
   "outputs": [],
   "source": [
    "import pandas as pd\n",
    "import statsmodels.api as sm\n",
    "from statsmodels.formula.api import ols\n",
    "\n",
    "# Create a sample dataset\n",
    "data = pd.DataFrame({\n",
    "    'program': ['A']*30 + ['B']*30 + ['C']*30,\n",
    "    'experience': ['novice']*45 + ['experienced']*15,\n",
    "    'time': [15, 18, 20, 19, 17, 16, 21, 23, 22, 20, 18, 19, 22, 20, 21,\n",
    "             13, 15, 12, 16, 14, 17, 15, 13, 14, 16, 18, 12, 15, 13, 14,\n",
    "             24, 26, 27, 23, 25, 24, 28, 26, 27, 25, 26, 24, 28, 27, 25,\n",
    "             18, 20, 17, 19, 16, 18, 20, 19, 21, 17, 18, 16, 20, 19, 17,\n",
    "             22, 23, 21, 24, 20, 22, 23, 21, 20, 22, 23, 24, 21, 22, 23,\n",
    "             19, 21, 20, 18, 22, 19, 20, 21, 18, 20, 19, 21, 20, 22, 21,\n",
    "             25, 27, 28, 26, 24, 26, 28, 27, 25, 26, 27, 25, 28, 26, 27,\n",
    "             17, 18, 19, 16, 15, 17, 19, 16, 15, 18, 19, 17, 15, 16, 18,\n",
    "             23, 24, 25, 22, 21, 24, 23, 22, 21, 25, 23, 22, 25, 24, 21]\n",
    "})\n",
    "\n",
    "# Fit a two-way ANOVA model\n",
    "model = ols('time ~ C(program) + C(experience) + C(program):C(experience)', data).fit()\n",
    "anova_table = sm.stats.anova_lm(model, typ=2)\n",
    "\n",
    "# Print the ANOVA table\n",
    "print(anova_table)\n"
   ]
  },
  {
   "cell_type": "markdown",
   "id": "6a7f9d37-8938-49f0-968d-3549b0c85e43",
   "metadata": {},
   "source": [
    "## Q11. An educational researcher is interested in whether a new teaching method improves student test scores. They randomly assign 100 students to either the control group (traditional teaching method) or the experimental group (new teaching method) and administer a test at the end of the semester. Conduct a two-sample t-test using Python to determine if there are any significant differences in test scores between the two groups. If the results are significant, follow up with a post-hoc test to determine which group(s) differ significantly from each other."
   ]
  },
  {
   "cell_type": "code",
   "execution_count": 9,
   "id": "0b07619c-2121-4f64-99cf-753d21f4cd3c",
   "metadata": {},
   "outputs": [
    {
     "name": "stdout",
     "output_type": "stream",
     "text": [
      "t-statistic: -3.400163835872495\n",
      "p-value: 0.0008144653950847956\n"
     ]
    }
   ],
   "source": [
    "import numpy as np\n",
    "from scipy.stats import ttest_ind\n",
    "\n",
    "# create mock data for control and experimental groups\n",
    "control_scores = np.random.normal(70, 10, size=100)\n",
    "experimental_scores = np.random.normal(75, 12, size=100)\n",
    "\n",
    "# conduct two-sample t-test\n",
    "t_statistic, p_value = ttest_ind(control_scores, experimental_scores)\n",
    "\n",
    "# print results\n",
    "print(\"t-statistic:\", t_statistic)\n",
    "print(\"p-value:\", p_value)\n"
   ]
  },
  {
   "cell_type": "code",
   "execution_count": 10,
   "id": "33e89df9-a29a-4893-807d-5acc23270854",
   "metadata": {},
   "outputs": [
    {
     "name": "stdout",
     "output_type": "stream",
     "text": [
      "   Multiple Comparison of Means - Tukey HSD, FWER=0.05   \n",
      "=========================================================\n",
      " group1    group2    meandiff p-adj  lower  upper  reject\n",
      "---------------------------------------------------------\n",
      "control experimental   5.1243 0.0008 2.1523 8.0962   True\n",
      "---------------------------------------------------------\n"
     ]
    }
   ],
   "source": [
    "from statsmodels.stats.multicomp import pairwise_tukeyhsd\n",
    "\n",
    "# conduct Tukey's range test\n",
    "tukey_results = pairwise_tukeyhsd(np.concatenate([control_scores, experimental_scores]), \n",
    "                                  np.concatenate([np.repeat(\"control\", len(control_scores)), \n",
    "                                                  np.repeat(\"experimental\", len(experimental_scores))]))\n",
    "\n",
    "# print results\n",
    "print(tukey_results)\n"
   ]
  },
  {
   "cell_type": "markdown",
   "id": "ee4c2fa1-de6a-451d-a4c6-6cfd528de1c3",
   "metadata": {},
   "source": [
    "## Q12. A researcher wants to know if there are any significant differences in the average daily sales of three retail stores: Store A, Store B, and Store C. They randomly select 30 days and record the sales for each store on those days. Conduct a repeated measures ANOVA using Python to determine if there are any significant differences in sales between the three stores. If the results are significant, follow up with a post- hoc test to determine which store(s) differ significantly from each other."
   ]
  },
  {
   "cell_type": "code",
   "execution_count": null,
   "id": "bdf642b5-339d-483e-9fd9-ad90487f92e2",
   "metadata": {},
   "outputs": [],
   "source": [
    "import pandas as pd\n",
    "import statsmodels.api as sm\n",
    "from statsmodels.formula.api import ols\n",
    "\n",
    "# create a DataFrame with sales data\n",
    "sales = pd.DataFrame({\n",
    "    'day': [f'day{i}' for i in range(1, 31)] * 3,\n",
    "    'store': ['A'] * 30 + ['B'] * 30 + ['C'] * 30,\n",
    "    'sales': [20, 30, 25, 28, 32, 27, 23, 25, 27, 30, 21, 22, 24, 25, 26, 27, 29, 28, 30, 35, 33, 31, 28, 27, 26, 24, 23, 22, 20, 18,\n",
    "              32, 35, 34, 30, 28, 29, 25, 23, 26, 28, 32, 33, 31, 30, 29, 28, 26, 24, 22, 30, 32, 34, 36, 37, 35, 33, 31, 28, 25],\n",
    "})\n",
    "\n",
    "# create a formula for the ANOVA model\n",
    "formula = 'sales ~ C(store) + C(day) + C(store):C(day)'\n",
    "\n",
    "# fit the ANOVA model\n",
    "lm = ols(formula, data=sales).fit()\n",
    "table = sm.stats.anova_lm(lm, typ=2)\n",
    "\n",
    "# print the ANOVA table\n",
    "print(table)\n",
    "from statsmodels.stats.multicomp import pairwise_tukeyhsd\n",
    "\n",
    "# perform Tukey's HSD test\n",
    "tukey = pairwise_tukeyhsd(sales['sales'], sales['store'], alpha=0.05)\n",
    "\n",
    "# print the results of the test\n",
    "print(tukey.summary())\n"
   ]
  },
  {
   "cell_type": "code",
   "execution_count": null,
   "id": "89513552-85b1-4a99-aafc-f79b87a39cea",
   "metadata": {},
   "outputs": [],
   "source": []
  },
  {
   "cell_type": "code",
   "execution_count": null,
   "id": "2f8c3d3a-3107-4f24-b0e8-10f8cd33fdee",
   "metadata": {},
   "outputs": [],
   "source": []
  },
  {
   "cell_type": "code",
   "execution_count": null,
   "id": "d8b8b64b-5334-4faf-a6c3-7cc5fac61bf2",
   "metadata": {},
   "outputs": [],
   "source": []
  },
  {
   "cell_type": "code",
   "execution_count": null,
   "id": "a8c39d5a-8ca0-40d3-ae5b-8de19883f8c1",
   "metadata": {},
   "outputs": [],
   "source": []
  },
  {
   "cell_type": "code",
   "execution_count": null,
   "id": "e1ed85d2-3156-4f2d-8d25-f27f46b137dd",
   "metadata": {},
   "outputs": [],
   "source": []
  },
  {
   "cell_type": "code",
   "execution_count": null,
   "id": "82141f21-887a-43d1-9d88-816905d761a7",
   "metadata": {},
   "outputs": [],
   "source": []
  },
  {
   "cell_type": "code",
   "execution_count": null,
   "id": "7f89ece4-c095-4bf4-ad6b-0cf0946fe10d",
   "metadata": {},
   "outputs": [],
   "source": []
  },
  {
   "cell_type": "code",
   "execution_count": null,
   "id": "d846079d-628f-46f3-87ea-5c3f5262557b",
   "metadata": {},
   "outputs": [],
   "source": []
  },
  {
   "cell_type": "code",
   "execution_count": null,
   "id": "46d425d5-46a3-47d9-9ed1-18fda475a555",
   "metadata": {},
   "outputs": [],
   "source": []
  },
  {
   "cell_type": "code",
   "execution_count": null,
   "id": "7067282c-cd68-4f41-b8e8-d396cc9ca30e",
   "metadata": {},
   "outputs": [],
   "source": []
  },
  {
   "cell_type": "code",
   "execution_count": null,
   "id": "3b329cd8-796d-46ce-8060-e83a3f9a4761",
   "metadata": {},
   "outputs": [],
   "source": []
  },
  {
   "cell_type": "code",
   "execution_count": null,
   "id": "6bbdf5b0-1db6-4e9e-a50a-fd8714562dc7",
   "metadata": {},
   "outputs": [],
   "source": []
  },
  {
   "cell_type": "code",
   "execution_count": null,
   "id": "013fbc5a-a49d-4b22-b0ac-45daa03dae69",
   "metadata": {},
   "outputs": [],
   "source": []
  },
  {
   "cell_type": "code",
   "execution_count": null,
   "id": "141c5b6e-23a7-4764-b82b-ea02a5ec8274",
   "metadata": {},
   "outputs": [],
   "source": []
  },
  {
   "cell_type": "code",
   "execution_count": null,
   "id": "4e2dce25-52bf-418f-9024-25b7a22cea95",
   "metadata": {},
   "outputs": [],
   "source": []
  },
  {
   "cell_type": "code",
   "execution_count": null,
   "id": "98821772-c478-46ee-8bbe-53d22eaea893",
   "metadata": {},
   "outputs": [],
   "source": []
  },
  {
   "cell_type": "code",
   "execution_count": null,
   "id": "2d489a86-0113-4a3a-91f5-d00da39ab854",
   "metadata": {},
   "outputs": [],
   "source": []
  },
  {
   "cell_type": "code",
   "execution_count": null,
   "id": "faf273cc-dde2-4377-9a4e-b4c26d252289",
   "metadata": {},
   "outputs": [],
   "source": []
  },
  {
   "cell_type": "code",
   "execution_count": null,
   "id": "34504b35-4feb-44ae-a84f-93e610ffa81e",
   "metadata": {},
   "outputs": [],
   "source": []
  },
  {
   "cell_type": "code",
   "execution_count": null,
   "id": "c3b71582-6a22-4f7f-a7c2-57a934d4c5d1",
   "metadata": {},
   "outputs": [],
   "source": []
  },
  {
   "cell_type": "code",
   "execution_count": null,
   "id": "8dad97a2-afef-4114-ba06-ba08237de98b",
   "metadata": {},
   "outputs": [],
   "source": []
  },
  {
   "cell_type": "code",
   "execution_count": null,
   "id": "07c7124e-d7c7-4ea3-8cbe-49fd8f415f5b",
   "metadata": {},
   "outputs": [],
   "source": []
  },
  {
   "cell_type": "code",
   "execution_count": null,
   "id": "dd713c37-daa8-4d28-97e7-9a0b85790f70",
   "metadata": {},
   "outputs": [],
   "source": []
  },
  {
   "cell_type": "code",
   "execution_count": null,
   "id": "6e377531-cf05-4a0a-8355-afa264c49962",
   "metadata": {},
   "outputs": [],
   "source": []
  },
  {
   "cell_type": "code",
   "execution_count": null,
   "id": "010f4975-6367-482c-8c86-1ffcd87b431d",
   "metadata": {},
   "outputs": [],
   "source": []
  },
  {
   "cell_type": "code",
   "execution_count": null,
   "id": "43d29142-3d2b-4c4a-be63-98c435666991",
   "metadata": {},
   "outputs": [],
   "source": []
  },
  {
   "cell_type": "code",
   "execution_count": null,
   "id": "e7b7aa46-469d-4455-b85f-fe974db5247f",
   "metadata": {},
   "outputs": [],
   "source": []
  },
  {
   "cell_type": "code",
   "execution_count": null,
   "id": "eca1a347-348e-44c8-a78f-b72990be4a10",
   "metadata": {},
   "outputs": [],
   "source": []
  },
  {
   "cell_type": "code",
   "execution_count": null,
   "id": "088379ba-c97c-48c6-978c-d29850db45f1",
   "metadata": {},
   "outputs": [],
   "source": []
  },
  {
   "cell_type": "code",
   "execution_count": null,
   "id": "88655265-068a-4f2b-b065-ba61005ff9fc",
   "metadata": {},
   "outputs": [],
   "source": []
  },
  {
   "cell_type": "code",
   "execution_count": null,
   "id": "0d489ffe-138c-4ec6-9d13-482e3deab1fe",
   "metadata": {},
   "outputs": [],
   "source": []
  },
  {
   "cell_type": "code",
   "execution_count": null,
   "id": "3c7fd3c3-3f26-436f-b610-e1a1f86bc34b",
   "metadata": {},
   "outputs": [],
   "source": []
  },
  {
   "cell_type": "code",
   "execution_count": null,
   "id": "749e2f2f-1082-4f4e-a349-14a5b2b1f507",
   "metadata": {},
   "outputs": [],
   "source": []
  },
  {
   "cell_type": "code",
   "execution_count": null,
   "id": "25ef65f8-c3f1-48ba-bb7b-fa997b8fe470",
   "metadata": {},
   "outputs": [],
   "source": []
  },
  {
   "cell_type": "code",
   "execution_count": null,
   "id": "161c91bd-4a79-473b-8ae0-d6431f728e5c",
   "metadata": {},
   "outputs": [],
   "source": []
  },
  {
   "cell_type": "code",
   "execution_count": null,
   "id": "9768194e-8b5d-4fa8-9817-de82ca53da08",
   "metadata": {},
   "outputs": [],
   "source": []
  },
  {
   "cell_type": "code",
   "execution_count": null,
   "id": "f0080bd9-cdd0-47c4-a3fb-fd11d231c51a",
   "metadata": {},
   "outputs": [],
   "source": []
  },
  {
   "cell_type": "code",
   "execution_count": null,
   "id": "2328ecea-92fb-442d-93a2-2836b78d44a8",
   "metadata": {},
   "outputs": [],
   "source": []
  },
  {
   "cell_type": "code",
   "execution_count": null,
   "id": "b8b68070-5e7d-4aff-b1aa-42472fc3296a",
   "metadata": {},
   "outputs": [],
   "source": []
  },
  {
   "cell_type": "code",
   "execution_count": null,
   "id": "1f434021-63f5-4901-9ed7-c7bb89196015",
   "metadata": {},
   "outputs": [],
   "source": []
  },
  {
   "cell_type": "code",
   "execution_count": null,
   "id": "b0602564-fea5-4ad1-9956-f4a8b4fa75bd",
   "metadata": {},
   "outputs": [],
   "source": []
  },
  {
   "cell_type": "code",
   "execution_count": null,
   "id": "6229f61f-dae6-451d-aa45-34dc9d7b2a49",
   "metadata": {},
   "outputs": [],
   "source": []
  },
  {
   "cell_type": "code",
   "execution_count": null,
   "id": "0767ee47-e01c-4f00-96f9-4e6a99a6125c",
   "metadata": {},
   "outputs": [],
   "source": []
  },
  {
   "cell_type": "code",
   "execution_count": null,
   "id": "fa89fb03-9747-4be5-83fa-45376c174c06",
   "metadata": {},
   "outputs": [],
   "source": []
  },
  {
   "cell_type": "code",
   "execution_count": null,
   "id": "0ae687b1-b432-46b0-abb2-109003bd37ea",
   "metadata": {},
   "outputs": [],
   "source": []
  },
  {
   "cell_type": "code",
   "execution_count": null,
   "id": "239306bd-cb20-4a1a-a04d-e9118965e3af",
   "metadata": {},
   "outputs": [],
   "source": []
  }
 ],
 "metadata": {
  "kernelspec": {
   "display_name": "Python 3 (ipykernel)",
   "language": "python",
   "name": "python3"
  },
  "language_info": {
   "codemirror_mode": {
    "name": "ipython",
    "version": 3
   },
   "file_extension": ".py",
   "mimetype": "text/x-python",
   "name": "python",
   "nbconvert_exporter": "python",
   "pygments_lexer": "ipython3",
   "version": "3.10.8"
  }
 },
 "nbformat": 4,
 "nbformat_minor": 5
}

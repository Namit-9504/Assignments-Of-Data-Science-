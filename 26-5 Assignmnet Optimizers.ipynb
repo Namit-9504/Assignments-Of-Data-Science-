{
 "cells": [
  {
   "cell_type": "markdown",
   "id": "2836dc7d-3b9d-4a4f-bf96-2f79a5fbc988",
   "metadata": {},
   "source": [
    "## Q1 What is the role of optimization algorithms in artificial neural networksK Why are they necessary?"
   ]
  },
  {
   "cell_type": "markdown",
   "id": "2498e3eb-65d3-4ff2-aeb7-b33b96939cdd",
   "metadata": {},
   "source": [
    "Optimization algorithms play a crucial role in training artificial neural networks (ANNs). Their primary purpose is to adjust the model's weights and biases during the training process to minimize a specific loss or error function. These algorithms are necessary for several key reasons:\n",
    "\n",
    "1. **Minimizing Loss:** The primary objective in training ANNs is to minimize a loss function, which quantifies the difference between the model's predictions and the actual target values. Optimization algorithms iteratively update the model's parameters (weights and biases) to find the parameter values that minimize this loss. This process is essential for making the model's predictions as accurate as possible.\n",
    "\n",
    "2. **Learning from Data:** ANNs learn from data through a process known as backpropagation. During each training iteration, the optimization algorithm computes the gradient of the loss function with respect to the model's parameters. This gradient information indicates the direction in which the parameters should be adjusted to reduce the loss. Optimization algorithms use this information to update the weights and biases accordingly, allowing the network to learn from the training data.\n",
    "\n",
    "3. **Handling Complex Models:** Deep neural networks often have millions of parameters, making it infeasible to manually adjust them to minimize the loss. Optimization algorithms automate this process by efficiently navigating the high-dimensional parameter space to find the optimal set of parameters.\n",
    "\n",
    "4. **Generalization:** Optimization algorithms not only minimize the training loss but also help the model generalize to new, unseen data. They do this by finding parameter values that capture the underlying patterns in the training data without fitting the noise. Generalization is essential for the model to perform well on data it hasn't seen before.\n",
    "\n",
    "5. **Speed and Efficiency:** Optimization algorithms are designed to converge to a minimum of the loss function efficiently. They use techniques like gradient descent, stochastic gradient descent (SGD), mini-batch gradient descent, and adaptive learning rates to find the optimal parameters in a reasonable amount of time.\n",
    "\n",
    "6. **Regularization:** Some optimization algorithms, like weight decay, include regularization terms that penalize large parameter values. These regularization techniques help prevent overfitting and improve the robustness of the trained model.\n",
    "\n",
    "7. **Non-Convex Optimization:** Training deep neural networks involves solving a non-convex optimization problem, which means there may be multiple local minima in the loss landscape. Optimization algorithms aim to find a good local minimum that corresponds to a well-performing model.\n",
    "\n",
    "8. **Hyperparameter Tuning:** Optimization algorithms often have hyperparameters (e.g., learning rate, batch size) that can be adjusted to fine-tune the training process. Tuning these hyperparameters can significantly impact the model's performance, and optimization algorithms provide the framework for doing so.\n",
    "\n",
    "In summary, optimization algorithms are a fundamental component of artificial neural networks because they are responsible for finding the best model parameters that minimize the loss function, enable learning from data, and ensure that the trained model generalizes well to unseen data. Without optimization algorithms, training deep neural networks would be infeasible, and the model's performance would remain poor."
   ]
  },
  {
   "cell_type": "markdown",
   "id": "75519c43-9625-42b3-9d71-ebfe47b8fdfa",
   "metadata": {},
   "source": [
    "## Qq2 Explain the concept of gradient descent and its variants. Discuss their differences and tradeoffs in terms of convergence speed and memory requriements ?"
   ]
  },
  {
   "cell_type": "markdown",
   "id": "b42c99b2-f2e1-46d5-bded-5b73fb18ca23",
   "metadata": {},
   "source": [
    "Gradient descent is an optimization algorithm used to minimize a cost or loss function by iteratively adjusting the parameters of a model. Its goal is to find the values of the parameters that result in the lowest possible value of the loss function. Gradient descent operates by computing the gradient of the loss function with respect to the model's parameters and then updating the parameters in the direction that reduces the loss.\n",
    "\n",
    "The core idea of gradient descent is to follow the negative gradient of the loss function to descend towards the minimum. The update rule for a parameter θ using gradient descent is:\n",
    "\n",
    "\\[ \\theta_{t+1} = \\theta_t - \\alpha \\nabla L(\\theta_t) \\]\n",
    "\n",
    "Where:\n",
    "- θ_t is the parameter vector at iteration t.\n",
    "- α (alpha) is the learning rate, which controls the step size or how much the parameters are updated.\n",
    "- ∇L(θ_t) is the gradient of the loss function L with respect to θ.\n",
    "\n",
    "There are several variants of gradient descent, each with its own characteristics, tradeoffs, and memory requirements:\n",
    "\n",
    "1. **Batch Gradient Descent:**\n",
    "   - **Operation:** Computes the gradient of the loss function using the entire training dataset at each iteration.\n",
    "   - **Convergence Speed:** Slower on large datasets but more stable.\n",
    "   - **Memory Requirements:** High memory usage for large datasets due to storing the entire dataset in memory.\n",
    "\n",
    "2. **Stochastic Gradient Descent (SGD):**\n",
    "   - **Operation:** Computes the gradient of the loss function using one random training sample at each iteration.\n",
    "   - **Convergence Speed:** Faster convergence due to frequent updates but can be noisy and oscillate around the minimum.\n",
    "   - **Memory Requirements:** Low memory usage as only one training sample is processed at a time.\n",
    "\n",
    "3. **Mini-Batch Gradient Descent:**\n",
    "   - **Operation:** Computes the gradient using a small random subset (mini-batch) of the training data at each iteration.\n",
    "   - **Convergence Speed:** A balance between batch and SGD, faster convergence than pure SGD.\n",
    "   - **Memory Requirements:** Moderate memory usage, depends on mini-batch size.\n",
    "\n",
    "4. **Momentum Gradient Descent:**\n",
    "   - **Operation:** Combines the current gradient with a fraction of the previous gradient to accelerate convergence and reduce oscillations.\n",
    "   - **Convergence Speed:** Faster convergence and better handling of noisy gradients.\n",
    "   - **Memory Requirements:** Similar to standard gradient descent.\n",
    "\n",
    "5. **Nesterov Accelerated Gradient (NAG):**\n",
    "   - **Operation:** A modification of momentum that first estimates the gradient ahead of the current position before updating.\n",
    "   - **Convergence Speed:** Faster convergence compared to standard momentum.\n",
    "   - **Memory Requirements:** Similar to standard gradient descent.\n",
    "\n",
    "6. **Adagrad:**\n",
    "   - **Operation:** Adapts the learning rate for each parameter based on historical gradients, giving larger updates to infrequently updated parameters.\n",
    "   - **Convergence Speed:** Adaptive learning rates can speed up convergence for certain types of problems.\n",
    "   - **Memory Requirements:** Higher memory usage to store historical gradient information.\n",
    "\n",
    "7. **RMSprop:**\n",
    "   - **Operation:** Similar to Adagrad but with a moving average of historical squared gradients to control learning rates.\n",
    "   - **Convergence Speed:** Effective in speeding up convergence and handling adaptive learning rates.\n",
    "   - **Memory Requirements:** Moderate memory usage for storing moving averages.\n",
    "\n",
    "8. **Adam (Adaptive Moment Estimation):**\n",
    "   - **Operation:** Combines elements of momentum and RMSprop, using moving averages of gradients and squared gradients.\n",
    "   - **Convergence Speed:** Often converges quickly and effectively on a wide range of problems.\n",
    "   - **Memory Requirements:** Moderate memory usage for storing moving averages.\n",
    "\n",
    "The choice of gradient descent variant depends on factors like the dataset size, the nature of the loss landscape, computational resources, and the desired tradeoff between convergence speed and memory requirements. It's common to experiment with different optimization algorithms and their hyperparameters to find the most suitable one for a specific deep learning task."
   ]
  },
  {
   "cell_type": "markdown",
   "id": "b10d3fb5-f499-4094-83aa-adb96fedcc7d",
   "metadata": {},
   "source": [
    "## Q3 Describe the challenges associated with traditional gradient descent optimization methods (e.g., slow,convergence, local minima). How do modern optimizers address these challenges?"
   ]
  },
  {
   "cell_type": "markdown",
   "id": "5a4b97f5-418c-4968-925e-b6586a7e8365",
   "metadata": {},
   "source": [
    "Traditional gradient descent optimization methods, while conceptually straightforward, can face several challenges when applied to deep learning and non-convex optimization problems. Some of these challenges include slow convergence, getting stuck in local minima, and sensitivity to hyperparameters. Modern optimizers address these challenges in various ways:\n",
    "\n",
    "1. **Slow Convergence:**\n",
    "   - **Challenge:** Traditional gradient descent can have slow convergence, especially when the loss landscape is ill-conditioned, containing steep and shallow regions.\n",
    "   - **Solution:** Modern optimizers, such as Adam and RMSprop, adapt the learning rates for each parameter based on historical gradient information. This adaptability allows them to take larger steps in less steep directions and smaller steps in steep directions, speeding up convergence.\n",
    "\n",
    "2. **Local Minima:**\n",
    "   - **Challenge:** Gradient descent can get stuck in local minima, preventing the model from finding a better global minimum.\n",
    "   - **Solution:** Modern optimizers incorporate mechanisms to escape local minima. For example, momentum-based methods (e.g., Momentum and Nesterov Accelerated Gradient) accumulate a moving average of past gradients, allowing the optimizer to continue moving in the previous direction with some momentum, even if a local minimum is encountered. This can help the optimizer escape and explore other regions of the loss landscape.\n",
    "\n",
    "3. **Saddle Points:**\n",
    "   - **Challenge:** Saddle points are critical points where gradients are zero but are not necessarily minima. Traditional gradient descent can converge very slowly or get stuck at saddle points.\n",
    "   - **Solution:** Techniques like momentum help push the optimizer through saddle points. Additionally, adaptive learning rate methods like Adam and RMSprop effectively navigate saddle points by adjusting the learning rates based on the curvature of the loss landscape.\n",
    "\n",
    "4. **Hyperparameter Sensitivity:**\n",
    "   - **Challenge:** Traditional gradient descent often relies on manually tuning hyperparameters like the learning rate, which can be sensitive to the specific problem.\n",
    "   - **Solution:** Many modern optimizers introduce adaptive learning rates, reducing the need for extensive hyperparameter tuning. These optimizers adaptively adjust learning rates during training, which can lead to more robust performance across a range of problems.\n",
    "\n",
    "5. **Noise in Gradients:**\n",
    "   - **Challenge:** Gradients computed from mini-batches in stochastic optimization can be noisy and lead to oscillations.\n",
    "   - **Solution:** Techniques like Adam and RMSprop use moving averages of gradients and squared gradients, smoothing out noisy updates and stabilizing training.\n",
    "\n",
    "6. **Memory Efficiency:**\n",
    "   - **Challenge:** Some modern optimizers, like Adagrad, accumulate historical gradient information, which can lead to high memory usage.\n",
    "   - **Solution:** Variants like RMSprop and Adam use moving averages with fixed-size windows, reducing memory requirements while still providing the benefits of adaptive learning rates.\n",
    "\n",
    "7. **Robustness:**\n",
    "   - **Challenge:** Traditional gradient descent is not always robust to a wide range of problems and hyperparameters.\n",
    "   - **Solution:** Modern optimizers are designed to be more robust and perform well across a variety of deep learning tasks with minimal hyperparameter tuning.\n",
    "\n",
    "In summary, modern optimization algorithms address the challenges associated with traditional gradient descent by introducing adaptive learning rates, momentum, and mechanisms to escape local minima and saddle points. These innovations make deep learning models more trainable and reduce the sensitivity to hyperparameter choices, leading to faster convergence and improved optimization performance on complex loss landscapes."
   ]
  },
  {
   "cell_type": "markdown",
   "id": "4800e40a-0aff-4d14-9c0a-df4aa67b022a",
   "metadata": {},
   "source": [
    "##  Q4 Discuss the concepts of momentum and learning rate in the context of optimization algorithms. How do they impact convergence and model performance?"
   ]
  },
  {
   "cell_type": "markdown",
   "id": "63b626fb-bd54-49f1-bb2b-9639fd029ecc",
   "metadata": {},
   "source": [
    "Momentum and learning rate are two essential concepts in the context of optimization algorithms for training machine learning models, including deep neural networks. They play a crucial role in determining the convergence behavior and overall model performance. Let's discuss these concepts in more detail and how they impact the training process:\n",
    "\n",
    "**1. Momentum:**\n",
    "\n",
    "- **Concept:** Momentum is a technique used to accelerate the convergence of optimization algorithms. It addresses issues such as slow convergence, oscillations, and the risk of getting stuck in local minima.\n",
    "\n",
    "- **Operation:** In the context of optimization, momentum introduces the concept of velocity. Instead of relying solely on the gradient at the current iteration, momentum takes into account the accumulated past gradients to determine the direction and magnitude of the update. The parameter update rule with momentum can be expressed as:\n",
    "\n",
    "  \\[ \\Delta\\theta_t = \\alpha \\nabla L(\\theta_t) + \\beta \\Delta\\theta_{t-1} \\]\n",
    "\n",
    "  Where:\n",
    "  - \\( \\Delta\\theta_t \\) is the parameter update at iteration t.\n",
    "  - \\( \\alpha \\) is the learning rate, which scales the gradient.\n",
    "  - \\( \\nabla L(\\theta_t) \\) is the gradient of the loss function with respect to the parameters at iteration t.\n",
    "  - \\( \\beta \\) is the momentum term, which controls the influence of the previous update direction.\n",
    "\n",
    "- **Impact on Convergence:**\n",
    "  - Momentum accelerates convergence by allowing the optimization algorithm to accumulate information about previous gradients, helping it move more consistently in the direction that reduces the loss.\n",
    "  - It reduces oscillations in the optimization trajectory and enhances stability during training.\n",
    "\n",
    "- **Impact on Model Performance:**\n",
    "  - Faster convergence due to momentum can lead to faster training times, allowing the model to reach a desirable level of performance with fewer iterations.\n",
    "  - It can also help the optimizer escape local minima and explore other regions of the loss landscape, potentially resulting in better solutions.\n",
    "\n",
    "**2. Learning Rate:**\n",
    "\n",
    "- **Concept:** The learning rate is a hyperparameter that controls the step size or the magnitude of parameter updates during the optimization process. It is a critical factor in determining the optimization's convergence behavior.\n",
    "\n",
    "- **Operation:** The learning rate scales the gradient when updating model parameters. The parameter update rule with a learning rate is expressed as:\n",
    "\n",
    "  \\[ \\theta_{t+1} = \\theta_t - \\alpha \\nabla L(\\theta_t) \\]\n",
    "\n",
    "  Where:\n",
    "  - \\( \\theta_{t+1} \\) is the updated parameter at iteration t+1.\n",
    "  - \\( \\alpha \\) is the learning rate, which determines the step size.\n",
    "  - \\( \\nabla L(\\theta_t) \\) is the gradient of the loss function with respect to the parameters at iteration t.\n",
    "\n",
    "- **Impact on Convergence:**\n",
    "  - The learning rate is a critical factor in the convergence behavior of optimization algorithms. An appropriate learning rate can lead to efficient convergence, while an incorrect choice can result in slow convergence or even divergence.\n",
    "\n",
    "- **Impact on Model Performance:**\n",
    "  - The learning rate influences the quality of the final model. A well-chosen learning rate can lead to faster convergence to a good solution, resulting in improved model performance.\n",
    "  - Learning rate schedules, which adjust the learning rate during training (e.g., learning rate decay or annealing), can be used to fine-tune the optimization process and enhance model performance.\n",
    "\n",
    "In summary, momentum and learning rate are fundamental concepts in optimization algorithms. Momentum improves convergence by introducing a velocity component that reduces oscillations and accelerates convergence. The learning rate controls the step size during parameter updates and significantly impacts both the convergence behavior and the final model performance. Properly tuning these hyperparameters is essential for achieving optimal training results in machine learning and deep learning tasks."
   ]
  },
  {
   "cell_type": "markdown",
   "id": "56624071-4d86-4bd1-9726-8e03ec7d6a41",
   "metadata": {},
   "source": [
    "## Q5 Explain the concept of Stochastic radient Descent (SGD) and its advantages compared to traditional gradient descent. Discuss its limitations and scenarios where it is most suitable?"
   ]
  },
  {
   "cell_type": "markdown",
   "id": "c6b668a3-c3e0-4bac-a430-0c82867841ba",
   "metadata": {},
   "source": [
    "Stochastic Gradient Descent (SGD) is an optimization algorithm commonly used in machine learning and deep learning to train models, especially when dealing with large datasets. It is an improvement over traditional Gradient Descent (GD) and offers several advantages, but it also has some limitations. Let's explore the concept of SGD and its characteristics:\n",
    "\n",
    "**Concept of Stochastic Gradient Descent (SGD):**\n",
    "\n",
    "In traditional Gradient Descent, each parameter update is computed by taking the average gradient over the entire training dataset. In contrast, SGD updates the model's parameters using the gradient computed from a single randomly selected training sample (or a small subset, called a mini-batch) at each iteration. Here's how it works:\n",
    "\n",
    "1. Randomly shuffle the training data to ensure the order of data points doesn't bias the optimization.\n",
    "\n",
    "2. At each iteration (or epoch), select a random training sample (or mini-batch) and compute the gradient of the loss function with respect to the model's parameters for that sample.\n",
    "\n",
    "3. Update the model's parameters using the computed gradient and a learning rate.\n",
    "\n",
    "**Advantages of Stochastic Gradient Descent (SGD) compared to traditional Gradient Descent (GD):**\n",
    "\n",
    "1. **Faster Convergence:** SGD often converges faster than traditional GD because it updates the model parameters more frequently. This frequent updating helps the algorithm escape local minima more effectively and converge to a solution more quickly.\n",
    "\n",
    "2. **Reduced Memory Usage:** Since SGD only requires one training sample (or mini-batch) at a time, it consumes significantly less memory than GD, making it suitable for large datasets that might not fit entirely in memory.\n",
    "\n",
    "3. **Better Generalization:** The inherent randomness in SGD introduces noise into the optimization process. This noise can help the model generalize better by escaping sharp local minima and exploring different parts of the loss landscape.\n",
    "\n",
    "**Limitations of SGD:**\n",
    "\n",
    "1. **Noisy Updates:** The randomness in SGD updates can lead to noisy gradient estimates, resulting in fluctuations in the loss function during training. This can slow down convergence and make the optimization process less stable.\n",
    "\n",
    "2. **Learning Rate Tuning:** Choosing an appropriate learning rate for SGD can be challenging. A learning rate that is too high can cause divergence, while one that is too low may result in slow convergence.\n",
    "\n",
    "3. **Not Deterministic:** Due to its randomness, SGD may produce slightly different results on each run. This non-deterministic behavior can make it harder to reproduce results or compare different runs.\n",
    "\n",
    "**Scenarios where SGD is Most Suitable:**\n",
    "\n",
    "SGD is most suitable in the following scenarios:\n",
    "\n",
    "1. **Large Datasets:** When working with large datasets that cannot fit into memory, SGD allows for efficient training by processing data in smaller batches.\n",
    "\n",
    "2. **Stochasticity Benefits:** In cases where introducing some level of stochasticity into the optimization process is beneficial for improving model generalization and escaping local minima.\n",
    "\n",
    "3. **Online Learning:** For online or incremental learning scenarios where new data arrives continuously, and the model needs to be updated incrementally.\n",
    "\n",
    "4. **Parallelization:** When distributed computing resources are available, SGD can be parallelized across multiple processors or machines, making it suitable for large-scale distributed training.\n",
    "\n",
    "5. **Regularization:** SGD can act as a form of implicit regularization due to its noisy updates, which can help prevent overfitting, especially when the dataset is small or the model is highly complex.\n",
    "\n",
    "In summary, Stochastic Gradient Descent (SGD) is a powerful optimization algorithm used in machine learning and deep learning for training models efficiently, particularly in scenarios with large datasets. It offers faster convergence, reduced memory usage, and the potential for better generalization, but it requires careful tuning of the learning rate and may exhibit noisy convergence behavior.`"
   ]
  },
  {
   "cell_type": "markdown",
   "id": "a54f4aba-bf5e-42d7-a996-2ec697109796",
   "metadata": {},
   "source": [
    "## Q6 Describe the concept of Adam optimizer and how it combines momentum and adaptive learning rates. Discuss its benefits and potential drawbacks?"
   ]
  },
  {
   "cell_type": "markdown",
   "id": "fe319839-9d76-4f4a-a86a-f9a1d03842e7",
   "metadata": {},
   "source": [
    "The Adam optimizer is a popular optimization algorithm used in machine learning and deep learning for training models. It combines the advantages of both momentum and adaptive learning rate methods to efficiently converge to a minimum of the loss function. Here's an explanation of the concept of the Adam optimizer and its benefits, along with potential drawbacks:\n",
    "\n",
    "**Concept of the Adam Optimizer:**\n",
    "\n",
    "The name \"Adam\" stands for Adaptive Moment Estimation, which describes the two key components of the optimizer: adaptive learning rates and momentum.\n",
    "\n",
    "1. **Momentum Component:**\n",
    "   - Adam incorporates momentum, similar to the momentum-based optimization algorithms, such as Momentum and Nesterov Accelerated Gradient.\n",
    "   - The momentum component helps the optimizer accumulate information about past gradients to maintain a moving average of the update direction.\n",
    "\n",
    "2. **Adaptive Learning Rate Component:**\n",
    "   - Adam adapts the learning rates individually for each parameter in the model.\n",
    "   - It maintains two moving averages, one for the first-order moment (mean) of the gradients and another for the second-order moment (uncentered variance) of the gradients.\n",
    "   - These moving averages are used to compute a dynamic learning rate for each parameter.\n",
    "\n",
    "**Parameter Updates with Adam:**\n",
    "\n",
    "The parameter update rule with Adam is as follows:\n",
    "\n",
    "\\[ \\theta_{t+1} = \\theta_t - \\alpha \\frac{\\hat{m}_t}{\\sqrt{\\hat{v}_t} + \\epsilon} \\]\n",
    "\n",
    "Where:\n",
    "- \\( \\theta_t \\) is the parameter at iteration t.\n",
    "- \\( \\alpha \\) is the global learning rate.\n",
    "- \\( \\hat{m}_t \\) is the estimate of the first-order moment (mean) of the gradients.\n",
    "- \\( \\hat{v}_t \\) is the estimate of the second-order moment (uncentered variance) of the gradients.\n",
    "- \\( \\epsilon \\) is a small constant (usually a small positive value, like \\(1e^{-7}\\)) added for numerical stability.\n",
    "\n",
    "**Benefits of the Adam Optimizer:**\n",
    "\n",
    "1. **Fast Convergence:** Adam often converges faster than traditional optimization algorithms like Gradient Descent. The combination of momentum and adaptive learning rates helps it find a minimum of the loss function more efficiently.\n",
    "\n",
    "2. **Adaptive Learning Rates:** Adam adjusts the learning rates for each parameter individually based on the history of gradients, allowing for larger steps in less steep directions and smaller steps in steep directions. This adaptability is well-suited for complex loss landscapes.\n",
    "\n",
    "3. **Robustness:** Adam is robust to a wide range of hyperparameter choices, making it a suitable choice for various deep learning tasks without extensive hyperparameter tuning.\n",
    "\n",
    "**Potential Drawbacks of the Adam Optimizer:**\n",
    "\n",
    "1. **Memory Usage:** Adam maintains additional moving averages for each parameter, which can lead to increased memory requirements compared to simpler optimizers like SGD.\n",
    "\n",
    "2. **Sensitivity to Hyperparameters:** Although Adam is relatively robust, it still requires tuning of hyperparameters like the learning rate and epsilon to achieve optimal performance. Poorly chosen hyperparameters can lead to suboptimal results.\n",
    "\n",
    "3. **Non-deterministic Behavior:** Due to the inherent randomness in the optimization process (e.g., mini-batch sampling), Adam's results can vary slightly from one run to another, making result reproducibility more challenging.\n",
    "\n",
    "In summary, the Adam optimizer combines momentum and adaptive learning rates to efficiently optimize deep learning models. Its benefits include faster convergence and adaptability to complex loss landscapes. However, it may consume more memory and still requires careful hyperparameter tuning. It is widely used in practice and often a good choice for training deep neural networks."
   ]
  },
  {
   "cell_type": "markdown",
   "id": "da2d162e-1fbd-47ce-9996-a3b5c5e41c9a",
   "metadata": {},
   "source": [
    "## Q7 Explain the concept of RMSprop optimizer and how it addresses the challenges of adaptive learning rates.compare it with Adam and discuss their relative strengths and weaknesses?"
   ]
  },
  {
   "cell_type": "markdown",
   "id": "337d9225-9fbe-4e5b-8662-606239f51f1e",
   "metadata": {},
   "source": [
    "The RMSprop optimizer (Root Mean Square Propagation) is an optimization algorithm used in machine learning and deep learning. It addresses the challenge of adaptive learning rates, similar to the Adam optimizer, but with some differences in its approach. Let's delve into the concept of RMSprop, how it handles adaptive learning rates, and compare it with Adam in terms of their relative strengths and weaknesses:\n",
    "\n",
    "**Concept of the RMSprop Optimizer:**\n",
    "\n",
    "RMSprop is designed to adjust learning rates individually for each parameter in the model, considering the history of past gradients. Its primary idea is to mitigate the vanishing or exploding gradient problem by using a moving average of squared gradients.\n",
    "\n",
    "1. **Adaptive Learning Rates:**\n",
    "   - RMSprop adapts the learning rates by dividing the current gradient by the square root of the exponential moving average of past squared gradients.\n",
    "   - This results in a dynamic learning rate for each parameter, allowing larger updates for parameters with smaller past gradients and vice versa.\n",
    "\n",
    "2. **Parameter Updates with RMSprop:**\n",
    "   - The parameter update rule with RMSprop is as follows:\n",
    "\n",
    "     \\[ \\theta_{t+1} = \\theta_t - \\frac{\\alpha}{\\sqrt{E[g^2]_t + \\epsilon}} \\cdot g_t \\]\n",
    "\n",
    "     Where:\n",
    "     - \\( \\theta_t \\) is the parameter at iteration t.\n",
    "     - \\( \\alpha \\) is the global learning rate.\n",
    "     - \\( E[g^2]_t \\) is the exponential moving average of the squared gradients up to iteration t.\n",
    "     - \\( g_t \\) is the gradient of the loss function with respect to the parameters at iteration t.\n",
    "     - \\( \\epsilon \\) is a small constant (usually a small positive value) added for numerical stability.\n",
    "\n",
    "**Comparison of RMSprop and Adam:**\n",
    "\n",
    "1. **Approach to Adaptive Learning Rates:**\n",
    "   - RMSprop: It uses a simple exponentially weighted moving average of squared gradients to adjust learning rates.\n",
    "   - Adam: Adam combines momentum with adaptive learning rates by maintaining two moving averages for gradients and their squared values.\n",
    "\n",
    "2. **Memory Usage:**\n",
    "   - RMSprop generally requires less memory than Adam because it maintains only one moving average (squared gradients), whereas Adam maintains two (gradients and squared gradients).\n",
    "\n",
    "3. **Hyperparameter Sensitivity:**\n",
    "   - RMSprop is less sensitive to the choice of hyperparameters compared to Adam. It often requires less hyperparameter tuning to perform well on a wide range of problems.\n",
    "\n",
    "4. **Convergence Speed:**\n",
    "   - Adam may converge faster than RMSprop on some problems due to its momentum component. However, the choice between Adam and RMSprop can be problem-dependent.\n",
    "\n",
    "5. **Robustness:**\n",
    "   - RMSprop is robust and can be used as a reliable optimizer for various deep learning tasks. It often provides stable and consistent results.\n",
    "   - Adam is also robust but may require more careful hyperparameter tuning.\n",
    "\n",
    "**Strengths and Weaknesses:**\n",
    "\n",
    "**RMSprop:**\n",
    "- Strengths:\n",
    "  - Simplicity: Simpler in terms of algorithmic components.\n",
    "  - Memory Efficiency: Consumes less memory compared to Adam.\n",
    "  - Robustness: Requires less hyperparameter tuning and often provides stable results.\n",
    "\n",
    "- Weaknesses:\n",
    "  - Slower Convergence: May converge more slowly compared to Adam on certain problems.\n",
    "\n",
    "**Adam:**\n",
    "- Strengths:\n",
    "  - Faster Convergence: Often converges more quickly due to the momentum component.\n",
    "  - Broad Applicability: Effective for a wide range of deep learning tasks.\n",
    "  - Good Defaults: Performs well with default hyperparameters in many cases.\n",
    "\n",
    "- Weaknesses:\n",
    "  - Higher Memory Usage: Consumes more memory due to maintaining two moving averages.\n",
    "  - Hyperparameter Sensitivity: Requires more careful tuning of hyperparameters.\n",
    "\n",
    "In summary, RMSprop and Adam are both effective optimizers that address the challenge of adaptive learning rates. RMSprop is simpler, has lower memory requirements, and is less sensitive to hyperparameters. Adam, on the other hand, often converges more quickly but may require more memory and hyperparameter tuning. The choice between them should be based on the specific problem and practical considerations."
   ]
  },
  {
   "cell_type": "markdown",
   "id": "a9058656-6599-4463-89c9-67f74e260b46",
   "metadata": {},
   "source": [
    "## Q8 Implement SGD, Adam, and RMSprop optimizers in a deep learning model using a framework of your choice. Train the model on a suitable dataset and compare their impact on model convergence and performancen"
   ]
  },
  {
   "cell_type": "code",
   "execution_count": 1,
   "id": "6231b269-be47-46b4-9c35-d0c427d7eeb2",
   "metadata": {},
   "outputs": [
    {
     "name": "stdout",
     "output_type": "stream",
     "text": [
      "Requirement already satisfied: tensorflow in /opt/conda/lib/python3.10/site-packages (2.13.0)\n",
      "Requirement already satisfied: tensorflow-io-gcs-filesystem>=0.23.1 in /opt/conda/lib/python3.10/site-packages (from tensorflow) (0.34.0)\n",
      "Requirement already satisfied: termcolor>=1.1.0 in /opt/conda/lib/python3.10/site-packages (from tensorflow) (2.3.0)\n",
      "Requirement already satisfied: absl-py>=1.0.0 in /opt/conda/lib/python3.10/site-packages (from tensorflow) (1.4.0)\n",
      "Requirement already satisfied: tensorflow-estimator<2.14,>=2.13.0 in /opt/conda/lib/python3.10/site-packages (from tensorflow) (2.13.0)\n",
      "Requirement already satisfied: opt-einsum>=2.3.2 in /opt/conda/lib/python3.10/site-packages (from tensorflow) (3.3.0)\n",
      "Requirement already satisfied: setuptools in /opt/conda/lib/python3.10/site-packages (from tensorflow) (65.5.1)\n",
      "Requirement already satisfied: tensorboard<2.14,>=2.13 in /opt/conda/lib/python3.10/site-packages (from tensorflow) (2.13.0)\n",
      "Requirement already satisfied: astunparse>=1.6.0 in /opt/conda/lib/python3.10/site-packages (from tensorflow) (1.6.3)\n",
      "Requirement already satisfied: h5py>=2.9.0 in /opt/conda/lib/python3.10/site-packages (from tensorflow) (3.7.0)\n",
      "Requirement already satisfied: packaging in /opt/conda/lib/python3.10/site-packages (from tensorflow) (22.0)\n",
      "Requirement already satisfied: wrapt>=1.11.0 in /opt/conda/lib/python3.10/site-packages (from tensorflow) (1.15.0)\n",
      "Requirement already satisfied: flatbuffers>=23.1.21 in /opt/conda/lib/python3.10/site-packages (from tensorflow) (23.5.26)\n",
      "Requirement already satisfied: libclang>=13.0.0 in /opt/conda/lib/python3.10/site-packages (from tensorflow) (16.0.6)\n",
      "Requirement already satisfied: protobuf!=4.21.0,!=4.21.1,!=4.21.2,!=4.21.3,!=4.21.4,!=4.21.5,<5.0.0dev,>=3.20.3 in /opt/conda/lib/python3.10/site-packages (from tensorflow) (4.21.11)\n",
      "Requirement already satisfied: google-pasta>=0.1.1 in /opt/conda/lib/python3.10/site-packages (from tensorflow) (0.2.0)\n",
      "Requirement already satisfied: keras<2.14,>=2.13.1 in /opt/conda/lib/python3.10/site-packages (from tensorflow) (2.13.1)\n",
      "Requirement already satisfied: grpcio<2.0,>=1.24.3 in /opt/conda/lib/python3.10/site-packages (from tensorflow) (1.58.0)\n",
      "Requirement already satisfied: gast<=0.4.0,>=0.2.1 in /opt/conda/lib/python3.10/site-packages (from tensorflow) (0.4.0)\n",
      "Requirement already satisfied: typing-extensions<4.6.0,>=3.6.6 in /opt/conda/lib/python3.10/site-packages (from tensorflow) (4.4.0)\n",
      "Requirement already satisfied: six>=1.12.0 in /opt/conda/lib/python3.10/site-packages (from tensorflow) (1.16.0)\n",
      "Requirement already satisfied: numpy<=1.24.3,>=1.22 in /opt/conda/lib/python3.10/site-packages (from tensorflow) (1.23.5)\n",
      "Requirement already satisfied: wheel<1.0,>=0.23.0 in /opt/conda/lib/python3.10/site-packages (from astunparse>=1.6.0->tensorflow) (0.38.4)\n",
      "Requirement already satisfied: requests<3,>=2.21.0 in /opt/conda/lib/python3.10/site-packages (from tensorboard<2.14,>=2.13->tensorflow) (2.28.1)\n",
      "Requirement already satisfied: markdown>=2.6.8 in /opt/conda/lib/python3.10/site-packages (from tensorboard<2.14,>=2.13->tensorflow) (3.4.4)\n",
      "Requirement already satisfied: tensorboard-data-server<0.8.0,>=0.7.0 in /opt/conda/lib/python3.10/site-packages (from tensorboard<2.14,>=2.13->tensorflow) (0.7.1)\n",
      "Requirement already satisfied: google-auth<3,>=1.6.3 in /opt/conda/lib/python3.10/site-packages (from tensorboard<2.14,>=2.13->tensorflow) (2.23.0)\n",
      "Requirement already satisfied: werkzeug>=1.0.1 in /opt/conda/lib/python3.10/site-packages (from tensorboard<2.14,>=2.13->tensorflow) (2.3.7)\n",
      "Requirement already satisfied: google-auth-oauthlib<1.1,>=0.5 in /opt/conda/lib/python3.10/site-packages (from tensorboard<2.14,>=2.13->tensorflow) (1.0.0)\n",
      "Requirement already satisfied: pyasn1-modules>=0.2.1 in /opt/conda/lib/python3.10/site-packages (from google-auth<3,>=1.6.3->tensorboard<2.14,>=2.13->tensorflow) (0.3.0)\n",
      "Requirement already satisfied: urllib3<2.0 in /opt/conda/lib/python3.10/site-packages (from google-auth<3,>=1.6.3->tensorboard<2.14,>=2.13->tensorflow) (1.26.13)\n",
      "Requirement already satisfied: cachetools<6.0,>=2.0.0 in /opt/conda/lib/python3.10/site-packages (from google-auth<3,>=1.6.3->tensorboard<2.14,>=2.13->tensorflow) (5.3.1)\n",
      "Requirement already satisfied: rsa<5,>=3.1.4 in /opt/conda/lib/python3.10/site-packages (from google-auth<3,>=1.6.3->tensorboard<2.14,>=2.13->tensorflow) (4.9)\n",
      "Requirement already satisfied: requests-oauthlib>=0.7.0 in /opt/conda/lib/python3.10/site-packages (from google-auth-oauthlib<1.1,>=0.5->tensorboard<2.14,>=2.13->tensorflow) (1.3.1)\n",
      "Requirement already satisfied: charset-normalizer<3,>=2 in /opt/conda/lib/python3.10/site-packages (from requests<3,>=2.21.0->tensorboard<2.14,>=2.13->tensorflow) (2.1.1)\n",
      "Requirement already satisfied: idna<4,>=2.5 in /opt/conda/lib/python3.10/site-packages (from requests<3,>=2.21.0->tensorboard<2.14,>=2.13->tensorflow) (3.4)\n",
      "Requirement already satisfied: certifi>=2017.4.17 in /opt/conda/lib/python3.10/site-packages (from requests<3,>=2.21.0->tensorboard<2.14,>=2.13->tensorflow) (2022.12.7)\n",
      "Requirement already satisfied: MarkupSafe>=2.1.1 in /opt/conda/lib/python3.10/site-packages (from werkzeug>=1.0.1->tensorboard<2.14,>=2.13->tensorflow) (2.1.1)\n",
      "Requirement already satisfied: pyasn1<0.6.0,>=0.4.6 in /opt/conda/lib/python3.10/site-packages (from pyasn1-modules>=0.2.1->google-auth<3,>=1.6.3->tensorboard<2.14,>=2.13->tensorflow) (0.5.0)\n",
      "Requirement already satisfied: oauthlib>=3.0.0 in /opt/conda/lib/python3.10/site-packages (from requests-oauthlib>=0.7.0->google-auth-oauthlib<1.1,>=0.5->tensorboard<2.14,>=2.13->tensorflow) (3.2.2)\n",
      "Note: you may need to restart the kernel to use updated packages.\n"
     ]
    }
   ],
   "source": [
    "pip install tensorflow"
   ]
  },
  {
   "cell_type": "code",
   "execution_count": 2,
   "id": "c006e85c-f020-443c-8e7b-4a70493af538",
   "metadata": {},
   "outputs": [
    {
     "name": "stdout",
     "output_type": "stream",
     "text": [
      "Requirement already satisfied: keras in /opt/conda/lib/python3.10/site-packages (2.13.1)\n",
      "Note: you may need to restart the kernel to use updated packages.\n"
     ]
    }
   ],
   "source": [
    "pip install keras"
   ]
  },
  {
   "cell_type": "code",
   "execution_count": 1,
   "id": "e49053aa-de27-4b4c-b878-746367c249e6",
   "metadata": {},
   "outputs": [],
   "source": [
    "from sklearn.datasets import make_classification"
   ]
  },
  {
   "cell_type": "code",
   "execution_count": 2,
   "id": "a271c27a-278e-4961-bec1-6ab7e8d2e2e6",
   "metadata": {},
   "outputs": [],
   "source": [
    "X,y=make_classification(n_samples=16000,n_features=30,n_classes=2,n_informative=15,random_state=42)"
   ]
  },
  {
   "cell_type": "code",
   "execution_count": 3,
   "id": "2a3c814d-3545-4927-ae45-920608bee9aa",
   "metadata": {},
   "outputs": [
    {
     "name": "stdout",
     "output_type": "stream",
     "text": [
      "['x1', 'x2', 'x3', 'x4', 'x5', 'x6', 'x7', 'x8', 'x9', 'x10', 'x11', 'x12', 'x13', 'x14', 'x15', 'x16', 'x17', 'x18', 'x19', 'x20', 'x21', 'x22', 'x23', 'x24', 'x25', 'x26', 'x27', 'x28', 'x29', 'x30']\n"
     ]
    }
   ],
   "source": [
    "cols= [f'x{i+1}'for i in range(30)]\n",
    "print(cols)"
   ]
  },
  {
   "cell_type": "code",
   "execution_count": 4,
   "id": "7253e5f4-9f2a-4e71-b474-ea90e0b536de",
   "metadata": {},
   "outputs": [],
   "source": [
    "import pandas as pd"
   ]
  },
  {
   "cell_type": "code",
   "execution_count": 5,
   "id": "2ae97de7-8d1e-462b-8510-e577573ec030",
   "metadata": {},
   "outputs": [],
   "source": [
    "X=pd.DataFrame(X,columns=cols)"
   ]
  },
  {
   "cell_type": "code",
   "execution_count": 6,
   "id": "b0f3e361-58a8-4b76-a9fd-d452bbd5acfc",
   "metadata": {},
   "outputs": [
    {
     "data": {
      "text/html": [
       "<div>\n",
       "<style scoped>\n",
       "    .dataframe tbody tr th:only-of-type {\n",
       "        vertical-align: middle;\n",
       "    }\n",
       "\n",
       "    .dataframe tbody tr th {\n",
       "        vertical-align: top;\n",
       "    }\n",
       "\n",
       "    .dataframe thead th {\n",
       "        text-align: right;\n",
       "    }\n",
       "</style>\n",
       "<table border=\"1\" class=\"dataframe\">\n",
       "  <thead>\n",
       "    <tr style=\"text-align: right;\">\n",
       "      <th></th>\n",
       "      <th>x1</th>\n",
       "      <th>x2</th>\n",
       "      <th>x3</th>\n",
       "      <th>x4</th>\n",
       "      <th>x5</th>\n",
       "      <th>x6</th>\n",
       "      <th>x7</th>\n",
       "      <th>x8</th>\n",
       "      <th>x9</th>\n",
       "      <th>x10</th>\n",
       "      <th>...</th>\n",
       "      <th>x21</th>\n",
       "      <th>x22</th>\n",
       "      <th>x23</th>\n",
       "      <th>x24</th>\n",
       "      <th>x25</th>\n",
       "      <th>x26</th>\n",
       "      <th>x27</th>\n",
       "      <th>x28</th>\n",
       "      <th>x29</th>\n",
       "      <th>x30</th>\n",
       "    </tr>\n",
       "  </thead>\n",
       "  <tbody>\n",
       "    <tr>\n",
       "      <th>0</th>\n",
       "      <td>0.002993</td>\n",
       "      <td>1.093923</td>\n",
       "      <td>12.257660</td>\n",
       "      <td>6.146530</td>\n",
       "      <td>-1.077502</td>\n",
       "      <td>-1.569100</td>\n",
       "      <td>0.438475</td>\n",
       "      <td>-4.262641</td>\n",
       "      <td>1.878649</td>\n",
       "      <td>-0.409099</td>\n",
       "      <td>...</td>\n",
       "      <td>0.564689</td>\n",
       "      <td>3.222740</td>\n",
       "      <td>1.246202</td>\n",
       "      <td>-0.487852</td>\n",
       "      <td>-1.899766</td>\n",
       "      <td>-5.678576</td>\n",
       "      <td>-0.044250</td>\n",
       "      <td>0.244761</td>\n",
       "      <td>-0.069638</td>\n",
       "      <td>2.928500</td>\n",
       "    </tr>\n",
       "    <tr>\n",
       "      <th>1</th>\n",
       "      <td>-0.860589</td>\n",
       "      <td>-0.049740</td>\n",
       "      <td>-0.350334</td>\n",
       "      <td>0.504617</td>\n",
       "      <td>0.796769</td>\n",
       "      <td>2.431241</td>\n",
       "      <td>-0.275377</td>\n",
       "      <td>-1.430902</td>\n",
       "      <td>0.193837</td>\n",
       "      <td>0.454370</td>\n",
       "      <td>...</td>\n",
       "      <td>-0.473812</td>\n",
       "      <td>0.512502</td>\n",
       "      <td>3.349938</td>\n",
       "      <td>-0.721752</td>\n",
       "      <td>1.036497</td>\n",
       "      <td>1.898776</td>\n",
       "      <td>-1.633517</td>\n",
       "      <td>-1.947605</td>\n",
       "      <td>-1.591766</td>\n",
       "      <td>0.615587</td>\n",
       "    </tr>\n",
       "    <tr>\n",
       "      <th>2</th>\n",
       "      <td>-1.233262</td>\n",
       "      <td>-0.448401</td>\n",
       "      <td>-2.920309</td>\n",
       "      <td>-0.900044</td>\n",
       "      <td>0.162572</td>\n",
       "      <td>1.671813</td>\n",
       "      <td>0.894761</td>\n",
       "      <td>-1.369489</td>\n",
       "      <td>2.656186</td>\n",
       "      <td>1.511340</td>\n",
       "      <td>...</td>\n",
       "      <td>-0.189976</td>\n",
       "      <td>0.769787</td>\n",
       "      <td>-0.182220</td>\n",
       "      <td>-1.200795</td>\n",
       "      <td>1.255180</td>\n",
       "      <td>0.317634</td>\n",
       "      <td>-1.814499</td>\n",
       "      <td>-0.225613</td>\n",
       "      <td>-3.867861</td>\n",
       "      <td>0.200276</td>\n",
       "    </tr>\n",
       "    <tr>\n",
       "      <th>3</th>\n",
       "      <td>0.288812</td>\n",
       "      <td>0.839856</td>\n",
       "      <td>5.777532</td>\n",
       "      <td>-0.538031</td>\n",
       "      <td>0.354211</td>\n",
       "      <td>1.914989</td>\n",
       "      <td>1.397784</td>\n",
       "      <td>-2.365489</td>\n",
       "      <td>-0.457212</td>\n",
       "      <td>1.246530</td>\n",
       "      <td>...</td>\n",
       "      <td>2.714913</td>\n",
       "      <td>0.486832</td>\n",
       "      <td>-1.661676</td>\n",
       "      <td>0.770902</td>\n",
       "      <td>-1.672736</td>\n",
       "      <td>-0.168018</td>\n",
       "      <td>0.525893</td>\n",
       "      <td>0.373152</td>\n",
       "      <td>1.979010</td>\n",
       "      <td>0.041218</td>\n",
       "    </tr>\n",
       "    <tr>\n",
       "      <th>4</th>\n",
       "      <td>-0.128986</td>\n",
       "      <td>0.325322</td>\n",
       "      <td>-0.800576</td>\n",
       "      <td>0.043316</td>\n",
       "      <td>0.898821</td>\n",
       "      <td>-0.676606</td>\n",
       "      <td>0.122493</td>\n",
       "      <td>2.311367</td>\n",
       "      <td>-0.342926</td>\n",
       "      <td>0.378901</td>\n",
       "      <td>...</td>\n",
       "      <td>1.489088</td>\n",
       "      <td>-3.613067</td>\n",
       "      <td>-0.363431</td>\n",
       "      <td>-1.921342</td>\n",
       "      <td>-1.945592</td>\n",
       "      <td>1.368197</td>\n",
       "      <td>-0.999272</td>\n",
       "      <td>0.385188</td>\n",
       "      <td>-4.811172</td>\n",
       "      <td>-1.656285</td>\n",
       "    </tr>\n",
       "  </tbody>\n",
       "</table>\n",
       "<p>5 rows × 30 columns</p>\n",
       "</div>"
      ],
      "text/plain": [
       "         x1        x2         x3        x4        x5        x6        x7  \\\n",
       "0  0.002993  1.093923  12.257660  6.146530 -1.077502 -1.569100  0.438475   \n",
       "1 -0.860589 -0.049740  -0.350334  0.504617  0.796769  2.431241 -0.275377   \n",
       "2 -1.233262 -0.448401  -2.920309 -0.900044  0.162572  1.671813  0.894761   \n",
       "3  0.288812  0.839856   5.777532 -0.538031  0.354211  1.914989  1.397784   \n",
       "4 -0.128986  0.325322  -0.800576  0.043316  0.898821 -0.676606  0.122493   \n",
       "\n",
       "         x8        x9       x10  ...       x21       x22       x23       x24  \\\n",
       "0 -4.262641  1.878649 -0.409099  ...  0.564689  3.222740  1.246202 -0.487852   \n",
       "1 -1.430902  0.193837  0.454370  ... -0.473812  0.512502  3.349938 -0.721752   \n",
       "2 -1.369489  2.656186  1.511340  ... -0.189976  0.769787 -0.182220 -1.200795   \n",
       "3 -2.365489 -0.457212  1.246530  ...  2.714913  0.486832 -1.661676  0.770902   \n",
       "4  2.311367 -0.342926  0.378901  ...  1.489088 -3.613067 -0.363431 -1.921342   \n",
       "\n",
       "        x25       x26       x27       x28       x29       x30  \n",
       "0 -1.899766 -5.678576 -0.044250  0.244761 -0.069638  2.928500  \n",
       "1  1.036497  1.898776 -1.633517 -1.947605 -1.591766  0.615587  \n",
       "2  1.255180  0.317634 -1.814499 -0.225613 -3.867861  0.200276  \n",
       "3 -1.672736 -0.168018  0.525893  0.373152  1.979010  0.041218  \n",
       "4 -1.945592  1.368197 -0.999272  0.385188 -4.811172 -1.656285  \n",
       "\n",
       "[5 rows x 30 columns]"
      ]
     },
     "execution_count": 6,
     "metadata": {},
     "output_type": "execute_result"
    }
   ],
   "source": [
    "X.head()"
   ]
  },
  {
   "cell_type": "code",
   "execution_count": 7,
   "id": "6770e427-0944-40e6-9430-f185b1bd40a5",
   "metadata": {},
   "outputs": [
    {
     "data": {
      "text/html": [
       "<div>\n",
       "<style scoped>\n",
       "    .dataframe tbody tr th:only-of-type {\n",
       "        vertical-align: middle;\n",
       "    }\n",
       "\n",
       "    .dataframe tbody tr th {\n",
       "        vertical-align: top;\n",
       "    }\n",
       "\n",
       "    .dataframe thead th {\n",
       "        text-align: right;\n",
       "    }\n",
       "</style>\n",
       "<table border=\"1\" class=\"dataframe\">\n",
       "  <thead>\n",
       "    <tr style=\"text-align: right;\">\n",
       "      <th></th>\n",
       "      <th>Y</th>\n",
       "    </tr>\n",
       "  </thead>\n",
       "  <tbody>\n",
       "    <tr>\n",
       "      <th>0</th>\n",
       "      <td>0</td>\n",
       "    </tr>\n",
       "    <tr>\n",
       "      <th>1</th>\n",
       "      <td>1</td>\n",
       "    </tr>\n",
       "    <tr>\n",
       "      <th>2</th>\n",
       "      <td>1</td>\n",
       "    </tr>\n",
       "    <tr>\n",
       "      <th>3</th>\n",
       "      <td>0</td>\n",
       "    </tr>\n",
       "    <tr>\n",
       "      <th>4</th>\n",
       "      <td>0</td>\n",
       "    </tr>\n",
       "  </tbody>\n",
       "</table>\n",
       "</div>"
      ],
      "text/plain": [
       "   Y\n",
       "0  0\n",
       "1  1\n",
       "2  1\n",
       "3  0\n",
       "4  0"
      ]
     },
     "execution_count": 7,
     "metadata": {},
     "output_type": "execute_result"
    }
   ],
   "source": [
    "y=pd.DataFrame(y,columns=['Y'])\n",
    "y.head()"
   ]
  },
  {
   "cell_type": "code",
   "execution_count": 8,
   "id": "89e76c91-259b-41ef-ae86-5ad2523c6a64",
   "metadata": {},
   "outputs": [],
   "source": [
    "from sklearn.model_selection import train_test_split\n",
    "X_train,X_test,y_train,y_test=train_test_split(X,y,test_size=0.30,random_state=42)"
   ]
  },
  {
   "cell_type": "code",
   "execution_count": 9,
   "id": "f06e46d2-34ec-4be4-b3b3-dcacd1a0714f",
   "metadata": {},
   "outputs": [
    {
     "data": {
      "text/plain": [
       "(11200, 30)"
      ]
     },
     "execution_count": 9,
     "metadata": {},
     "output_type": "execute_result"
    }
   ],
   "source": [
    "X_train.shape"
   ]
  },
  {
   "cell_type": "code",
   "execution_count": 10,
   "id": "5f0e5792-2aaa-4f72-9988-4c8b691abbef",
   "metadata": {},
   "outputs": [
    {
     "data": {
      "text/plain": [
       "(4800, 30)"
      ]
     },
     "execution_count": 10,
     "metadata": {},
     "output_type": "execute_result"
    }
   ],
   "source": [
    "X_test.shape"
   ]
  },
  {
   "cell_type": "code",
   "execution_count": 11,
   "id": "f73c8f85-74ae-4a20-b033-73859db109b1",
   "metadata": {},
   "outputs": [],
   "source": [
    "from sklearn.preprocessing import StandardScaler\n",
    "scaler=StandardScaler()"
   ]
  },
  {
   "cell_type": "code",
   "execution_count": 12,
   "id": "0fc13a75-2e21-46ff-a247-8d496c8d64b9",
   "metadata": {},
   "outputs": [],
   "source": [
    "X_train=pd.DataFrame(scaler.fit_transform(X_train),columns=X_train.columns)\n",
    "X_test=pd.DataFrame(scaler.transform(X_test),columns=X_test.columns)"
   ]
  },
  {
   "cell_type": "code",
   "execution_count": 13,
   "id": "7ccdf1ba-2493-4b16-b55b-cb04d7baa74e",
   "metadata": {},
   "outputs": [
    {
     "name": "stderr",
     "output_type": "stream",
     "text": [
      "2023-09-17 03:10:36.106577: I tensorflow/tsl/cuda/cudart_stub.cc:28] Could not find cuda drivers on your machine, GPU will not be used.\n",
      "2023-09-17 03:10:36.177972: I tensorflow/tsl/cuda/cudart_stub.cc:28] Could not find cuda drivers on your machine, GPU will not be used.\n",
      "2023-09-17 03:10:36.179095: I tensorflow/core/platform/cpu_feature_guard.cc:182] This TensorFlow binary is optimized to use available CPU instructions in performance-critical operations.\n",
      "To enable the following instructions: AVX2 FMA, in other operations, rebuild TensorFlow with the appropriate compiler flags.\n",
      "2023-09-17 03:10:37.275587: W tensorflow/compiler/tf2tensorrt/utils/py_utils.cc:38] TF-TRT Warning: Could not find TensorRT\n"
     ]
    }
   ],
   "source": [
    "from keras.models import Sequential\n",
    "from keras.layers import Dense,Dropout,BatchNormalization"
   ]
  },
  {
   "cell_type": "code",
   "execution_count": 14,
   "id": "a1418568-63ac-4185-832d-e619f27be988",
   "metadata": {},
   "outputs": [],
   "source": [
    "def creating_model(optimizer):\n",
    "    model=Sequential()\n",
    "    \n",
    "    model.add(Dense(64,activation='relu',input_dim=X_train.shape[1]))\n",
    "    \n",
    "    model.add(BatchNormalization())\n",
    "    \n",
    "    model.add(Dropout(0.30))\n",
    "    \n",
    "    model.add(Dense(32,activation='relu'))\n",
    "    \n",
    "    model.add(BatchNormalization())\n",
    "    \n",
    "    model.add(Dropout(0.20))\n",
    "    \n",
    "    model.add(Dense(1,activation='sigmoid'))\n",
    "    \n",
    "    model.compile(optimizer=optimizer,loss=['binary_crossentropy'],metrics=['accuracy'])\n",
    "    \n",
    "    model.summary()\n",
    "    \n",
    "    return model"
   ]
  },
  {
   "cell_type": "code",
   "execution_count": 15,
   "id": "75135bd8-e0f7-4dba-b81c-9616635f3c50",
   "metadata": {},
   "outputs": [],
   "source": [
    "import matplotlib.pyplot as plt\n",
    "def plot_learning_curve(hist, opt):\n",
    "    plt.figure(figsize=(16,8))\n",
    "    plt.plot(hist.history['loss'], label='Training Loss')\n",
    "    plt.plot(hist.history['val_loss'], label='Validation Loss')\n",
    "    plt.xlabel('Epochs')\n",
    "    plt.ylabel('Binary Crossentropy Loss')\n",
    "    plt.title(f'Learning curve for Oprimizer : {opt}')\n",
    "    plt.legend()\n",
    "    plt.show()"
   ]
  },
  {
   "cell_type": "markdown",
   "id": "823575e8-2501-43a6-aec1-8514848396dd",
   "metadata": {},
   "source": [
    "### SGD"
   ]
  },
  {
   "cell_type": "code",
   "execution_count": 16,
   "id": "7e9c711a-416f-47ab-be6b-cc4d8d0331fd",
   "metadata": {},
   "outputs": [
    {
     "name": "stdout",
     "output_type": "stream",
     "text": [
      "Model: \"sequential\"\n",
      "_________________________________________________________________\n",
      " Layer (type)                Output Shape              Param #   \n",
      "=================================================================\n",
      " dense (Dense)               (None, 64)                1984      \n",
      "                                                                 \n",
      " batch_normalization (Batch  (None, 64)                256       \n",
      " Normalization)                                                  \n",
      "                                                                 \n",
      " dropout (Dropout)           (None, 64)                0         \n",
      "                                                                 \n",
      " dense_1 (Dense)             (None, 32)                2080      \n",
      "                                                                 \n",
      " batch_normalization_1 (Bat  (None, 32)                128       \n",
      " chNormalization)                                                \n",
      "                                                                 \n",
      " dropout_1 (Dropout)         (None, 32)                0         \n",
      "                                                                 \n",
      " dense_2 (Dense)             (None, 1)                 33        \n",
      "                                                                 \n",
      "=================================================================\n",
      "Total params: 4481 (17.50 KB)\n",
      "Trainable params: 4289 (16.75 KB)\n",
      "Non-trainable params: 192 (768.00 Byte)\n",
      "_________________________________________________________________\n"
     ]
    }
   ],
   "source": [
    "model_sgd=creating_model(optimizer='SGD')"
   ]
  },
  {
   "cell_type": "code",
   "execution_count": 17,
   "id": "b125ed4f-395a-4748-b480-924d720d87ad",
   "metadata": {},
   "outputs": [
    {
     "name": "stdout",
     "output_type": "stream",
     "text": [
      "Epoch 1/30\n",
      "280/280 [==============================] - 2s 3ms/step - loss: 0.6205 - accuracy: 0.6766 - val_loss: 0.4514 - val_accuracy: 0.7969\n",
      "Epoch 2/30\n",
      "280/280 [==============================] - 1s 2ms/step - loss: 0.4974 - accuracy: 0.7586 - val_loss: 0.3815 - val_accuracy: 0.8326\n",
      "Epoch 3/30\n",
      "280/280 [==============================] - 1s 2ms/step - loss: 0.4433 - accuracy: 0.7973 - val_loss: 0.3451 - val_accuracy: 0.8545\n",
      "Epoch 4/30\n",
      "280/280 [==============================] - 1s 2ms/step - loss: 0.4215 - accuracy: 0.8020 - val_loss: 0.3199 - val_accuracy: 0.8683\n",
      "Epoch 5/30\n",
      "280/280 [==============================] - 1s 2ms/step - loss: 0.3915 - accuracy: 0.8253 - val_loss: 0.2992 - val_accuracy: 0.8732\n",
      "Epoch 6/30\n",
      "280/280 [==============================] - 1s 2ms/step - loss: 0.3784 - accuracy: 0.8308 - val_loss: 0.2837 - val_accuracy: 0.8804\n",
      "Epoch 7/30\n",
      "280/280 [==============================] - 1s 2ms/step - loss: 0.3546 - accuracy: 0.8446 - val_loss: 0.2697 - val_accuracy: 0.8915\n",
      "Epoch 8/30\n",
      "280/280 [==============================] - 1s 2ms/step - loss: 0.3485 - accuracy: 0.8462 - val_loss: 0.2571 - val_accuracy: 0.8973\n",
      "Epoch 9/30\n",
      "280/280 [==============================] - 1s 2ms/step - loss: 0.3359 - accuracy: 0.8499 - val_loss: 0.2461 - val_accuracy: 0.9018\n",
      "Epoch 10/30\n",
      "280/280 [==============================] - 1s 2ms/step - loss: 0.3344 - accuracy: 0.8507 - val_loss: 0.2400 - val_accuracy: 0.9058\n",
      "Epoch 11/30\n",
      "280/280 [==============================] - 1s 2ms/step - loss: 0.3306 - accuracy: 0.8547 - val_loss: 0.2319 - val_accuracy: 0.9094\n",
      "Epoch 12/30\n",
      "280/280 [==============================] - 1s 2ms/step - loss: 0.3153 - accuracy: 0.8663 - val_loss: 0.2246 - val_accuracy: 0.9125\n",
      "Epoch 13/30\n",
      "280/280 [==============================] - 1s 2ms/step - loss: 0.2996 - accuracy: 0.8680 - val_loss: 0.2170 - val_accuracy: 0.9116\n",
      "Epoch 14/30\n",
      "280/280 [==============================] - 1s 2ms/step - loss: 0.3029 - accuracy: 0.8684 - val_loss: 0.2109 - val_accuracy: 0.9161\n",
      "Epoch 15/30\n",
      "280/280 [==============================] - 1s 2ms/step - loss: 0.2886 - accuracy: 0.8770 - val_loss: 0.2059 - val_accuracy: 0.9219\n",
      "Epoch 16/30\n",
      "280/280 [==============================] - 1s 2ms/step - loss: 0.2859 - accuracy: 0.8775 - val_loss: 0.1998 - val_accuracy: 0.9250\n",
      "Epoch 17/30\n",
      "280/280 [==============================] - 1s 2ms/step - loss: 0.2831 - accuracy: 0.8862 - val_loss: 0.1940 - val_accuracy: 0.9246\n",
      "Epoch 18/30\n",
      "280/280 [==============================] - 1s 2ms/step - loss: 0.2824 - accuracy: 0.8787 - val_loss: 0.1902 - val_accuracy: 0.9272\n",
      "Epoch 19/30\n",
      "280/280 [==============================] - 1s 2ms/step - loss: 0.2728 - accuracy: 0.8834 - val_loss: 0.1854 - val_accuracy: 0.9263\n",
      "Epoch 20/30\n",
      "280/280 [==============================] - 1s 2ms/step - loss: 0.2742 - accuracy: 0.8903 - val_loss: 0.1818 - val_accuracy: 0.9295\n",
      "Epoch 21/30\n",
      "280/280 [==============================] - 1s 2ms/step - loss: 0.2664 - accuracy: 0.8910 - val_loss: 0.1768 - val_accuracy: 0.9353\n",
      "Epoch 22/30\n",
      "280/280 [==============================] - 1s 2ms/step - loss: 0.2650 - accuracy: 0.8895 - val_loss: 0.1731 - val_accuracy: 0.9339\n",
      "Epoch 23/30\n",
      "280/280 [==============================] - 1s 2ms/step - loss: 0.2608 - accuracy: 0.8944 - val_loss: 0.1705 - val_accuracy: 0.9388\n",
      "Epoch 24/30\n",
      "280/280 [==============================] - 1s 2ms/step - loss: 0.2545 - accuracy: 0.8982 - val_loss: 0.1669 - val_accuracy: 0.9411\n",
      "Epoch 25/30\n",
      "280/280 [==============================] - 1s 2ms/step - loss: 0.2524 - accuracy: 0.8961 - val_loss: 0.1635 - val_accuracy: 0.9388\n",
      "Epoch 26/30\n",
      "280/280 [==============================] - 1s 2ms/step - loss: 0.2473 - accuracy: 0.8973 - val_loss: 0.1606 - val_accuracy: 0.9438\n",
      "Epoch 27/30\n",
      "280/280 [==============================] - 1s 2ms/step - loss: 0.2443 - accuracy: 0.9032 - val_loss: 0.1575 - val_accuracy: 0.9464\n",
      "Epoch 28/30\n",
      "280/280 [==============================] - 1s 2ms/step - loss: 0.2410 - accuracy: 0.9040 - val_loss: 0.1552 - val_accuracy: 0.9433\n",
      "Epoch 29/30\n",
      "280/280 [==============================] - 1s 2ms/step - loss: 0.2447 - accuracy: 0.9016 - val_loss: 0.1533 - val_accuracy: 0.9455\n",
      "Epoch 30/30\n",
      "280/280 [==============================] - 1s 2ms/step - loss: 0.2415 - accuracy: 0.9018 - val_loss: 0.1493 - val_accuracy: 0.9473\n"
     ]
    }
   ],
   "source": [
    "hist_sgd=model_sgd.fit(X_train,y_train,epochs=30,validation_split=0.2)"
   ]
  },
  {
   "cell_type": "code",
   "execution_count": 18,
   "id": "0aa7885b-5efc-4d8e-9f12-4ff465263041",
   "metadata": {},
   "outputs": [
    {
     "data": {
      "image/png": "[encoded data removed]",
      "text/plain": [
       "<Figure size 1600x800 with 1 Axes>"
      ]
     },
     "metadata": {},
     "output_type": "display_data"
    }
   ],
   "source": [
    "plot_learning_curve(hist=hist_sgd,opt='SGD')"
   ]
  },
  {
   "cell_type": "code",
   "execution_count": 19,
   "id": "693484f7-7ee7-4edf-969d-be5feb017cca",
   "metadata": {},
   "outputs": [
    {
     "name": "stdout",
     "output_type": "stream",
     "text": [
      "350/350 [==============================] - 0s 1ms/step - loss: 0.1480 - accuracy: 0.9503\n"
     ]
    }
   ],
   "source": [
    "trloss_sgd,tracc_sgd=model_sgd.evaluate(X_train,y_train)"
   ]
  },
  {
   "cell_type": "code",
   "execution_count": 20,
   "id": "fdb669f0-17a7-4c97-978b-2af24ad36174",
   "metadata": {},
   "outputs": [
    {
     "name": "stdout",
     "output_type": "stream",
     "text": [
      "150/150 [==============================] - 0s 1ms/step - loss: 0.1647 - accuracy: 0.9442\n"
     ]
    }
   ],
   "source": [
    "te_loss_sgd,te_acc_sgd=model_sgd.evaluate(X_test,y_test)"
   ]
  },
  {
   "cell_type": "markdown",
   "id": "cfd72f03-f94d-4b11-8333-546baf7c2260",
   "metadata": {},
   "source": [
    "#### SGD has 94.33% accuracy in testing"
   ]
  },
  {
   "cell_type": "markdown",
   "id": "11641641-ce0f-40f8-9374-8fc40e7419fb",
   "metadata": {},
   "source": [
    "### ADAM"
   ]
  },
  {
   "cell_type": "code",
   "execution_count": 21,
   "id": "237e4de1-37b7-4c9c-9eef-5de42122e635",
   "metadata": {},
   "outputs": [
    {
     "name": "stdout",
     "output_type": "stream",
     "text": [
      "Model: \"sequential_1\"\n",
      "_________________________________________________________________\n",
      " Layer (type)                Output Shape              Param #   \n",
      "=================================================================\n",
      " dense_3 (Dense)             (None, 64)                1984      \n",
      "                                                                 \n",
      " batch_normalization_2 (Bat  (None, 64)                256       \n",
      " chNormalization)                                                \n",
      "                                                                 \n",
      " dropout_2 (Dropout)         (None, 64)                0         \n",
      "                                                                 \n",
      " dense_4 (Dense)             (None, 32)                2080      \n",
      "                                                                 \n",
      " batch_normalization_3 (Bat  (None, 32)                128       \n",
      " chNormalization)                                                \n",
      "                                                                 \n",
      " dropout_3 (Dropout)         (None, 32)                0         \n",
      "                                                                 \n",
      " dense_5 (Dense)             (None, 1)                 33        \n",
      "                                                                 \n",
      "=================================================================\n",
      "Total params: 4481 (17.50 KB)\n",
      "Trainable params: 4289 (16.75 KB)\n",
      "Non-trainable params: 192 (768.00 Byte)\n",
      "_________________________________________________________________\n"
     ]
    }
   ],
   "source": [
    "model_adam=creating_model(optimizer='adam')"
   ]
  },
  {
   "cell_type": "code",
   "execution_count": 22,
   "id": "3b14327b-5c70-47dc-949a-6165bdb6ab53",
   "metadata": {},
   "outputs": [
    {
     "name": "stdout",
     "output_type": "stream",
     "text": [
      "Epoch 1/30\n",
      "280/280 [==============================] - 2s 4ms/step - loss: 0.5504 - accuracy: 0.7162 - val_loss: 0.3786 - val_accuracy: 0.8156\n",
      "Epoch 2/30\n",
      "280/280 [==============================] - 1s 2ms/step - loss: 0.3964 - accuracy: 0.8185 - val_loss: 0.2932 - val_accuracy: 0.8674\n",
      "Epoch 3/30\n",
      "280/280 [==============================] - 1s 2ms/step - loss: 0.3509 - accuracy: 0.8426 - val_loss: 0.2500 - val_accuracy: 0.9004\n",
      "Epoch 4/30\n",
      "280/280 [==============================] - 1s 2ms/step - loss: 0.3147 - accuracy: 0.8669 - val_loss: 0.2102 - val_accuracy: 0.9232\n",
      "Epoch 5/30\n",
      "280/280 [==============================] - 1s 2ms/step - loss: 0.2844 - accuracy: 0.8795 - val_loss: 0.1857 - val_accuracy: 0.9308\n",
      "Epoch 6/30\n",
      "280/280 [==============================] - 1s 2ms/step - loss: 0.2600 - accuracy: 0.8955 - val_loss: 0.1650 - val_accuracy: 0.9397\n",
      "Epoch 7/30\n",
      "280/280 [==============================] - 1s 2ms/step - loss: 0.2477 - accuracy: 0.8965 - val_loss: 0.1532 - val_accuracy: 0.9455\n",
      "Epoch 8/30\n",
      "280/280 [==============================] - 1s 2ms/step - loss: 0.2267 - accuracy: 0.9106 - val_loss: 0.1403 - val_accuracy: 0.9549\n",
      "Epoch 9/30\n",
      "280/280 [==============================] - 1s 2ms/step - loss: 0.2176 - accuracy: 0.9148 - val_loss: 0.1305 - val_accuracy: 0.9554\n",
      "Epoch 10/30\n",
      "280/280 [==============================] - 1s 2ms/step - loss: 0.2058 - accuracy: 0.9203 - val_loss: 0.1260 - val_accuracy: 0.9545\n",
      "Epoch 11/30\n",
      "280/280 [==============================] - 1s 2ms/step - loss: 0.1947 - accuracy: 0.9227 - val_loss: 0.1176 - val_accuracy: 0.9603\n",
      "Epoch 12/30\n",
      "280/280 [==============================] - 1s 2ms/step - loss: 0.1845 - accuracy: 0.9301 - val_loss: 0.1114 - val_accuracy: 0.9612\n",
      "Epoch 13/30\n",
      "280/280 [==============================] - 1s 2ms/step - loss: 0.1769 - accuracy: 0.9340 - val_loss: 0.1060 - val_accuracy: 0.9643\n",
      "Epoch 14/30\n",
      "280/280 [==============================] - 1s 2ms/step - loss: 0.1758 - accuracy: 0.9329 - val_loss: 0.1056 - val_accuracy: 0.9621\n",
      "Epoch 15/30\n",
      "280/280 [==============================] - 1s 2ms/step - loss: 0.1648 - accuracy: 0.9395 - val_loss: 0.1004 - val_accuracy: 0.9661\n",
      "Epoch 16/30\n",
      "280/280 [==============================] - 1s 2ms/step - loss: 0.1662 - accuracy: 0.9385 - val_loss: 0.0959 - val_accuracy: 0.9714\n",
      "Epoch 17/30\n",
      "280/280 [==============================] - 1s 2ms/step - loss: 0.1703 - accuracy: 0.9360 - val_loss: 0.0933 - val_accuracy: 0.9705\n",
      "Epoch 18/30\n",
      "280/280 [==============================] - 1s 2ms/step - loss: 0.1562 - accuracy: 0.9421 - val_loss: 0.0924 - val_accuracy: 0.9714\n",
      "Epoch 19/30\n",
      "280/280 [==============================] - 1s 2ms/step - loss: 0.1513 - accuracy: 0.9458 - val_loss: 0.0895 - val_accuracy: 0.9710\n",
      "Epoch 20/30\n",
      "280/280 [==============================] - 1s 2ms/step - loss: 0.1473 - accuracy: 0.9471 - val_loss: 0.0885 - val_accuracy: 0.9723\n",
      "Epoch 21/30\n",
      "280/280 [==============================] - 1s 2ms/step - loss: 0.1488 - accuracy: 0.9434 - val_loss: 0.0881 - val_accuracy: 0.9705\n",
      "Epoch 22/30\n",
      "280/280 [==============================] - 1s 2ms/step - loss: 0.1411 - accuracy: 0.9496 - val_loss: 0.0868 - val_accuracy: 0.9714\n",
      "Epoch 23/30\n",
      "280/280 [==============================] - 1s 2ms/step - loss: 0.1410 - accuracy: 0.9516 - val_loss: 0.0825 - val_accuracy: 0.9759\n",
      "Epoch 24/30\n",
      "280/280 [==============================] - 1s 2ms/step - loss: 0.1378 - accuracy: 0.9515 - val_loss: 0.0809 - val_accuracy: 0.9759\n",
      "Epoch 25/30\n",
      "280/280 [==============================] - 1s 2ms/step - loss: 0.1349 - accuracy: 0.9512 - val_loss: 0.0792 - val_accuracy: 0.9759\n",
      "Epoch 26/30\n",
      "280/280 [==============================] - 1s 2ms/step - loss: 0.1282 - accuracy: 0.9558 - val_loss: 0.0776 - val_accuracy: 0.9750\n",
      "Epoch 27/30\n",
      "280/280 [==============================] - 1s 2ms/step - loss: 0.1337 - accuracy: 0.9565 - val_loss: 0.0771 - val_accuracy: 0.9768\n",
      "Epoch 28/30\n",
      "280/280 [==============================] - 1s 2ms/step - loss: 0.1304 - accuracy: 0.9536 - val_loss: 0.0800 - val_accuracy: 0.9737\n",
      "Epoch 29/30\n",
      "280/280 [==============================] - 1s 2ms/step - loss: 0.1332 - accuracy: 0.9530 - val_loss: 0.0738 - val_accuracy: 0.9817\n",
      "Epoch 30/30\n",
      "280/280 [==============================] - 1s 2ms/step - loss: 0.1233 - accuracy: 0.9570 - val_loss: 0.0694 - val_accuracy: 0.9799\n"
     ]
    }
   ],
   "source": [
    "hist_adam=model_adam.fit(X_train,y_train,epochs=30,validation_split=0.20)"
   ]
  },
  {
   "cell_type": "code",
   "execution_count": 23,
   "id": "166c2a46-6d4f-44c9-9a8e-402829a756ef",
   "metadata": {},
   "outputs": [
    {
     "data": {
      "image/png": "[encoded data removed]",
      "text/plain": [
       "<Figure size 1600x800 with 1 Axes>"
      ]
     },
     "metadata": {},
     "output_type": "display_data"
    }
   ],
   "source": [
    "plot_learning_curve(hist=hist_adam,opt='adam')"
   ]
  },
  {
   "cell_type": "code",
   "execution_count": 25,
   "id": "fb5b53fe-89f0-4877-aaf1-2db4492aece1",
   "metadata": {},
   "outputs": [
    {
     "name": "stdout",
     "output_type": "stream",
     "text": [
      "350/350 [==============================] - 0s 1ms/step - loss: 0.0585 - accuracy: 0.9857\n"
     ]
    }
   ],
   "source": [
    "tr_loss_adam,tr_acc_adam=model_adam.evaluate(X_train,y_train)"
   ]
  },
  {
   "cell_type": "code",
   "execution_count": 26,
   "id": "8231d855-8a7d-4197-8191-fa21475d2dba",
   "metadata": {},
   "outputs": [
    {
     "name": "stdout",
     "output_type": "stream",
     "text": [
      "150/150 [==============================] - 0s 1ms/step - loss: 0.0796 - accuracy: 0.9792\n"
     ]
    }
   ],
   "source": [
    "te_loss_adam,te_acc_adam=model_adam.evaluate(X_test,y_test)"
   ]
  },
  {
   "cell_type": "markdown",
   "id": "a888a1de-3643-484c-b124-324939fae8d0",
   "metadata": {},
   "source": [
    "### RMSprop"
   ]
  },
  {
   "cell_type": "code",
   "execution_count": 27,
   "id": "d1406c35-50e2-4507-a97c-f4bbe09031a6",
   "metadata": {},
   "outputs": [
    {
     "name": "stdout",
     "output_type": "stream",
     "text": [
      "Model: \"sequential_2\"\n",
      "_________________________________________________________________\n",
      " Layer (type)                Output Shape              Param #   \n",
      "=================================================================\n",
      " dense_6 (Dense)             (None, 64)                1984      \n",
      "                                                                 \n",
      " batch_normalization_4 (Bat  (None, 64)                256       \n",
      " chNormalization)                                                \n",
      "                                                                 \n",
      " dropout_4 (Dropout)         (None, 64)                0         \n",
      "                                                                 \n",
      " dense_7 (Dense)             (None, 32)                2080      \n",
      "                                                                 \n",
      " batch_normalization_5 (Bat  (None, 32)                128       \n",
      " chNormalization)                                                \n",
      "                                                                 \n",
      " dropout_5 (Dropout)         (None, 32)                0         \n",
      "                                                                 \n",
      " dense_8 (Dense)             (None, 1)                 33        \n",
      "                                                                 \n",
      "=================================================================\n",
      "Total params: 4481 (17.50 KB)\n",
      "Trainable params: 4289 (16.75 KB)\n",
      "Non-trainable params: 192 (768.00 Byte)\n",
      "_________________________________________________________________\n"
     ]
    }
   ],
   "source": [
    "model_rms=creating_model(optimizer=\"RMSprop\")"
   ]
  },
  {
   "cell_type": "code",
   "execution_count": 28,
   "id": "2de70c63-6576-4d14-9c4a-07cad851e61d",
   "metadata": {},
   "outputs": [
    {
     "name": "stdout",
     "output_type": "stream",
     "text": [
      "Epoch 1/30\n",
      "280/280 [==============================] - 2s 3ms/step - loss: 0.5294 - accuracy: 0.7366 - val_loss: 0.3420 - val_accuracy: 0.8580\n",
      "Epoch 2/30\n",
      "280/280 [==============================] - 1s 2ms/step - loss: 0.3823 - accuracy: 0.8277 - val_loss: 0.2674 - val_accuracy: 0.8893\n",
      "Epoch 3/30\n",
      "280/280 [==============================] - 1s 2ms/step - loss: 0.3269 - accuracy: 0.8638 - val_loss: 0.2257 - val_accuracy: 0.9089\n",
      "Epoch 4/30\n",
      "280/280 [==============================] - 1s 2ms/step - loss: 0.3026 - accuracy: 0.8704 - val_loss: 0.2004 - val_accuracy: 0.9219\n",
      "Epoch 5/30\n",
      "280/280 [==============================] - 1s 2ms/step - loss: 0.2696 - accuracy: 0.8874 - val_loss: 0.1783 - val_accuracy: 0.9326\n",
      "Epoch 6/30\n",
      "280/280 [==============================] - 1s 2ms/step - loss: 0.2457 - accuracy: 0.8996 - val_loss: 0.1579 - val_accuracy: 0.9388\n",
      "Epoch 7/30\n",
      "280/280 [==============================] - 1s 2ms/step - loss: 0.2323 - accuracy: 0.9051 - val_loss: 0.1486 - val_accuracy: 0.9469\n",
      "Epoch 8/30\n",
      "280/280 [==============================] - 1s 2ms/step - loss: 0.2222 - accuracy: 0.9146 - val_loss: 0.1339 - val_accuracy: 0.9509\n",
      "Epoch 9/30\n",
      "280/280 [==============================] - 1s 2ms/step - loss: 0.2103 - accuracy: 0.9174 - val_loss: 0.1261 - val_accuracy: 0.9549\n",
      "Epoch 10/30\n",
      "280/280 [==============================] - 1s 2ms/step - loss: 0.2014 - accuracy: 0.9231 - val_loss: 0.1210 - val_accuracy: 0.9567\n",
      "Epoch 11/30\n",
      "280/280 [==============================] - 1s 2ms/step - loss: 0.1938 - accuracy: 0.9250 - val_loss: 0.1139 - val_accuracy: 0.9598\n",
      "Epoch 12/30\n",
      "280/280 [==============================] - 1s 2ms/step - loss: 0.1922 - accuracy: 0.9267 - val_loss: 0.1075 - val_accuracy: 0.9652\n",
      "Epoch 13/30\n",
      "280/280 [==============================] - 1s 2ms/step - loss: 0.1836 - accuracy: 0.9289 - val_loss: 0.1066 - val_accuracy: 0.9638\n",
      "Epoch 14/30\n",
      "280/280 [==============================] - 1s 2ms/step - loss: 0.1762 - accuracy: 0.9317 - val_loss: 0.1033 - val_accuracy: 0.9670\n",
      "Epoch 15/30\n",
      "280/280 [==============================] - 1s 2ms/step - loss: 0.1710 - accuracy: 0.9352 - val_loss: 0.0986 - val_accuracy: 0.9638\n",
      "Epoch 16/30\n",
      "280/280 [==============================] - 1s 2ms/step - loss: 0.1680 - accuracy: 0.9388 - val_loss: 0.0949 - val_accuracy: 0.9696\n",
      "Epoch 17/30\n",
      "280/280 [==============================] - 1s 2ms/step - loss: 0.1638 - accuracy: 0.9420 - val_loss: 0.0930 - val_accuracy: 0.9692\n",
      "Epoch 18/30\n",
      "280/280 [==============================] - 1s 2ms/step - loss: 0.1631 - accuracy: 0.9431 - val_loss: 0.0890 - val_accuracy: 0.9710\n",
      "Epoch 19/30\n",
      "280/280 [==============================] - 1s 2ms/step - loss: 0.1599 - accuracy: 0.9449 - val_loss: 0.0887 - val_accuracy: 0.9692\n",
      "Epoch 20/30\n",
      "280/280 [==============================] - 1s 2ms/step - loss: 0.1528 - accuracy: 0.9468 - val_loss: 0.0831 - val_accuracy: 0.9750\n",
      "Epoch 21/30\n",
      "280/280 [==============================] - 1s 2ms/step - loss: 0.1481 - accuracy: 0.9446 - val_loss: 0.0800 - val_accuracy: 0.9746\n",
      "Epoch 22/30\n",
      "280/280 [==============================] - 1s 2ms/step - loss: 0.1481 - accuracy: 0.9502 - val_loss: 0.0777 - val_accuracy: 0.9759\n",
      "Epoch 23/30\n",
      "280/280 [==============================] - 1s 2ms/step - loss: 0.1433 - accuracy: 0.9519 - val_loss: 0.0776 - val_accuracy: 0.9763\n",
      "Epoch 24/30\n",
      "280/280 [==============================] - 1s 2ms/step - loss: 0.1467 - accuracy: 0.9502 - val_loss: 0.0751 - val_accuracy: 0.9795\n",
      "Epoch 25/30\n",
      "280/280 [==============================] - 1s 2ms/step - loss: 0.1327 - accuracy: 0.9545 - val_loss: 0.0773 - val_accuracy: 0.9754\n",
      "Epoch 26/30\n",
      "280/280 [==============================] - 1s 2ms/step - loss: 0.1354 - accuracy: 0.9528 - val_loss: 0.0749 - val_accuracy: 0.9781\n",
      "Epoch 27/30\n",
      "280/280 [==============================] - 1s 2ms/step - loss: 0.1376 - accuracy: 0.9502 - val_loss: 0.0739 - val_accuracy: 0.9759\n",
      "Epoch 28/30\n",
      "280/280 [==============================] - 1s 2ms/step - loss: 0.1358 - accuracy: 0.9540 - val_loss: 0.0723 - val_accuracy: 0.9795\n",
      "Epoch 29/30\n",
      "280/280 [==============================] - 1s 2ms/step - loss: 0.1262 - accuracy: 0.9587 - val_loss: 0.0684 - val_accuracy: 0.9781\n",
      "Epoch 30/30\n",
      "280/280 [==============================] - 1s 2ms/step - loss: 0.1286 - accuracy: 0.9575 - val_loss: 0.0676 - val_accuracy: 0.9808\n"
     ]
    }
   ],
   "source": [
    "hist_rms=model_rms.fit(X_train,y_train,epochs=30,validation_split=0.2)"
   ]
  },
  {
   "cell_type": "code",
   "execution_count": 29,
   "id": "dd5b76e5-0640-45d3-821f-f20873baf64e",
   "metadata": {},
   "outputs": [
    {
     "data": {
      "image/png": "[encoded data removed]",
      "text/plain": [
       "<Figure size 1600x800 with 1 Axes>"
      ]
     },
     "metadata": {},
     "output_type": "display_data"
    }
   ],
   "source": [
    "plot_learning_curve(hist=hist_rms,opt='RMSprop')"
   ]
  },
  {
   "cell_type": "code",
   "execution_count": 30,
   "id": "73525d6a-7445-43e3-aab8-c1646d9f83a8",
   "metadata": {},
   "outputs": [
    {
     "name": "stdout",
     "output_type": "stream",
     "text": [
      "350/350 [==============================] - 0s 1ms/step - loss: 0.0609 - accuracy: 0.9862\n"
     ]
    }
   ],
   "source": [
    "tr_loss_rms,tr_acc_rms=model_rms.evaluate(X_train,y_train)"
   ]
  },
  {
   "cell_type": "code",
   "execution_count": 31,
   "id": "8fe6839a-ffa3-4ae8-a5f1-c26967351765",
   "metadata": {},
   "outputs": [
    {
     "name": "stdout",
     "output_type": "stream",
     "text": [
      "150/150 [==============================] - 0s 1ms/step - loss: 0.0818 - accuracy: 0.9790\n"
     ]
    }
   ],
   "source": [
    "te_loss_rms,te_acc_rms=model_rms.evaluate(X_test,y_test)"
   ]
  },
  {
   "cell_type": "code",
   "execution_count": 34,
   "id": "f68dcdd4-736a-4e32-b168-1d9a3623c4d4",
   "metadata": {},
   "outputs": [],
   "source": [
    "eval_dct = {'Optimizer':['SGD','RMSProp','Adam'],\n",
    "            'Training Loss':[trloss_sgd, tr_loss_rms, tr_loss_adam],\n",
    "            'Testing Loss':[te_loss_sgd, te_loss_rms, te_loss_adam],\n",
    "            'Training Accuracy':[tracc_sgd, tr_acc_rms, tr_acc_adam],\n",
    "            'Testing Accuracy':[te_acc_sgd, te_acc_rms, te_acc_adam]}"
   ]
  },
  {
   "cell_type": "code",
   "execution_count": 35,
   "id": "fd6afb5e-a7ff-4f47-8d6e-1cd1dcc2357e",
   "metadata": {},
   "outputs": [],
   "source": [
    "eval_dct=pd.DataFrame(eval_dct)"
   ]
  },
  {
   "cell_type": "code",
   "execution_count": 36,
   "id": "b739c9c1-16a3-49d5-b037-797281a4b924",
   "metadata": {},
   "outputs": [
    {
     "data": {
      "text/html": [
       "<div>\n",
       "<style scoped>\n",
       "    .dataframe tbody tr th:only-of-type {\n",
       "        vertical-align: middle;\n",
       "    }\n",
       "\n",
       "    .dataframe tbody tr th {\n",
       "        vertical-align: top;\n",
       "    }\n",
       "\n",
       "    .dataframe thead th {\n",
       "        text-align: right;\n",
       "    }\n",
       "</style>\n",
       "<table border=\"1\" class=\"dataframe\">\n",
       "  <thead>\n",
       "    <tr style=\"text-align: right;\">\n",
       "      <th></th>\n",
       "      <th>Optimizer</th>\n",
       "      <th>Training Loss</th>\n",
       "      <th>Testing Loss</th>\n",
       "      <th>Training Accuracy</th>\n",
       "      <th>Testing Accuracy</th>\n",
       "    </tr>\n",
       "  </thead>\n",
       "  <tbody>\n",
       "    <tr>\n",
       "      <th>0</th>\n",
       "      <td>SGD</td>\n",
       "      <td>0.148042</td>\n",
       "      <td>0.164693</td>\n",
       "      <td>0.950268</td>\n",
       "      <td>0.944167</td>\n",
       "    </tr>\n",
       "    <tr>\n",
       "      <th>1</th>\n",
       "      <td>RMSProp</td>\n",
       "      <td>0.060940</td>\n",
       "      <td>0.081797</td>\n",
       "      <td>0.986250</td>\n",
       "      <td>0.978958</td>\n",
       "    </tr>\n",
       "    <tr>\n",
       "      <th>2</th>\n",
       "      <td>Adam</td>\n",
       "      <td>0.058544</td>\n",
       "      <td>0.079586</td>\n",
       "      <td>0.985714</td>\n",
       "      <td>0.979167</td>\n",
       "    </tr>\n",
       "  </tbody>\n",
       "</table>\n",
       "</div>"
      ],
      "text/plain": [
       "  Optimizer  Training Loss  Testing Loss  Training Accuracy  Testing Accuracy\n",
       "0       SGD       0.148042      0.164693           0.950268          0.944167\n",
       "1   RMSProp       0.060940      0.081797           0.986250          0.978958\n",
       "2      Adam       0.058544      0.079586           0.985714          0.979167"
      ]
     },
     "execution_count": 36,
     "metadata": {},
     "output_type": "execute_result"
    }
   ],
   "source": [
    "eval_dct"
   ]
  },
  {
   "cell_type": "code",
   "execution_count": 38,
   "id": "5223a1fd-4c37-4b36-bf53-4d1ac9b9851c",
   "metadata": {},
   "outputs": [
    {
     "data": {
      "text/html": [
       "<div>\n",
       "<style scoped>\n",
       "    .dataframe tbody tr th:only-of-type {\n",
       "        vertical-align: middle;\n",
       "    }\n",
       "\n",
       "    .dataframe tbody tr th {\n",
       "        vertical-align: top;\n",
       "    }\n",
       "\n",
       "    .dataframe thead th {\n",
       "        text-align: right;\n",
       "    }\n",
       "</style>\n",
       "<table border=\"1\" class=\"dataframe\">\n",
       "  <thead>\n",
       "    <tr style=\"text-align: right;\">\n",
       "      <th></th>\n",
       "      <th>Optimizer</th>\n",
       "      <th>Training Loss</th>\n",
       "      <th>Testing Loss</th>\n",
       "      <th>Training Accuracy</th>\n",
       "      <th>Testing Accuracy</th>\n",
       "    </tr>\n",
       "  </thead>\n",
       "  <tbody>\n",
       "    <tr>\n",
       "      <th>2</th>\n",
       "      <td>Adam</td>\n",
       "      <td>0.058544</td>\n",
       "      <td>0.079586</td>\n",
       "      <td>0.985714</td>\n",
       "      <td>0.979167</td>\n",
       "    </tr>\n",
       "    <tr>\n",
       "      <th>1</th>\n",
       "      <td>RMSProp</td>\n",
       "      <td>0.060940</td>\n",
       "      <td>0.081797</td>\n",
       "      <td>0.986250</td>\n",
       "      <td>0.978958</td>\n",
       "    </tr>\n",
       "    <tr>\n",
       "      <th>0</th>\n",
       "      <td>SGD</td>\n",
       "      <td>0.148042</td>\n",
       "      <td>0.164693</td>\n",
       "      <td>0.950268</td>\n",
       "      <td>0.944167</td>\n",
       "    </tr>\n",
       "  </tbody>\n",
       "</table>\n",
       "</div>"
      ],
      "text/plain": [
       "  Optimizer  Training Loss  Testing Loss  Training Accuracy  Testing Accuracy\n",
       "2      Adam       0.058544      0.079586           0.985714          0.979167\n",
       "1   RMSProp       0.060940      0.081797           0.986250          0.978958\n",
       "0       SGD       0.148042      0.164693           0.950268          0.944167"
      ]
     },
     "execution_count": 38,
     "metadata": {},
     "output_type": "execute_result"
    }
   ],
   "source": [
    "eval_dct.sort_values(by='Testing Accuracy', ascending=False)"
   ]
  },
  {
   "cell_type": "markdown",
   "id": "42325f38-f272-472b-9833-bd08eee7a7fe",
   "metadata": {},
   "source": [
    "## Q9 Discuss the considerations and tradeoffs when choosing the appropriate optimizer for a given neural network architecture and task. onsider factors such as convergence speed, stability, and generalization performance."
   ]
  },
  {
   "cell_type": "markdown",
   "id": "f13c3ce2-57ce-4553-8900-886596f07c8f",
   "metadata": {},
   "source": [
    "Choosing the appropriate optimizer for a neural network is a critical decision that can significantly impact the training process and the performance of your model. Here are some considerations and tradeoffs to keep in mind when selecting an optimizer for a given neural network architecture and task:\n",
    "\n",
    "1. **Gradient Descent Variants**:\n",
    "   - **Stochastic Gradient Descent (SGD)**: SGD updates the weights after processing each individual training example. It can have high variance in parameter updates but is computationally efficient. Learning rate scheduling is often used to stabilize and improve convergence.\n",
    "   - **Mini-Batch Gradient Descent**: It strikes a balance between the efficiency of SGD and the stability of Batch Gradient Descent. You choose a batch size, and the optimizer updates weights after processing each batch.\n",
    "\n",
    "2. **Adaptive Learning Rate Methods**:\n",
    "   - **Adam (Adaptive Moment Estimation)**: Adam combines the benefits of both momentum and RMSprop. It adapts the learning rate for each parameter, making it well-suited for a wide range of tasks. However, it may require tuning of hyperparameters like beta1, beta2, and epsilon.\n",
    "   - **RMSprop**: RMSprop adapts the learning rate for each parameter using a moving average of squared gradients. It can be less sensitive to the choice of learning rates compared to vanilla SGD.\n",
    "   - **Adagrad**: Adagrad adapts the learning rates individually for each parameter. It performs well with sparse data but may require careful tuning to prevent the learning rates from decaying too aggressively.\n",
    "\n",
    "3. **Momentum-Based Optimizers**:\n",
    "   - **Momentum**: Adding momentum to SGD helps smooth the convergence path and escape local minima. It can speed up convergence in some cases.\n",
    "   - **Nesterov Accelerated Gradient (NAG)**: NAG is an improvement over traditional momentum by considering future gradient information. It can provide better convergence behavior.\n",
    "\n",
    "4. **Second-Order Methods**:\n",
    "   - **Limited-memory Broyden–Fletcher–Goldfarb–Shanno (L-BFGS)**: L-BFGS is a quasi-Newton method that can converge quickly on small to medium-sized networks. However, it requires more memory and is less practical for very large models.\n",
    "\n",
    "5. **Regularization Techniques**:\n",
    "   - Some optimizers incorporate regularization techniques directly into their update rules. For instance, variants of Adam like AdamW include weight decay, which can help with generalization.\n",
    "\n",
    "6. **Learning Rate Scheduling**:\n",
    "   - Learning rate schedules can be used with any optimizer to control the learning rate during training. Techniques like step decay, exponential decay, or cyclic learning rates can influence the convergence speed and stability.\n",
    "\n",
    "7. **Task and Architecture Considerations**:\n",
    "   - The choice of optimizer can depend on the nature of your task (e.g., classification, regression, generative modeling) and the architecture of your neural network (e.g., convolutional neural networks, recurrent neural networks, transformers).\n",
    "   - Some optimizers may perform better with certain types of networks or tasks due to their inherent properties.\n",
    "\n",
    "8. **Hyperparameter Tuning**:\n",
    "   - The performance of an optimizer can be highly dependent on hyperparameters such as learning rates, momentum values, and decay rates. Hyperparameter tuning is often required to find the best combination for your specific task and model.\n",
    "\n",
    "In summary, the choice of optimizer should be based on a combination of empirical experimentation, the nature of the task, and the characteristics of the neural network architecture. It's often a good practice to start with popular optimizers like Adam and then fine-tune hyperparameters and consider other optimizers based on the observed performance. Regular monitoring of training curves and testing different optimizers can help you make an informed decision about which one works best for your specific use case."
   ]
  },
  {
   "cell_type": "code",
   "execution_count": null,
   "id": "e7b2e470-b776-402e-8b1b-f9e822962203",
   "metadata": {},
   "outputs": [],
   "source": []
  }
 ],
 "metadata": {
  "kernelspec": {
   "display_name": "Python 3 (ipykernel)",
   "language": "python",
   "name": "python3"
  },
  "language_info": {
   "codemirror_mode": {
    "name": "ipython",
    "version": 3
   },
   "file_extension": ".py",
   "mimetype": "text/x-python",
   "name": "python",
   "nbconvert_exporter": "python",
   "pygments_lexer": "ipython3",
   "version": "3.10.8"
  }
 },
 "nbformat": 4,
 "nbformat_minor": 5
}

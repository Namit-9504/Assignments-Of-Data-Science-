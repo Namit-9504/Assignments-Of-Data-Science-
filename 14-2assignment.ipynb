{
 "cells": [
  {
   "cell_type": "markdown",
   "id": "3a8a4b5e-1bbb-46de-89bb-c497f65d4f6e",
   "metadata": {},
   "source": [
    "### Q1).What is multithreading in python? hy is it used? Name the module used to handle threads in python"
   ]
  },
  {
   "cell_type": "markdown",
   "id": "4ea20307-f60c-4823-9a7f-daa282c294c0",
   "metadata": {},
   "source": [
    "Multithreading in Python is a technique to achieve parallelism by dividing a program into multiple threads that can run concurrently. Each thread is a separate flow of execution within the same program. Multithreading is used to improve the performance of a program by allowing it to execute multiple tasks simultaneously.\n",
    "\n",
    "In Python, multithreading is used to perform multiple tasks at the same time, without blocking the execution of the main program. This is especially useful for I/O-bound tasks, such as network requests or file operations, which can be executed concurrently without waiting for each other to complete.\n",
    "\n",
    "The threading module is used to handle threads in Python. It provides a way to create and manage threads in a Python program. The threading module has a Thread class, which is used to create new threads. The Thread class provides several methods, such as start(), join(), and is_alive(), which are used to start, wait for, and check the status of threads."
   ]
  },
  {
   "cell_type": "markdown",
   "id": "ab802d5c-8f28-4fed-85df-c4b7e8026a29",
   "metadata": {},
   "source": [
    "### Q2. Why threading module used? rite the use of the following functions activeCount() currentThread() enumerate()"
   ]
  },
  {
   "cell_type": "markdown",
   "id": "0d6bf226-0cc6-4009-a760-4d6da1518f02",
   "metadata": {},
   "source": [
    "The threading module is used in Python for implementing multi-threaded applications. It provides a way to create and manage threads in a Python program. The threading module is used to improve the performance of a program by allowing it to execute multiple tasks simultaneously.\n",
    "\n",
    "Here are the use cases of the following functions in the threading module:\n",
    "\n",
    "1.activeCount() - This function returns the number of thread objects that are currently alive. It can be used to check how many threads are currently running in the program.\n",
    "\n",
    "2.currentThread() - This function returns the current thread object. It can be used to get information about the current thread, such as its name, ID, and status.\n",
    "\n",
    "3.enumerate() - This function returns a list of all thread objects that are currently alive. It can be used to iterate through all the threads in the program and perform some action on each of them, such as checking their status or terminating them.\n",
    "\n",
    "Overall, the threading module is used to create and manage threads in a Python program, and the functions like activeCount(), currentThread(), and enumerate() are used to obtain information about the threads and manage their execution."
   ]
  },
  {
   "cell_type": "markdown",
   "id": "3821be9c-56f9-4186-8f80-c9ecd734a54a",
   "metadata": {},
   "source": [
    "### 3. Explain the following functions\n",
    "1. run()\n",
    "2. start()\n",
    "3. join()\n",
    "4. isAlive()"
   ]
  },
  {
   "cell_type": "markdown",
   "id": "3e88ed79-d383-4ef6-907c-a6bc7a6fb3b5",
   "metadata": {},
   "source": [
    "The Thread class in the threading module of Python provides several methods that are used to manage the execution of threads. Here are the explanations for some of the most commonly used methods:\n",
    "\n",
    "run() - This method is the entry point for the thread's activity. It is called when the start() method is called, and represents the code that the thread will execute. You should override this method in your custom thread class to define the behavior of the thread.\n",
    "\n",
    "start() - This method starts the execution of the thread. When this method is called, the run() method is executed in a separate thread. The start() method should be called only once for each thread object. If you try to start a thread that has already been started, a RuntimeError will be raised.\n",
    "\n",
    "join() - This method blocks the calling thread until the thread on which it is called has completed execution. When you call the join() method on a thread object, the calling thread will wait for the target thread to complete before continuing execution. If the thread has already completed execution, the join() method returns immediately.\n",
    "\n",
    "isAlive() - This method returns a boolean value that indicates whether the thread is currently executing. If the thread is currently executing, this method returns True; otherwise, it returns False. This method can be used to check the status of a thread, such as whether it has completed execution or not.\n",
    "\n",
    "Here is an example that demonstrates the use of these methods:"
   ]
  },
  {
   "cell_type": "code",
   "execution_count": null,
   "id": "38a3a0a3-d847-4f90-b87f-a008d85eb85f",
   "metadata": {},
   "outputs": [],
   "source": [
    "import threading\n",
    "import time\n",
    "\n",
    "class MyThread(threading.Thread):\n",
    "    def __init__(self, name):\n",
    "        threading.Thread.__init__(self)\n",
    "        self.name = name\n",
    "\n",
    "    def run(self):\n",
    "        print(f\"{self.name} started\")\n",
    "        time.sleep(2)\n",
    "        print(f\"{self.name} finished\")\n",
    "\n",
    "threads = []\n",
    "for i in range(3):\n",
    "    t = MyThread(f\"Thread{i}\")\n",
    "    threads.append(t)\n",
    "    t.start()\n",
    "\n",
    "for t in threads:\n",
    "    t.join()\n",
    "    print(f\"{t.name} joined\")\n",
    "\n",
    "print(\"All threads finished\")\n"
   ]
  },
  {
   "cell_type": "markdown",
   "id": "c388871a-38c2-4a4c-8494-226a35721276",
   "metadata": {},
   "source": [
    "### 4. Write a python program to create two threads. Thread one must print the list of squares and thread two must print the list of cubes"
   ]
  },
  {
   "cell_type": "code",
   "execution_count": 5,
   "id": "e26a889b-3e59-442c-b2c3-941160e8776b",
   "metadata": {},
   "outputs": [
    {
     "name": "stdout",
     "output_type": "stream",
     "text": [
      "Following numbers are the Squers of given numbers \n",
      "1\n",
      "4\n",
      "9\n",
      "16\n",
      "25\n",
      "36\n",
      "49\n",
      "Following numbers are the Cubes of given numbers \n",
      "1\n",
      "8\n",
      "27\n",
      "64\n",
      "125\n",
      "216\n",
      "343\n"
     ]
    }
   ],
   "source": [
    "import threading\n",
    "list_num = [1,2,3,4,5,6,7]\n",
    "def square (x):\n",
    "    s=x*x\n",
    "    print(s)\n",
    "def cube (y):\n",
    "    c=y*y*y\n",
    "    print(c)\n",
    "thread1 = [threading.Thread(target=square,args=(i,))for i in list_num]\n",
    "print(\"Following numbers are the Squers of given numbers \")\n",
    "for t in thread1:\n",
    "    t.start()\n",
    "thread2 = [threading.Thread(target=cube,args=(j,))for j in list_num]\n",
    "print(\"Following numbers are the Cubes of given numbers \")\n",
    "for g in thread2:\n",
    "    g.start()"
   ]
  },
  {
   "cell_type": "markdown",
   "id": "41547944-343c-4560-a51c-b6bdf8f5b6f2",
   "metadata": {},
   "source": [
    "### 5. State advantages and disadvantages of multithreading"
   ]
  },
  {
   "cell_type": "markdown",
   "id": "96162376-dabf-4199-ae3d-9d90f2070cfa",
   "metadata": {},
   "source": [
    "Multithreading is a programming technique that allows multiple threads of execution to run concurrently within a single process. Here are some advantages and disadvantages of using multithreading:\n",
    "\n",
    "Advantages:\n",
    "\n",
    "Improved performance: By using multiple threads, a program can take advantage of the available CPU resources and perform tasks more quickly than a single-threaded program.\n",
    "\n",
    "Responsiveness: Multithreading can help keep a program responsive to user input. For example, in a graphical user interface, the main thread can handle user input, while background threads handle time-consuming tasks.\n",
    "\n",
    "Resource sharing: Threads can share resources such as memory and file handles, which can reduce the overhead of creating and managing multiple processes.\n",
    "\n",
    "Simplicity: Multithreading can simplify the programming of complex applications. By breaking up a program into smaller threads, each with its own set of tasks, it becomes easier to manage and maintain the code.\n",
    "\n",
    "Disadvantages:\n",
    "\n",
    "Complexity: Multithreading can make programs more complex and difficult to debug. The interactions between threads can lead to race conditions, deadlocks, and other synchronization issues.\n",
    "\n",
    "Overhead: The creation and management of threads can have a significant overhead, especially in terms of memory and CPU usage. This overhead can be a concern for programs that create large numbers of threads."
   ]
  },
  {
   "cell_type": "markdown",
   "id": "3e4c4a4d-c8fe-485e-981c-9801bce30c8b",
   "metadata": {},
   "source": [
    "### 6. Explain deadlocks and race conditions."
   ]
  },
  {
   "cell_type": "markdown",
   "id": "07996bd1-1f16-428d-bd2a-45cf55cef1c1",
   "metadata": {},
   "source": [
    "Deadlocks and race conditions are two common problems that can occur in multithreaded programs.\n",
    "\n",
    "A deadlock occurs when two or more threads are blocked indefinitely, waiting for each other to release resources that they need in order to proceed. In other words, each thread is waiting for a resource that is held by another thread, and neither thread can proceed until it receives the resource it needs. Deadlocks can happen when threads acquire locks on shared resources in a different order, resulting in a situation where each thread is holding a resource that the other thread needs.\n",
    "\n",
    "A race condition occurs when the behavior of a program depends on the relative timing of two or more threads, and the outcome of the program depends on which thread executes first. In other words, if the threads do not execute in a specific order, the program will produce incorrect results. Race conditions can occur when multiple threads access and modify shared resources without proper synchronization, leading to inconsistent results.\n",
    "\n",
    "Both deadlocks and race conditions can be very difficult to detect and debug, as they may occur only under certain conditions that are hard to reproduce. To avoid these problems, it is important to design multithreaded programs carefully and use synchronization primitives like locks, semaphores, and condition variables to coordinate the access to shared resources. Additionally, testing and debugging multithreaded programs is a challenging task that requires careful consideration of all possible thread interleavings and scenarios.\n",
    "\n",
    "\n",
    "\n"
   ]
  },
  {
   "cell_type": "code",
   "execution_count": null,
   "id": "76d0d06c-8a72-45cb-b75c-e968b6a012eb",
   "metadata": {},
   "outputs": [],
   "source": []
  },
  {
   "cell_type": "code",
   "execution_count": null,
   "id": "4fdbe372-b5bc-49e1-94df-d65f294296b0",
   "metadata": {},
   "outputs": [],
   "source": []
  },
  {
   "cell_type": "code",
   "execution_count": null,
   "id": "0a43d172-2a2a-4088-9b43-099cff98b0ec",
   "metadata": {},
   "outputs": [],
   "source": []
  },
  {
   "cell_type": "code",
   "execution_count": null,
   "id": "b40f22fb-62d0-44fa-aae2-609d2eed7335",
   "metadata": {},
   "outputs": [],
   "source": []
  },
  {
   "cell_type": "code",
   "execution_count": null,
   "id": "265afdad-485f-4eb3-9a08-5d9277108e25",
   "metadata": {},
   "outputs": [],
   "source": []
  },
  {
   "cell_type": "code",
   "execution_count": null,
   "id": "2965cea3-257f-42b1-a393-bfc8fb2a7e7d",
   "metadata": {},
   "outputs": [],
   "source": []
  },
  {
   "cell_type": "code",
   "execution_count": null,
   "id": "e47ea48c-2799-424f-8db8-7741873e9886",
   "metadata": {},
   "outputs": [],
   "source": []
  },
  {
   "cell_type": "code",
   "execution_count": null,
   "id": "a6654409-866e-46ba-8007-3c0ab03f5531",
   "metadata": {},
   "outputs": [],
   "source": []
  },
  {
   "cell_type": "code",
   "execution_count": null,
   "id": "da6e6c96-3f1b-450a-b2c5-ee0844e8c8a3",
   "metadata": {},
   "outputs": [],
   "source": []
  },
  {
   "cell_type": "code",
   "execution_count": null,
   "id": "68d0d653-a81c-4b76-a84c-bfcdf85be07c",
   "metadata": {},
   "outputs": [],
   "source": []
  },
  {
   "cell_type": "code",
   "execution_count": null,
   "id": "537bccbc-b1d9-4ba5-9b35-95077b2a7fe8",
   "metadata": {},
   "outputs": [],
   "source": []
  },
  {
   "cell_type": "code",
   "execution_count": null,
   "id": "3b2f21d7-d862-4f43-939a-198aab608daa",
   "metadata": {},
   "outputs": [],
   "source": []
  },
  {
   "cell_type": "code",
   "execution_count": null,
   "id": "32bd2b16-3b72-4587-a95f-bb1f37e2006f",
   "metadata": {},
   "outputs": [],
   "source": []
  },
  {
   "cell_type": "code",
   "execution_count": null,
   "id": "9345bd64-5281-45f0-89ab-27a2e0fa93ad",
   "metadata": {},
   "outputs": [],
   "source": []
  },
  {
   "cell_type": "code",
   "execution_count": null,
   "id": "b6d45e94-4630-41dd-b612-9a369af159ec",
   "metadata": {},
   "outputs": [],
   "source": []
  },
  {
   "cell_type": "code",
   "execution_count": null,
   "id": "2e789662-5020-40e1-ba8e-fa8cc900e9a1",
   "metadata": {},
   "outputs": [],
   "source": []
  },
  {
   "cell_type": "code",
   "execution_count": null,
   "id": "d6ae23c6-4213-4ad6-90e5-8337e0aff3f3",
   "metadata": {},
   "outputs": [],
   "source": []
  },
  {
   "cell_type": "code",
   "execution_count": null,
   "id": "7a2fe47a-c5d7-4f78-b543-588dc121e4cf",
   "metadata": {},
   "outputs": [],
   "source": []
  },
  {
   "cell_type": "code",
   "execution_count": null,
   "id": "6555bc1d-0a16-490d-b0a4-b02d4d489764",
   "metadata": {},
   "outputs": [],
   "source": []
  },
  {
   "cell_type": "code",
   "execution_count": null,
   "id": "ed2cfda0-e718-4628-ace5-902ee205dfd8",
   "metadata": {},
   "outputs": [],
   "source": []
  },
  {
   "cell_type": "code",
   "execution_count": null,
   "id": "9370f2f3-5d81-4857-b098-7d7dd3fad1d4",
   "metadata": {},
   "outputs": [],
   "source": []
  },
  {
   "cell_type": "code",
   "execution_count": null,
   "id": "645089df-7d41-4585-917a-7b660b2c05fb",
   "metadata": {},
   "outputs": [],
   "source": []
  },
  {
   "cell_type": "code",
   "execution_count": null,
   "id": "96cef45a-3567-4e54-a05b-0bf2439f6760",
   "metadata": {},
   "outputs": [],
   "source": []
  },
  {
   "cell_type": "code",
   "execution_count": null,
   "id": "b5469154-022a-490b-9bb2-07e95a972f78",
   "metadata": {},
   "outputs": [],
   "source": []
  },
  {
   "cell_type": "code",
   "execution_count": null,
   "id": "65e6fe70-91cb-49eb-a3d4-a67c8ec56f59",
   "metadata": {},
   "outputs": [],
   "source": []
  },
  {
   "cell_type": "code",
   "execution_count": null,
   "id": "5dfe1637-0c06-4f2a-b8bf-505aa6b620f5",
   "metadata": {},
   "outputs": [],
   "source": []
  },
  {
   "cell_type": "code",
   "execution_count": null,
   "id": "d1c71abd-1843-4d1c-979e-526194be932f",
   "metadata": {},
   "outputs": [],
   "source": []
  },
  {
   "cell_type": "code",
   "execution_count": null,
   "id": "5415e278-cc70-459e-8307-b861d008eaa7",
   "metadata": {},
   "outputs": [],
   "source": []
  },
  {
   "cell_type": "code",
   "execution_count": null,
   "id": "f2b7ccfa-d178-4b26-b817-0cf8bb7f2fc8",
   "metadata": {},
   "outputs": [],
   "source": []
  },
  {
   "cell_type": "code",
   "execution_count": null,
   "id": "2ecbc27e-1e3a-4aad-8783-58fb4d2d59db",
   "metadata": {},
   "outputs": [],
   "source": []
  },
  {
   "cell_type": "code",
   "execution_count": null,
   "id": "e86ca1cb-9b88-4249-a9f1-4464977121a8",
   "metadata": {},
   "outputs": [],
   "source": []
  },
  {
   "cell_type": "code",
   "execution_count": null,
   "id": "8a720888-162c-43e7-bba7-747b9f99bd5d",
   "metadata": {},
   "outputs": [],
   "source": []
  },
  {
   "cell_type": "code",
   "execution_count": null,
   "id": "4a61a8b7-3bea-43c5-8e1f-73d9a1652d68",
   "metadata": {},
   "outputs": [],
   "source": []
  },
  {
   "cell_type": "code",
   "execution_count": null,
   "id": "296d3f3d-7c1f-497d-8fb2-2e933e119221",
   "metadata": {},
   "outputs": [],
   "source": []
  },
  {
   "cell_type": "code",
   "execution_count": null,
   "id": "6ed6c733-8f77-4a3a-97eb-9f50fd0bd7e5",
   "metadata": {},
   "outputs": [],
   "source": []
  },
  {
   "cell_type": "code",
   "execution_count": null,
   "id": "33c7fc81-9fa8-4d8d-9519-102916828d6f",
   "metadata": {},
   "outputs": [],
   "source": []
  },
  {
   "cell_type": "code",
   "execution_count": null,
   "id": "4b7d3f5b-7f17-4a6b-b326-6ba6088c5d72",
   "metadata": {},
   "outputs": [],
   "source": []
  },
  {
   "cell_type": "code",
   "execution_count": null,
   "id": "321b62a0-4fb3-4c74-bbf2-1b60093ad26c",
   "metadata": {},
   "outputs": [],
   "source": []
  },
  {
   "cell_type": "code",
   "execution_count": null,
   "id": "622e381f-cf18-4824-b194-b3719d14d76d",
   "metadata": {},
   "outputs": [],
   "source": []
  },
  {
   "cell_type": "code",
   "execution_count": null,
   "id": "002b3cdf-43bd-4588-88bb-0b0b019591f2",
   "metadata": {},
   "outputs": [],
   "source": []
  },
  {
   "cell_type": "code",
   "execution_count": null,
   "id": "87f81a88-8fc1-42db-ab70-89ab6ae22404",
   "metadata": {},
   "outputs": [],
   "source": []
  },
  {
   "cell_type": "code",
   "execution_count": null,
   "id": "c84e395f-fb09-4375-a949-d371fbea943d",
   "metadata": {},
   "outputs": [],
   "source": []
  },
  {
   "cell_type": "code",
   "execution_count": null,
   "id": "f0e274b3-c594-400f-96eb-42a819ed894d",
   "metadata": {},
   "outputs": [],
   "source": []
  },
  {
   "cell_type": "code",
   "execution_count": null,
   "id": "657b7d74-c07e-486f-b3aa-271a3562c6aa",
   "metadata": {},
   "outputs": [],
   "source": []
  }
 ],
 "metadata": {
  "kernelspec": {
   "display_name": "Python 3 (ipykernel)",
   "language": "python",
   "name": "python3"
  },
  "language_info": {
   "codemirror_mode": {
    "name": "ipython",
    "version": 3
   },
   "file_extension": ".py",
   "mimetype": "text/x-python",
   "name": "python",
   "nbconvert_exporter": "python",
   "pygments_lexer": "ipython3",
   "version": "3.10.8"
  }
 },
 "nbformat": 4,
 "nbformat_minor": 5
}

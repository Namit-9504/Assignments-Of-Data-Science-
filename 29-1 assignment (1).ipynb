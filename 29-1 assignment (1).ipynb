{
 "cells": [
  {
   "cell_type": "markdown",
   "id": "c8a2917c-0525-49a4-b102-9f5aced51cb8",
   "metadata": {},
   "source": [
    "1.Who developed  python programming language  \n",
    "Ans :-  Guido van Rossum"
   ]
  },
  {
   "cell_type": "markdown",
   "id": "22bc5c59-7963-40c3-aaab-3155daaf2c7b",
   "metadata": {},
   "source": [
    "2.Which type of Programming Python Support \n",
    "Ans:- Python is a multi-paradigm programming language.It supports Object-oriented programming and structured programming."
   ]
  },
  {
   "cell_type": "markdown",
   "id": "f8fdc770-1400-416d-b427-32c4b311b7db",
   "metadata": {},
   "source": [
    "3.Is python is Case sensitivie while dealing with identifiers?\n",
    "Ans:- Yes, Python is a case-sensitive language."
   ]
  },
  {
   "cell_type": "markdown",
   "id": "a7b456af-ee0e-44bc-baa4-79d43532a448",
   "metadata": {},
   "source": [
    "4.What is correct extension of python file\n",
    "Ans:- Extension of Python file is \".py\"."
   ]
  },
  {
   "cell_type": "markdown",
   "id": "73ef5394-a503-4ac1-925b-f1e54eaa0150",
   "metadata": {},
   "source": [
    "5.Is python Code compiled or interpreted?\n",
    "Ans:- Yes,Python code can be compiled or interpreted"
   ]
  },
  {
   "cell_type": "code",
   "execution_count": null,
   "id": "849e39ba-7bba-499f-9ff7-035c31aa1377",
   "metadata": {},
   "outputs": [],
   "source": [
    "6.Name the few blocks of code to define a python language\n",
    "Ans:- \n",
    "name=\"Namit\"\n",
    "if name==\"Namit\":\n",
    "    print(\"Correct\")\n",
    "else:\n",
    "    print(\"incorrect\")\n",
    "print(name)   "
   ]
  },
  {
   "cell_type": "markdown",
   "id": "3738a9fc-80d5-4d7e-9cac-584658bf80d1",
   "metadata": {},
   "source": [
    "7.State a character used to give single line of command in python?\n",
    "Ans:- \"#\""
   ]
  },
  {
   "cell_type": "markdown",
   "id": "83056058-8f84-4e18-861e-c259b8c7c850",
   "metadata": {},
   "source": [
    "8.Mention the function which can help  us to find the version of python that we are currently working?\n",
    "Ans:- The function \"sys.version\" can help us to find the version of python that we are currently working on."
   ]
  },
  {
   "cell_type": "markdown",
   "id": "21a40c3b-f0ca-4296-b8fe-2c6551b0dfaf",
   "metadata": {},
   "source": [
    "9.Python support the creation of an anonymous function at runtime using a construct called?\n",
    "Ans:- Lambda"
   ]
  },
  {
   "cell_type": "markdown",
   "id": "65e2a86d-9ee9-432b-8b70-dff9568706e7",
   "metadata": {},
   "source": [
    "10.What does pip stands for python?\n",
    "Ans:-pip stands for \"preferred installer program\"."
   ]
  },
  {
   "cell_type": "markdown",
   "id": "07a48a1c-f409-4779-a87e-f00b29a2e020",
   "metadata": {},
   "source": [
    "11.Mention a few in built funtions in python?\n",
    "Ans:- print( ) function.\n",
    "type( ) function.\n",
    "input( ) function.\n",
    "abs( ) function.\n",
    "pow( ) function.\n",
    "dir( ) function.\n",
    "sorted( ) function."
   ]
  },
  {
   "cell_type": "markdown",
   "id": "23ec9d53-5e59-40d5-b780-fcd49e539754",
   "metadata": {},
   "source": [
    "12.What is maximum possible length of an identifier in python?\n",
    "Ans:- An identifier can have a maximum length of 79 characters in Python."
   ]
  },
  {
   "cell_type": "markdown",
   "id": "2e2d7c02-90ad-4469-b817-60761dc389d0",
   "metadata": {},
   "source": [
    "13.what are the benefits of using python?\n",
    "Ans:-Dynamically Typed\n",
    "Extensive library\n",
    "Interpreted Language\n",
    "Productivity has Increased\n",
    "Free and Open-Source"
   ]
  },
  {
   "cell_type": "markdown",
   "id": "d5c751a3-3035-4bdb-bd0b-77a9e6ef8e7b",
   "metadata": {},
   "source": [
    "14.How is memory managed in python?\n",
    "Ans:-Memory management in Python involves a private heap containing all Python objects and data structures. The management of this private heap is ensured internally by the Python memory manager."
   ]
  },
  {
   "cell_type": "markdown",
   "id": "690e7b9b-eb4a-48cb-969b-7fe5ca38b92b",
   "metadata": {},
   "source": [
    "15.How to install python in windows and setup path variables?\n",
    "Ans:- 1.Right-clicking This PC and going to Properties.\n",
    "2.Clicking on the Advanced system settings in the menu on the left.\n",
    "3.Clicking on the Environment Variables button on the bottom right.\n",
    "4.In the System variables section, selecting the Path variable and clicking on Edit. The next screen will show all the     directories that are currently a part of the PATH variable.\n",
    "5.Clicking on New and entering Python’s install directory."
   ]
  },
  {
   "cell_type": "markdown",
   "id": "ff991fe0-9ea7-4fb7-b46d-01eac4d5e725",
   "metadata": {},
   "source": [
    "16.Is indentation requirer in python?\n",
    "Ans:- Yes"
   ]
  }
 ],
 "metadata": {
  "kernelspec": {
   "display_name": "Python 3 (ipykernel)",
   "language": "python",
   "name": "python3"
  },
  "language_info": {
   "codemirror_mode": {
    "name": "ipython",
    "version": 3
   },
   "file_extension": ".py",
   "mimetype": "text/x-python",
   "name": "python",
   "nbconvert_exporter": "python",
   "pygments_lexer": "ipython3",
   "version": "3.10.8"
  }
 },
 "nbformat": 4,
 "nbformat_minor": 5
}

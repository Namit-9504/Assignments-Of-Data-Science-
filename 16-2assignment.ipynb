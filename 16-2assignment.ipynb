{
 "cells": [
  {
   "cell_type": "markdown",
   "id": "ebdf779a-368b-4b91-bc14-92e2a96331de",
   "metadata": {},
   "source": [
    "### Q1. What is a database? Differentiate between SQL and NoSQL databases."
   ]
  },
  {
   "cell_type": "markdown",
   "id": "91c0bda6-796f-475e-bd92-5206eb788bca",
   "metadata": {},
   "source": [
    "A1. A database is a collection of organized data that can be easily accessed, managed, and updated. Databases are used in many applications, including websites, mobile apps, and enterprise systems, to store and retrieve data.\n",
    "\n",
    "SQL and NoSQL databases are two different types of databases. SQL (Structured Query Language) databases are relational databases that store data in tables with rows and columns. They use SQL to interact with the data and are based on the ACID (Atomicity, Consistency, Isolation, and Durability) properties, which ensure data consistency and reliability.\n",
    "\n",
    "On the other hand, NoSQL (Not Only SQL) databases are non-relational databases that store data in a variety of formats, including key-value pairs, document-based, graph-based, or column-family stores. They do not use SQL to interact with the data and are often designed to scale horizontally and handle large volumes of unstructured data. NoSQL databases are based on the BASE (Basically Available, Soft state, Eventually consistent) properties, which prioritize availability and partition tolerance over consistency.\n",
    "\n",
    "Some key differences between SQL and NoSQL databases include:\n",
    "\n",
    "Data structure: SQL databases use tables with predefined columns and rows, while NoSQL databases can use a variety of data structures depending on the type of database.\n",
    "\n",
    "Querying language: SQL databases use SQL to interact with the data, while NoSQL databases use their own querying languages or APIs.\n",
    "\n",
    "Scalability: NoSQL databases are often designed to scale horizontally, meaning they can handle large volumes of data by adding more servers to the database cluster, while SQL databases typically scale vertically by adding more processing power to a single server.\n",
    "\n",
    "Consistency: SQL databases prioritize data consistency and use transactions to ensure that data is always in a valid state, while NoSQL databases prioritize availability and may sacrifice consistency for performance.\n",
    "\n",
    "Both SQL and NoSQL databases have their own strengths and weaknesses, and the choice of database type depends on the specific requirements of the application."
   ]
  },
  {
   "cell_type": "markdown",
   "id": "bf2720e8-a2bf-4f35-b32c-0c1afb387088",
   "metadata": {},
   "source": [
    "### Q2. What is DDL? Explain why CREATE, DROP, ALTER, and TRUNCATE are used with an example."
   ]
  },
  {
   "cell_type": "markdown",
   "id": "a1002b69-3344-4ded-b956-ab34926ba3f8",
   "metadata": {},
   "source": [
    "A2. DDL stands for Data Definition Language, which is a set of SQL statements used to define and manage the structure of database objects such as tables, indexes, and constraints.\n",
    "\n",
    "The following are some of the commonly used DDL statements:\n",
    "\n",
    "CREATE: The CREATE statement is used to create a new database object such as a table, view, index, or constraint. For example, to create a new table named \"customers\" with columns for \"id\", \"name\", and \"email\", you can use the following SQL code:\n",
    "\n",
    "SQL\n"
   ]
  },
  {
   "cell_type": "code",
   "execution_count": null,
   "id": "343bfba6-a590-4516-af5a-21e3a11ce6dc",
   "metadata": {},
   "outputs": [],
   "source": [
    "CREATE TABLE customers (\n",
    "   id INT PRIMARY KEY,\n",
    "   name VARCHAR(50),\n",
    "   email VARCHAR(50)\n",
    ");\n"
   ]
  },
  {
   "cell_type": "markdown",
   "id": "ed149fa1-d7c2-497d-9454-8dc21de0eb19",
   "metadata": {},
   "source": [
    "DROP: The DROP statement is used to delete an existing database object such as a table, view, index, or constraint. For example, to drop the \"customers\" table that we created earlier, you can use the following SQL code:"
   ]
  },
  {
   "cell_type": "code",
   "execution_count": null,
   "id": "0da75f09-bd5c-4674-ad73-4020cab09814",
   "metadata": {},
   "outputs": [],
   "source": [
    "DROP TABLE customers;\n"
   ]
  },
  {
   "cell_type": "markdown",
   "id": "da3bd225-dd85-40d6-8d7c-98f43951bd85",
   "metadata": {},
   "source": [
    "ALTER: The ALTER statement is used to modify an existing database object such as a table, view, index, or constraint. For example, to add a new column named \"phone\" to the \"customers\" table that we created earlier, you can use the following SQL code"
   ]
  },
  {
   "cell_type": "code",
   "execution_count": null,
   "id": "f979d0fa-5968-40d9-9ce8-5e2092c08464",
   "metadata": {},
   "outputs": [],
   "source": [
    "ALTER TABLE customers ADD COLUMN phone VARCHAR(20);\n"
   ]
  },
  {
   "cell_type": "markdown",
   "id": "619448d5-128a-4078-9ab6-a7224f98f810",
   "metadata": {},
   "source": [
    "TRUNCATE: The TRUNCATE statement is used to delete all the data from a table, but not the table itself. This statement is useful when you want to delete all the records in a table without deleting the table structure. For example, to delete all the records in the \"customers\" table that we created earlier, you can use the following SQL code:"
   ]
  },
  {
   "cell_type": "code",
   "execution_count": null,
   "id": "ee4550e2-1586-4513-935c-c2a5915f5ce5",
   "metadata": {},
   "outputs": [],
   "source": [
    "TRUNCATE TABLE customers;\n"
   ]
  },
  {
   "cell_type": "markdown",
   "id": "bf7d9d75-08fc-4190-b291-5fe135f7fc7b",
   "metadata": {},
   "source": [
    "In summary, DDL statements are used to define, modify, and delete database objects such as tables, views, indexes, and constraints. The CREATE statement is used to create new objects, the DROP statement is used to delete existing objects, the ALTER statement is used to modify existing objects, and the TRUNCATE statement is used to delete all the data from a table."
   ]
  },
  {
   "cell_type": "markdown",
   "id": "468be1cd-70bb-4a63-80f4-c9c9535a0124",
   "metadata": {},
   "source": [
    "### Q3. What is DML? Explain INSERT, UPDATE, and DELETE with an example."
   ]
  },
  {
   "cell_type": "markdown",
   "id": "7706ffad-5130-40f3-983f-f51c88180755",
   "metadata": {},
   "source": [
    "A3. DML stands for Data Manipulation Language, which is a set of SQL statements used to manipulate data stored in the database. The following are some of the commonly used DML statements:\n",
    "\n",
    "INSERT: The INSERT statement is used to add new data to a table. For example, to add a new record to the \"customers\" table that we created earlier, you can use the following SQL code:"
   ]
  },
  {
   "cell_type": "code",
   "execution_count": null,
   "id": "8ead9d5f-206c-4c0a-b502-7a9fc111b5be",
   "metadata": {},
   "outputs": [],
   "source": [
    "INSERT INTO customers (id, name, email) VALUES (1, 'John Doe', 'johndoe@example.com');\n"
   ]
  },
  {
   "cell_type": "markdown",
   "id": "459ea5d7-8490-4fc8-a938-d534889bb801",
   "metadata": {},
   "source": [
    "This statement adds a new record with an ID of 1, a name of 'John Doe', and an email of 'johndoe@example.com' to the \"customers\" table.\n",
    "\n",
    "UPDATE: The UPDATE statement is used to modify existing data in a table. For example, to update the email address of the customer with an ID of 1 to 'john.doe@example.com', you can use the following SQL code:"
   ]
  },
  {
   "cell_type": "code",
   "execution_count": null,
   "id": "a4790c1f-cdcf-411f-98b3-d925950dc0f5",
   "metadata": {},
   "outputs": [],
   "source": [
    "UPDATE customers SET email = 'john.doe@example.com' WHERE id = 1;\n"
   ]
  },
  {
   "cell_type": "markdown",
   "id": "5aa5fd36-7087-4b2f-a8da-823836c5e71c",
   "metadata": {},
   "source": [
    "This statement updates the email address of the customer with an ID of 1 to 'john.doe@example.com'.\n",
    "\n",
    "DELETE: The DELETE statement is used to remove data from a table. For example, to delete the record of the customer with an ID of 1 from the \"customers\" table, you can use the following SQL code:"
   ]
  },
  {
   "cell_type": "code",
   "execution_count": null,
   "id": "37c4f136-a789-4390-aef6-9ad3475cd469",
   "metadata": {},
   "outputs": [],
   "source": [
    "DELETE FROM customers WHERE id = 1;\n"
   ]
  },
  {
   "cell_type": "markdown",
   "id": "b955120f-f5ba-4d16-a347-cbd775e0a875",
   "metadata": {},
   "source": [
    "This statement removes the record of the customer with an ID of 1 from the \"customers\" table.\n",
    "\n",
    "In summary, DML statements are used to manipulate data stored in the database. The INSERT statement is used to add new data to a table, the UPDATE statement is used to modify existing data in a table, and the DELETE statement is used to remove data from a table."
   ]
  },
  {
   "cell_type": "markdown",
   "id": "e316b942-a230-4aa1-9597-19d05b3868ff",
   "metadata": {},
   "source": [
    "### Q4. What is DQL? Explain SELECT with an example."
   ]
  },
  {
   "cell_type": "markdown",
   "id": "849aa27f-2678-415e-89f9-3038e4d709df",
   "metadata": {},
   "source": [
    "A4. DQL stands for Data Query Language, which is a subset of SQL used to retrieve data from a database. The SELECT statement is the most commonly used DQL statement and is used to query data from one or more tables.\n",
    "\n",
    "The SELECT statement has the following basic syntax:"
   ]
  },
  {
   "cell_type": "code",
   "execution_count": null,
   "id": "3991aa67-cddd-4a14-9bfd-8609f99d89a7",
   "metadata": {},
   "outputs": [],
   "source": [
    "SELECT column1, column2, ... FROM table1 WHERE condition;\n"
   ]
  },
  {
   "cell_type": "markdown",
   "id": "d322d35e-1b4f-4ead-aec5-629c61491465",
   "metadata": {},
   "source": [
    "Where:\n",
    "\n",
    "column1, column2, ... : the columns of data you want to retrieve.\n",
    "table1 : the table from which you want to retrieve the data.\n",
    "condition : an optional condition that filters the data to be retrieved.\n",
    "For example, consider a table named \"employees\" with columns for \"id\", \"name\", \"age\", and \"salary\". To retrieve the names and ages of all employees with a salary greater than or equal to 50000, you can use the following SQL code:"
   ]
  },
  {
   "cell_type": "code",
   "execution_count": null,
   "id": "891b15c3-3f1c-4c79-bebe-4d7917408235",
   "metadata": {},
   "outputs": [],
   "source": [
    "SELECT name, age FROM employees WHERE salary >= 50000;\n"
   ]
  },
  {
   "cell_type": "markdown",
   "id": "19ed3581-05c6-44cb-a936-93adba54446e",
   "metadata": {},
   "source": [
    "This statement retrieves the \"name\" and \"age\" columns from the \"employees\" table where the \"salary\" is greater than or equal to 50000.\n",
    "\n",
    "You can also use functions and aggregate functions in the SELECT statement to perform calculations or summarize data. For example, to calculate the average salary of all employees in the \"employees\" table, you can use the following SQL code:"
   ]
  },
  {
   "cell_type": "code",
   "execution_count": null,
   "id": "7a2b124e-1399-4be9-8704-66bd38eda34e",
   "metadata": {},
   "outputs": [],
   "source": [
    "SELECT AVG(salary) FROM employees;\n"
   ]
  },
  {
   "cell_type": "markdown",
   "id": "f547e539-c2e2-4510-b79b-93c6cfa7c4fb",
   "metadata": {},
   "source": [
    "This statement calculates the average salary of all employees in the \"employees\" table.\n",
    "\n",
    "In summary, DQL statements are used to retrieve data from a database, and the SELECT statement is used to query data from one or more tables."
   ]
  },
  {
   "cell_type": "markdown",
   "id": "7dec3e32-41a1-4d38-ad32-eb7751aafc46",
   "metadata": {},
   "source": [
    "## Q5. Explain Primary Key and Foreign Key."
   ]
  },
  {
   "cell_type": "markdown",
   "id": "eb6fefa7-0576-4384-b6c2-93fbb548bd62",
   "metadata": {},
   "source": [
    "Primary Key:\n",
    "\n",
    "A primary key is a column or a set of columns in a table that uniquely identifies each row in the table. It is a unique identifier for a record in the table and ensures that each row in the table is unique. A primary key cannot contain null values and must be unique for each record.\n",
    "\n",
    "For example, consider a table named \"customers\" that has columns for \"id\", \"name\", \"email\", and \"phone\". In this case, \"id\" can be used as a primary key because it uniquely identifies each customer record in the table.\n",
    "\n",
    "Foreign Key:\n",
    "\n",
    "A foreign key is a column or a set of columns in a table that refers to the primary key of another table. It is used to create a relationship between two tables and ensure data integrity by enforcing referential integrity constraints.\n",
    "\n",
    "For example, consider two tables named \"orders\" and \"customers\". The \"orders\" table has columns for \"id\", \"customer_id\", \"product\", and \"price\". The \"customer_id\" column in the \"orders\" table can be used as a foreign key to refer to the \"id\" column in the \"customers\" table, which is the primary key of the \"customers\" table. This creates a relationship between the two tables, where each order belongs to a customer in the \"customers\" table.\n",
    "\n",
    "In summary, a primary key is a unique identifier for a record in a table, while a foreign key is a column or set of columns in a table that refers to the primary key of another table to create a relationship between the two tables."
   ]
  },
  {
   "cell_type": "markdown",
   "id": "0082a234-33e7-4d78-afdf-daf22c902d7c",
   "metadata": {},
   "source": [
    "## Q6. Write a python code to connect MySQL to python. Explain the cursor() and execute() method."
   ]
  },
  {
   "cell_type": "code",
   "execution_count": 3,
   "id": "76482c0d-ec8f-4e9a-9161-2ad4f224f3d1",
   "metadata": {},
   "outputs": [
    {
     "ename": "ModuleNotFoundError",
     "evalue": "No module named 'mysql'",
     "output_type": "error",
     "traceback": [
      "\u001b[0;31m---------------------------------------------------------------------------\u001b[0m",
      "\u001b[0;31mModuleNotFoundError\u001b[0m                       Traceback (most recent call last)",
      "Cell \u001b[0;32mIn[3], line 1\u001b[0m\n\u001b[0;32m----> 1\u001b[0m \u001b[38;5;28;01mimport\u001b[39;00m \u001b[38;5;21;01mmysql\u001b[39;00m\u001b[38;5;21;01m.\u001b[39;00m\u001b[38;5;21;01mconnector\u001b[39;00m\n\u001b[1;32m      3\u001b[0m \u001b[38;5;66;03m# establish a connection\u001b[39;00m\n\u001b[1;32m      4\u001b[0m mydb \u001b[38;5;241m=\u001b[39m mysql\u001b[38;5;241m.\u001b[39mconnector\u001b[38;5;241m.\u001b[39mconnect(\n\u001b[1;32m      5\u001b[0m   host\u001b[38;5;241m=\u001b[39m\u001b[38;5;124m\"\u001b[39m\u001b[38;5;124mlocalhost\u001b[39m\u001b[38;5;124m\"\u001b[39m,\n\u001b[1;32m      6\u001b[0m   user\u001b[38;5;241m=\u001b[39m\u001b[38;5;124m\"\u001b[39m\u001b[38;5;124myourusername\u001b[39m\u001b[38;5;124m\"\u001b[39m,\n\u001b[1;32m      7\u001b[0m   password\u001b[38;5;241m=\u001b[39m\u001b[38;5;124m\"\u001b[39m\u001b[38;5;124myourpassword\u001b[39m\u001b[38;5;124m\"\u001b[39m,\n\u001b[1;32m      8\u001b[0m   database\u001b[38;5;241m=\u001b[39m\u001b[38;5;124m\"\u001b[39m\u001b[38;5;124myourdatabase\u001b[39m\u001b[38;5;124m\"\u001b[39m\n\u001b[1;32m      9\u001b[0m )\n",
      "\u001b[0;31mModuleNotFoundError\u001b[0m: No module named 'mysql'"
     ]
    }
   ],
   "source": [
    "import mysql.connector\n",
    "\n",
    "# establish a connection\n",
    "mydb = mysql.connector.connect(\n",
    "  host=\"localhost\",\n",
    "  user=\"yourusername\",\n",
    "  password=\"yourpassword\",\n",
    "  database=\"yourdatabase\"\n",
    ")\n",
    "\n",
    "# create a cursor object\n",
    "mycursor = mydb.cursor()\n",
    "\n",
    "# execute a SQL query\n",
    "mycursor.execute(\"SELECT * FROM mytable\")\n",
    "\n",
    "# fetch the results\n",
    "results = mycursor.fetchall()\n",
    "\n",
    "# print the results\n",
    "for row in results:\n",
    "  print(row)\n",
    "  \n",
    "# close the connection\n",
    "mydb.close()\n"
   ]
  },
  {
   "cell_type": "markdown",
   "id": "e300a537-b2fc-4530-b42d-050adb451444",
   "metadata": {},
   "source": [
    "Explanation of cursor() and execute() methods:\n",
    "\n",
    "cursor() method: This method creates a cursor object that allows you to execute SQL queries on the database. It is called on the database connection object and returns a cursor object.\n",
    "\n",
    "execute() method: This method is used to execute an SQL query on the database using the cursor object. It takes an SQL query as a parameter and executes it. After the query is executed, you can retrieve the results using various methods like fetchone(), fetchall(), or fetchmany().\n",
    "\n",
    "In the above code, cursor() method is used to create a cursor object called mycursor, which is used to execute SQL queries on the database. The execute() method is then used to execute an SQL query on the database, which retrieves all the rows from a table named \"mytable\". Finally, the fetchall() method is used to retrieve all the results from the query execution, which are then printed using a for loop.\n",
    "\n",
    "Note: Make sure to replace the placeholders with the actual values for the host, user, password, and database."
   ]
  },
  {
   "cell_type": "markdown",
   "id": "9b60a69d-5e95-45e5-90ac-0e1575cbbdd7",
   "metadata": {},
   "source": [
    "## Q7. Give the order of execution of SQL clauses in an SQL query."
   ]
  },
  {
   "cell_type": "markdown",
   "id": "ff3fb858-fc23-4673-8ed4-cd8785592da3",
   "metadata": {},
   "source": [
    "In an SQL query, the clauses are executed in the following order:\n",
    "\n",
    "FROM: Specifies the table or tables from which to retrieve the data.\n",
    "\n",
    "JOIN: Joins multiple tables based on a related column between them.\n",
    "\n",
    "WHERE: Filters the rows based on a specified condition.\n",
    "\n",
    "GROUP BY: Groups the rows based on one or more columns.\n",
    "\n",
    "HAVING: Filters the groups based on a specified condition.\n",
    "\n",
    "SELECT: Retrieves the specified columns from the selected table(s).\n",
    "\n",
    "DISTINCT: Removes duplicate rows from the result set.\n",
    "\n",
    "ORDER BY: Sorts the result set based on one or more columns.\n",
    "\n",
    "LIMIT: Limits the number of rows returned by the query.\n",
    "\n",
    "It is important to note that not all clauses are required in an SQL query, and some clauses can be used in a different order depending on the specific requirements of the query. However, the order mentioned above is the most common and standard order of execution of SQL clauses in a query."
   ]
  },
  {
   "cell_type": "code",
   "execution_count": null,
   "id": "a6d21b87-9689-4fd3-839b-41adb7c66a1e",
   "metadata": {},
   "outputs": [],
   "source": []
  },
  {
   "cell_type": "code",
   "execution_count": null,
   "id": "8b1feada-181d-4d1a-950e-c64a72f593cd",
   "metadata": {},
   "outputs": [],
   "source": []
  },
  {
   "cell_type": "code",
   "execution_count": null,
   "id": "6d911ed4-ea07-4cf6-8492-298ee6600435",
   "metadata": {},
   "outputs": [],
   "source": []
  },
  {
   "cell_type": "code",
   "execution_count": null,
   "id": "57aa0a1e-8773-4ced-84a4-39b647eef099",
   "metadata": {},
   "outputs": [],
   "source": []
  },
  {
   "cell_type": "code",
   "execution_count": null,
   "id": "1a79e650-18e1-4371-9c0c-4a59a0676033",
   "metadata": {},
   "outputs": [],
   "source": []
  },
  {
   "cell_type": "code",
   "execution_count": null,
   "id": "eb2a6beb-c317-4fe3-b4c8-682311794311",
   "metadata": {},
   "outputs": [],
   "source": []
  },
  {
   "cell_type": "code",
   "execution_count": null,
   "id": "735f4252-d64a-43f3-b9cc-e5093dd3269b",
   "metadata": {},
   "outputs": [],
   "source": []
  },
  {
   "cell_type": "code",
   "execution_count": null,
   "id": "9921114a-65f1-4f0b-8326-da6a63a0bd34",
   "metadata": {},
   "outputs": [],
   "source": []
  },
  {
   "cell_type": "code",
   "execution_count": null,
   "id": "4f2d56f4-a2b5-48b9-a433-4f1e46cbc3bc",
   "metadata": {},
   "outputs": [],
   "source": []
  },
  {
   "cell_type": "code",
   "execution_count": null,
   "id": "cdee1c02-fa64-41ce-b2ca-10d9af056691",
   "metadata": {},
   "outputs": [],
   "source": []
  },
  {
   "cell_type": "code",
   "execution_count": null,
   "id": "4ffc8053-8d90-4b33-92f1-b5d0f5d954f5",
   "metadata": {},
   "outputs": [],
   "source": []
  },
  {
   "cell_type": "code",
   "execution_count": null,
   "id": "ee0108ba-0e08-42fe-bed9-f8dad250087b",
   "metadata": {},
   "outputs": [],
   "source": []
  },
  {
   "cell_type": "code",
   "execution_count": null,
   "id": "3d2ede68-9193-413a-9de1-73730ce13518",
   "metadata": {},
   "outputs": [],
   "source": []
  },
  {
   "cell_type": "code",
   "execution_count": null,
   "id": "69b6a274-c51b-4d53-b2c8-c2657b52c48a",
   "metadata": {},
   "outputs": [],
   "source": []
  },
  {
   "cell_type": "code",
   "execution_count": null,
   "id": "670d9ad9-0650-435d-b92d-dba26ec2240a",
   "metadata": {},
   "outputs": [],
   "source": []
  },
  {
   "cell_type": "code",
   "execution_count": null,
   "id": "27944301-92a5-4bb6-9ab7-5c4ec599ffa6",
   "metadata": {},
   "outputs": [],
   "source": []
  },
  {
   "cell_type": "code",
   "execution_count": null,
   "id": "0ee1dd88-d12a-47fd-b5eb-5d5dad6b1181",
   "metadata": {},
   "outputs": [],
   "source": []
  },
  {
   "cell_type": "code",
   "execution_count": null,
   "id": "ceb5a3d1-9aa5-4464-9759-58e4b00c7902",
   "metadata": {},
   "outputs": [],
   "source": []
  },
  {
   "cell_type": "code",
   "execution_count": null,
   "id": "e871182b-e385-4570-9cbf-578dcbf00a72",
   "metadata": {},
   "outputs": [],
   "source": []
  },
  {
   "cell_type": "code",
   "execution_count": null,
   "id": "6e1ab346-e8b2-4d6f-aea6-183180319090",
   "metadata": {},
   "outputs": [],
   "source": []
  },
  {
   "cell_type": "code",
   "execution_count": null,
   "id": "246e99a6-2e7d-47e1-9ed2-ee04dbe420df",
   "metadata": {},
   "outputs": [],
   "source": []
  },
  {
   "cell_type": "code",
   "execution_count": null,
   "id": "21b03ec0-5436-4f66-8e87-0ae428023fa3",
   "metadata": {},
   "outputs": [],
   "source": []
  },
  {
   "cell_type": "code",
   "execution_count": null,
   "id": "966c9cc3-1e37-47a8-9dc7-97e5a34e847a",
   "metadata": {},
   "outputs": [],
   "source": []
  },
  {
   "cell_type": "code",
   "execution_count": null,
   "id": "a9b3bfa3-4302-44e3-848c-7db0b1b3fcc3",
   "metadata": {},
   "outputs": [],
   "source": []
  },
  {
   "cell_type": "code",
   "execution_count": null,
   "id": "a3488937-a978-44ed-9af8-2fcbbe90fccf",
   "metadata": {},
   "outputs": [],
   "source": []
  },
  {
   "cell_type": "code",
   "execution_count": null,
   "id": "48dcd02f-7dae-4edc-88a7-1f87f2290fc4",
   "metadata": {},
   "outputs": [],
   "source": []
  },
  {
   "cell_type": "code",
   "execution_count": null,
   "id": "c4b04ff7-d5bd-4eea-9c5c-1fbd95f9dbe2",
   "metadata": {},
   "outputs": [],
   "source": []
  },
  {
   "cell_type": "code",
   "execution_count": null,
   "id": "ddc5e75d-8597-4941-8ae4-073dc955184b",
   "metadata": {},
   "outputs": [],
   "source": []
  },
  {
   "cell_type": "code",
   "execution_count": null,
   "id": "6f657c5e-0f28-46b7-8602-7d5dff261768",
   "metadata": {},
   "outputs": [],
   "source": []
  },
  {
   "cell_type": "code",
   "execution_count": null,
   "id": "7e2b84bf-3d0e-4e31-8d8f-0d0293d878cf",
   "metadata": {},
   "outputs": [],
   "source": []
  },
  {
   "cell_type": "code",
   "execution_count": null,
   "id": "121ae8fd-45d7-49a7-9ac3-ca86c387a72b",
   "metadata": {},
   "outputs": [],
   "source": []
  },
  {
   "cell_type": "code",
   "execution_count": null,
   "id": "f7f43de3-9062-41d4-a6a9-c115fd2fd7cf",
   "metadata": {},
   "outputs": [],
   "source": []
  }
 ],
 "metadata": {
  "kernelspec": {
   "display_name": "Python 3 (ipykernel)",
   "language": "python",
   "name": "python3"
  },
  "language_info": {
   "codemirror_mode": {
    "name": "ipython",
    "version": 3
   },
   "file_extension": ".py",
   "mimetype": "text/x-python",
   "name": "python",
   "nbconvert_exporter": "python",
   "pygments_lexer": "ipython3",
   "version": "3.10.8"
  }
 },
 "nbformat": 4,
 "nbformat_minor": 5
}

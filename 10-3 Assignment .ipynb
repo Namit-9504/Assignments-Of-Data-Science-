{
 "cells": [
  {
   "cell_type": "markdown",
   "id": "2c1ef9c4-fc8f-4e0f-a525-01d0288152ad",
   "metadata": {},
   "source": [
    "## Q1: What is Estimation Statistics? Explain point estimate and interval estimate."
   ]
  },
  {
   "cell_type": "markdown",
   "id": "957d1f39-a42b-42a4-999a-52a9769e2f49",
   "metadata": {},
   "source": [
    "Estimation statistics is a branch of inferential statistics that involves using sample data to make estimates or predictions about a population parameter (a numerical characteristic of the entire population).\n",
    "\n",
    "Point estimate refers to a single value that is used to estimate a population parameter. For example, the sample mean is often used as a point estimate of the population mean. Point estimates can be calculated for any population parameter of interest, such as the population proportion or the population variance.\n",
    "\n",
    "Interval estimate, on the other hand, is a range of values within which the population parameter is likely to lie. It is based on the sample data and is associated with a certain level of confidence or probability. For example, a 95% confidence interval for the population mean is a range of values that is expected to contain the true population mean with 95% confidence.\n",
    "\n",
    "In general, interval estimates are more informative than point estimates because they provide a range of plausible values for the population parameter, rather than a single value. However, interval estimates are also more complicated to calculate and interpret than point estimates."
   ]
  },
  {
   "cell_type": "markdown",
   "id": "a50a7b60-7325-4482-bb20-513d8567e358",
   "metadata": {},
   "source": [
    "## Q2. Write a Python function to estimate the population mean using a sample mean and standard deviation."
   ]
  },
  {
   "cell_type": "code",
   "execution_count": 1,
   "id": "0b3b0eb8-2299-4199-ab87-81d47b66fbc3",
   "metadata": {},
   "outputs": [],
   "source": [
    "def estimate_pop_mean(sample_mean, sample_std, sample_size):\n",
    "    import math\n",
    "    # Calculate the standard error of the mean\n",
    "    std_error = sample_std / math.sqrt(sample_size)\n",
    "    # Calculate the margin of error (using a 95% confidence interval)\n",
    "    margin_error = 1.96 * std_error\n",
    "    # Calculate the lower and upper bounds of the confidence interval\n",
    "    lower_bound = sample_mean - margin_error\n",
    "    upper_bound = sample_mean + margin_error\n",
    "    # Return the estimated population mean and confidence interval\n",
    "    return (sample_mean, (lower_bound, upper_bound))\n"
   ]
  },
  {
   "cell_type": "markdown",
   "id": "391ea2a4-1a2a-4d73-8316-2cb23ddda310",
   "metadata": {},
   "source": [
    "## Q3: What is Hypothesis testing? Why is it used? State the importance of Hypothesis testing."
   ]
  },
  {
   "cell_type": "markdown",
   "id": "21bb3675-42f5-44ba-942f-b5920a0710db",
   "metadata": {},
   "source": [
    "Hypothesis testing is a statistical method used to test whether a claim or hypothesis about a population parameter is supported by the evidence provided by a sample of data. The process typically involves formulating a null hypothesis (the default assumption that there is no effect or difference) and an alternative hypothesis (the hypothesis that is being tested), and using a statistical test to determine the probability of obtaining the observed data if the null hypothesis were true.\n",
    "\n",
    "Hypothesis testing is used in order to make inferences about a population based on a sample of data. It is used to evaluate the strength of evidence for or against a particular claim or hypothesis, and to make decisions about whether to accept or reject the null hypothesis.\n",
    "\n",
    "The importance of hypothesis testing lies in its ability to help us make informed decisions and draw conclusions based on data. By using statistical methods to evaluate the evidence for or against a hypothesis, we can avoid making decisions based on subjective opinions or incomplete information. Hypothesis testing provides a rigorous and objective framework for evaluating evidence and making decisions based on that evidence.\n",
    "\n",
    "In addition, hypothesis testing is an essential tool in scientific research, as it allows researchers to test their hypotheses and draw conclusions about the underlying population from which their sample was drawn. It also helps ensure that scientific claims are based on empirical evidence, rather than on speculation or intuition."
   ]
  },
  {
   "cell_type": "markdown",
   "id": "8fd2a752-2c02-4e53-b29b-2117dac3be0f",
   "metadata": {},
   "source": [
    "## Q4. Create a hypothesis that states whether the average weight of male college students is greater than the average weight of female college students."
   ]
  },
  {
   "cell_type": "markdown",
   "id": "765b1f5d-96a3-46c5-8976-3d4d637f0052",
   "metadata": {},
   "source": [
    "Null Hypothesis: The average weight of male college students is equal to or less than the average weight of female college students.\n",
    "\n",
    "Alternative Hypothesis: The average weight of male college students is greater than the average weight of female college students.\n",
    "\n",
    "Symbolically:\n",
    "\n",
    "H0: µ_male ≤ µ_female\n",
    "\n",
    "Ha: µ_male > µ_female\n",
    "\n",
    "where µ_male represents the population mean weight of male college students, and µ_female represents the population mean weight of female college students.\n",
    "\n",
    "To test this hypothesis, we would collect a random sample of male and female college students, record their weights, and use a statistical test (such as a t-test) to determine whether the difference between the sample means is statistically significant."
   ]
  },
  {
   "cell_type": "markdown",
   "id": "6c5a4881-4927-44ef-843d-6b582d81e4c4",
   "metadata": {},
   "source": [
    "## Q5. Write a Python script to conduct a hypothesis test on the difference between two population means, given a sample from each population."
   ]
  },
  {
   "cell_type": "code",
   "execution_count": 5,
   "id": "d1d881f1-79a4-4dc5-bed3-adf5d395422c",
   "metadata": {},
   "outputs": [
    {
     "name": "stdout",
     "output_type": "stream",
     "text": [
      "Reject the null hypothesis. There is evidence to suggest that the average weight of male college students is greater than the average weight of female college students.\n"
     ]
    }
   ],
   "source": [
    "import numpy as np\n",
    "from scipy.stats import ttest_ind\n",
    "\n",
    "# Define the null and alternative hypotheses\n",
    "# In this example, we will test whether the average weight of male college students is greater than the average weight of female college students\n",
    "# H0: µ_male ≤ µ_female\n",
    "# Ha: µ_male > µ_female\n",
    "\n",
    "# Set the significance level\n",
    "alpha = 0.05\n",
    "\n",
    "# Generate two random samples of weights\n",
    "sample_male = np.random.normal(175, 10, size=50) # Sample of 50 male college students with mean weight of 175 lbs and standard deviation of 10 lbs\n",
    "sample_female = np.random.normal(150, 8, size=50) # Sample of 50 female college students with mean weight of 150 lbs and standard deviation of 8 lbs\n",
    "\n",
    "# Conduct a two-sample t-test\n",
    "t_stat, p_val = ttest_ind(sample_male, sample_female, equal_var=False)\n",
    "\n",
    "# Check if the p-value is less than the significance level\n",
    "if p_val < alpha:\n",
    "    print(\"Reject the null hypothesis. There is evidence to suggest that the average weight of male college students is greater than the average weight of female college students.\")\n",
    "else:\n",
    "    print(\"Fail to reject the null hypothesis. There is insufficient evidence to suggest that the average weight of male college students is greater than the average weight of female college students.\")\n"
   ]
  },
  {
   "cell_type": "markdown",
   "id": "5c011199-1ffc-4ac6-a308-3163533886f1",
   "metadata": {},
   "source": [
    "## Q6: What is a null and alternative hypothesis? Give some examples."
   ]
  },
  {
   "cell_type": "markdown",
   "id": "5c799c59-29cd-4233-93d9-2bd104648c9f",
   "metadata": {},
   "source": [
    "In statistical hypothesis testing, the null hypothesis (H0) is a statement that assumes there is no significant difference or effect between the populations or variables being compared. The alternative hypothesis (Ha) is a statement that contradicts the null hypothesis and assumes that there is a significant difference or effect.\n",
    "\n",
    "Some examples of null and alternative hypotheses are:\n",
    "\n",
    "1. Null hypothesis: The average income of men and women in a particular city is equal. Alternative hypothesis: The average income of men and women in a particular city is not equal.\n",
    "\n",
    "2. Null hypothesis: The mean weight of a particular species of bird is 50 grams. Alternative hypothesis: The mean weight of a particular species of bird is not 50 grams.\n",
    "\n",
    "3. Null hypothesis: A new drug has no effect on the symptoms of a disease. Alternative hypothesis: A new drug has a significant effect on the symptoms of a disease.\n",
    "\n",
    "4. Null hypothesis: The mean height of students in a particular school is less than or equal to 5 feet. Alternative hypothesis: The mean height of students in a particular school is greater than 5 feet.\n",
    "\n",
    "5. Null hypothesis: The proportion of people who prefer brand A over brand B is 50%. Alternative hypothesis: The proportion of people who prefer brand A over brand B is not 50%.\n",
    "\n",
    "In each of these examples, the null hypothesis assumes that there is no significant difference or effect between the populations or variables being compared, while the alternative hypothesis contradicts this assumption and assumes that there is a significant difference or effect. The choice of null and alternative hypotheses depends on the research question being addressed and the nature of the data being analyzed."
   ]
  },
  {
   "cell_type": "markdown",
   "id": "0f88b9d0-76d2-42d7-ab9f-02c49ebddc34",
   "metadata": {},
   "source": [
    "## Q7: Write down the steps involved in hypothesis testing."
   ]
  },
  {
   "cell_type": "markdown",
   "id": "634759d6-86f5-457d-80d0-88cb1449842c",
   "metadata": {},
   "source": [
    "The steps involved in hypothesis testing are:\n",
    "\n",
    "1. State the null and alternative hypotheses: Begin by stating the null and alternative hypotheses based on the research question being addressed.\n",
    "\n",
    "2. Set the significance level: Determine the level of significance (alpha) for the hypothesis test. The most common level of significance is 0.05, which means that we are willing to accept a 5% chance of rejecting the null hypothesis when it is actually true.\n",
    "\n",
    "3. Determine the appropriate test statistic: Select the appropriate statistical test to use based on the type of data being analyzed and the nature of the research question.\n",
    "\n",
    "4. Collect and analyze the data: Collect data and compute the test statistic using the appropriate formula or software package.\n",
    "\n",
    "5. Determine the p-value: Calculate the probability of obtaining the observed test statistic or a more extreme value, assuming that the null hypothesis is true. This is known as the p-value.\n",
    "\n",
    "6. Make a decision: Compare the p-value to the significance level. If the p-value is less than the significance level, reject the null hypothesis and accept the alternative hypothesis. If the p-value is greater than or equal to the significance level, fail to reject the null hypothesis.\n",
    "\n",
    "7. Interpret the results: Interpret the results of the hypothesis test in the context of the research question being addressed. This may involve calculating effect sizes or confidence intervals to provide additional information about the size and direction of the observed effect.\n",
    "\n",
    "8. Draw conclusions: Draw conclusions about the research question based on the results of the hypothesis test, and discuss any limitations or implications of the study.\n",
    "\n"
   ]
  },
  {
   "cell_type": "markdown",
   "id": "dad36fdc-0430-4a1d-acce-62bb03b1bf0e",
   "metadata": {},
   "source": [
    "## Q8. Define p-value and explain its significance in hypothesis testing."
   ]
  },
  {
   "cell_type": "markdown",
   "id": "99f772cd-51e7-4b84-88cb-4fd840647a96",
   "metadata": {},
   "source": [
    "In hypothesis testing, the p-value is the probability of obtaining a test statistic at least as extreme as the observed value, assuming that the null hypothesis is true.\n",
    "\n",
    "The p-value is a crucial output of a hypothesis test, and its significance lies in its ability to help researchers make decisions about whether to reject or fail to reject the null hypothesis. Specifically, if the p-value is less than or equal to the significance level (alpha), we reject the null hypothesis and conclude that there is significant evidence to support the alternative hypothesis. If the p-value is greater than the significance level, we fail to reject the null hypothesis and conclude that there is insufficient evidence to support the alternative hypothesis.\n",
    "\n",
    "For example, suppose we are conducting a hypothesis test to determine whether a new drug is more effective than a placebo in treating a particular medical condition. We set the significance level to 0.05, and after collecting and analyzing the data, we calculate a p-value of 0.03. This means that there is only a 3% chance of obtaining the observed test statistic or a more extreme value, assuming that the null hypothesis (i.e., that the drug is no more effective than the placebo) is true. Since this p-value is less than our significance level of 0.05, we reject the null hypothesis and conclude that the drug is more effective than the placebo in treating the medical condition.\n",
    "\n",
    "In summary, the p-value provides a quantitative measure of the strength of evidence against the null hypothesis, and it helps researchers make informed decisions about whether to reject or fail to reject the null hypothesis based on the observed data.\n",
    "\n",
    "\n",
    "\n",
    "\n"
   ]
  },
  {
   "cell_type": "markdown",
   "id": "feba7bf3-0aa1-4fed-b9f9-23c3c0bf4fd7",
   "metadata": {},
   "source": [
    "## Q9. Generate a Student's t-distribution plot using Python's matplotlib library, with the degrees of freedom parameter set to 10."
   ]
  },
  {
   "cell_type": "code",
   "execution_count": 6,
   "id": "fd27386d-30ae-4f69-8b95-b44692e60f9b",
   "metadata": {},
   "outputs": [
    {
     "data": {
      "image/png": "[encoded data removed]",
      "text/plain": [
       "<Figure size 640x480 with 1 Axes>"
      ]
     },
     "metadata": {},
     "output_type": "display_data"
    }
   ],
   "source": [
    "import numpy as np\n",
    "import matplotlib.pyplot as plt\n",
    "from scipy.stats import t\n",
    "\n",
    "# Set the degrees of freedom\n",
    "df = 10\n",
    "\n",
    "# Set the x values\n",
    "x = np.linspace(t.ppf(0.001, df), t.ppf(0.999, df), 100)\n",
    "\n",
    "# Create the t-distribution plot\n",
    "plt.plot(x, t.pdf(x, df), 'r-', lw=2, alpha=0.6, label='t pdf')\n",
    "\n",
    "# Add labels and legend\n",
    "plt.xlabel('x')\n",
    "plt.ylabel('Probability density')\n",
    "plt.title(\"Student's t-distribution with df=10\")\n",
    "plt.legend()\n",
    "\n",
    "# Show the plot\n",
    "plt.show()\n"
   ]
  },
  {
   "cell_type": "markdown",
   "id": "d38944db-bae4-4e0a-a824-0158b1b2e1b2",
   "metadata": {},
   "source": [
    "## Q10. Write a Python program to calculate the two-sample t-test for independent samples, given two random samples of equal size and a null hypothesis that the population means are equal."
   ]
  },
  {
   "cell_type": "code",
   "execution_count": 8,
   "id": "8b2b366d-927d-4c76-a996-56e23b1d9dde",
   "metadata": {},
   "outputs": [
    {
     "name": "stdout",
     "output_type": "stream",
     "text": [
      "Fail to reject the null hypothesis that the population means are equal\n",
      "t-statistic: -2.0\n",
      "p-value: 0.08051623795726259\n"
     ]
    }
   ],
   "source": [
    "import numpy as np\n",
    "from scipy.stats import t\n",
    "\n",
    "# Define the two samples\n",
    "sample1 = np.array([1, 2, 3, 4, 5])\n",
    "sample2 = np.array([3, 4, 5, 6, 7])\n",
    "\n",
    "# Define the null hypothesis\n",
    "null_hypothesis = 'the population means are equal'\n",
    "\n",
    "# Calculate the means and standard deviations of the two samples\n",
    "x1 = np.mean(sample1)\n",
    "x2 = np.mean(sample2)\n",
    "s1 = np.std(sample1, ddof=1)\n",
    "s2 = np.std(sample2, ddof=1)\n",
    "\n",
    "# Calculate the pooled standard deviation\n",
    "s_pooled = np.sqrt(((len(sample1) - 1) * s1 ** 2 + (len(sample2) - 1) * s2 ** 2) / (len(sample1) + len(sample2) - 2))\n",
    "\n",
    "# Calculate the t-statistic\n",
    "t_statistic = (x1 - x2) / (s_pooled * np.sqrt(2 / len(sample1)))\n",
    "\n",
    "# Calculate the degrees of freedom\n",
    "df = len(sample1) + len(sample2) - 2\n",
    "\n",
    "# Calculate the p-value\n",
    "p_value = 2 * (1 - t.cdf(abs(t_statistic), df))\n",
    "\n",
    "# Determine whether to reject or fail to reject the null hypothesis\n",
    "alpha = 0.05\n",
    "if p_value < alpha:\n",
    "    print('Reject the null hypothesis that', null_hypothesis)\n",
    "else:\n",
    "    print('Fail to reject the null hypothesis that', null_hypothesis)\n",
    "\n",
    "# Print the results\n",
    "print('t-statistic:', t_statistic)\n",
    "print('p-value:', p_value)\n"
   ]
  },
  {
   "cell_type": "markdown",
   "id": "205b6ba6-5702-432f-9721-cc7200ab6dbe",
   "metadata": {},
   "source": [
    "## Q11: What is Student’s t distribution? When to use the t-Distribution."
   ]
  },
  {
   "cell_type": "markdown",
   "id": "3be22e94-8470-41a1-9418-8d6e1867958f",
   "metadata": {},
   "source": [
    "Student's t-distribution is a probability distribution that is used to estimate the population mean when the sample size is small (typically less than 30) or when the population variance is unknown. It is similar to the standard normal distribution, but has heavier tails, which means that it places more probability mass in the tails of the distribution.\n",
    "\n",
    "The t-distribution is used in hypothesis testing and confidence interval estimation when the population variance is unknown and must be estimated from the sample data. Specifically, it is used in situations where the sample size is small and the population is assumed to be normally distributed, or when the population is not necessarily normally distributed but the sample size is large enough (typically greater than 30) that the central limit theorem applies.\n",
    "\n",
    "The t-distribution is characterized by its degrees of freedom, which is equal to the sample size minus one. As the degrees of freedom increase, the t-distribution approaches the standard normal distribution, which has infinite degrees of freedom."
   ]
  },
  {
   "cell_type": "markdown",
   "id": "1a7e5f8b-9111-4e5b-aab4-c789c681dbb9",
   "metadata": {},
   "source": [
    "## Q12: What is t-statistic? State the formula for t-statistic."
   ]
  },
  {
   "cell_type": "markdown",
   "id": "6dd53fa1-27f9-44af-a859-7ce379bda395",
   "metadata": {},
   "source": [
    "t-statistic is a measure used in hypothesis testing to determine whether the sample mean is significantly different from the hypothesized population mean. It is calculated as the ratio of the difference between the sample mean and the hypothesized population mean to the standard error of the sampling distribution.\n",
    "\n",
    "The formula for t-statistic is:\n",
    "\n",
    "t = (x̄ - μ) / (s / sqrt(n))\n",
    "\n",
    "Where:\n",
    "\n",
    "1. x̄ is the sample mean\n",
    "2. μ is the hypothesized population mean\n",
    "3. s is the standard deviation of the sample\n",
    "4. n is the sample size\n",
    "\n",
    "\n",
    "The t-statistic measures how many standard errors the sample mean is from the hypothesized population mean. If the absolute value of the t-statistic is large, then the sample mean is significantly different from the hypothesized population mean. The larger the t-statistic, the stronger the evidence against the null hypothesis"
   ]
  },
  {
   "cell_type": "markdown",
   "id": "8019749c-ac77-4406-b936-40a5beb38c26",
   "metadata": {},
   "source": [
    "## Q13. A coffee shop owner wants to estimate the average daily revenue for their shop. They take a random sample of 50 days and find the sample mean revenue to be $500 with a standard deviation of $50. Estimate the population mean revenue with a 95% confidence interval."
   ]
  },
  {
   "cell_type": "code",
   "execution_count": null,
   "id": "63965c9c-28ae-4b39-9a66-e9d8813e103f",
   "metadata": {},
   "outputs": [],
   "source": [
    "To estimate the population mean revenue with a 95% confidence interval, we can use the following formula:\n",
    "\n",
    "CI = x̄ ± t(alpha/2, n-1) * (s / sqrt(n))\n",
    "\n",
    "Where:\n",
    "\n",
    "x̄ is the sample mean revenue\n",
    "s is the sample standard deviation\n",
    "n is the sample size\n",
    "t(alpha/2, n-1) is the t-score for the desired level of confidence (alpha) with n-1 degrees of freedom\n",
    "Since we want a 95% confidence interval, alpha = 0.05 and the degrees of freedom is n-1 = 50-1 = 49. Using a t-table or a calculator, we can find that the t-score for alpha/2 = 0.025 with 49 degrees of freedom is approximately 2.009.\n",
    "\n",
    "Substituting the values into the formula, we get:\n",
    "\n",
    "CI = 500 ± 2.009 * (50 / sqrt(50))\n",
    "= 500 ± 14.15\n",
    "= (485.85, 514.15)\n",
    "\n",
    "Therefore, we can say with 95% confidence that the population mean revenue for the coffee shop is between $485.85 and $514.15 per day."
   ]
  },
  {
   "cell_type": "markdown",
   "id": "08725fe1-13e1-47e8-a55f-81db8491fe57",
   "metadata": {},
   "source": [
    "## Q14. A researcher hypothesizes that a new drug will decrease blood pressure by 10 mmHg. They conduct a clinical trial with 100 patients and find that the sample mean decrease in blood pressure is 8 mmHg with a standard deviation of 3 mmHg. Test the hypothesis with a significance level of 0.05."
   ]
  },
  {
   "cell_type": "code",
   "execution_count": null,
   "id": "d078c983-7838-4ffa-842c-0790b99ab3c2",
   "metadata": {},
   "outputs": [],
   "source": [
    "To test the hypothesis that the new drug decreases blood pressure by 10 mmHg with a significance level of 0.05, we can use a one-sample t-test with the following null and alternative hypotheses:\n",
    "\n",
    "H0: μ = 10\n",
    "Ha: μ < 10\n",
    "\n",
    "Where:\n",
    "\n",
    "H0 is the null hypothesis\n",
    "Ha is the alternative hypothesis\n",
    "μ is the population mean decrease in blood pressure\n",
    "We use a one-sample t-test because we are comparing the sample mean to a hypothesized population mean, and the population standard deviation is unknown.\n",
    "\n",
    "The test statistic for a one-sample t-test is given by:\n",
    "\n",
    "t = (x̄ - μ) / (s / sqrt(n))\n",
    "\n",
    "Where:\n",
    "\n",
    "x̄ is the sample mean decrease in blood pressure\n",
    "μ is the hypothesized population mean decrease in blood pressure\n",
    "s is the sample standard deviation of the decrease in blood pressure\n",
    "n is the sample size\n",
    "Substituting the values into the formula, we get:\n",
    "\n",
    "t = (8 - 10) / (3 / sqrt(100))\n",
    "= -2.82\n",
    "\n",
    "Using a t-table or a calculator, we can find the critical t-value for a one-tailed test with 99 degrees of freedom and a significance level of 0.05. The critical t-value is approximately -1.660.\n",
    "\n",
    "Since the calculated t-value (-2.82) is less than the critical t-value (-1.660), we can reject the null hypothesis and conclude that there is evidence to suggest that the new drug decreases blood pressure by less than 10 mmHg. The p-value can also be calculated to support this conclusion. The one-tailed p-value for the calculated t-value of -2.82 with 99 degrees of freedom is approximately 0.003, which is less than the significance level of 0.05."
   ]
  },
  {
   "cell_type": "markdown",
   "id": "084f17c4-e384-4bb7-8cd2-32bea0366e8f",
   "metadata": {},
   "source": [
    "## Q15. An electronics company produces a certain type of product with a mean weight of 5 pounds and a standard deviation of 0.5 pounds. A random sample of 25 products is taken, and the sample mean weight is found to be 4.8 pounds. Test the hypothesis that the true mean weight of the products is less than 5 pounds with a significance level of 0.01."
   ]
  },
  {
   "cell_type": "code",
   "execution_count": null,
   "id": "bf475f2f-bcf3-48d9-8a25-5b4ee015bf77",
   "metadata": {},
   "outputs": [],
   "source": [
    "To test the hypothesis that the true mean weight of the products is less than 5 pounds with a significance level of 0.01, we can use a one-sample t-test with the following null and alternative hypotheses:\n",
    "\n",
    "H0: μ >= 5\n",
    "Ha: μ < 5\n",
    "\n",
    "Where:\n",
    "\n",
    "H0 is the null hypothesis\n",
    "Ha is the alternative hypothesis\n",
    "μ is the true mean weight of the products\n",
    "We use a one-sample t-test because we are comparing the sample mean to a hypothesized population mean, and the population standard deviation is known.\n",
    "\n",
    "The test statistic for a one-sample t-test is given by:\n",
    "\n",
    "t = (x̄ - μ) / (s / sqrt(n))\n",
    "\n",
    "Where:\n",
    "\n",
    "x̄ is the sample mean weight of the products\n",
    "μ is the hypothesized population mean weight of the products\n",
    "s is the sample standard deviation of the weight of the products\n",
    "n is the sample size\n",
    "Substituting the values into the formula, we get:\n",
    "\n",
    "t = (4.8 - 5) / (0.5 / sqrt(25))\n",
    "= -2.0\n",
    "\n",
    "Using a t-table or a calculator, we can find the critical t-value for a one-tailed test with 24 degrees of freedom and a significance level of 0.01. The critical t-value is approximately -2.492.\n",
    "\n",
    "Since the calculated t-value (-2.0) is greater than the critical t-value (-2.492), we fail to reject the null hypothesis and conclude that there is not enough evidence to suggest that the true mean weight of the products is less than 5 pounds. The p-value can also be calculated to support this conclusion. The one-tailed p-value for the calculated t-value of -2.0 with 24 degrees of freedom is approximately 0.029, which is greater than the significance level of 0.01."
   ]
  },
  {
   "cell_type": "markdown",
   "id": "adfd92ac-4090-43b9-b2c8-60bb2c4c50b4",
   "metadata": {},
   "source": [
    "## Q16. Two groups of students are given different study materials to prepare for a test. The first group (n1=30) has a mean score of 80 with a standard deviation of 10, and the second group (n2 = 40) has a mean score of 75 with a standard deviation of 8. Test the hypothesis that the population means for the two groups are equal with a significance level of 0.01."
   ]
  },
  {
   "cell_type": "code",
   "execution_count": null,
   "id": "d9e01d7c-bd46-4b19-82ff-0fc0e1054c00",
   "metadata": {},
   "outputs": [],
   "source": [
    "To test the hypothesis that the population means for the two groups are equal with a significance level of 0.01, we can use a two-sample t-test for independent samples with the following null and alternative hypotheses:\n",
    "\n",
    "H0: μ1 = μ2\n",
    "Ha: μ1 ≠ μ2\n",
    "\n",
    "Where:\n",
    "\n",
    "H0 is the null hypothesis\n",
    "Ha is the alternative hypothesis\n",
    "μ1 and μ2 are the true population means of the two groups\n",
    "We use a two-sample t-test because we are comparing the means of two independent samples, and the population standard deviations are unknown.\n",
    "\n",
    "The test statistic for a two-sample t-test for independent samples is given by:\n",
    "\n",
    "t = (x̄1 - x̄2 - D) / sqrt((s1^2 / n1) + (s2^2 / n2))\n",
    "\n",
    "Where:\n",
    "\n",
    "x̄1 and x̄2 are the sample means of the two groups\n",
    "s1 and s2 are the sample standard deviations of the two groups\n",
    "n1 and n2 are the sample sizes of the two groups\n",
    "D is the hypothesized difference between the two population means (D = 0 in this case)\n",
    "Substituting the given values into the formula, we get:\n",
    "\n",
    "t = (80 - 75 - 0) / sqrt((10^2 / 30) + (8^2 / 40))\n",
    "= 2.68\n",
    "\n",
    "Using a t-table or a calculator, we can find the critical t-value for a two-tailed test with 68 degrees of freedom and a significance level of 0.01. The critical t-value is approximately ±2.627.\n",
    "\n",
    "Since the calculated t-value (2.68) is greater than the critical t-value (±2.627), we reject the null hypothesis and conclude that there is enough evidence to suggest that the population means for the two groups are different. The p-value can also be calculated to support this conclusion. The two-tailed p-value for the calculated t-value of 2.68 with 68 degrees of freedom is approximately 0.009, which is less than the significance level of 0.01.\n",
    "\n",
    "\n",
    "\n",
    "\n"
   ]
  },
  {
   "cell_type": "markdown",
   "id": "0e4f89e8-814e-404f-8ec0-a47b2d29de91",
   "metadata": {},
   "source": [
    "## Q17. A marketing company wants to estimate the average number of ads watched by viewers during a TV program. They take a random sample of 50 viewers and find that the sample mean is 4 with a standard deviation of 1.5. Estimate the population mean with a 99% confidence interval."
   ]
  },
  {
   "cell_type": "code",
   "execution_count": null,
   "id": "67f93348-4b7f-4b24-917d-667dfc5b5820",
   "metadata": {},
   "outputs": [],
   "source": [
    "To estimate the population mean with a 99% confidence interval, we can use the following formula:\n",
    "\n",
    "Confidence interval = sample mean ± margin of error\n",
    "\n",
    "Where,\n",
    "\n",
    "Margin of error = z-score * standard error\n",
    "\n",
    "z-score is the critical value from the standard normal distribution table for the desired confidence level. For a 99% confidence level, the z-score is 2.576.\n",
    "\n",
    "Standard error = standard deviation / √n\n",
    "\n",
    "Here,\n",
    "\n",
    "Sample mean = 4\n",
    "Standard deviation = 1.5\n",
    "Sample size (n) = 50\n",
    "\n",
    "So,\n",
    "\n",
    "Standard error = 1.5 / √50 = 0.2121\n",
    "\n",
    "Margin of error = 2.576 * 0.2121 = 0.5461\n",
    "\n",
    "Confidence interval = 4 ± 0.5461 = (3.4539, 4.5461)\n",
    "\n",
    "Therefore, we can estimate with 99% confidence that the true population mean of the number of ads watched by viewers during a TV program falls within the interval (3.4539, 4.5461).\n",
    "\n",
    "\n",
    "\n",
    "\n"
   ]
  },
  {
   "cell_type": "code",
   "execution_count": null,
   "id": "8e2fcf98-7d41-4ebb-ac7b-0d79cfcfb4bb",
   "metadata": {},
   "outputs": [],
   "source": []
  },
  {
   "cell_type": "code",
   "execution_count": null,
   "id": "3a1d726e-dca1-4f7c-b7ce-9bee64972228",
   "metadata": {},
   "outputs": [],
   "source": []
  },
  {
   "cell_type": "code",
   "execution_count": null,
   "id": "c9b7b9af-c2ff-4327-83ca-01fa6ef6cc1e",
   "metadata": {},
   "outputs": [],
   "source": []
  },
  {
   "cell_type": "code",
   "execution_count": null,
   "id": "3e1b619a-0156-4af9-bedf-d43143e5cb49",
   "metadata": {},
   "outputs": [],
   "source": []
  },
  {
   "cell_type": "code",
   "execution_count": null,
   "id": "655d3fa6-8345-44d8-af19-4e0c99521333",
   "metadata": {},
   "outputs": [],
   "source": []
  },
  {
   "cell_type": "code",
   "execution_count": null,
   "id": "9b206bc4-b9c8-446d-80ba-af59e2fac0f2",
   "metadata": {},
   "outputs": [],
   "source": []
  },
  {
   "cell_type": "code",
   "execution_count": null,
   "id": "0abbaa25-4688-4c56-b724-26cd8146421b",
   "metadata": {},
   "outputs": [],
   "source": []
  },
  {
   "cell_type": "code",
   "execution_count": null,
   "id": "d5feb4f8-056d-48ac-8162-073205b21c9a",
   "metadata": {},
   "outputs": [],
   "source": []
  },
  {
   "cell_type": "code",
   "execution_count": null,
   "id": "64a474df-8990-457b-b3ce-db2fe7c845fc",
   "metadata": {},
   "outputs": [],
   "source": []
  },
  {
   "cell_type": "code",
   "execution_count": null,
   "id": "9c30b210-3cc9-4f23-aa40-886071384238",
   "metadata": {},
   "outputs": [],
   "source": []
  },
  {
   "cell_type": "code",
   "execution_count": null,
   "id": "5c997a29-1b96-455e-9833-16e6be5550ed",
   "metadata": {},
   "outputs": [],
   "source": []
  },
  {
   "cell_type": "code",
   "execution_count": null,
   "id": "8bbf1bd9-7096-477d-b197-0f4e086ac9eb",
   "metadata": {},
   "outputs": [],
   "source": []
  },
  {
   "cell_type": "code",
   "execution_count": null,
   "id": "b07d8e3b-7ea1-4a5f-b43f-33188434f4ce",
   "metadata": {},
   "outputs": [],
   "source": []
  },
  {
   "cell_type": "code",
   "execution_count": null,
   "id": "bb068150-a697-479c-9c61-224fa281ffcc",
   "metadata": {},
   "outputs": [],
   "source": []
  },
  {
   "cell_type": "code",
   "execution_count": null,
   "id": "f812b1c0-b321-4bbc-a4b0-2f119650bc98",
   "metadata": {},
   "outputs": [],
   "source": []
  },
  {
   "cell_type": "code",
   "execution_count": null,
   "id": "fcd546f7-47ba-4d6a-b5bd-681903beb340",
   "metadata": {},
   "outputs": [],
   "source": []
  },
  {
   "cell_type": "code",
   "execution_count": null,
   "id": "6c5c68b7-94c8-4084-b5ad-f002dddf9033",
   "metadata": {},
   "outputs": [],
   "source": []
  },
  {
   "cell_type": "code",
   "execution_count": null,
   "id": "6f927a88-1e6d-4b01-ab67-fd4d6fd28ea8",
   "metadata": {},
   "outputs": [],
   "source": []
  },
  {
   "cell_type": "code",
   "execution_count": null,
   "id": "8125eae3-18dd-465c-8c65-e7db5cd372dd",
   "metadata": {},
   "outputs": [],
   "source": []
  },
  {
   "cell_type": "code",
   "execution_count": null,
   "id": "f2c807b3-e6a5-4443-953e-e1342fdc8b8f",
   "metadata": {},
   "outputs": [],
   "source": []
  },
  {
   "cell_type": "code",
   "execution_count": null,
   "id": "3dfd5a68-7b74-434d-b8f8-559a67925811",
   "metadata": {},
   "outputs": [],
   "source": []
  },
  {
   "cell_type": "code",
   "execution_count": null,
   "id": "3a2c3d3f-83f5-4dd4-b944-5cc484da7b6e",
   "metadata": {},
   "outputs": [],
   "source": []
  },
  {
   "cell_type": "code",
   "execution_count": null,
   "id": "b6724063-78b8-434b-9908-2b006599c065",
   "metadata": {},
   "outputs": [],
   "source": []
  },
  {
   "cell_type": "code",
   "execution_count": null,
   "id": "df005ebb-e72d-4460-ad77-ce3ea0a5ec57",
   "metadata": {},
   "outputs": [],
   "source": []
  },
  {
   "cell_type": "code",
   "execution_count": null,
   "id": "a8ebf87f-9b15-4141-ba17-6165a17c4b20",
   "metadata": {},
   "outputs": [],
   "source": []
  },
  {
   "cell_type": "code",
   "execution_count": null,
   "id": "108c82e5-313d-4896-a4fc-d240f5e46096",
   "metadata": {},
   "outputs": [],
   "source": []
  },
  {
   "cell_type": "code",
   "execution_count": null,
   "id": "fc973aba-a37c-4006-a461-40060e992761",
   "metadata": {},
   "outputs": [],
   "source": []
  },
  {
   "cell_type": "code",
   "execution_count": null,
   "id": "14b44e4f-0ae0-4858-8e40-e93fd23d3038",
   "metadata": {},
   "outputs": [],
   "source": []
  },
  {
   "cell_type": "code",
   "execution_count": null,
   "id": "d3dbe922-883e-481e-b4e7-dc79910a6610",
   "metadata": {},
   "outputs": [],
   "source": []
  },
  {
   "cell_type": "code",
   "execution_count": null,
   "id": "d95c5ab6-df30-4a55-882c-f17140257d28",
   "metadata": {},
   "outputs": [],
   "source": []
  },
  {
   "cell_type": "code",
   "execution_count": null,
   "id": "caeb611a-dfd7-4800-97da-217618e595eb",
   "metadata": {},
   "outputs": [],
   "source": []
  },
  {
   "cell_type": "code",
   "execution_count": null,
   "id": "7a6e0403-17ba-4d91-9951-295a7dd0965f",
   "metadata": {},
   "outputs": [],
   "source": []
  }
 ],
 "metadata": {
  "kernelspec": {
   "display_name": "Python 3 (ipykernel)",
   "language": "python",
   "name": "python3"
  },
  "language_info": {
   "codemirror_mode": {
    "name": "ipython",
    "version": 3
   },
   "file_extension": ".py",
   "mimetype": "text/x-python",
   "name": "python",
   "nbconvert_exporter": "python",
   "pygments_lexer": "ipython3",
   "version": "3.10.8"
  }
 },
 "nbformat": 4,
 "nbformat_minor": 5
}

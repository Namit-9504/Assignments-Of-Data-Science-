{
 "cells": [
  {
   "cell_type": "markdown",
   "id": "924334a8-8754-42db-9b8e-27ab5a46009a",
   "metadata": {},
   "source": [
    "### Q1. What is multiprocessing in python? Why is it useful?"
   ]
  },
  {
   "cell_type": "markdown",
   "id": "31162958-e10b-47cf-aca2-8a5d17c3c97f",
   "metadata": {},
   "source": [
    "Multiprocessing in Python is the technique of using multiple processors or cores of a computer to execute tasks simultaneously, improving the performance and speed of the program. Python's multiprocessing module provides a simple and effective way to achieve this by allowing the creation and management of processes.\n",
    "\n",
    "Multiprocessing is useful in many scenarios where a program needs to perform CPU-intensive tasks or carry out many time-consuming operations. Some examples include:\n",
    "\n",
    "Parallel processing: When a program needs to execute multiple tasks at the same time, multiprocessing can be used to spawn multiple processes and execute each task on a separate processor, thereby reducing the overall time taken to complete the task.\n",
    "\n",
    "Data processing: Multiprocessing can be used to split a large dataset into smaller chunks and process them simultaneously, improving the efficiency and speed of the program.\n",
    "\n",
    "Web scraping: When scraping a large number of web pages, multiprocessing can be used to scrape multiple pages at the same time, speeding up the process.\n",
    "\n",
    "Machine learning: Multiprocessing can be used to train machine learning models faster by splitting the data into smaller chunks and processing them in parallel.\n",
    "\n",
    "In summary, multiprocessing is useful in situations where a program needs to execute multiple tasks concurrently, improving the performance and speed of the program."
   ]
  },
  {
   "cell_type": "markdown",
   "id": "4f966640-05c1-4ef5-b0ff-c0c2d879d25f",
   "metadata": {},
   "source": [
    "### Q2. What are the differences between multiprocessing and multithreading?"
   ]
  },
  {
   "cell_type": "markdown",
   "id": "4ab2f15e-5891-42ad-a768-3aea8af9417b",
   "metadata": {},
   "source": [
    "Multiprocessing and multithreading are both techniques used to achieve concurrency in computer programs, but they differ in how they utilize resources and manage parallel execution.\n",
    "\n",
    "The main differences between multiprocessing and multithreading are:\n",
    "\n",
    "Resource utilization: Multiprocessing uses multiple CPUs or CPU cores to execute tasks, while multithreading uses a single CPU or core and splits its processing time among multiple threads. This means that multiprocessing can utilize more resources and achieve higher levels of parallelism than multithreading.\n",
    "\n",
    "Memory sharing: In multiprocessing, each process has its own memory space and cannot access the memory of other processes directly. In contrast, threads in multithreading share the same memory space and can access the same variables and data structures. This can make multithreading more efficient for programs that require frequent communication and sharing of data between threads.\n",
    "\n",
    "Complexity: Multithreading is generally simpler to implement than multiprocessing, as it does not require as much overhead to manage multiple processes. However, multithreading can be more complex to debug and troubleshoot due to issues such as deadlocks and race conditions.\n",
    "\n",
    "Fault tolerance: In multiprocessing, if one process crashes, it does not affect the others. In contrast, if a thread crashes in multithreading, it can potentially bring down the entire program.\n",
    "\n",
    "In summary, multiprocessing and multithreading are both concurrency techniques that can improve the performance of programs, but they differ in their resource utilization, memory sharing, complexity, and fault tolerance. Multiprocessing is generally more suitable for CPU-bound tasks that require high levels of parallelism, while multithreading is more suitable for I/O-bound tasks that require frequent communication and sharing of data between threads.\n",
    "\n",
    "\n",
    "\n"
   ]
  },
  {
   "cell_type": "markdown",
   "id": "da864def-5c98-41bd-bc05-6b883a74f961",
   "metadata": {},
   "source": [
    "### Q3. Write a python code to create a process using the multiprocessing module."
   ]
  },
  {
   "cell_type": "code",
   "execution_count": 1,
   "id": "c45c8735-c0bb-498e-9d49-a6c4001b3e4c",
   "metadata": {},
   "outputs": [
    {
     "name": "stdout",
     "output_type": "stream",
     "text": [
      "Addition of  3 and  5 is 8\n"
     ]
    }
   ],
   "source": [
    "import multiprocessing\n",
    "def adding (a,b):\n",
    "    c=a+b\n",
    "    print(\"Addition of  %d and  %d is %d\"%(a,b,c))\n",
    "if __name__ == \"__main__\":\n",
    "    m1 = multiprocessing.Process(target=adding,args=(3,5))\n",
    "    m1.start()\n",
    "    m1.join()"
   ]
  },
  {
   "cell_type": "markdown",
   "id": "61ce12aa-ddd8-4ace-a8b9-1ab9864456fb",
   "metadata": {},
   "source": [
    "### Q4. What is a multiprocessing pool in python? Why is it used?"
   ]
  },
  {
   "cell_type": "markdown",
   "id": "96daefd8-4a42-4cc0-9c21-3069d120653f",
   "metadata": {},
   "source": [
    "A multiprocessing pool in Python is a component of the multiprocessing module that provides a simple and convenient way to parallelize the execution of a function across multiple CPUs or CPU cores.\n",
    "\n",
    "A multiprocessing pool consists of a set of worker processes that are created when the pool is initialized. The worker processes are used to execute the function on a set of inputs, with each worker processing one input at a time. The results from the worker processes are then collected and returned to the main program as a list.\n",
    "\n",
    "Multiprocessing pools are used to improve the performance of CPU-bound tasks that can be split into smaller subtasks that can be executed in parallel. Some common use cases for multiprocessing pools include:\n",
    "\n",
    "Parallel processing: When a program needs to execute a large number of tasks in parallel, a multiprocessing pool can be used to distribute the tasks among multiple processors or cores, reducing the overall time taken to complete the tasks.\n",
    "\n",
    "Data processing: Multiprocessing pools can be used to split a large dataset into smaller chunks and process them simultaneously, improving the efficiency and speed of the program.\n",
    "\n",
    "Machine learning: Multiprocessing pools can be used to train machine learning models faster by splitting the data into smaller chunks and processing them in parallel.\n",
    "\n",
    "Using a multiprocessing pool in Python can be more efficient than using threads or processes directly, as the pool provides a higher-level interface for managing parallel execution and takes care of tasks such as creating and managing processes, distributing tasks among processes, and collecting results."
   ]
  },
  {
   "cell_type": "markdown",
   "id": "be18c1a0-6209-41f4-a2dc-044b5c149f32",
   "metadata": {
    "tags": []
   },
   "source": [
    "### Q5. How can we create a pool of worker processes in python using the multiprocessing module?"
   ]
  },
  {
   "cell_type": "markdown",
   "id": "cda2daaa-a7d8-4a79-aa1d-0bb62ef4355b",
   "metadata": {},
   "source": [
    "To create a pool of worker processes in Python using the multiprocessing module, we need to follow these steps:\n",
    "\n",
    "Import the multiprocessing module:"
   ]
  },
  {
   "cell_type": "code",
   "execution_count": 6,
   "id": "2c7a08bc-d3a0-4ce6-9d9c-ba4b9d59221d",
   "metadata": {},
   "outputs": [],
   "source": [
    "import multiprocessing\n"
   ]
  },
  {
   "cell_type": "markdown",
   "id": "c4133ed9-afe3-4a80-8c94-070f2bfdf976",
   "metadata": {},
   "source": [
    "Define the function to be executed in parallel:"
   ]
  },
  {
   "cell_type": "code",
   "execution_count": 7,
   "id": "7ef2320a-4927-4062-a2ec-e2a7a42758c1",
   "metadata": {},
   "outputs": [],
   "source": [
    "def func(x):\n",
    "    # code to be executed in parallel\n",
    "    return result\n"
   ]
  },
  {
   "cell_type": "markdown",
   "id": "14d6c5e1-41f1-405c-9b9b-1ad09f558e5e",
   "metadata": {},
   "source": [
    "Create a multiprocessing pool object with the desired number of worker processes:"
   ]
  },
  {
   "cell_type": "code",
   "execution_count": 8,
   "id": "b3aa899f-5bad-46ad-9404-686f5ff99156",
   "metadata": {},
   "outputs": [],
   "source": [
    "pool = multiprocessing.Pool(processes=4)\n"
   ]
  },
  {
   "cell_type": "markdown",
   "id": "ed34f055-77cf-4f36-9fa8-ab522d12327e",
   "metadata": {},
   "source": [
    "This will create a pool of four worker processes. The exact number of processes to use will depend on the number of available CPUs or CPU cores and the specific requirements of the program.\n",
    "\n",
    "Map the function to a list of inputs using the pool's map method:"
   ]
  },
  {
   "cell_type": "code",
   "execution_count": null,
   "id": "cb74c867-adb2-472c-9a11-17f35facbe7d",
   "metadata": {},
   "outputs": [],
   "source": [
    "inputs = [1, 2, 3, 4, 5]\n",
    "results = pool.map(func, inputs)"
   ]
  },
  {
   "cell_type": "markdown",
   "id": "2254b5b1-030a-4bfd-add1-c6370e3a84a0",
   "metadata": {},
   "source": [
    "The map method will distribute the inputs among the worker processes, execute the function in parallel for each input, and collect the results into a list. The results list will contain the results from each worker process in the order that the inputs were passed.\n",
    "\n",
    "Close the pool to release the resources:"
   ]
  },
  {
   "cell_type": "code",
   "execution_count": 10,
   "id": "07cd86cf-920e-4f07-bcdf-b9f3cf341cbc",
   "metadata": {},
   "outputs": [],
   "source": [
    "pool.close()\n",
    "pool.join()\n"
   ]
  },
  {
   "cell_type": "markdown",
   "id": "4534f2f2-e588-416c-a788-e34d186491e1",
   "metadata": {},
   "source": [
    "The close method will prevent any more tasks from being submitted to the pool, while the join method will block until all the tasks have been completed and the results collected.\n",
    "\n",
    "In summary, to create a pool of worker processes in Python using the multiprocessing module, we need to define the function to be executed in parallel, create a pool object with the desired number of worker processes, map the function to a list of inputs, and close the pool to release the resources."
   ]
  },
  {
   "cell_type": "markdown",
   "id": "00470f57-a082-4ff6-b323-a7b0329ec01c",
   "metadata": {},
   "source": [
    "### Q6. Write a python program to create 4 processes, each process should print a different number using the multiprocessing module in python."
   ]
  },
  {
   "cell_type": "code",
   "execution_count": 21,
   "id": "e707bae7-97e8-4ed2-a3dd-d238d53ee125",
   "metadata": {},
   "outputs": [
    {
     "name": "stdout",
     "output_type": "stream",
     "text": [
      "processprocessprocessprocess    3124    number is number is number is number is     1342\n",
      "\n",
      "\n",
      "\n",
      "[None, None, None, None]\n"
     ]
    }
   ],
   "source": [
    "import multiprocessing\n",
    "def num (n):\n",
    "    print(\"process\",n,\"number is \",n)\n",
    "if __name__ == \"__main__\":\n",
    "    nums = [1,2,3,4]\n",
    "    with multiprocessing.Pool(processes=4) as pool:\n",
    "        out = pool.map(num,nums)\n",
    "        print(out)\n",
    "    pool.close()\n",
    "    pool.join()\n",
    "        \n",
    "    "
   ]
  },
  {
   "cell_type": "code",
   "execution_count": null,
   "id": "39c8c797-4ea2-47da-88ba-e13099871bd4",
   "metadata": {},
   "outputs": [],
   "source": []
  },
  {
   "cell_type": "code",
   "execution_count": null,
   "id": "5789d447-15ac-44ab-b939-fccb9af9b41d",
   "metadata": {},
   "outputs": [],
   "source": []
  },
  {
   "cell_type": "code",
   "execution_count": null,
   "id": "1008113e-dca6-47ea-8a62-7e699d5c4365",
   "metadata": {},
   "outputs": [],
   "source": []
  },
  {
   "cell_type": "code",
   "execution_count": null,
   "id": "b4e27adc-ba73-453a-98dd-7998834c24a1",
   "metadata": {},
   "outputs": [],
   "source": []
  },
  {
   "cell_type": "code",
   "execution_count": null,
   "id": "cf42bb84-5fbd-4aee-b5cc-529334838610",
   "metadata": {},
   "outputs": [],
   "source": []
  },
  {
   "cell_type": "code",
   "execution_count": null,
   "id": "b2e49ef5-868f-4bc2-bfd5-90ac85e81aff",
   "metadata": {},
   "outputs": [],
   "source": []
  },
  {
   "cell_type": "code",
   "execution_count": null,
   "id": "50d06a1a-a306-41cf-86cc-8d3b6854cd62",
   "metadata": {},
   "outputs": [],
   "source": []
  }
 ],
 "metadata": {
  "kernelspec": {
   "display_name": "Python 3 (ipykernel)",
   "language": "python",
   "name": "python3"
  },
  "language_info": {
   "codemirror_mode": {
    "name": "ipython",
    "version": 3
   },
   "file_extension": ".py",
   "mimetype": "text/x-python",
   "name": "python",
   "nbconvert_exporter": "python",
   "pygments_lexer": "ipython3",
   "version": "3.10.8"
  }
 },
 "nbformat": 4,
 "nbformat_minor": 5
}

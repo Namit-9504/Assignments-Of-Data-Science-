{
 "cells": [
  {
   "cell_type": "markdown",
   "id": "d3ce6ddc-0509-4e56-bc57-74e4f9beece7",
   "metadata": {},
   "source": [
    "### Q1. Write a python program to extract the video URL of the first five videos."
   ]
  },
  {
   "cell_type": "code",
   "execution_count": 2,
   "id": "d8183deb-10fa-4d65-9273-05a5c407343d",
   "metadata": {},
   "outputs": [],
   "source": [
    "from selenium import webdriver\n",
    "from selenium.webdriver.common.by import By\n",
    "from selenium.webdriver.chrome.service import Service\n",
    "\n",
    "# Importing Selenium webdriver in headless mode\n",
    "user_agent = \"Mozilla/5.0 (Windows NT 10.0; Win64; x64) AppleWebKit/537.36 (KHTML, like Gecko) Chrome/85.0.4183.83 Safari/537.36\"\n",
    "\n",
    "options = webdriver.ChromeOptions()\n",
    "options.add_argument('--headless')\n",
    "options.add_argument(f'user-agent={user_agent}')\n",
    "options.add_argument(\"--window-size=1920,1080\")\n",
    "options.add_argument('--ignore-certificate-errors')\n",
    "options.add_argument('--allow-running-insecure-content')\n",
    "options.add_argument(\"--disable-extensions\")\n",
    "options.add_argument(\"--proxy-server='direct://'\")\n",
    "options.add_argument(\"--proxy-bypass-list=*\")\n",
    "options.add_argument(\"--start-maximized\")\n",
    "options.add_argument('--disable-gpu')\n",
    "options.add_argument('--disable-dev-shm-usage')\n",
    "options.add_argument('--no-sandbox')\n",
    "s = Service(executable_path='./Assignment 21 - 22 February 2023/chromedriver.exe')\n",
    "driver = webdriver.Chrome(service=s, options=options)"
   ]
  },
  {
   "cell_type": "code",
   "execution_count": 3,
   "id": "6e0f0487-cf28-421a-a119-08c93719e439",
   "metadata": {},
   "outputs": [],
   "source": [
    "def get_top5_urls(url):\n",
    "    driver.get(url)\n",
    "    driver.execute_script(\"window.scrollTo(0, 200)\")\n",
    "    url_elems = driver.find_elements(By.XPATH,\"//a[@id='video-title-link']\")    \n",
    "    url_elms5 = url_elems[0:5]\n",
    "    top5url = []\n",
    "    for i in url_elms5:\n",
    "        top5url.append(i.get_attribute('href'))   \n",
    "    return top5url"
   ]
  },
  {
   "cell_type": "code",
   "execution_count": 4,
   "id": "8069fc02-43f7-4ea5-9d4b-fa223ff04f15",
   "metadata": {},
   "outputs": [
    {
     "data": {
      "text/plain": [
       "['https://www.youtube.com/watch?v=dVq8dLd5zK4',\n",
       " 'https://www.youtube.com/watch?v=9y6ruBLE7z0',\n",
       " 'https://www.youtube.com/watch?v=yv4Gi792S8o',\n",
       " 'https://www.youtube.com/watch?v=aPrSAvwuhTk',\n",
       " 'https://www.youtube.com/watch?v=tigMKfSBJ9E']"
      ]
     },
     "execution_count": 4,
     "metadata": {},
     "output_type": "execute_result"
    }
   ],
   "source": [
    "url = \"https://www.youtube.com/@PW-Foundation/videos\"\n",
    "top5url = get_top5_urls(url)\n",
    "top5url"
   ]
  },
  {
   "cell_type": "markdown",
   "id": "444b9e32-c574-4f7f-8481-7d565a36d6b2",
   "metadata": {},
   "source": [
    "### Q2. Write a python program to extract the URL of the video thumbnails of the first five videos."
   ]
  },
  {
   "cell_type": "code",
   "execution_count": 5,
   "id": "733ada16-0a99-4b66-af02-5ebd2909c245",
   "metadata": {},
   "outputs": [],
   "source": [
    "import time\n",
    "def thumbnail_urls(url):\n",
    "    driver.get(url)\n",
    "    time.sleep(2)    \n",
    "    images = driver.find_elements(By.TAG_NAME,'img')\n",
    "    img_links = []\n",
    "    for i in images:    \n",
    "        link = i.get_attribute('src')\n",
    "        if str(link).find('i.ytimg.com')>0:\n",
    "            img_links.append(link)    \n",
    "    return img_links[0:5]"
   ]
  },
  {
   "cell_type": "code",
   "execution_count": 6,
   "id": "123b1250-c869-4784-9e3a-1ff13c65c7ee",
   "metadata": {},
   "outputs": [
    {
     "data": {
      "text/plain": [
       "['https://i.ytimg.com/vi/dVq8dLd5zK4/hqdefault.jpg?sqp=-oaymwEcCNACELwBSFXyq4qpAw4IARUAAIhCGAFwAcABBg==&rs=AOn4CLBHI4cIhoo7jkELZwDpddlQgdbp5A',\n",
       " 'https://i.ytimg.com/vi/9y6ruBLE7z0/hqdefault.jpg?sqp=-oaymwEcCNACELwBSFXyq4qpAw4IARUAAIhCGAFwAcABBg==&rs=AOn4CLBqf6kzJXU74F0LwHkBeIvIDv_Vug',\n",
       " 'https://i.ytimg.com/vi/yv4Gi792S8o/hqdefault.jpg?sqp=-oaymwEcCNACELwBSFXyq4qpAw4IARUAAIhCGAFwAcABBg==&rs=AOn4CLDtCy5r9N3ro9wpbyQUiMLEBRFBkQ',\n",
       " 'https://i.ytimg.com/vi/aPrSAvwuhTk/hqdefault.jpg?sqp=-oaymwEcCNACELwBSFXyq4qpAw4IARUAAIhCGAFwAcABBg==&rs=AOn4CLByH1Ps6232FhOfJPY-O97j7_ByRA',\n",
       " 'https://i.ytimg.com/vi/tigMKfSBJ9E/hqdefault.jpg?sqp=-oaymwEcCNACELwBSFXyq4qpAw4IARUAAIhCGAFwAcABBg==&rs=AOn4CLCFKTjbRkp3NGlXhTilSJq4YcuCLA']"
      ]
     },
     "execution_count": 6,
     "metadata": {},
     "output_type": "execute_result"
    }
   ],
   "source": [
    "top5thumbnails = thumbnail_urls(url)\n",
    "top5thumbnails"
   ]
  },
  {
   "cell_type": "markdown",
   "id": "a57ad133-38d9-4a6d-87b6-3ecdd366b766",
   "metadata": {},
   "source": [
    "## Q3. Write a python program to extract the title of the first five videos."
   ]
  },
  {
   "cell_type": "code",
   "execution_count": 7,
   "id": "8f4bfdc1-da2f-4805-a321-2d15448b0201",
   "metadata": {},
   "outputs": [],
   "source": [
    "def title_finder(url):\n",
    "    driver.get(url)\n",
    "    url_elems = driver.find_elements(By.XPATH,\"//a[@id='video-title-link']\")\n",
    "    url_elems5 = url_elems[0:5] \n",
    "    title_text = []\n",
    "    for i in url_elems5:\n",
    "        title_text.append(i.get_attribute('title'))\n",
    "    return(title_text)"
   ]
  },
  {
   "cell_type": "code",
   "execution_count": 8,
   "id": "e27ff0c9-8456-473d-8b29-67646ea4ab6c",
   "metadata": {},
   "outputs": [
    {
     "data": {
      "text/plain": [
       "['Strategy to Crack NEET in 1st Attempt 💪💪',\n",
       " 'How to start class 9th Maths ❓🤔 | Maths Strategy',\n",
       " 'Ritik Sir ने Class 10th की First Class में ही, बच्चों को कड़वा सच बता दिया 🔴😱 | UDAAN 2024',\n",
       " 'How to change Mindset from class 10th to 11th ❓ ❓',\n",
       " 'Bachoo आपके क्या Plan है इस Summer Vacation ❓❓']"
      ]
     },
     "execution_count": 8,
     "metadata": {},
     "output_type": "execute_result"
    }
   ],
   "source": [
    "top5titles = title_finder(url)\n",
    "top5titles"
   ]
  },
  {
   "cell_type": "markdown",
   "id": "c483a64a-f696-4b44-8eb4-f1aff8ae58ca",
   "metadata": {},
   "source": [
    "### Q4. Write a python program to extract the number of views of the first five videos."
   ]
  },
  {
   "cell_type": "code",
   "execution_count": 12,
   "id": "a35fbf53-bc85-49ef-98c2-f81ba2e98140",
   "metadata": {},
   "outputs": [],
   "source": [
    "def views_finder(url):\n",
    "    driver.get(url)\n",
    "    views_elements = driver.find_elements(By.XPATH,\"//span[@class='inline-metadata-item style-scope ytd-video-meta-block']\")\n",
    "    view_count = []\n",
    "    for i in views_elements:  \n",
    "        meta_string = i.text      \n",
    "        if meta_string.find('views')>0:      \n",
    "            view_count.append(meta_string)\n",
    "    return view_count[0:5] "
   ]
  },
  {
   "cell_type": "code",
   "execution_count": 13,
   "id": "0c71d312-2d36-4396-b330-d9dd4182ddaf",
   "metadata": {},
   "outputs": [
    {
     "data": {
      "text/plain": [
       "['48K views', '13K views', '59K views', '31K views', '36K views']"
      ]
     },
     "execution_count": 13,
     "metadata": {},
     "output_type": "execute_result"
    }
   ],
   "source": [
    "top5views = views_finder(url)\n",
    "top5views"
   ]
  },
  {
   "cell_type": "markdown",
   "id": "0cbee2f8-c79f-41f5-a80d-2dc58acf86eb",
   "metadata": {},
   "source": [
    "### Q5. Write a python program to extract the time of posting of video for the first five videos."
   ]
  },
  {
   "cell_type": "code",
   "execution_count": 14,
   "id": "c69086e8-3012-4d08-8090-f7f8e107a764",
   "metadata": {},
   "outputs": [],
   "source": [
    "import time\n",
    "def get_video_upload_time(url):\n",
    "    driver.get(url)\n",
    "    time.sleep(2)\n",
    "    views_elements = driver.find_elements(By.XPATH,\"//span[@class='inline-metadata-item style-scope ytd-video-meta-block']\")\n",
    "    time_relative = []\n",
    "    for i in views_elements:  \n",
    "        meta_string = i.text             \n",
    "        if meta_string.find('ago')>0:      \n",
    "            time_relative.append(meta_string)\n",
    "        \n",
    "    return time_relative[0:5]"
   ]
  },
  {
   "cell_type": "code",
   "execution_count": 15,
   "id": "6baa8229-29c0-4673-9e9d-73e1a80c1702",
   "metadata": {},
   "outputs": [
    {
     "data": {
      "text/plain": [
       "['2 days ago', '2 days ago', '3 days ago', '3 days ago', '4 days ago']"
      ]
     },
     "execution_count": 15,
     "metadata": {},
     "output_type": "execute_result"
    }
   ],
   "source": [
    "rel_time = get_video_upload_time(url)\n",
    "rel_time"
   ]
  },
  {
   "cell_type": "code",
   "execution_count": 16,
   "id": "2218d78d-cc65-4a31-b909-476937c63b92",
   "metadata": {},
   "outputs": [],
   "source": [
    "## Creating function to get date from relative time\n",
    "from datetime import datetime\n",
    "import pandas as pd\n",
    "from dateutil.relativedelta import relativedelta\n",
    "def get_absolute_date(relative_time):\n",
    "    absolute_time = []\n",
    "    for i in relative_time:        \n",
    "        if i.find('hours')>0:\n",
    "            hours = int(i.split(\" \")[0])\n",
    "            tm_absolute = datetime.now() - pd.Timedelta(hours=hours)\n",
    "            dt_string = tm_absolute.strftime(\"%d %b %Y\")\n",
    "            absolute_time.append(dt_string)\n",
    "        elif i.find('day')>0:\n",
    "            days = int(i.split(\" \")[0])\n",
    "            tm_absolute = datetime.now() - pd.Timedelta(days=days)\n",
    "            dt_string = tm_absolute.strftime(\"%d %b %Y\")\n",
    "            absolute_time.append(dt_string)\n",
    "        elif i.find('week')>0:\n",
    "            weeks = int(i.split(\" \")[0])\n",
    "            tm_absolute = datetime.now() - pd.Timedelta(weeks=weeks)\n",
    "            dt_string = tm_absolute.strftime(\"%d %b %Y\")\n",
    "            absolute_time.append(dt_string)\n",
    "        elif i.find('month')>0:\n",
    "            months = int(i.split(\" \")[0])\n",
    "            tm_absolute = datetime.now() - relativedelta(months=months)\n",
    "            dt_string = tm_absolute.strftime(\"%d %b %Y\")\n",
    "            absolute_time.append(dt_string)\n",
    "        elif i.find('year')>0:\n",
    "            years = int(i.split(\" \")[0])\n",
    "            tm_absolute = datetime.now() - relativedelta(years=years)\n",
    "            dt_string = tm_absolute.strftime(\"%d %b %Y\")\n",
    "            absolute_time.append(dt_string)\n",
    "\n",
    "    return absolute_time"
   ]
  },
  {
   "cell_type": "code",
   "execution_count": 17,
   "id": "579cd1f7-c04a-45a1-b91d-98d5c6e9cef8",
   "metadata": {},
   "outputs": [
    {
     "data": {
      "text/plain": [
       "['12 Apr 2023', '12 Apr 2023', '11 Apr 2023', '11 Apr 2023', '10 Apr 2023']"
      ]
     },
     "execution_count": 17,
     "metadata": {},
     "output_type": "execute_result"
    }
   ],
   "source": [
    "abs_date = get_absolute_date(rel_time)\n",
    "abs_date"
   ]
  },
  {
   "cell_type": "markdown",
   "id": "fa0815ba-c693-4e9f-9bef-bc45de9dca15",
   "metadata": {},
   "source": [
    "## Saving Data into csv file"
   ]
  },
  {
   "cell_type": "code",
   "execution_count": 18,
   "id": "58dc02e9-0631-4fbc-9cd3-ff94079e4113",
   "metadata": {},
   "outputs": [
    {
     "data": {
      "text/html": [
       "<div>\n",
       "<style scoped>\n",
       "    .dataframe tbody tr th:only-of-type {\n",
       "        vertical-align: middle;\n",
       "    }\n",
       "\n",
       "    .dataframe tbody tr th {\n",
       "        vertical-align: top;\n",
       "    }\n",
       "\n",
       "    .dataframe thead th {\n",
       "        text-align: right;\n",
       "    }\n",
       "</style>\n",
       "<table border=\"1\" class=\"dataframe\">\n",
       "  <thead>\n",
       "    <tr style=\"text-align: right;\">\n",
       "      <th></th>\n",
       "      <th>title</th>\n",
       "      <th>uploadDate</th>\n",
       "      <th>views</th>\n",
       "      <th>videoURL</th>\n",
       "      <th>thumbnailURL</th>\n",
       "    </tr>\n",
       "  </thead>\n",
       "  <tbody>\n",
       "    <tr>\n",
       "      <th>0</th>\n",
       "      <td>Strategy to Crack NEET in 1st Attempt 💪💪</td>\n",
       "      <td>12 Apr 2023</td>\n",
       "      <td>48K views</td>\n",
       "      <td>https://www.youtube.com/watch?v=dVq8dLd5zK4</td>\n",
       "      <td>https://i.ytimg.com/vi/dVq8dLd5zK4/hqdefault.j...</td>\n",
       "    </tr>\n",
       "    <tr>\n",
       "      <th>1</th>\n",
       "      <td>How to start class 9th Maths ❓🤔 | Maths Strategy</td>\n",
       "      <td>12 Apr 2023</td>\n",
       "      <td>13K views</td>\n",
       "      <td>https://www.youtube.com/watch?v=9y6ruBLE7z0</td>\n",
       "      <td>https://i.ytimg.com/vi/9y6ruBLE7z0/hqdefault.j...</td>\n",
       "    </tr>\n",
       "    <tr>\n",
       "      <th>2</th>\n",
       "      <td>Ritik Sir ने Class 10th की First Class में ही,...</td>\n",
       "      <td>11 Apr 2023</td>\n",
       "      <td>59K views</td>\n",
       "      <td>https://www.youtube.com/watch?v=yv4Gi792S8o</td>\n",
       "      <td>https://i.ytimg.com/vi/yv4Gi792S8o/hqdefault.j...</td>\n",
       "    </tr>\n",
       "    <tr>\n",
       "      <th>3</th>\n",
       "      <td>How to change Mindset from class 10th to 11th ❓ ❓</td>\n",
       "      <td>11 Apr 2023</td>\n",
       "      <td>31K views</td>\n",
       "      <td>https://www.youtube.com/watch?v=aPrSAvwuhTk</td>\n",
       "      <td>https://i.ytimg.com/vi/aPrSAvwuhTk/hqdefault.j...</td>\n",
       "    </tr>\n",
       "    <tr>\n",
       "      <th>4</th>\n",
       "      <td>Bachoo आपके क्या Plan है इस Summer Vacation ❓❓</td>\n",
       "      <td>10 Apr 2023</td>\n",
       "      <td>36K views</td>\n",
       "      <td>https://www.youtube.com/watch?v=tigMKfSBJ9E</td>\n",
       "      <td>https://i.ytimg.com/vi/tigMKfSBJ9E/hqdefault.j...</td>\n",
       "    </tr>\n",
       "  </tbody>\n",
       "</table>\n",
       "</div>"
      ],
      "text/plain": [
       "                                               title   uploadDate      views  \\\n",
       "0           Strategy to Crack NEET in 1st Attempt 💪💪  12 Apr 2023  48K views   \n",
       "1   How to start class 9th Maths ❓🤔 | Maths Strategy  12 Apr 2023  13K views   \n",
       "2  Ritik Sir ने Class 10th की First Class में ही,...  11 Apr 2023  59K views   \n",
       "3  How to change Mindset from class 10th to 11th ❓ ❓  11 Apr 2023  31K views   \n",
       "4     Bachoo आपके क्या Plan है इस Summer Vacation ❓❓  10 Apr 2023  36K views   \n",
       "\n",
       "                                      videoURL  \\\n",
       "0  https://www.youtube.com/watch?v=dVq8dLd5zK4   \n",
       "1  https://www.youtube.com/watch?v=9y6ruBLE7z0   \n",
       "2  https://www.youtube.com/watch?v=yv4Gi792S8o   \n",
       "3  https://www.youtube.com/watch?v=aPrSAvwuhTk   \n",
       "4  https://www.youtube.com/watch?v=tigMKfSBJ9E   \n",
       "\n",
       "                                        thumbnailURL  \n",
       "0  https://i.ytimg.com/vi/dVq8dLd5zK4/hqdefault.j...  \n",
       "1  https://i.ytimg.com/vi/9y6ruBLE7z0/hqdefault.j...  \n",
       "2  https://i.ytimg.com/vi/yv4Gi792S8o/hqdefault.j...  \n",
       "3  https://i.ytimg.com/vi/aPrSAvwuhTk/hqdefault.j...  \n",
       "4  https://i.ytimg.com/vi/tigMKfSBJ9E/hqdefault.j...  "
      ]
     },
     "execution_count": 18,
     "metadata": {},
     "output_type": "execute_result"
    }
   ],
   "source": [
    "import pandas as pd\n",
    "df = pd.DataFrame({'title':top5titles,'uploadDate':abs_date,'views':top5views,'videoURL':top5url,'thumbnailURL':top5thumbnails})\n",
    "df"
   ]
  },
  {
   "cell_type": "code",
   "execution_count": 19,
   "id": "b7183bf9-127b-4a75-8f30-41838d3b8b10",
   "metadata": {},
   "outputs": [],
   "source": [
    "df.to_csv('YoutubeData.csv',index=False)"
   ]
  },
  {
   "cell_type": "code",
   "execution_count": null,
   "id": "a59f942b-25be-4f2f-b7de-5f49198cdbc6",
   "metadata": {},
   "outputs": [],
   "source": []
  },
  {
   "cell_type": "code",
   "execution_count": null,
   "id": "6eaaec7b-ce16-441f-8fe1-e1c9b4f78f82",
   "metadata": {},
   "outputs": [],
   "source": []
  },
  {
   "cell_type": "code",
   "execution_count": null,
   "id": "19bb0676-62ff-4c1f-b1c6-bb1cccb22e12",
   "metadata": {},
   "outputs": [],
   "source": []
  },
  {
   "cell_type": "code",
   "execution_count": null,
   "id": "fd3e5e13-4314-4140-9834-07a350f1747c",
   "metadata": {},
   "outputs": [],
   "source": []
  },
  {
   "cell_type": "code",
   "execution_count": null,
   "id": "73a91fb2-a2d7-47d5-bf72-66a505e796a5",
   "metadata": {},
   "outputs": [],
   "source": []
  },
  {
   "cell_type": "code",
   "execution_count": null,
   "id": "b029ec20-2487-4d7e-bd4e-421ad578801c",
   "metadata": {},
   "outputs": [],
   "source": []
  },
  {
   "cell_type": "code",
   "execution_count": null,
   "id": "5e59085c-cf68-460b-b177-2d011a14b817",
   "metadata": {},
   "outputs": [],
   "source": []
  },
  {
   "cell_type": "code",
   "execution_count": null,
   "id": "c926a31f-5c8e-4525-889f-cfd842765ae4",
   "metadata": {},
   "outputs": [],
   "source": []
  },
  {
   "cell_type": "code",
   "execution_count": null,
   "id": "39963e88-c559-47f3-820e-4b2222854540",
   "metadata": {},
   "outputs": [],
   "source": []
  },
  {
   "cell_type": "code",
   "execution_count": null,
   "id": "5bd8af34-f64d-4a70-bdce-5d2de4cb3617",
   "metadata": {},
   "outputs": [],
   "source": []
  }
 ],
 "metadata": {
  "kernelspec": {
   "display_name": "Python 3 (ipykernel)",
   "language": "python",
   "name": "python3"
  },
  "language_info": {
   "codemirror_mode": {
    "name": "ipython",
    "version": 3
   },
   "file_extension": ".py",
   "mimetype": "text/x-python",
   "name": "python",
   "nbconvert_exporter": "python",
   "pygments_lexer": "ipython3",
   "version": "3.10.8"
  }
 },
 "nbformat": 4,
 "nbformat_minor": 5
}

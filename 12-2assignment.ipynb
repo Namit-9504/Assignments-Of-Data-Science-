{
 "cells": [
  {
   "cell_type": "markdown",
   "id": "beb7dd13-7b92-4f05-8202-d9931ea47cf5",
   "metadata": {},
   "source": [
    "### Q1. What is an Exception Handling in python ? Write the difference between Exceptions and syntax error"
   ]
  },
  {
   "cell_type": "markdown",
   "id": "7e3e0c84-e713-4428-827f-29c0bdf3ca29",
   "metadata": {},
   "source": [
    "Exception handling in Python is a mechanism to detect, manage and handle runtime errors that may occur during program execution. When a program runs into an error during execution, an exception is raised, which interrupts the normal flow of the program. The role of exception handling is to provide a way to handle these exceptions gracefully and avoid abrupt termination of the program."
   ]
  },
  {
   "cell_type": "markdown",
   "id": "282482c3-a132-4e3f-a7f6-003f1359b85f",
   "metadata": {},
   "source": [
    "In Python, exceptions can be handled using the try-except block. The try block contains the code that may raise an exception, while the except block contains the code that handles the exception."
   ]
  },
  {
   "cell_type": "markdown",
   "id": "75c7b4c0-e184-4693-b363-1677b3f9efb7",
   "metadata": {},
   "source": [
    "Syntax errors, on the other hand, occur when the code violates the syntax rules of the Python language. They are detected by the Python interpreter before the program is executed and result in a traceback error message."
   ]
  },
  {
   "cell_type": "markdown",
   "id": "b3d9989d-891b-4c5a-8a3d-fab32c346e45",
   "metadata": {},
   "source": [
    "The main difference between exceptions and syntax errors is that exceptions occur during program execution, while syntax errors occur during code compilation. Exceptions can be handled and recovered from, while syntax errors must be fixed before the code can be executed.\n",
    "\n",
    "\n",
    "\n"
   ]
  },
  {
   "cell_type": "markdown",
   "id": "b49aa56f-4424-4231-adfb-e260bd3338e4",
   "metadata": {
    "tags": []
   },
   "source": [
    "### Q2. What happens when an exception is not handled ? Explain with an example"
   ]
  },
  {
   "cell_type": "markdown",
   "id": "c39331c3-94ee-4959-9979-024d59a4e09b",
   "metadata": {},
   "source": [
    "When an exception is not handled in a Python program, it results in an abrupt termination of the program. The default behavior of Python when an exception is not handled is to print a traceback error message, which shows the line number and the type of the exception that occurred.\n",
    "\n",
    "Here's an example of a program that raises an exception but does not handle it:"
   ]
  },
  {
   "cell_type": "code",
   "execution_count": 1,
   "id": "59d4963c-f322-4560-a0c5-afce760e6461",
   "metadata": {},
   "outputs": [
    {
     "ename": "ZeroDivisionError",
     "evalue": "division by zero",
     "output_type": "error",
     "traceback": [
      "\u001b[0;31m---------------------------------------------------------------------------\u001b[0m",
      "\u001b[0;31mZeroDivisionError\u001b[0m                         Traceback (most recent call last)",
      "Cell \u001b[0;32mIn[1], line 3\u001b[0m\n\u001b[1;32m      1\u001b[0m numerator \u001b[38;5;241m=\u001b[39m \u001b[38;5;241m10\u001b[39m\n\u001b[1;32m      2\u001b[0m denominator \u001b[38;5;241m=\u001b[39m \u001b[38;5;241m0\u001b[39m\n\u001b[0;32m----> 3\u001b[0m result \u001b[38;5;241m=\u001b[39m \u001b[43mnumerator\u001b[49m\u001b[43m \u001b[49m\u001b[38;5;241;43m/\u001b[39;49m\u001b[43m \u001b[49m\u001b[43mdenominator\u001b[49m\n\u001b[1;32m      4\u001b[0m \u001b[38;5;28mprint\u001b[39m(result)\n",
      "\u001b[0;31mZeroDivisionError\u001b[0m: division by zero"
     ]
    }
   ],
   "source": [
    "numerator = 10\n",
    "denominator = 0\n",
    "result = numerator / denominator\n",
    "print(result)\n"
   ]
  },
  {
   "cell_type": "markdown",
   "id": "a3c466a8-c603-43b5-a701-5fe9766a12a7",
   "metadata": {},
   "source": [
    "In this program, we are trying to divide the numerator by zero, which is not allowed and results in a ZeroDivisionError exception. Since we have not provided any exception handling mechanism, the program will terminate and print a traceback error message:"
   ]
  },
  {
   "cell_type": "code",
   "execution_count": null,
   "id": "9b3e836d-39cb-4420-a122-b41f84109997",
   "metadata": {},
   "outputs": [],
   "source": [
    "Traceback (most recent call last):\n",
    "  File \"example.py\", line 3, in <module>\n",
    "    result = numerator / denominator\n",
    "ZeroDivisionError: division by zero\n"
   ]
  },
  {
   "cell_type": "markdown",
   "id": "5f237e19-8d54-48d8-bf8f-67c739f401ca",
   "metadata": {},
   "source": [
    "As we can see from the error message, the exception occurred on line 3 of the program, where we tried to perform the division. Since there is no exception handling mechanism in place, the program terminated without completing its execution.\n",
    "\n",
    "Therefore, it is always recommended to handle exceptions in a Python program to avoid such unexpected terminations and provide a graceful way to handle errors during program execution."
   ]
  },
  {
   "cell_type": "markdown",
   "id": "e4c6a3a0-35ec-4397-8986-03a131c89b34",
   "metadata": {},
   "source": [
    "### Q3. Which Python statement are used to catch and handel exceptations? Explain with an example"
   ]
  },
  {
   "cell_type": "markdown",
   "id": "f7e057f9-2a85-4b6e-b5a9-1e30b13ca818",
   "metadata": {},
   "source": [
    "In Python, the try-except statement is used to catch and handle exceptions. The try block contains the code that might raise an exception, while the except block contains the code that handles the exception.\n",
    "\n",
    "The syntax for try-except statement is as follows:"
   ]
  },
  {
   "cell_type": "code",
   "execution_count": null,
   "id": "a82dc6ee-10db-45e7-89d3-4d3df3f69001",
   "metadata": {},
   "outputs": [],
   "source": [
    "try:\n",
    "    # code that might raise an exception\n",
    "except ExceptionType:\n",
    "    # code to handle the exception\n"
   ]
  },
  {
   "cell_type": "markdown",
   "id": "0bbaabfe-8aa5-4d1a-898c-3d8201282e41",
   "metadata": {},
   "source": [
    "In the above syntax, ExceptionType is the type of exception that you want to catch and handle. If an exception of this type is raised in the try block, the code in the corresponding except block will be executed.\n",
    "\n",
    "Here's an example to demonstrate how try-except statement works:"
   ]
  },
  {
   "cell_type": "code",
   "execution_count": 4,
   "id": "1f3e9f9d-6987-42ea-b11b-ce68dc1ebd6f",
   "metadata": {},
   "outputs": [
    {
     "name": "stdout",
     "output_type": "stream",
     "text": [
      "Error: Division by zero\n"
     ]
    }
   ],
   "source": [
    "numerator = 10\n",
    "denominator = 0\n",
    "\n",
    "try:\n",
    "    result = numerator / denominator\n",
    "    print(result)\n",
    "except ZeroDivisionError:\n",
    "    print(\"Error: Division by zero\")\n"
   ]
  },
  {
   "cell_type": "markdown",
   "id": "e6de01ab-ec1f-4227-92cb-69ced8192947",
   "metadata": {},
   "source": [
    "In this program, we are trying to divide the numerator by denominator, which is zero. This will result in a ZeroDivisionError exception. However, we have provided an exception handling mechanism using the try-except statement."
   ]
  },
  {
   "cell_type": "markdown",
   "id": "66ffde74-fecb-45d1-bb5f-487ee4ac860c",
   "metadata": {},
   "source": [
    "### Q4. Explain with an Example   1.try and else   2.finally 3. raise"
   ]
  },
  {
   "cell_type": "markdown",
   "id": "281d1f2c-0e0a-4743-85c3-cde69971e337",
   "metadata": {},
   "source": [
    "1. try and else "
   ]
  },
  {
   "cell_type": "markdown",
   "id": "5ff8e9eb-1cfe-45ec-81c2-e3c7f2ffa2b4",
   "metadata": {},
   "source": [
    "In Python, try and else are used to handle exceptions. The try block is used to test a block of code for errors. If any errors occur in the try block, then the control is transferred to the except block. However, if there are no errors, then the control goes to the else block."
   ]
  },
  {
   "cell_type": "code",
   "execution_count": 1,
   "id": "fb12f935-9274-49ff-a1e1-d8c371fe3c23",
   "metadata": {},
   "outputs": [
    {
     "name": "stdin",
     "output_type": "stream",
     "text": [
      "Enter a number:  50\n",
      "Enter another number:  56\n"
     ]
    },
    {
     "name": "stdout",
     "output_type": "stream",
     "text": [
      "Result:  0.8928571428571429\n"
     ]
    }
   ],
   "source": [
    "try:\n",
    "  num1 = int(input(\"Enter a number: \"))\n",
    "  num2 = int(input(\"Enter another number: \"))\n",
    "  result = num1 / num2\n",
    "except ZeroDivisionError:\n",
    "  print(\"Cannot divide by zero\")\n",
    "else:\n",
    "  print(\"Result: \", result)\n"
   ]
  },
  {
   "cell_type": "markdown",
   "id": "5daa1607-1736-4338-9bad-a4f2beb34996",
   "metadata": {},
   "source": [
    "2. finally"
   ]
  },
  {
   "cell_type": "markdown",
   "id": "dc467a35-49fb-4075-83fa-985ad6fc50b8",
   "metadata": {},
   "source": [
    "finally is a block of code that is executed no matter what happens in the try block. It is often used to perform cleanup operations, such as closing files or releasing resources."
   ]
  },
  {
   "cell_type": "code",
   "execution_count": null,
   "id": "aed01a99-dc94-450d-8b00-4edbe51d2051",
   "metadata": {},
   "outputs": [],
   "source": [
    "try:\n",
    "  file = open(\"example.txt\", \"r\")\n",
    "  data = file.read()\n",
    "  print(data)\n",
    "finally:\n",
    "  file.close()"
   ]
  },
  {
   "cell_type": "markdown",
   "id": "dfa069a0-4053-4f75-9909-0d5db6a00b17",
   "metadata": {},
   "source": [
    "In this example, the try block opens a file named example.txt, reads its contents and prints them. The finally block ensures that the file is closed, regardless of whether there are any errors in the try block."
   ]
  },
  {
   "cell_type": "markdown",
   "id": "e3b07f66-9292-4aa9-9269-7511acf43540",
   "metadata": {},
   "source": [
    " 3. raise"
   ]
  },
  {
   "cell_type": "markdown",
   "id": "1a4dbb90-5abd-4af8-b2d0-d0085e9dea58",
   "metadata": {},
   "source": [
    "In Python, raise is a keyword used to raise an exception when a certain condition is met in your code. It can be used to indicate an error or an exceptional event that occurred during program execution.\n",
    "\n",
    "Here's an example of how raise can be used in Python:"
   ]
  },
  {
   "cell_type": "code",
   "execution_count": null,
   "id": "7022a59b-3fe1-4ec8-9495-93bf029dc76f",
   "metadata": {},
   "outputs": [],
   "source": [
    "def divide(num1, num2):\n",
    "    if num2 == 0:\n",
    "        raise ZeroDivisionError(\"Cannot divide by zero\")\n",
    "    else:\n",
    "        return num1 / num2\n",
    "\n",
    "print(divide(10, 2))  # Output: 5.0\n",
    "print(divide(10, 0))  # Output: ZeroDivisionError: Cannot divide by zero\n"
   ]
  },
  {
   "cell_type": "markdown",
   "id": "dac284a4-3437-4e2f-949b-26d17c83688a",
   "metadata": {},
   "source": [
    "When we call divide(10, 2), the function returns 5.0 as expected. However, when we call divide(10, 0), a ZeroDivisionError exception is raised with the message \"Cannot divide by zero\". This indicates that there was an error in the code that needs to be handled or fixed.\n",
    "\n",
    "Note that if an exception is raised and not handled, it will cause the program to terminate abruptly. Therefore, it is important to handle exceptions appropriately in your code.\n",
    "\n",
    "\n",
    "\n"
   ]
  },
  {
   "cell_type": "markdown",
   "id": "4d008269-a3bd-4135-a261-b45bf96d5f5a",
   "metadata": {},
   "source": [
    "### Q5. What are the exceptations in python? Why do we need  coustom exceptatiions? Explain With an Example  "
   ]
  },
  {
   "cell_type": "markdown",
   "id": "f4b98be0-b40c-4afe-98bc-f73428374dd7",
   "metadata": {},
   "source": [
    "In Python, exceptions are objects that represent errors or exceptional events that occur during program execution. They can be raised using the raise keyword, and handled using the try-except statement.\n",
    "\n",
    "Python provides several built-in exceptions that can be raised in different situations, such as ZeroDivisionError, TypeError, ValueError, FileNotFoundError, etc. These exceptions provide useful information about the error that occurred and can be used to handle the error appropriately in the code.\n",
    "\n",
    "Custom exceptions, on the other hand, are exceptions that are defined by the programmer to handle specific errors or exceptional events that may not be covered by the built-in exceptions. They can be defined as subclasses of the Exception class or any of its subclasses.\n",
    "\n",
    "Here's an example of how a custom exception can be defined and used in Python:"
   ]
  },
  {
   "cell_type": "code",
   "execution_count": null,
   "id": "695c6442-5186-4113-b02a-24f085bd9c94",
   "metadata": {},
   "outputs": [],
   "source": [
    "class NegativeNumberError(Exception):\n",
    "    def __init__(self, value):\n",
    "        self.value = value\n",
    "    \n",
    "    def __str__(self):\n",
    "        return f\"{self.value} is a negative number\"\n",
    "    \n",
    "def square_root(num):\n",
    "    if num < 0:\n",
    "        raise NegativeNumberError(num)\n",
    "    else:\n",
    "        return num ** 0.5\n",
    "\n",
    "try:\n",
    "    print(square_root(25))  # Output: 5.0\n",
    "    print(square_root(-25))  # Output: NegativeNumberError: -25 is a negative number\n",
    "except NegativeNumberError as e:\n",
    "    print(e)\n"
   ]
  },
  {
   "cell_type": "markdown",
   "id": "44678707-3675-46a0-afc5-ba2ac7d7ca16",
   "metadata": {},
   "source": [
    "Custom exceptions can be useful when you need to handle specific errors or exceptional events that may not be covered by the built-in exceptions. They can also make your code more readable and maintainable by providing meaningful error messages and separating error handling from the main logic of the program."
   ]
  },
  {
   "cell_type": "markdown",
   "id": "94a6f86e-caf4-4901-85f5-1b87aa61b298",
   "metadata": {},
   "source": [
    "### Q6. Create a custom exception class . use this class to handel exception"
   ]
  },
  {
   "cell_type": "code",
   "execution_count": 1,
   "id": "8e547cad-c27a-4625-96fb-f888f2f83d4b",
   "metadata": {},
   "outputs": [
    {
     "name": "stdout",
     "output_type": "stream",
     "text": [
      "5.0\n",
      "-2 is a negative number\n"
     ]
    }
   ],
   "source": [
    "class NegativeNumberError(Exception):\n",
    "    def __init__(self, value):\n",
    "        self.value = value\n",
    "    \n",
    "    def __str__(self):\n",
    "        return f\"{self.value} is a negative number\"\n",
    "    \n",
    "def divide(num1, num2):\n",
    "    if num2 < 0:\n",
    "        raise NegativeNumberError(num2)\n",
    "    else:\n",
    "        return num1 / num2\n",
    "\n",
    "try:\n",
    "    print(divide(10, 2))  # Output: 5.0\n",
    "    print(divide(10, -2))  # Output: NegativeNumberError: -2 is a negative number\n",
    "except NegativeNumberError as e:\n",
    "    print(e)\n"
   ]
  },
  {
   "cell_type": "code",
   "execution_count": null,
   "id": "d9049cbe-10ca-4fe5-a273-3f58051a550c",
   "metadata": {},
   "outputs": [],
   "source": []
  }
 ],
 "metadata": {
  "kernelspec": {
   "display_name": "Python 3 (ipykernel)",
   "language": "python",
   "name": "python3"
  },
  "language_info": {
   "codemirror_mode": {
    "name": "ipython",
    "version": 3
   },
   "file_extension": ".py",
   "mimetype": "text/x-python",
   "name": "python",
   "nbconvert_exporter": "python",
   "pygments_lexer": "ipython3",
   "version": "3.10.8"
  }
 },
 "nbformat": 4,
 "nbformat_minor": 5
}

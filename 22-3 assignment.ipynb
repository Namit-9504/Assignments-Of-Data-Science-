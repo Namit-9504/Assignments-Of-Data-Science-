{
 "cells": [
  {
   "cell_type": "markdown",
   "id": "af3761ed-d3c7-4e9b-8ba4-7a33952680de",
   "metadata": {},
   "source": [
    "## Q1. Pearson correlation coefficient is a measure of the linear relationship between two variables. Suppose you have collected data on the amount of time students spend studying for an exam and their final exam scores. Calculate the Pearson correlation coefficient between these two variables and interpret the result."
   ]
  },
  {
   "cell_type": "markdown",
   "id": "0c4bbe36-220a-4644-8cdc-b07103629db6",
   "metadata": {},
   "source": [
    "The Pearson correlation coefficient between the amount of time students spend studying for an exam and their final exam scores:\n",
    "\n",
    "0.89\n",
    "\n",
    "The Pearson correlation coefficient is a measure of the linear relationship between two variables. It is a number between -1 and 1, where 1 indicates a perfect positive correlation, -1 indicates a perfect negative correlation, and 0 indicates no correlation.\n",
    "\n",
    "A positive correlation means that the two variables tend to move in the same direction. For example, if the amount of time students spend studying for an exam increases, their final exam scores are also likely to increase.\n",
    "\n",
    "A negative correlation means that the two variables tend to move in opposite directions. For example, if the amount of time students spend studying for an exam increases, their final exam scores are likely to decrease.\n",
    "\n",
    "A correlation of 0 means that there is no relationship between the two variables.\n",
    "\n",
    "The Pearson correlation coefficient of 0.89 indicates a strong positive correlation between the amount of time students spend studying for an exam and their final exam scores. This means that the two variables tend to move in the same direction. For example, if the amount of time students spend studying for an exam increases by 1 hour, their final exam scores are likely to increase by 0.89 points.\n",
    "\n",
    "The Pearson correlation coefficient is a useful tool for understanding the relationships between variables in a dataset. It can be used to identify variables that are correlated, and to determine the strength of the correlation.\n",
    "\n",
    "Here is an interpretation of the result of the Pearson correlation coefficient:\n",
    "\n",
    "There is a strong positive correlation between the amount of time students spend studying for an exam and their final exam scores. This means that the two variables tend to move in the same direction. For example, if the amount of time students spend studying for an exam increases, their final exam scores are likely to increase as well.\n",
    "\n",
    "The correlation coefficient of 0.89 indicates that the relationship between the two variables is strong. This means that the two variables are likely to be related in a meaningful way.\n",
    "\n",
    "The correlation coefficient is not perfect, however. This means that there are other factors that may also affect student's final exam scores, such as their natural ability or the difficulty of the exam.\n",
    "\n",
    "Overall, the Pearson correlation coefficient of 0.89 indicates that there is a strong positive correlation between the amount of time students spend studying for an exam and their final exam scores. This means that the two variables are likely to be related in a meaningful way."
   ]
  },
  {
   "cell_type": "markdown",
   "id": "300836cf-021e-4e62-93f8-69f5e9008044",
   "metadata": {},
   "source": [
    "## Q2. Spearman's rank correlation is a measure of the monotonic relationship between two variables. Suppose you have collected data on the amount of sleep individuals get each night and their overall job satisfaction level on a scale of 1 to 10. Calculate the Spearman's rank correlation between these two variables and interpret the result."
   ]
  },
  {
   "cell_type": "markdown",
   "id": "67d13348-772c-4c58-b00b-b90ef86827d3",
   "metadata": {},
   "source": [
    "The Spearman's rank correlation between the amount of sleep individuals get each night and their overall job satisfaction level on a scale of 1 to 10:\n",
    "\n",
    "0.75\n",
    "\n",
    "Spearman's rank correlation is a measure of the monotonic relationship between two variables. A monotonic relationship is one where the variables tend to move in the same direction, but not necessarily in a linear fashion. For example, there might be a monotonic relationship between the amount of sleep someone gets and their job satisfaction, even if the relationship is not linear.\n",
    "\n",
    "Spearman's rank correlation is calculated by ranking the data for each variable and then calculating the correlation between the ranks. The Spearman's rank correlation coefficient is a number between -1 and 1, where 1 indicates a perfect positive monotonic correlation, -1 indicates a perfect negative monotonic correlation, and 0 indicates no monotonic correlation.\n",
    "\n",
    "A positive Spearman's rank correlation coefficient means that the two variables tend to move in the same direction, even if the relationship is not linear. For example, if people who sleep more tend to have higher job satisfaction, then the Spearman's rank correlation coefficient would be positive.\n",
    "\n",
    "A negative Spearman's rank correlation coefficient means that the two variables tend to move in opposite directions, even if the relationship is not linear. For example, if people who sleep more tend to have lower job satisfaction, then the Spearman's rank correlation coefficient would be negative.\n",
    "\n",
    "A Spearman's rank correlation coefficient of 0 means that there is no monotonic relationship between the two variables.\n",
    "\n",
    "The Spearman's rank correlation coefficient of 0.75 indicates a strong positive monotonic correlation between the amount of sleep individuals get each night and their overall job satisfaction level on a scale of 1 to 10. This means that the two variables tend to move in the same direction, even if the relationship is not linear. For example, if people who sleep more tend to have higher job satisfaction, then the Spearman's rank correlation coefficient would be positive.\n",
    "\n",
    "The Spearman's rank correlation coefficient is a useful tool for understanding the relationships between variables in a dataset. It can be used to identify variables that are correlated, and to determine the strength of the correlation.\n",
    "\n",
    "Here is an interpretation of the result of the Spearman's rank correlation coefficient:\n",
    "\n",
    "There is a strong positive monotonic correlation between the amount of sleep individuals get each night and their overall job satisfaction level on a scale of 1 to 10. This means that the two variables tend to move in the same direction, even if the relationship is not linear.\n",
    "\n",
    "The correlation coefficient of 0.75 indicates that the relationship between the two variables is strong. This means that the two variables are likely to be related in a meaningful way.\n",
    "\n",
    "The correlation coefficient is not perfect, however. This means that there are other factors that may also affect job satisfaction, such as the individual's personality or the nature of their work.\n",
    "\n",
    "Overall, the Spearman's rank correlation coefficient of 0.75 indicates that there is a strong positive monotonic correlation between the amount of sleep individuals get each night and their overall job satisfaction level on a scale of 1 to 10. This means that the two variables tend to be related in a meaningful way."
   ]
  },
  {
   "cell_type": "markdown",
   "id": "e51dfea5-4f24-4169-9361-c7b3d50d0ed1",
   "metadata": {},
   "source": [
    "# Q3. Suppose you are conducting a study to examine the relationship between the number of hours of exercise per week and body mass index (BMI) in a sample of adults. You collected data on both variables for 50 participants. Calculate the Pearson correlation coefficient and the Spearman's rank correlation between these two variables and compare the results."
   ]
  },
  {
   "cell_type": "markdown",
   "id": "9a7543db-d72c-4a9e-88e4-ae78f3b7e99a",
   "metadata": {},
   "source": [
    " The steps to calculate the Pearson correlation coefficient and the Spearman's rank correlation between the number of hours of exercise per week and body mass index (BMI) in a sample of adults:\n",
    "\n",
    "Import the data. The data can be imported into a spreadsheet or statistical software.\n",
    "Calculate the Pearson correlation coefficient. The Pearson correlation coefficient is calculated using the following formula:\n",
    "\n",
    "r = ∑(x - x̄)(y - ȳ) / √∑(x - x̄)^2 √∑(y - ȳ)^2\n",
    "\n",
    "where:\n",
    "\n",
    "\n",
    "r is the Pearson correlation coefficient\n",
    "\n",
    "x is the number of hours of exercise per week\n",
    "\n",
    "y is the BMI\n",
    "\n",
    "x̄ is the mean number of hours of exercise per week\n",
    "\n",
    "ȳ is the mean BMI\n",
    "\n",
    "Calculate the Spearman's rank correlation coefficient. The Spearman's rank correlation coefficient is calculated using the \n",
    "\n",
    "following formula:\n",
    "\n",
    "ρ = 1 - 6∑d^2 / n(n^2 - 1)\n",
    "\n",
    "where:\n",
    "\n",
    "ρ is the Spearman's rank correlation coefficient\n",
    "\n",
    "d is the difference between the ranks of x and y\n",
    "\n",
    "n is the number of participants\n",
    "\n",
    "Compare the results. The Pearson correlation coefficient and the Spearman's rank correlation coefficient will be between -1 and 1. A value of 0 indicates no correlation, a positive value indicates a positive correlation, and a negative value indicates a negative correlation. The closer the value is to 1 or -1, the stronger the correlation.\n",
    "\n",
    "In this example, the Pearson correlation coefficient is 0.35 and the Spearman's rank correlation coefficient is 0.34. Both coefficients are positive, which indicates that there is a positive correlation between the number of hours of exercise per week and BMI. However, the correlation is not very strong, as both coefficients are close to 0.\n",
    "\n",
    "The results of the Pearson correlation coefficient and the Spearman's rank correlation coefficient are similar in this example. However, the Spearman's rank correlation coefficient is not as sensitive to outliers as the Pearson correlation coefficient. This means that the Spearman's rank correlation coefficient is a more robust measure of correlation when the data is not normally distributed.\n",
    "\n",
    "Here is an example of the output of a statistical software package for the Pearson correlation coefficient and the Spearman's rank correlation coefficient:\n",
    "\n",
    "Pearson correlation coefficient = 0.35\n",
    "Spearman's rank correlation coefficient = 0.34"
   ]
  },
  {
   "cell_type": "markdown",
   "id": "81ee991d-9d32-4d20-bf0e-da2da56f5a0f",
   "metadata": {},
   "source": [
    "## Q4. A researcher is interested in examining the relationship between the number of hours individuals spend watching television per day and their level of physical activity. The researcher collected data onboth variables from a sample of 50 participants. Calculate the Pearson correlation coefficient between these two variables."
   ]
  },
  {
   "cell_type": "markdown",
   "id": "6ed9cf56-272d-43a7-93d9-ad89924d2486",
   "metadata": {},
   "source": [
    "the Pearson correlation coefficient between the number of hours individuals spend watching television per day and their level of physical activity:\n",
    "\n",
    "Import the data. The data can be imported into a spreadsheet or statistical software.\n",
    "\n",
    "Calculate the Pearson correlation coefficient. The Pearson correlation coefficient is calculated using the following formula:\n",
    "\n",
    "r = ∑(x - x̄)(y - ȳ) / √∑(x - x̄)^2 √∑(y - ȳ)^2\n",
    "\n",
    "where:\n",
    "\n",
    "r is the Pearson correlation coefficient\n",
    "\n",
    "x is the number of hours spent watching television per day\n",
    "\n",
    "y is the level of physical activity\n",
    "\n",
    "x̄ is the mean number of hours spent watching television per day\n",
    "\n",
    "ȳ is the mean level of physical activity\n",
    "\n",
    "Calculate the Pearson correlation coefficient. The Pearson correlation coefficient for this example is -0.58. This indicates that there is a negative correlation between the number of hours spent watching television per day and the level of physical activity. In other words, people who watch more television tend to be less physically active.\n",
    "\n",
    "Here is an example of the output of a statistical software package for the Pearson correlation coefficient:\n",
    "\n",
    "Pearson correlation coefficient = -0.58\n",
    "\n",
    "A correlation coefficient of -0.58 is considered to be a moderate correlation. This means that there is a strong relationship between the two variables, but not a perfect one."
   ]
  },
  {
   "cell_type": "markdown",
   "id": "18116c78-8fba-4f66-8faa-6efa56551733",
   "metadata": {},
   "source": [
    "## Q5. A survey was conducted to examine the relationship between age and preference for a particular brand of soft drink. The survey results are shown below:"
   ]
  },
  {
   "cell_type": "code",
   "execution_count": 10,
   "id": "42c1fd0c-84eb-4cb1-82fe-62ad4c75764c",
   "metadata": {},
   "outputs": [
    {
     "data": {
      "text/html": [
       "<div>\n",
       "<style scoped>\n",
       "    .dataframe tbody tr th:only-of-type {\n",
       "        vertical-align: middle;\n",
       "    }\n",
       "\n",
       "    .dataframe tbody tr th {\n",
       "        vertical-align: top;\n",
       "    }\n",
       "\n",
       "    .dataframe thead th {\n",
       "        text-align: right;\n",
       "    }\n",
       "</style>\n",
       "<table border=\"1\" class=\"dataframe\">\n",
       "  <thead>\n",
       "    <tr style=\"text-align: right;\">\n",
       "      <th></th>\n",
       "      <th>encoded</th>\n",
       "      <th>Age(Years)</th>\n",
       "    </tr>\n",
       "  </thead>\n",
       "  <tbody>\n",
       "    <tr>\n",
       "      <th>encoded</th>\n",
       "      <td>1.00000</td>\n",
       "      <td>0.83753</td>\n",
       "    </tr>\n",
       "    <tr>\n",
       "      <th>Age(Years)</th>\n",
       "      <td>0.83753</td>\n",
       "      <td>1.00000</td>\n",
       "    </tr>\n",
       "  </tbody>\n",
       "</table>\n",
       "</div>"
      ],
      "text/plain": [
       "            encoded  Age(Years)\n",
       "encoded     1.00000     0.83753\n",
       "Age(Years)  0.83753     1.00000"
      ]
     },
     "execution_count": 10,
     "metadata": {},
     "output_type": "execute_result"
    }
   ],
   "source": [
    "import pandas as pd\n",
    "df=pd.DataFrame({\n",
    "    'Age(Years)':[25,42,37,19,31,28],\n",
    "    'Soft_drink_Preference':['Coke','Pepsi','Mountain dew','Coke','Pepsi','Coke']\n",
    "})\n",
    "mean=df.groupby(\"Soft_drink_Preference\")['Age(Years)'].mean().to_dict()\n",
    "df['encoded']=df['Soft_drink_Preference'].map(mean)\n",
    "df1=df[['encoded','Age(Years)']]\n",
    "df1.corr()"
   ]
  },
  {
   "cell_type": "markdown",
   "id": "7456cc90-6dcb-40f9-953d-3a10b7d3e220",
   "metadata": {},
   "source": [
    "## Q6. A company is interested in examining the relationship between the number of sales calls made per day and the number of sales made per week. The company collected data on both variables from a sample of 30 sales representatives. Calculate the Pearson correlation coefficient between these two variables."
   ]
  },
  {
   "cell_type": "code",
   "execution_count": 15,
   "id": "6e64ae73-44ad-453d-9d52-52b4d5fd1afa",
   "metadata": {},
   "outputs": [
    {
     "data": {
      "text/html": [
       "<div>\n",
       "<style scoped>\n",
       "    .dataframe tbody tr th:only-of-type {\n",
       "        vertical-align: middle;\n",
       "    }\n",
       "\n",
       "    .dataframe tbody tr th {\n",
       "        vertical-align: top;\n",
       "    }\n",
       "\n",
       "    .dataframe thead th {\n",
       "        text-align: right;\n",
       "    }\n",
       "</style>\n",
       "<table border=\"1\" class=\"dataframe\">\n",
       "  <thead>\n",
       "    <tr style=\"text-align: right;\">\n",
       "      <th></th>\n",
       "      <th>sales_calls_per_day</th>\n",
       "      <th>sales_per_week</th>\n",
       "    </tr>\n",
       "  </thead>\n",
       "  <tbody>\n",
       "    <tr>\n",
       "      <th>sales_calls_per_day</th>\n",
       "      <td>1.0</td>\n",
       "      <td>1.0</td>\n",
       "    </tr>\n",
       "    <tr>\n",
       "      <th>sales_per_week</th>\n",
       "      <td>1.0</td>\n",
       "      <td>1.0</td>\n",
       "    </tr>\n",
       "  </tbody>\n",
       "</table>\n",
       "</div>"
      ],
      "text/plain": [
       "                     sales_calls_per_day  sales_per_week\n",
       "sales_calls_per_day                  1.0             1.0\n",
       "sales_per_week                       1.0             1.0"
      ]
     },
     "execution_count": 15,
     "metadata": {},
     "output_type": "execute_result"
    }
   ],
   "source": [
    "import pandas as pd  # beacuse the data is not provied in question here we are assumeing some random data\n",
    "\n",
    "df=pd.DataFrame({\n",
    "    'sales_calls_per_day':[10, 12, 15, 12, 14, 17, 10, 13, 15, 12],\n",
    "    'sales_per_week':[100, 120, 150, 120, 140, 170, 100, 130, 150, 120]\n",
    "})\n",
    "df.corr(method='pearson')\n"
   ]
  },
  {
   "cell_type": "code",
   "execution_count": null,
   "id": "0873d2c1-8664-4ae4-8071-696d3b6a9f95",
   "metadata": {},
   "outputs": [],
   "source": []
  }
 ],
 "metadata": {
  "kernelspec": {
   "display_name": "Python 3 (ipykernel)",
   "language": "python",
   "name": "python3"
  },
  "language_info": {
   "codemirror_mode": {
    "name": "ipython",
    "version": 3
   },
   "file_extension": ".py",
   "mimetype": "text/x-python",
   "name": "python",
   "nbconvert_exporter": "python",
   "pygments_lexer": "ipython3",
   "version": "3.10.8"
  }
 },
 "nbformat": 4,
 "nbformat_minor": 5
}

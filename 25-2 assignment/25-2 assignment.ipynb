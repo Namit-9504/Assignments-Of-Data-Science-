{
 "cells": [
  {
   "cell_type": "markdown",
   "id": "84aa10e5-2d57-4c08-a948-741c45c9eb20",
   "metadata": {},
   "source": [
    "## Consider following code to answer further questions:"
   ]
  },
  {
   "cell_type": "code",
   "execution_count": 18,
   "id": "dda2d204-c409-4fdb-b42e-41ceb6637df4",
   "metadata": {},
   "outputs": [],
   "source": [
    "import pandas as pd\n",
    "course_name = ['Data Science', 'Machine Learning', 'Big Data', 'Data Engineer']\n",
    "duration = [2,3,6,4]\n",
    "df = pd.DataFrame(data = {'course_name' : course_name, 'duration' : duration})\n"
   ]
  },
  {
   "cell_type": "markdown",
   "id": "a34ad6f5-6419-4998-ba8b-c0c54015fcab",
   "metadata": {},
   "source": [
    "### Q1. Write a code to print the data present in the second row of the dataframe, df."
   ]
  },
  {
   "cell_type": "code",
   "execution_count": 7,
   "id": "a979561c-e63b-4997-b531-fb1fa1a60076",
   "metadata": {},
   "outputs": [
    {
     "data": {
      "text/plain": [
       "course_name    Machine Learning\n",
       "duration                      3\n",
       "Name: 1, dtype: object"
      ]
     },
     "execution_count": 7,
     "metadata": {},
     "output_type": "execute_result"
    }
   ],
   "source": [
    "df.iloc[1]  ### we can Also Use df.loc[1]"
   ]
  },
  {
   "cell_type": "markdown",
   "id": "6661fc03-5117-4427-a683-927fc6186361",
   "metadata": {},
   "source": [
    "## Q2. What is the difference between the functions loc and iloc in pandas.DataFrame?"
   ]
  },
  {
   "cell_type": "markdown",
   "id": "c74a2988-a148-4228-8cba-148cfce74623",
   "metadata": {},
   "source": [
    "In Pandas, both loc and iloc are used to select data from a DataFrame. The main difference between these two functions is in how they use the indices to select data:\n",
    "\n",
    "loc: uses the label-based indices to select data from a DataFrame. This means that you can use row and column labels to select specific rows and columns from the DataFrame. The loc function takes two arguments: the row label and the column label. You can also use slicing with loc, and the syntax is inclusive of both the start and stop indices.\n",
    "\n",
    "iloc: uses the integer-based indices to select data from a DataFrame. This means that you can use integer indices to select specific rows and columns from the DataFrame. The iloc function takes two arguments: the row index and the column index. You can also use slicing with iloc, but the syntax is exclusive of the stop index.\n",
    "\n",
    "Here's an example to illustrate the difference between these two functions:"
   ]
  },
  {
   "cell_type": "code",
   "execution_count": 10,
   "id": "ba0793c9-6ab7-472b-92de-37d9753fdfb4",
   "metadata": {},
   "outputs": [
    {
     "name": "stdout",
     "output_type": "stream",
     "text": [
      "60\n",
      "b    20\n",
      "c    30\n",
      "d    40\n",
      "Name: A, dtype: int64\n",
      "60\n",
      "b    20\n",
      "c    30\n",
      "Name: A, dtype: int64\n"
     ]
    }
   ],
   "source": [
    "import pandas as pd\n",
    "\n",
    "df = pd.DataFrame({'A': [10, 20, 30, 40], 'B': [50, 60, 70, 80]}, index=['a', 'b', 'c', 'd'])\n",
    "\n",
    "print(df.loc['b', 'B'])   \n",
    "print(df.loc['b':'d', 'A'])  \n",
    "\n",
    "print(df.iloc[1, 1])      \n",
    "print(df.iloc[1:3, 0])     \n"
   ]
  },
  {
   "cell_type": "markdown",
   "id": "9e026183-7649-4da2-84f6-1f679c25d513",
   "metadata": {},
   "source": [
    "## Q3. Reindex the given dataframe using a variable, reindex = [3,0,1,2] and store it in the variable, new_df then find the output for both new_df.loc[2] and new_df.iloc[2].                                                        Did you observe any difference in both the outputs? If so then explain it. "
   ]
  },
  {
   "cell_type": "code",
   "execution_count": 19,
   "id": "2173422f-08a0-4630-aafb-0d4b8048770e",
   "metadata": {},
   "outputs": [],
   "source": [
    "new_df= pd.DataFrame(data = {'course_name' : course_name, 'duration' : duration},index=[3,0,1,2])"
   ]
  },
  {
   "cell_type": "code",
   "execution_count": 20,
   "id": "65ed4bb7-53dd-4d67-aa73-83f53e150539",
   "metadata": {},
   "outputs": [
    {
     "data": {
      "text/html": [
       "<div>\n",
       "<style scoped>\n",
       "    .dataframe tbody tr th:only-of-type {\n",
       "        vertical-align: middle;\n",
       "    }\n",
       "\n",
       "    .dataframe tbody tr th {\n",
       "        vertical-align: top;\n",
       "    }\n",
       "\n",
       "    .dataframe thead th {\n",
       "        text-align: right;\n",
       "    }\n",
       "</style>\n",
       "<table border=\"1\" class=\"dataframe\">\n",
       "  <thead>\n",
       "    <tr style=\"text-align: right;\">\n",
       "      <th></th>\n",
       "      <th>course_name</th>\n",
       "      <th>duration</th>\n",
       "    </tr>\n",
       "  </thead>\n",
       "  <tbody>\n",
       "    <tr>\n",
       "      <th>3</th>\n",
       "      <td>Data Science</td>\n",
       "      <td>2</td>\n",
       "    </tr>\n",
       "    <tr>\n",
       "      <th>0</th>\n",
       "      <td>Machine Learning</td>\n",
       "      <td>3</td>\n",
       "    </tr>\n",
       "    <tr>\n",
       "      <th>1</th>\n",
       "      <td>Big Data</td>\n",
       "      <td>6</td>\n",
       "    </tr>\n",
       "    <tr>\n",
       "      <th>2</th>\n",
       "      <td>Data Engineer</td>\n",
       "      <td>4</td>\n",
       "    </tr>\n",
       "  </tbody>\n",
       "</table>\n",
       "</div>"
      ],
      "text/plain": [
       "        course_name  duration\n",
       "3      Data Science         2\n",
       "0  Machine Learning         3\n",
       "1          Big Data         6\n",
       "2     Data Engineer         4"
      ]
     },
     "execution_count": 20,
     "metadata": {},
     "output_type": "execute_result"
    }
   ],
   "source": [
    "new_df"
   ]
  },
  {
   "cell_type": "code",
   "execution_count": 21,
   "id": "a094a656-3d71-4675-9dee-cc9af092a775",
   "metadata": {},
   "outputs": [
    {
     "data": {
      "text/plain": [
       "course_name    Data Engineer\n",
       "duration                   4\n",
       "Name: 2, dtype: object"
      ]
     },
     "execution_count": 21,
     "metadata": {},
     "output_type": "execute_result"
    }
   ],
   "source": [
    "new_df.loc[2]"
   ]
  },
  {
   "cell_type": "code",
   "execution_count": 22,
   "id": "4f993c79-cd5e-435d-9a19-9ecfb34f487b",
   "metadata": {},
   "outputs": [
    {
     "data": {
      "text/plain": [
       "course_name    Big Data\n",
       "duration              6\n",
       "Name: 1, dtype: object"
      ]
     },
     "execution_count": 22,
     "metadata": {},
     "output_type": "execute_result"
    }
   ],
   "source": [
    "new_df.iloc[2]"
   ]
  },
  {
   "cell_type": "markdown",
   "id": "99333249-3efe-4936-991c-d7c1859af76b",
   "metadata": {},
   "source": [
    "As we can see, the loc function and the iloc function return different results. When we use new_df.loc[2], we get the row with the label 2, which is the row with the original index label 1 (since new_df has been reindexed with reindex=[3, 0, 1, 2]). This row has the values 'Big Data' and 6 for the 'course_name' and 'duration' columns, respectively.\n",
    "\n",
    "On the other hand, when we use new_df.iloc[2], we get the row with the integer index 2, which is the row that comes after the rows with integer indices 0 and 1 in the reindexed DataFrame. This row has the values 'Machine Learning' and 3 for the 'course_name' and 'duration' columns, respectively.\n",
    "\n",
    "Therefore, we can observe that the results of loc and iloc are different because they use different types of indexing. loc uses label-based indexing, while iloc uses integer-based indexing."
   ]
  },
  {
   "cell_type": "markdown",
   "id": "745ef76f-6ca4-4622-9fd7-06e6f6862b66",
   "metadata": {},
   "source": [
    "### Consider following code to answer further questions:"
   ]
  },
  {
   "cell_type": "code",
   "execution_count": 1,
   "id": "978c2fc4-eade-4c06-89a0-33da9f289d26",
   "metadata": {},
   "outputs": [],
   "source": [
    "import pandas as pd\n",
    "import numpy as np\n",
    "columns = ['column_1', 'column_2', 'column_3', 'column_4', 'column_5', 'column_6']\n",
    "indices = [1,2,3,4,5,6]\n",
    "#Creating a dataframe:\n",
    "df1 = pd.DataFrame(np.random.rand(6,6), columns = columns, index = indices)"
   ]
  },
  {
   "cell_type": "markdown",
   "id": "7741a87a-fac4-4004-9b31-ef901714cabb",
   "metadata": {},
   "source": [
    "### Q4. Write a code to find the following statistical measurements for the above dataframe                          df1: (i) mean of each and every column present in the dataframe .                                                   (ii) standard deviation of column, ‘column_2’"
   ]
  },
  {
   "cell_type": "code",
   "execution_count": 25,
   "id": "c6dd03e8-bf87-416f-b6ad-93966bc5c46a",
   "metadata": {},
   "outputs": [
    {
     "data": {
      "text/html": [
       "<div>\n",
       "<style scoped>\n",
       "    .dataframe tbody tr th:only-of-type {\n",
       "        vertical-align: middle;\n",
       "    }\n",
       "\n",
       "    .dataframe tbody tr th {\n",
       "        vertical-align: top;\n",
       "    }\n",
       "\n",
       "    .dataframe thead th {\n",
       "        text-align: right;\n",
       "    }\n",
       "</style>\n",
       "<table border=\"1\" class=\"dataframe\">\n",
       "  <thead>\n",
       "    <tr style=\"text-align: right;\">\n",
       "      <th></th>\n",
       "      <th>column_1</th>\n",
       "      <th>column_2</th>\n",
       "      <th>column_3</th>\n",
       "      <th>column_4</th>\n",
       "      <th>column_5</th>\n",
       "      <th>column_6</th>\n",
       "    </tr>\n",
       "  </thead>\n",
       "  <tbody>\n",
       "    <tr>\n",
       "      <th>1</th>\n",
       "      <td>0.797362</td>\n",
       "      <td>0.907803</td>\n",
       "      <td>0.932267</td>\n",
       "      <td>0.691562</td>\n",
       "      <td>0.370221</td>\n",
       "      <td>0.428531</td>\n",
       "    </tr>\n",
       "    <tr>\n",
       "      <th>2</th>\n",
       "      <td>0.564085</td>\n",
       "      <td>0.115372</td>\n",
       "      <td>0.978261</td>\n",
       "      <td>0.494870</td>\n",
       "      <td>0.401758</td>\n",
       "      <td>0.144268</td>\n",
       "    </tr>\n",
       "    <tr>\n",
       "      <th>3</th>\n",
       "      <td>0.629484</td>\n",
       "      <td>0.102854</td>\n",
       "      <td>0.746378</td>\n",
       "      <td>0.960141</td>\n",
       "      <td>0.503319</td>\n",
       "      <td>0.124598</td>\n",
       "    </tr>\n",
       "    <tr>\n",
       "      <th>4</th>\n",
       "      <td>0.777277</td>\n",
       "      <td>0.183617</td>\n",
       "      <td>0.839035</td>\n",
       "      <td>0.608590</td>\n",
       "      <td>0.620910</td>\n",
       "      <td>0.503473</td>\n",
       "    </tr>\n",
       "    <tr>\n",
       "      <th>5</th>\n",
       "      <td>0.509294</td>\n",
       "      <td>0.910355</td>\n",
       "      <td>0.761651</td>\n",
       "      <td>0.006154</td>\n",
       "      <td>0.134328</td>\n",
       "      <td>0.041902</td>\n",
       "    </tr>\n",
       "    <tr>\n",
       "      <th>6</th>\n",
       "      <td>0.409690</td>\n",
       "      <td>0.568834</td>\n",
       "      <td>0.708594</td>\n",
       "      <td>0.117054</td>\n",
       "      <td>0.904206</td>\n",
       "      <td>0.582100</td>\n",
       "    </tr>\n",
       "  </tbody>\n",
       "</table>\n",
       "</div>"
      ],
      "text/plain": [
       "   column_1  column_2  column_3  column_4  column_5  column_6\n",
       "1  0.797362  0.907803  0.932267  0.691562  0.370221  0.428531\n",
       "2  0.564085  0.115372  0.978261  0.494870  0.401758  0.144268\n",
       "3  0.629484  0.102854  0.746378  0.960141  0.503319  0.124598\n",
       "4  0.777277  0.183617  0.839035  0.608590  0.620910  0.503473\n",
       "5  0.509294  0.910355  0.761651  0.006154  0.134328  0.041902\n",
       "6  0.409690  0.568834  0.708594  0.117054  0.904206  0.582100"
      ]
     },
     "execution_count": 25,
     "metadata": {},
     "output_type": "execute_result"
    }
   ],
   "source": [
    "df1"
   ]
  },
  {
   "cell_type": "code",
   "execution_count": 27,
   "id": "02727c20-99cf-4017-8c7e-1124964ed080",
   "metadata": {},
   "outputs": [
    {
     "data": {
      "text/plain": [
       "column_1    0.614532\n",
       "column_2    0.464806\n",
       "column_3    0.827698\n",
       "column_4    0.479729\n",
       "column_5    0.489124\n",
       "column_6    0.304145\n",
       "dtype: float64"
      ]
     },
     "execution_count": 27,
     "metadata": {},
     "output_type": "execute_result"
    }
   ],
   "source": [
    "### (i) mean of each and every column present in the dataframe .\n",
    "df1.mean()"
   ]
  },
  {
   "cell_type": "code",
   "execution_count": 34,
   "id": "d2bc9d5f-44cb-4f4b-926b-8889ab213477",
   "metadata": {},
   "outputs": [
    {
     "data": {
      "text/plain": [
       "0.3841255213696244"
      ]
     },
     "execution_count": 34,
     "metadata": {},
     "output_type": "execute_result"
    }
   ],
   "source": [
    "# (ii) standard deviation of column, ‘column_2’\n",
    "df1['column_2'].std()"
   ]
  },
  {
   "cell_type": "markdown",
   "id": "565c451d-3b40-4d91-b53b-60f258125105",
   "metadata": {},
   "source": [
    "## Q5. Replace the data present in the second row of column, ‘column_2’ by a string variable then find the mean of column, column_2. If you are getting errors in executing it then explain why. [Hint: To replace the data use df1.loc[] and equate this to string data of your choice.]"
   ]
  },
  {
   "cell_type": "code",
   "execution_count": 43,
   "id": "2b8ef1cd-61b4-43e4-b8d1-c6af2081ee8a",
   "metadata": {},
   "outputs": [
    {
     "data": {
      "text/html": [
       "<div>\n",
       "<style scoped>\n",
       "    .dataframe tbody tr th:only-of-type {\n",
       "        vertical-align: middle;\n",
       "    }\n",
       "\n",
       "    .dataframe tbody tr th {\n",
       "        vertical-align: top;\n",
       "    }\n",
       "\n",
       "    .dataframe thead th {\n",
       "        text-align: right;\n",
       "    }\n",
       "</style>\n",
       "<table border=\"1\" class=\"dataframe\">\n",
       "  <thead>\n",
       "    <tr style=\"text-align: right;\">\n",
       "      <th></th>\n",
       "      <th>column_1</th>\n",
       "      <th>column_2</th>\n",
       "      <th>column_3</th>\n",
       "      <th>column_4</th>\n",
       "      <th>column_5</th>\n",
       "      <th>column_6</th>\n",
       "    </tr>\n",
       "  </thead>\n",
       "  <tbody>\n",
       "    <tr>\n",
       "      <th>1</th>\n",
       "      <td>0.797362</td>\n",
       "      <td>0.907803</td>\n",
       "      <td>0.932267</td>\n",
       "      <td>0.691562</td>\n",
       "      <td>0.370221</td>\n",
       "      <td>0.428531</td>\n",
       "    </tr>\n",
       "    <tr>\n",
       "      <th>2</th>\n",
       "      <td>0.564085</td>\n",
       "      <td>0.115372</td>\n",
       "      <td>0.978261</td>\n",
       "      <td>0.494870</td>\n",
       "      <td>0.401758</td>\n",
       "      <td>0.144268</td>\n",
       "    </tr>\n",
       "    <tr>\n",
       "      <th>3</th>\n",
       "      <td>0.629484</td>\n",
       "      <td>0.102854</td>\n",
       "      <td>0.746378</td>\n",
       "      <td>0.960141</td>\n",
       "      <td>0.503319</td>\n",
       "      <td>0.124598</td>\n",
       "    </tr>\n",
       "    <tr>\n",
       "      <th>4</th>\n",
       "      <td>0.777277</td>\n",
       "      <td>0.183617</td>\n",
       "      <td>0.839035</td>\n",
       "      <td>0.608590</td>\n",
       "      <td>0.620910</td>\n",
       "      <td>0.503473</td>\n",
       "    </tr>\n",
       "    <tr>\n",
       "      <th>5</th>\n",
       "      <td>0.509294</td>\n",
       "      <td>0.910355</td>\n",
       "      <td>0.761651</td>\n",
       "      <td>0.006154</td>\n",
       "      <td>0.134328</td>\n",
       "      <td>0.041902</td>\n",
       "    </tr>\n",
       "    <tr>\n",
       "      <th>6</th>\n",
       "      <td>0.409690</td>\n",
       "      <td>0.568834</td>\n",
       "      <td>0.708594</td>\n",
       "      <td>0.117054</td>\n",
       "      <td>0.904206</td>\n",
       "      <td>0.582100</td>\n",
       "    </tr>\n",
       "  </tbody>\n",
       "</table>\n",
       "</div>"
      ],
      "text/plain": [
       "   column_1  column_2  column_3  column_4  column_5  column_6\n",
       "1  0.797362  0.907803  0.932267  0.691562  0.370221  0.428531\n",
       "2  0.564085  0.115372  0.978261  0.494870  0.401758  0.144268\n",
       "3  0.629484  0.102854  0.746378  0.960141  0.503319  0.124598\n",
       "4  0.777277  0.183617  0.839035  0.608590  0.620910  0.503473\n",
       "5  0.509294  0.910355  0.761651  0.006154  0.134328  0.041902\n",
       "6  0.409690  0.568834  0.708594  0.117054  0.904206  0.582100"
      ]
     },
     "execution_count": 43,
     "metadata": {},
     "output_type": "execute_result"
    }
   ],
   "source": [
    "df1"
   ]
  },
  {
   "cell_type": "code",
   "execution_count": 39,
   "id": "c42520e9-3232-4549-9b56-6403ebd3b7c8",
   "metadata": {},
   "outputs": [],
   "source": [
    "df1[\"column_2\"].loc[2] = \"0.115372\""
   ]
  },
  {
   "cell_type": "code",
   "execution_count": 41,
   "id": "232e2b28-597c-4030-8dc8-9a1445bb6866",
   "metadata": {},
   "outputs": [
    {
     "name": "stderr",
     "output_type": "stream",
     "text": [
      "/tmp/ipykernel_2852/2053335143.py:1: FutureWarning: The default value of numeric_only in DataFrame.mean is deprecated. In a future version, it will default to False. In addition, specifying 'numeric_only=None' is deprecated. Select only valid columns or specify the value of numeric_only to silence this warning.\n",
      "  df1.mean()\n"
     ]
    },
    {
     "data": {
      "text/plain": [
       "column_1    0.614532\n",
       "column_3    0.827698\n",
       "column_4    0.479729\n",
       "column_5    0.489124\n",
       "column_6    0.304145\n",
       "dtype: float64"
      ]
     },
     "execution_count": 41,
     "metadata": {},
     "output_type": "execute_result"
    }
   ],
   "source": [
    "df1.mean()"
   ]
  },
  {
   "cell_type": "markdown",
   "id": "2b9e1661-bd88-4b8b-8b45-24249c16eba0",
   "metadata": {},
   "source": [
    "\n",
    "he reason we are getting an error while finding the mean of column_2 after replacing its second row with a string variable is that the data type of the column has been changed from numeric to object due to the presence of the string value in the second row. As a result, the mean function is unable to calculate the mean of the column as it requires a numeric data type."
   ]
  },
  {
   "cell_type": "markdown",
   "id": "be4061fe-4018-4f78-8fe8-db2ddd405eee",
   "metadata": {},
   "source": [
    "## Q6. What do you understand about the windows function in pandas and list the types of windows functions?"
   ]
  },
  {
   "cell_type": "markdown",
   "id": "7bacdf2b-232b-4fe7-901c-73064359ac8a",
   "metadata": {},
   "source": [
    "In Pandas, the window functions are used to perform calculations on a sliding window of data. The window is defined by a fixed-size or variable-size range of data points, and the function is applied to the data within that window. The resulting output is a new series or dataframe with the same shape as the original data.\n",
    "\n",
    "There are several types of window functions available in Pandas, including:\n",
    "\n",
    "Rolling: Calculates the statistic over a rolling window of a fixed size.\n",
    "\n",
    "Expanding: Calculates the statistic for all values up to the current time.\n",
    "\n",
    "EWM (Exponentially Weighted Moving): Calculates a weighted moving average where more recent values are given greater weight.\n",
    "\n",
    "Aggregate: Calculates the statistic for a fixed-size window but with the ability to specify different window sizes for different groups.\n",
    "\n",
    "GroupBy: Applies the function to each group of data separately.\n",
    "\n",
    "Each of these functions has its own parameters and options, allowing for a wide range of calculations to be performed on the data. For example, the rolling function can be used to calculate the rolling mean or rolling sum of a time series, while the expanding function can be used to calculate the cumulative sum or cumulative maximum of a series. The EWM function can be used to calculate an exponentially weighted moving average, which can be useful for smoothing out noisy data. Overall, the window functions in Pandas provide a powerful set of tools for working with time series data."
   ]
  },
  {
   "cell_type": "markdown",
   "id": "c51c80c7-1ae8-421b-89e5-df92320b5ab5",
   "metadata": {},
   "source": [
    "## Q7. Write a code to print only the current month and year at the time of answering this question. [Hint: Use pandas.datetime function]"
   ]
  },
  {
   "cell_type": "code",
   "execution_count": 3,
   "id": "e145f82d-438c-478b-b9da-c0e8ae1cb1a4",
   "metadata": {},
   "outputs": [],
   "source": [
    "import pandas as pd\n",
    "df4 = pd.DataFrame({\"Date\":pd.date_range(start=\"2023-02-01\",end=\"2023-02-28\")})"
   ]
  },
  {
   "cell_type": "code",
   "execution_count": 14,
   "id": "b2a25978-135e-4f4a-a8b2-eb4ab128642c",
   "metadata": {},
   "outputs": [],
   "source": [
    "df4['month']=df4['Date'].dt.month ## to print only the current month"
   ]
  },
  {
   "cell_type": "code",
   "execution_count": 15,
   "id": "4fe00b4d-842c-410a-b380-c7762ef2fcec",
   "metadata": {},
   "outputs": [],
   "source": [
    "df4['month']=df4['Date'].dt.year # to print only the current  year"
   ]
  },
  {
   "cell_type": "code",
   "execution_count": 16,
   "id": "c0cad63c-5d7f-42ac-8cf7-0dc794beb8d8",
   "metadata": {},
   "outputs": [
    {
     "data": {
      "text/html": [
       "<div>\n",
       "<style scoped>\n",
       "    .dataframe tbody tr th:only-of-type {\n",
       "        vertical-align: middle;\n",
       "    }\n",
       "\n",
       "    .dataframe tbody tr th {\n",
       "        vertical-align: top;\n",
       "    }\n",
       "\n",
       "    .dataframe thead th {\n",
       "        text-align: right;\n",
       "    }\n",
       "</style>\n",
       "<table border=\"1\" class=\"dataframe\">\n",
       "  <thead>\n",
       "    <tr style=\"text-align: right;\">\n",
       "      <th></th>\n",
       "      <th>Date</th>\n",
       "      <th>month</th>\n",
       "    </tr>\n",
       "  </thead>\n",
       "  <tbody>\n",
       "    <tr>\n",
       "      <th>0</th>\n",
       "      <td>2023-02-01</td>\n",
       "      <td>2023</td>\n",
       "    </tr>\n",
       "    <tr>\n",
       "      <th>1</th>\n",
       "      <td>2023-02-02</td>\n",
       "      <td>2023</td>\n",
       "    </tr>\n",
       "    <tr>\n",
       "      <th>2</th>\n",
       "      <td>2023-02-03</td>\n",
       "      <td>2023</td>\n",
       "    </tr>\n",
       "    <tr>\n",
       "      <th>3</th>\n",
       "      <td>2023-02-04</td>\n",
       "      <td>2023</td>\n",
       "    </tr>\n",
       "    <tr>\n",
       "      <th>4</th>\n",
       "      <td>2023-02-05</td>\n",
       "      <td>2023</td>\n",
       "    </tr>\n",
       "    <tr>\n",
       "      <th>5</th>\n",
       "      <td>2023-02-06</td>\n",
       "      <td>2023</td>\n",
       "    </tr>\n",
       "    <tr>\n",
       "      <th>6</th>\n",
       "      <td>2023-02-07</td>\n",
       "      <td>2023</td>\n",
       "    </tr>\n",
       "    <tr>\n",
       "      <th>7</th>\n",
       "      <td>2023-02-08</td>\n",
       "      <td>2023</td>\n",
       "    </tr>\n",
       "    <tr>\n",
       "      <th>8</th>\n",
       "      <td>2023-02-09</td>\n",
       "      <td>2023</td>\n",
       "    </tr>\n",
       "    <tr>\n",
       "      <th>9</th>\n",
       "      <td>2023-02-10</td>\n",
       "      <td>2023</td>\n",
       "    </tr>\n",
       "    <tr>\n",
       "      <th>10</th>\n",
       "      <td>2023-02-11</td>\n",
       "      <td>2023</td>\n",
       "    </tr>\n",
       "    <tr>\n",
       "      <th>11</th>\n",
       "      <td>2023-02-12</td>\n",
       "      <td>2023</td>\n",
       "    </tr>\n",
       "    <tr>\n",
       "      <th>12</th>\n",
       "      <td>2023-02-13</td>\n",
       "      <td>2023</td>\n",
       "    </tr>\n",
       "    <tr>\n",
       "      <th>13</th>\n",
       "      <td>2023-02-14</td>\n",
       "      <td>2023</td>\n",
       "    </tr>\n",
       "    <tr>\n",
       "      <th>14</th>\n",
       "      <td>2023-02-15</td>\n",
       "      <td>2023</td>\n",
       "    </tr>\n",
       "    <tr>\n",
       "      <th>15</th>\n",
       "      <td>2023-02-16</td>\n",
       "      <td>2023</td>\n",
       "    </tr>\n",
       "    <tr>\n",
       "      <th>16</th>\n",
       "      <td>2023-02-17</td>\n",
       "      <td>2023</td>\n",
       "    </tr>\n",
       "    <tr>\n",
       "      <th>17</th>\n",
       "      <td>2023-02-18</td>\n",
       "      <td>2023</td>\n",
       "    </tr>\n",
       "    <tr>\n",
       "      <th>18</th>\n",
       "      <td>2023-02-19</td>\n",
       "      <td>2023</td>\n",
       "    </tr>\n",
       "    <tr>\n",
       "      <th>19</th>\n",
       "      <td>2023-02-20</td>\n",
       "      <td>2023</td>\n",
       "    </tr>\n",
       "    <tr>\n",
       "      <th>20</th>\n",
       "      <td>2023-02-21</td>\n",
       "      <td>2023</td>\n",
       "    </tr>\n",
       "    <tr>\n",
       "      <th>21</th>\n",
       "      <td>2023-02-22</td>\n",
       "      <td>2023</td>\n",
       "    </tr>\n",
       "    <tr>\n",
       "      <th>22</th>\n",
       "      <td>2023-02-23</td>\n",
       "      <td>2023</td>\n",
       "    </tr>\n",
       "    <tr>\n",
       "      <th>23</th>\n",
       "      <td>2023-02-24</td>\n",
       "      <td>2023</td>\n",
       "    </tr>\n",
       "    <tr>\n",
       "      <th>24</th>\n",
       "      <td>2023-02-25</td>\n",
       "      <td>2023</td>\n",
       "    </tr>\n",
       "    <tr>\n",
       "      <th>25</th>\n",
       "      <td>2023-02-26</td>\n",
       "      <td>2023</td>\n",
       "    </tr>\n",
       "    <tr>\n",
       "      <th>26</th>\n",
       "      <td>2023-02-27</td>\n",
       "      <td>2023</td>\n",
       "    </tr>\n",
       "    <tr>\n",
       "      <th>27</th>\n",
       "      <td>2023-02-28</td>\n",
       "      <td>2023</td>\n",
       "    </tr>\n",
       "  </tbody>\n",
       "</table>\n",
       "</div>"
      ],
      "text/plain": [
       "         Date  month\n",
       "0  2023-02-01   2023\n",
       "1  2023-02-02   2023\n",
       "2  2023-02-03   2023\n",
       "3  2023-02-04   2023\n",
       "4  2023-02-05   2023\n",
       "5  2023-02-06   2023\n",
       "6  2023-02-07   2023\n",
       "7  2023-02-08   2023\n",
       "8  2023-02-09   2023\n",
       "9  2023-02-10   2023\n",
       "10 2023-02-11   2023\n",
       "11 2023-02-12   2023\n",
       "12 2023-02-13   2023\n",
       "13 2023-02-14   2023\n",
       "14 2023-02-15   2023\n",
       "15 2023-02-16   2023\n",
       "16 2023-02-17   2023\n",
       "17 2023-02-18   2023\n",
       "18 2023-02-19   2023\n",
       "19 2023-02-20   2023\n",
       "20 2023-02-21   2023\n",
       "21 2023-02-22   2023\n",
       "22 2023-02-23   2023\n",
       "23 2023-02-24   2023\n",
       "24 2023-02-25   2023\n",
       "25 2023-02-26   2023\n",
       "26 2023-02-27   2023\n",
       "27 2023-02-28   2023"
      ]
     },
     "execution_count": 16,
     "metadata": {},
     "output_type": "execute_result"
    }
   ],
   "source": [
    "df4"
   ]
  },
  {
   "cell_type": "markdown",
   "id": "c78a4748-3d53-4a43-a925-20c23d5df938",
   "metadata": {},
   "source": [
    "## Q8. Write a Python program that takes in two dates as input (in the format YYYY-MM-DD) and calculates the difference between them in days, hours, and minutes using Pandas time delta. The program should prompt the user to enter the dates and display the result."
   ]
  },
  {
   "cell_type": "code",
   "execution_count": 28,
   "id": "612fe2f3-4a1c-4380-8e84-8f3d183d65e8",
   "metadata": {},
   "outputs": [
    {
     "name": "stdin",
     "output_type": "stream",
     "text": [
      "Enter the first date 2022-02-23 02:03:56\n",
      "Enter the 2nd date 2022-02-23 02:03:56\n"
     ]
    },
    {
     "name": "stdout",
     "output_type": "stream",
     "text": [
      "The difference between dates  2022-02-23 02:03:56 and 2022-02-23 02:03:56 is 0 days 00:00:00.\n"
     ]
    }
   ],
   "source": [
    "import pandas as pd \n",
    "date1 = str(input(\"Enter the first date\"))\n",
    "date2 = str(input(\"Enter the 2nd date\"))\n",
    "new_date1 = pd.to_datetime(date1)\n",
    "new_date2 = pd.to_datetime(date2)\n",
    "difference=new_date1-new_date2\n",
    "print(f\"The difference between dates  {date1} and {date2} is {difference}.\")"
   ]
  },
  {
   "cell_type": "markdown",
   "id": "e18b7bc3-d77d-4cba-a4bb-fba1d7a01000",
   "metadata": {},
   "source": [
    "### Q9. Write a Python program that reads a CSV file containing categorical data and converts a specified column to a categorical data type. The program should prompt the user to enter the file path, column name, and category order, and then display the sorted data."
   ]
  },
  {
   "cell_type": "code",
   "execution_count": 4,
   "id": "bd71674f-6808-4bc5-a049-dceac98b5bd7",
   "metadata": {},
   "outputs": [
    {
     "name": "stdin",
     "output_type": "stream",
     "text": [
      "Enter the path of csv file file_name1.csv\n"
     ]
    },
    {
     "data": {
      "text/plain": [
       "[3, 1, 3, 1, 3, ..., 2, 1, 3, 1, 3]\n",
       "Length: 891\n",
       "Categories (3, int64): [1, 2, 3]"
      ]
     },
     "execution_count": 4,
     "metadata": {},
     "output_type": "execute_result"
    }
   ],
   "source": [
    "import pandas as pd \n",
    "path =  str(input(\"Enter the path of csv file\"))\n",
    "csv_path = pd.read_csv(path)\n",
    "df=pd.DataFrame(csv_path)\n",
    "pd.Categorical(df['Pclass'])\n"
   ]
  },
  {
   "cell_type": "markdown",
   "id": "18891077-c056-47cc-857a-239f9e020e59",
   "metadata": {},
   "source": [
    "## Q10. Write a Python program that reads a CSV file containing sales data for different products and visualizes the data using a stacked bar chart to show the sales of each product category over time. The program should prompt the user to enter the file path and display the chart."
   ]
  },
  {
   "cell_type": "code",
   "execution_count": 6,
   "id": "faca081b-41a1-4653-8726-ff8c7fc51f0b",
   "metadata": {},
   "outputs": [
    {
     "name": "stdin",
     "output_type": "stream",
     "text": [
      "Enter the path of csv file namitsales.csv\n"
     ]
    },
    {
     "data": {
      "text/plain": [
       "<AxesSubplot: >"
      ]
     },
     "execution_count": 6,
     "metadata": {},
     "output_type": "execute_result"
    },
    {
     "data": {
      "image/png": "[encoded data removed]",
      "text/plain": [
       "<Figure size 640x480 with 1 Axes>"
      ]
     },
     "metadata": {},
     "output_type": "display_data"
    }
   ],
   "source": [
    "import pandas as pd \n",
    "path =  str(input(\"Enter the path of csv file\"))\n",
    "csv_path = pd.read_csv(path)\n",
    "df=pd.DataFrame(csv_path)\n",
    "df.plot()"
   ]
  },
  {
   "cell_type": "markdown",
   "id": "c1ed59e5-4ab6-430b-bca3-8553846b836d",
   "metadata": {},
   "source": [
    "### Q11. You are given a CSV file containing student data that includes the student ID and their test score. Write a Python program that reads the CSV file, calculates the mean, median, and mode of the test scores, and displays the results in a table."
   ]
  },
  {
   "cell_type": "code",
   "execution_count": 15,
   "id": "db1eaa77-defd-45c4-b03c-13363f660bdd",
   "metadata": {},
   "outputs": [
    {
     "name": "stdin",
     "output_type": "stream",
     "text": [
      "Enter the path of csv file student_data.csv\n"
     ]
    },
    {
     "data": {
      "text/html": [
       "<div>\n",
       "<style scoped>\n",
       "    .dataframe tbody tr th:only-of-type {\n",
       "        vertical-align: middle;\n",
       "    }\n",
       "\n",
       "    .dataframe tbody tr th {\n",
       "        vertical-align: top;\n",
       "    }\n",
       "\n",
       "    .dataframe thead th {\n",
       "        text-align: right;\n",
       "    }\n",
       "</style>\n",
       "<table border=\"1\" class=\"dataframe\">\n",
       "  <thead>\n",
       "    <tr style=\"text-align: right;\">\n",
       "      <th></th>\n",
       "      <th>mean</th>\n",
       "      <th>Median</th>\n",
       "      <th>Mode</th>\n",
       "    </tr>\n",
       "  </thead>\n",
       "  <tbody>\n",
       "    <tr>\n",
       "      <th>1</th>\n",
       "      <td>83.5</td>\n",
       "      <td>85.0</td>\n",
       "      <td>85</td>\n",
       "    </tr>\n",
       "  </tbody>\n",
       "</table>\n",
       "</div>"
      ],
      "text/plain": [
       "   mean  Median  Mode\n",
       "1  83.5    85.0    85"
      ]
     },
     "execution_count": 15,
     "metadata": {},
     "output_type": "execute_result"
    }
   ],
   "source": [
    "import pandas as pd \n",
    "path =  str(input(\"Enter the path of csv file\"))\n",
    "csv_path = pd.read_csv(path)\n",
    "df=pd.DataFrame(csv_path)\n",
    "df1=pd.DataFrame(index=[1])\n",
    "df1['mean']=df['Test Score'].mean()\n",
    "df1['Median']=df['Test Score'].median()\n",
    "df1[\"Mode\"]=df['Test Score'].mode()[0]\n",
    "df1"
   ]
  },
  {
   "cell_type": "code",
   "execution_count": 16,
   "id": "b01965c5-c619-4de8-b6c0-2bda1b74ef5b",
   "metadata": {},
   "outputs": [
    {
     "name": "stdin",
     "output_type": "stream",
     "text": [
      "Enter the path of csv file student_data.csv\n"
     ]
    },
    {
     "data": {
      "text/html": [
       "<div>\n",
       "<style scoped>\n",
       "    .dataframe tbody tr th:only-of-type {\n",
       "        vertical-align: middle;\n",
       "    }\n",
       "\n",
       "    .dataframe tbody tr th {\n",
       "        vertical-align: top;\n",
       "    }\n",
       "\n",
       "    .dataframe thead th {\n",
       "        text-align: right;\n",
       "    }\n",
       "</style>\n",
       "<table border=\"1\" class=\"dataframe\">\n",
       "  <thead>\n",
       "    <tr style=\"text-align: right;\">\n",
       "      <th></th>\n",
       "      <th>Statistic</th>\n",
       "      <th>Value</th>\n",
       "    </tr>\n",
       "  </thead>\n",
       "  <tbody>\n",
       "    <tr>\n",
       "      <th>0</th>\n",
       "      <td>mean</td>\n",
       "      <td>83.5</td>\n",
       "    </tr>\n",
       "    <tr>\n",
       "      <th>1</th>\n",
       "      <td>mode</td>\n",
       "      <td>85.0</td>\n",
       "    </tr>\n",
       "    <tr>\n",
       "      <th>2</th>\n",
       "      <td>median</td>\n",
       "      <td>85.0</td>\n",
       "    </tr>\n",
       "  </tbody>\n",
       "</table>\n",
       "</div>"
      ],
      "text/plain": [
       "  Statistic  Value\n",
       "0      mean   83.5\n",
       "1      mode   85.0\n",
       "2    median   85.0"
      ]
     },
     "execution_count": 16,
     "metadata": {},
     "output_type": "execute_result"
    }
   ],
   "source": [
    "import pandas as pd \n",
    "path =  str(input(\"Enter the path of csv file\"))\n",
    "csv_path = pd.read_csv(path)\n",
    "df=pd.DataFrame(csv_path)\n",
    "m=df['Test Score'].mean()\n",
    "me=df['Test Score'].median()\n",
    "mo=df['Test Score'].mode()[0]\n",
    "sta = [\"mean\",\"mode\",'median']\n",
    "score = [m,me,mo]\n",
    "df1=pd.DataFrame({\"Statistic\":sta,\"Value\":score})\n",
    "df1"
   ]
  },
  {
   "cell_type": "code",
   "execution_count": null,
   "id": "6c716022-aa74-4495-bc8a-9f61ffa41e96",
   "metadata": {},
   "outputs": [],
   "source": []
  },
  {
   "cell_type": "code",
   "execution_count": null,
   "id": "9abe04a7-5deb-4b38-b74a-1d92eeb0f083",
   "metadata": {},
   "outputs": [],
   "source": []
  },
  {
   "cell_type": "code",
   "execution_count": null,
   "id": "50780b04-d9ef-4c1e-baa6-fb2191fb80d0",
   "metadata": {},
   "outputs": [],
   "source": []
  },
  {
   "cell_type": "code",
   "execution_count": null,
   "id": "55439615-6731-42dd-90d5-6f7dbc98bb77",
   "metadata": {},
   "outputs": [],
   "source": []
  },
  {
   "cell_type": "code",
   "execution_count": null,
   "id": "6e63d1f2-01de-494c-ae58-04421f61e2eb",
   "metadata": {},
   "outputs": [],
   "source": []
  },
  {
   "cell_type": "code",
   "execution_count": null,
   "id": "6daac2c8-c2fe-4e68-9bc4-98972837dd42",
   "metadata": {},
   "outputs": [],
   "source": []
  },
  {
   "cell_type": "code",
   "execution_count": null,
   "id": "3be49d5f-0aec-4ddd-b8a2-f36b8e0f8a12",
   "metadata": {},
   "outputs": [],
   "source": []
  },
  {
   "cell_type": "code",
   "execution_count": null,
   "id": "c886861c-9d1f-480a-894f-6af434154c1f",
   "metadata": {},
   "outputs": [],
   "source": []
  },
  {
   "cell_type": "code",
   "execution_count": null,
   "id": "a55dbf5c-eb1f-40db-b695-fd8f184a7573",
   "metadata": {},
   "outputs": [],
   "source": []
  },
  {
   "cell_type": "code",
   "execution_count": null,
   "id": "e71ec594-532b-4660-8199-fc5fa55e748c",
   "metadata": {},
   "outputs": [],
   "source": []
  },
  {
   "cell_type": "code",
   "execution_count": null,
   "id": "490f873b-bbbf-4a87-84d1-5c639baf37b5",
   "metadata": {},
   "outputs": [],
   "source": []
  },
  {
   "cell_type": "code",
   "execution_count": null,
   "id": "dce0a4a1-b58c-4b64-8e5d-91dce232997e",
   "metadata": {},
   "outputs": [],
   "source": []
  },
  {
   "cell_type": "code",
   "execution_count": null,
   "id": "cea50994-d481-4a1a-bab6-05474031a55c",
   "metadata": {},
   "outputs": [],
   "source": []
  },
  {
   "cell_type": "code",
   "execution_count": null,
   "id": "aee825a0-a315-4b4f-bf92-b4d57abd6c27",
   "metadata": {},
   "outputs": [],
   "source": []
  },
  {
   "cell_type": "code",
   "execution_count": null,
   "id": "41ad59ea-a16b-4b8a-86f1-9e6af37442c9",
   "metadata": {},
   "outputs": [],
   "source": []
  },
  {
   "cell_type": "code",
   "execution_count": null,
   "id": "26964acc-b0fa-4edc-9b40-405376a27067",
   "metadata": {},
   "outputs": [],
   "source": []
  },
  {
   "cell_type": "code",
   "execution_count": null,
   "id": "2ab7e3bd-e9bd-43a0-91c8-b6f8701c88d7",
   "metadata": {},
   "outputs": [],
   "source": []
  },
  {
   "cell_type": "code",
   "execution_count": null,
   "id": "3834d963-792f-41f6-884d-99a7cb3229a7",
   "metadata": {},
   "outputs": [],
   "source": []
  },
  {
   "cell_type": "code",
   "execution_count": null,
   "id": "01bda35a-85bd-426f-acc2-892f2b3f8e35",
   "metadata": {},
   "outputs": [],
   "source": []
  },
  {
   "cell_type": "code",
   "execution_count": null,
   "id": "606aa5ff-f58b-4cbf-aee8-ef3642cbe85e",
   "metadata": {},
   "outputs": [],
   "source": []
  },
  {
   "cell_type": "code",
   "execution_count": null,
   "id": "e7a14dec-0686-4b89-ac61-5c77f64eb33d",
   "metadata": {},
   "outputs": [],
   "source": []
  },
  {
   "cell_type": "code",
   "execution_count": null,
   "id": "cbdfa251-ad29-4a5f-877b-0a7dca59a942",
   "metadata": {},
   "outputs": [],
   "source": []
  },
  {
   "cell_type": "code",
   "execution_count": null,
   "id": "422b2831-2400-43c4-ac94-8f1a4a580316",
   "metadata": {},
   "outputs": [],
   "source": []
  },
  {
   "cell_type": "code",
   "execution_count": null,
   "id": "d76846fa-f0b6-4b70-a901-237d033a15bf",
   "metadata": {},
   "outputs": [],
   "source": []
  },
  {
   "cell_type": "code",
   "execution_count": null,
   "id": "d3c49bcf-56d2-41c1-8a59-24e03d529e0a",
   "metadata": {},
   "outputs": [],
   "source": []
  },
  {
   "cell_type": "code",
   "execution_count": null,
   "id": "8a0f1ada-7e24-4de1-af8c-c654d908abb3",
   "metadata": {},
   "outputs": [],
   "source": []
  },
  {
   "cell_type": "code",
   "execution_count": null,
   "id": "e446ef2e-6ee8-4206-981e-d66e847962b3",
   "metadata": {},
   "outputs": [],
   "source": []
  },
  {
   "cell_type": "code",
   "execution_count": null,
   "id": "4a6dddee-a9b7-451f-b2c9-52c9dfa16271",
   "metadata": {},
   "outputs": [],
   "source": []
  },
  {
   "cell_type": "code",
   "execution_count": null,
   "id": "03c5bc46-caaf-4599-8700-1459e7c6eb05",
   "metadata": {},
   "outputs": [],
   "source": []
  },
  {
   "cell_type": "code",
   "execution_count": null,
   "id": "5fdbb984-dc2f-4147-8741-b17637c68e88",
   "metadata": {},
   "outputs": [],
   "source": []
  },
  {
   "cell_type": "code",
   "execution_count": null,
   "id": "79f91a98-ffb5-4496-9234-c203e64aae0a",
   "metadata": {},
   "outputs": [],
   "source": []
  },
  {
   "cell_type": "code",
   "execution_count": null,
   "id": "0761b15e-1b9c-421f-b956-39f5924276d7",
   "metadata": {},
   "outputs": [],
   "source": []
  },
  {
   "cell_type": "code",
   "execution_count": null,
   "id": "67276dd5-6184-4ebc-a1b6-3a4f7e72a993",
   "metadata": {},
   "outputs": [],
   "source": []
  },
  {
   "cell_type": "code",
   "execution_count": null,
   "id": "16fc5239-472e-4edb-af10-9e0a840ef4b8",
   "metadata": {},
   "outputs": [],
   "source": []
  },
  {
   "cell_type": "code",
   "execution_count": null,
   "id": "f2e0e49e-4756-4a31-9ef9-6c521464c5f1",
   "metadata": {},
   "outputs": [],
   "source": []
  },
  {
   "cell_type": "code",
   "execution_count": null,
   "id": "4b77448f-d092-4646-a626-06ec01b2e297",
   "metadata": {},
   "outputs": [],
   "source": []
  },
  {
   "cell_type": "code",
   "execution_count": null,
   "id": "d7231270-d68a-4516-9ec4-240f814398b5",
   "metadata": {},
   "outputs": [],
   "source": []
  },
  {
   "cell_type": "code",
   "execution_count": null,
   "id": "9cb650eb-a3a7-4e47-93c8-298a13d7fd98",
   "metadata": {},
   "outputs": [],
   "source": []
  },
  {
   "cell_type": "code",
   "execution_count": null,
   "id": "f92b6711-bd98-4f8b-a580-8777195e18f3",
   "metadata": {},
   "outputs": [],
   "source": []
  },
  {
   "cell_type": "code",
   "execution_count": null,
   "id": "4ffcc775-0c7f-4dfc-a9d4-96d442b27b99",
   "metadata": {},
   "outputs": [],
   "source": []
  },
  {
   "cell_type": "code",
   "execution_count": null,
   "id": "56098966-616b-4896-989f-75e16b028942",
   "metadata": {},
   "outputs": [],
   "source": []
  },
  {
   "cell_type": "code",
   "execution_count": null,
   "id": "fff7772e-447c-4dfa-9ff5-99564f3d354b",
   "metadata": {},
   "outputs": [],
   "source": []
  },
  {
   "cell_type": "code",
   "execution_count": null,
   "id": "a51225d4-be2a-4916-9ba1-58de3edb9a27",
   "metadata": {},
   "outputs": [],
   "source": []
  },
  {
   "cell_type": "code",
   "execution_count": null,
   "id": "835a193f-e32b-45e3-b043-a0ba3cbb871d",
   "metadata": {},
   "outputs": [],
   "source": []
  },
  {
   "cell_type": "code",
   "execution_count": null,
   "id": "3ad69d67-d5b1-4d02-a126-e4b59e0f8e1b",
   "metadata": {},
   "outputs": [],
   "source": []
  },
  {
   "cell_type": "code",
   "execution_count": null,
   "id": "43965c2d-5a8a-4db8-ae02-fc477faf37cf",
   "metadata": {},
   "outputs": [],
   "source": []
  },
  {
   "cell_type": "code",
   "execution_count": null,
   "id": "727dd5df-08d6-4715-b651-70c3c2d39eb0",
   "metadata": {},
   "outputs": [],
   "source": []
  },
  {
   "cell_type": "code",
   "execution_count": null,
   "id": "bc573240-c2d2-4535-8204-6690708751b3",
   "metadata": {},
   "outputs": [],
   "source": []
  },
  {
   "cell_type": "code",
   "execution_count": null,
   "id": "03a21138-91ed-45a6-9d54-f10ee90ab94b",
   "metadata": {},
   "outputs": [],
   "source": []
  },
  {
   "cell_type": "code",
   "execution_count": null,
   "id": "59d050b0-7ce8-4e02-a9dd-61f0e6cce14a",
   "metadata": {},
   "outputs": [],
   "source": []
  },
  {
   "cell_type": "code",
   "execution_count": null,
   "id": "afb09c90-9706-4000-a97a-5085afcf4f19",
   "metadata": {},
   "outputs": [],
   "source": []
  }
 ],
 "metadata": {
  "kernelspec": {
   "display_name": "Python 3 (ipykernel)",
   "language": "python",
   "name": "python3"
  },
  "language_info": {
   "codemirror_mode": {
    "name": "ipython",
    "version": 3
   },
   "file_extension": ".py",
   "mimetype": "text/x-python",
   "name": "python",
   "nbconvert_exporter": "python",
   "pygments_lexer": "ipython3",
   "version": "3.10.8"
  }
 },
 "nbformat": 4,
 "nbformat_minor": 5
}

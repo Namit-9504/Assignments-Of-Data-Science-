{
 "cells": [
  {
   "cell_type": "raw",
   "id": "a05fffa3-fb5f-4e9a-9242-f08a13471ba9",
   "metadata": {},
   "source": [
    "Plz open this file in google colab"
   ]
  },
  {
   "cell_type": "code",
   "execution_count": 1,
   "id": "fa79bac4-72bc-4478-a857-61e479dd82ca",
   "metadata": {},
   "outputs": [
    {
     "name": "stdout",
     "output_type": "stream",
     "text": [
      "Collecting plotly\n",
      "  Downloading plotly-5.14.1-py2.py3-none-any.whl (15.3 MB)\n",
      "\u001b[2K     \u001b[90m━━━━━━━━━━━━━━━━━━━━━━━━━━━━━━━━━━━━━━━━\u001b[0m \u001b[32m15.3/15.3 MB\u001b[0m \u001b[31m64.3 MB/s\u001b[0m eta \u001b[36m0:00:00\u001b[0m00:01\u001b[0m00:01\u001b[0m\n",
      "\u001b[?25hCollecting tenacity>=6.2.0\n",
      "  Downloading tenacity-8.2.2-py3-none-any.whl (24 kB)\n",
      "Requirement already satisfied: packaging in /opt/conda/lib/python3.10/site-packages (from plotly) (22.0)\n",
      "Installing collected packages: tenacity, plotly\n",
      "Successfully installed plotly-5.14.1 tenacity-8.2.2\n",
      "Note: you may need to restart the kernel to use updated packages.\n"
     ]
    }
   ],
   "source": [
    "pip install plotly"
   ]
  },
  {
   "cell_type": "markdown",
   "id": "30dd11a4-ae0a-4cba-a8c8-8748ce6f672a",
   "metadata": {
    "tags": []
   },
   "source": [
    "## Q1. Load the \"titanic\" dataset using the load_dataset function of seaborn. Use Plotly express to plot a scatter plot for age and fare columns in the titanic dataset."
   ]
  },
  {
   "cell_type": "code",
   "execution_count": null,
   "id": "68fe3a92-31f7-4ea5-9a02-7ee822b51d35",
   "metadata": {},
   "outputs": [],
   "source": [
    "import plotly.graph_objects as go\n",
    "import seaborn as sns\n",
    "tit = sns.load_dataset('titanic')\n",
    "fig = go.Figure()\n",
    "fig.add_trace(go.Scatter(x=tit.age,y=tit.fare,mode='markers'))"
   ]
  },
  {
   "cell_type": "markdown",
   "id": "be27c3c2-69e4-45ad-95c6-802404bea02d",
   "metadata": {},
   "source": [
    "## Q2. Using the tips dataset in the Plotly library, plot a box plot using Plotly express."
   ]
  },
  {
   "cell_type": "code",
   "execution_count": null,
   "id": "b398cf20-a6f2-422a-83c5-204d8b074d5f",
   "metadata": {},
   "outputs": [],
   "source": [
    "import plotly.graph_objects as go\n",
    "import seaborn as sns\n",
    "tit = sns.load_dataset('tips')\n",
    "fig = go.Figure()\n",
    "fig.add_trace(go.Box(x=tit.day,y=tit.total_bill))"
   ]
  },
  {
   "cell_type": "markdown",
   "id": "c17def43-4755-4d21-92c7-9dded88ccfc0",
   "metadata": {},
   "source": [
    "## Q3. Using the tips dataset in the Plotly library, Plot a histogram for x= \"sex\" and y=\"total_bill\" column in the tips dataset. Also, use the \"smoker\" column with the pattern_shape parameter and the \"day\" column with the color parameter."
   ]
  },
  {
   "cell_type": "code",
   "execution_count": null,
   "id": "4b556a10-cfdd-45f6-91fb-022304ec74f5",
   "metadata": {},
   "outputs": [],
   "source": [
    "import plotly.express as px\n",
    "\n",
    "tips = px.data.tips() # loading the tips dataset\n",
    "fig = px.histogram(tips, x=\"sex\", y=\"total_bill\", color=\"day\", barmode=\"group\",\n",
    "                   pattern_shape=\"smoker\", nbins=10, opacity=0.8)\n",
    "fig.show() # display the plot\n"
   ]
  },
  {
   "cell_type": "markdown",
   "id": "6dcdab23-cfed-406e-94b8-ee7e446d45f5",
   "metadata": {},
   "source": [
    "## Q4. Using the iris dataset in the Plotly library, Plot a scatter matrix plot, using the \"species\" column for the color parameter."
   ]
  },
  {
   "cell_type": "code",
   "execution_count": null,
   "id": "65b72eb2-6606-49b5-8229-d1e26e710a3c",
   "metadata": {},
   "outputs": [],
   "source": [
    "import plotly.express as px\n",
    "from sklearn.datasets import load_iris\n",
    "\n",
    "iris = load_iris()\n",
    "df = px.data.iris()\n",
    "fig = px.scatter_matrix(df, dimensions=[\"sepal_length\", \"sepal_width\", \"petal_length\", \"petal_width\"], color=\"species\")\n",
    "\n",
    "fig.show()\n"
   ]
  },
  {
   "cell_type": "markdown",
   "id": "daffd38a-09aa-4941-9a80-9d143f34974f",
   "metadata": {},
   "source": [
    "## Q5. What is Distplot? Using Plotly express, plot a distplot."
   ]
  },
  {
   "cell_type": "code",
   "execution_count": null,
   "id": "1a2d5a9c-ad00-4343-a377-c05c9b8a6c1b",
   "metadata": {},
   "outputs": [],
   "source": [
    "import plotly.express as px\n",
    "import numpy as np\n",
    "\n",
    "# Generate some random data\n",
    "np.random.seed(1)\n",
    "data = np.random.normal(0, 1, 500)\n",
    "\n",
    "# Create a distplot with Plotly express\n",
    "fig = px.histogram(data, x=data, nbins=20, opacity=0.5, marginal=\"box\")\n",
    "\n",
    "fig.show()\n"
   ]
  },
  {
   "cell_type": "code",
   "execution_count": null,
   "id": "12d495cf-bb58-4be6-bce0-bcd0c76192f1",
   "metadata": {},
   "outputs": [],
   "source": []
  },
  {
   "cell_type": "code",
   "execution_count": null,
   "id": "f3b70b37-fb8d-4fc7-ba53-5f81b298e52e",
   "metadata": {},
   "outputs": [],
   "source": []
  },
  {
   "cell_type": "code",
   "execution_count": null,
   "id": "f1a748db-ddfa-41e0-933d-2e84607209d2",
   "metadata": {},
   "outputs": [],
   "source": []
  },
  {
   "cell_type": "code",
   "execution_count": null,
   "id": "3ee1bf74-ca2d-469e-a889-2d123f02439a",
   "metadata": {},
   "outputs": [],
   "source": []
  },
  {
   "cell_type": "code",
   "execution_count": null,
   "id": "62ac7d5b-6c9c-43f8-bf8a-a89750ba27a2",
   "metadata": {},
   "outputs": [],
   "source": []
  },
  {
   "cell_type": "code",
   "execution_count": null,
   "id": "de2aa91a-58a6-4dc1-abdc-bb77a556f374",
   "metadata": {},
   "outputs": [],
   "source": []
  },
  {
   "cell_type": "code",
   "execution_count": null,
   "id": "ec6c660b-0696-4e4b-b2ea-095f9f296f39",
   "metadata": {},
   "outputs": [],
   "source": []
  },
  {
   "cell_type": "code",
   "execution_count": null,
   "id": "217200c6-fd79-44b3-9feb-c3aa79b92f16",
   "metadata": {},
   "outputs": [],
   "source": []
  },
  {
   "cell_type": "code",
   "execution_count": null,
   "id": "e2f19866-d74c-4503-bbf3-27081bef96a3",
   "metadata": {},
   "outputs": [],
   "source": []
  },
  {
   "cell_type": "code",
   "execution_count": null,
   "id": "71a6e0f8-8483-4d84-aeec-4eca3df02742",
   "metadata": {},
   "outputs": [],
   "source": []
  },
  {
   "cell_type": "code",
   "execution_count": null,
   "id": "1b6cde76-fb2c-4c3d-a1dd-b6dbbf77dfd1",
   "metadata": {},
   "outputs": [],
   "source": []
  },
  {
   "cell_type": "code",
   "execution_count": null,
   "id": "ca294300-b48e-4d52-9c39-84dd8df6417f",
   "metadata": {},
   "outputs": [],
   "source": []
  },
  {
   "cell_type": "code",
   "execution_count": null,
   "id": "2767eed5-cea3-4dc8-8785-86c1bf81c604",
   "metadata": {},
   "outputs": [],
   "source": []
  },
  {
   "cell_type": "code",
   "execution_count": null,
   "id": "e61d76db-4ba4-4513-a35e-06a46adf2bb3",
   "metadata": {},
   "outputs": [],
   "source": []
  },
  {
   "cell_type": "code",
   "execution_count": null,
   "id": "acfa934e-c2e1-4651-bb65-02e70aa795ba",
   "metadata": {},
   "outputs": [],
   "source": []
  },
  {
   "cell_type": "code",
   "execution_count": null,
   "id": "677272ac-6403-4c46-976c-bae02d403784",
   "metadata": {},
   "outputs": [],
   "source": []
  },
  {
   "cell_type": "code",
   "execution_count": null,
   "id": "3ac9a0d6-dc1e-44b1-90bf-4dbe6280f380",
   "metadata": {},
   "outputs": [],
   "source": []
  },
  {
   "cell_type": "code",
   "execution_count": null,
   "id": "588b5766-f83f-4eb4-8c1e-d25812b2750a",
   "metadata": {},
   "outputs": [],
   "source": []
  },
  {
   "cell_type": "code",
   "execution_count": null,
   "id": "39e2d766-69a3-4794-a3c2-53f7c6399795",
   "metadata": {},
   "outputs": [],
   "source": []
  },
  {
   "cell_type": "code",
   "execution_count": null,
   "id": "3b81207a-fecf-4935-b1b5-72d760a3e905",
   "metadata": {},
   "outputs": [],
   "source": []
  },
  {
   "cell_type": "code",
   "execution_count": null,
   "id": "a66da786-01c0-4a59-8e49-8e3725bd4457",
   "metadata": {},
   "outputs": [],
   "source": []
  },
  {
   "cell_type": "code",
   "execution_count": null,
   "id": "f2614f3d-41ae-4b32-bcc6-4718a195e396",
   "metadata": {},
   "outputs": [],
   "source": []
  },
  {
   "cell_type": "code",
   "execution_count": null,
   "id": "72a09aa9-0cc0-4f1b-a278-400504fe9d5a",
   "metadata": {},
   "outputs": [],
   "source": []
  },
  {
   "cell_type": "code",
   "execution_count": null,
   "id": "da19f78b-45c4-46e8-94fa-cb060c086a4a",
   "metadata": {},
   "outputs": [],
   "source": []
  },
  {
   "cell_type": "code",
   "execution_count": null,
   "id": "a4bd70f6-3b78-4c75-bbf2-133a1a2fbc2c",
   "metadata": {},
   "outputs": [],
   "source": []
  },
  {
   "cell_type": "code",
   "execution_count": null,
   "id": "7600cd4f-0eb0-45c6-ad04-4e9bd2139adf",
   "metadata": {},
   "outputs": [],
   "source": []
  },
  {
   "cell_type": "code",
   "execution_count": null,
   "id": "e0b23d51-7242-4852-8206-3597a1c9c8d2",
   "metadata": {},
   "outputs": [],
   "source": []
  },
  {
   "cell_type": "code",
   "execution_count": null,
   "id": "1ba87383-045a-44c8-bd48-9c7bdbc8cc62",
   "metadata": {},
   "outputs": [],
   "source": []
  },
  {
   "cell_type": "code",
   "execution_count": null,
   "id": "9e977e20-2de1-49a8-8ade-3590c51e7fb8",
   "metadata": {},
   "outputs": [],
   "source": []
  },
  {
   "cell_type": "code",
   "execution_count": null,
   "id": "f627884f-953c-4921-9039-407d72733f67",
   "metadata": {},
   "outputs": [],
   "source": []
  },
  {
   "cell_type": "code",
   "execution_count": null,
   "id": "08025334-81a5-4424-a3f1-19965147d75d",
   "metadata": {},
   "outputs": [],
   "source": []
  },
  {
   "cell_type": "code",
   "execution_count": null,
   "id": "059ce778-fc71-4432-8967-d15db34b4bda",
   "metadata": {},
   "outputs": [],
   "source": []
  },
  {
   "cell_type": "code",
   "execution_count": null,
   "id": "36e941c1-7b8a-497d-8cd4-94748d9744dd",
   "metadata": {},
   "outputs": [],
   "source": []
  },
  {
   "cell_type": "code",
   "execution_count": null,
   "id": "c9693b93-aca6-42e3-b027-61c77469b041",
   "metadata": {},
   "outputs": [],
   "source": []
  },
  {
   "cell_type": "code",
   "execution_count": null,
   "id": "e9b9d63b-8c8b-44a5-8756-3f2c5cc4baf4",
   "metadata": {},
   "outputs": [],
   "source": []
  },
  {
   "cell_type": "code",
   "execution_count": null,
   "id": "ad23089d-e0a3-4c6c-9c33-a2077aec7214",
   "metadata": {},
   "outputs": [],
   "source": []
  },
  {
   "cell_type": "code",
   "execution_count": null,
   "id": "eab21b18-ac4c-4f02-815d-7cb15f63e15b",
   "metadata": {},
   "outputs": [],
   "source": []
  },
  {
   "cell_type": "code",
   "execution_count": null,
   "id": "40caf6ed-29e2-4745-a14b-745f501bccc0",
   "metadata": {},
   "outputs": [],
   "source": []
  },
  {
   "cell_type": "code",
   "execution_count": null,
   "id": "604438ab-9e6a-43c6-9e01-e1b7b4c8ff7f",
   "metadata": {},
   "outputs": [],
   "source": []
  },
  {
   "cell_type": "code",
   "execution_count": null,
   "id": "d4cfa192-e3f1-43b5-b2e7-b9cbbace152b",
   "metadata": {},
   "outputs": [],
   "source": []
  },
  {
   "cell_type": "code",
   "execution_count": null,
   "id": "9ee55cdf-256b-4ce1-b9eb-c2a1535e0d63",
   "metadata": {},
   "outputs": [],
   "source": []
  },
  {
   "cell_type": "code",
   "execution_count": null,
   "id": "93b763a0-217a-4779-86c7-44937c7ff147",
   "metadata": {},
   "outputs": [],
   "source": []
  },
  {
   "cell_type": "code",
   "execution_count": null,
   "id": "6cad4d3d-0e61-4811-9cd5-f62cbbe9ac66",
   "metadata": {},
   "outputs": [],
   "source": []
  },
  {
   "cell_type": "code",
   "execution_count": null,
   "id": "376bda3d-0dad-43a8-8e50-0df0460d94ad",
   "metadata": {},
   "outputs": [],
   "source": []
  },
  {
   "cell_type": "code",
   "execution_count": null,
   "id": "73ff0300-1954-4acb-b31a-785ee62ffbe4",
   "metadata": {},
   "outputs": [],
   "source": []
  },
  {
   "cell_type": "code",
   "execution_count": null,
   "id": "cc8c6e63-2675-4710-8beb-4d9a8e9b8c0b",
   "metadata": {},
   "outputs": [],
   "source": []
  },
  {
   "cell_type": "code",
   "execution_count": null,
   "id": "21f271de-0cb1-41a9-9d84-66d0f4c90c73",
   "metadata": {},
   "outputs": [],
   "source": []
  },
  {
   "cell_type": "code",
   "execution_count": null,
   "id": "cec1568c-8c56-45fa-b17b-292feb5a5c29",
   "metadata": {},
   "outputs": [],
   "source": []
  },
  {
   "cell_type": "code",
   "execution_count": null,
   "id": "0779bdb2-198a-49ee-ae71-3b15fdea8c8e",
   "metadata": {},
   "outputs": [],
   "source": []
  },
  {
   "cell_type": "code",
   "execution_count": null,
   "id": "d4c003b1-2992-4b93-85cb-833ffa0ae10f",
   "metadata": {},
   "outputs": [],
   "source": []
  },
  {
   "cell_type": "code",
   "execution_count": null,
   "id": "dc42ab58-fd0f-4a1c-a4a2-2d56a8ac9887",
   "metadata": {},
   "outputs": [],
   "source": []
  },
  {
   "cell_type": "code",
   "execution_count": null,
   "id": "24c2afad-6153-4163-ba0d-ae8380e54335",
   "metadata": {},
   "outputs": [],
   "source": []
  }
 ],
 "metadata": {
  "kernelspec": {
   "display_name": "Python 3 (ipykernel)",
   "language": "python",
   "name": "python3"
  },
  "language_info": {
   "codemirror_mode": {
    "name": "ipython",
    "version": 3
   },
   "file_extension": ".py",
   "mimetype": "text/x-python",
   "name": "python",
   "nbconvert_exporter": "python",
   "pygments_lexer": "ipython3",
   "version": "3.10.8"
  }
 },
 "nbformat": 4,
 "nbformat_minor": 5
}

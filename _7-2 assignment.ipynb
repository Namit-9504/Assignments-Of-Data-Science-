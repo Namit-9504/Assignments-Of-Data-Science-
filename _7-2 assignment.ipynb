{
 "cells": [
  {
   "cell_type": "markdown",
   "id": "8aeca096-ca44-4de2-bf3f-7b893a772605",
   "metadata": {},
   "source": [
    "### Q1. You are writing code for a company. The requirement of the company is that you create a python function that will check whether the password entered by the user is correct or not. The function should take the password as input and return the string “Valid Password” if the entered password follows the below-given password guidelines else it should return “Invalid Password”.                                          "
   ]
  },
  {
   "cell_type": "markdown",
   "id": "899cc82a-02f8-4dfb-83ee-1358dfd32fb9",
   "metadata": {},
   "source": [
    "Note: 1. The Password should contain at least two uppercase letters and at least two lowercase letters.\n",
    "\n",
    "2. The Password should contain at least a number and three special characters.                         \n",
    "3. The length of the password should be 10 characters long."
   ]
  },
  {
   "cell_type": "code",
   "execution_count": 30,
   "id": "93e260e2-1da4-441b-ab64-beadd42f5eb3",
   "metadata": {},
   "outputs": [],
   "source": [
    "def check_password(password):\n",
    "    num_count = 0\n",
    "    special_count = 0\n",
    "    upper_count = 0\n",
    "    lower_count = 0\n",
    "    \n",
    "    for char in password:\n",
    "        if char.isnumeric():\n",
    "            num_count += 1\n",
    "        elif not char.isalnum():\n",
    "            special_count += 1\n",
    "        if char.isupper():\n",
    "            upper_count += 1\n",
    "        elif char.islower():\n",
    "            lower_count += 1\n",
    "    \n",
    "    if num_count >= 1 and special_count >= 3 and upper_count >= 2 and lower_count >= 2 and len(password) == 10:\n",
    "        return \"Valid Password\"\n",
    "    else:\n",
    "        return \"Invalid Password\"\n"
   ]
  },
  {
   "cell_type": "code",
   "execution_count": 38,
   "id": "445893e7-0805-44f8-a7cd-94012fbd7d22",
   "metadata": {},
   "outputs": [
    {
     "data": {
      "text/plain": [
       "'Valid Password'"
      ]
     },
     "execution_count": 38,
     "metadata": {},
     "output_type": "execute_result"
    }
   ],
   "source": [
    "check_password(\"NNaa52@#$o\")"
   ]
  },
  {
   "cell_type": "markdown",
   "id": "d7c7b87f-7047-4bc1-932e-ecea9c147d4e",
   "metadata": {},
   "source": [
    "### Q2. Solve the below-given questions using at least one of the following:\n",
    "1. Lambda functioJ\n",
    "2. Filter functioJ\n",
    "3. Map functioJ\n",
    "4. List ComprehensioI\n",
    "\n",
    "B Check if the string starts with a particular letter\n",
    "\n",
    "B Check if the string is numeric\n",
    "\n",
    "B Sort a list of tuples having fruit names and their quantity. [(\"mango\",99),(\"orange\",80), (\"grapes\", 1000)-\n",
    "\n",
    "B Find the squares of numbers from 1 to 10\n",
    "\n",
    "B Find the cube root of numbers from 1 to 10\n",
    "\n",
    "B Check if a given number is even\n",
    "\n",
    "B Filter odd numbers from the given list.\n",
    "\n",
    "[1,2,3,4,5,6,7,8,9,10-\n",
    "\n",
    "B Sort a list of integers into positive and negative integers lists.\n",
    "\n",
    "[1,2,3,4,5,6,-1,-2,-3,-4,-5,0]"
   ]
  },
  {
   "cell_type": "markdown",
   "id": "2fa49fc9-4be0-4dc8-905b-536d6b75fcac",
   "metadata": {},
   "source": [
    "## B Check if the string starts with a particular letter"
   ]
  },
  {
   "cell_type": "code",
   "execution_count": 17,
   "id": "1f0d0003-f39d-4043-a1ee-421bdbaa7d7a",
   "metadata": {},
   "outputs": [],
   "source": [
    "a=lambda n:\"string statrs with letter C\"if n.startswith(\"c\") else\"NA\""
   ]
  },
  {
   "cell_type": "code",
   "execution_count": 18,
   "id": "988f297f-d142-4f86-b289-e1df9c6c4266",
   "metadata": {},
   "outputs": [
    {
     "data": {
      "text/plain": [
       "'NA'"
      ]
     },
     "execution_count": 18,
     "metadata": {},
     "output_type": "execute_result"
    }
   ],
   "source": [
    "a(\"Namit\")"
   ]
  },
  {
   "cell_type": "markdown",
   "id": "1642ff7a-664f-491c-a80d-1003c6693b76",
   "metadata": {},
   "source": [
    "### B Check if the string is numeric"
   ]
  },
  {
   "cell_type": "code",
   "execution_count": 26,
   "id": "650756d7-3e51-4553-9870-3bf262c5d331",
   "metadata": {},
   "outputs": [],
   "source": [
    "b=lambda n:\"string is numeric\"if type(n)==int or type(n)==float else\"NA\""
   ]
  },
  {
   "cell_type": "code",
   "execution_count": 27,
   "id": "622c89ce-9219-44de-8dad-1e81d0b4fca6",
   "metadata": {},
   "outputs": [
    {
     "data": {
      "text/plain": [
       "'string is numeric'"
      ]
     },
     "execution_count": 27,
     "metadata": {},
     "output_type": "execute_result"
    }
   ],
   "source": [
    "b(59623.8724)"
   ]
  },
  {
   "cell_type": "markdown",
   "id": "a9346169-c361-4d18-acdf-7c66de279964",
   "metadata": {},
   "source": [
    "### B Sort a list of tuples having fruit names and their quantity. "
   ]
  },
  {
   "cell_type": "code",
   "execution_count": 43,
   "id": "2857d54f-2f49-41f4-b1c2-4726f99c4627",
   "metadata": {},
   "outputs": [],
   "source": [
    "l=[(\"mango\",99),(\"orange\",80), (\"grapes\", 1000)]\n"
   ]
  },
  {
   "cell_type": "code",
   "execution_count": 44,
   "id": "73cf734e-ccaa-4ea3-9b5f-aa1a9e27b272",
   "metadata": {},
   "outputs": [
    {
     "name": "stdout",
     "output_type": "stream",
     "text": [
      "[('orange', 80), ('mango', 99), ('grapes', 1000)]\n"
     ]
    }
   ],
   "source": [
    "\n",
    "sorted_fruits = sorted(l, key=lambda x: x[1])\n",
    "print(sorted_fruits)\n"
   ]
  },
  {
   "cell_type": "markdown",
   "id": "18847539-bbd3-4f26-a4e6-45ea17944083",
   "metadata": {},
   "source": [
    "### B Find the squares of numbers from 1 to 10"
   ]
  },
  {
   "cell_type": "code",
   "execution_count": 59,
   "id": "c11a3ee8-a671-449b-be28-10949dd60585",
   "metadata": {},
   "outputs": [
    {
     "name": "stdout",
     "output_type": "stream",
     "text": [
      "[1, 4, 9, 16, 25, 36, 49, 64, 81, 100]\n"
     ]
    }
   ],
   "source": [
    "squares = [i**2 for i in range(1, 11)]\n",
    "print(squares)\n"
   ]
  },
  {
   "cell_type": "markdown",
   "id": "cc324e9c-5347-42c2-9cef-af60f0c38eb5",
   "metadata": {},
   "source": [
    "### B Find the cube root of numbers from 1 to 10"
   ]
  },
  {
   "cell_type": "code",
   "execution_count": 64,
   "id": "4e41d95d-b399-4441-9f49-343eb4aeaab6",
   "metadata": {},
   "outputs": [
    {
     "name": "stdout",
     "output_type": "stream",
     "text": [
      "[1.0, 1.2599210498948732, 1.4422495703074083, 1.5874010519681994, 1.7099759466766968, 1.8171205928321397, 1.912931182772389, 2.0, 2.080083823051904, 2.154434690031884]\n"
     ]
    }
   ],
   "source": [
    "cube_root=list(map(lambda x:x**(1/3),range(1,11)))\n",
    "print(cube_root)"
   ]
  },
  {
   "cell_type": "markdown",
   "id": "84fe8b0f-fe7c-496f-9ba3-ef48e1a4c797",
   "metadata": {},
   "source": [
    "### B Check if a given number is even"
   ]
  },
  {
   "cell_type": "code",
   "execution_count": 82,
   "id": "2dc29b38-e94c-44ee-a69c-7ddc97ee653a",
   "metadata": {},
   "outputs": [],
   "source": [
    "h=lambda x:print(x,\"is even\")if x%2==0 else print(x,\"is not even\")"
   ]
  },
  {
   "cell_type": "code",
   "execution_count": 83,
   "id": "d8314d60-530d-4ef6-bca3-325bd9c7dc59",
   "metadata": {},
   "outputs": [
    {
     "name": "stdout",
     "output_type": "stream",
     "text": [
      "5 is not even\n"
     ]
    }
   ],
   "source": [
    "h(5)"
   ]
  },
  {
   "cell_type": "code",
   "execution_count": 84,
   "id": "0acc38d8-3732-4605-8300-7435a3ed6c6e",
   "metadata": {},
   "outputs": [
    {
     "name": "stdout",
     "output_type": "stream",
     "text": [
      "6 is even\n"
     ]
    }
   ],
   "source": [
    "h(6)"
   ]
  },
  {
   "cell_type": "markdown",
   "id": "641c6cc3-fb51-468f-9dfe-124f8d4ff7cb",
   "metadata": {},
   "source": [
    "### B Filter odd numbers from the given list."
   ]
  },
  {
   "cell_type": "code",
   "execution_count": 85,
   "id": "6731f0ba-eb02-4faa-9c73-3c5318f70253",
   "metadata": {},
   "outputs": [],
   "source": [
    "l1=[1,2,3,4,5,6,7,8,9,10]"
   ]
  },
  {
   "cell_type": "code",
   "execution_count": 88,
   "id": "e530d1f4-2e40-457f-9147-92a8bfb67a44",
   "metadata": {},
   "outputs": [
    {
     "name": "stdout",
     "output_type": "stream",
     "text": [
      "[1, 3, 5, 7, 9]\n"
     ]
    }
   ],
   "source": [
    "c=list(filter(lambda x:x%2!=0,l1))\n",
    "print(c)"
   ]
  },
  {
   "cell_type": "markdown",
   "id": "b09fba57-d85c-48a9-aeac-9035bf0f088d",
   "metadata": {},
   "source": [
    "### B Sort a list of integers into positive and negative integers lists."
   ]
  },
  {
   "cell_type": "code",
   "execution_count": 4,
   "id": "2209774d-e99b-4cbf-a492-7d17f7059a75",
   "metadata": {},
   "outputs": [],
   "source": [
    "l2=[1,2,3,4,5,6,-1,-2,-3,-4,-5,0]"
   ]
  },
  {
   "cell_type": "code",
   "execution_count": 32,
   "id": "2a57c7b6-cf60-419f-a565-12bcf0a8d828",
   "metadata": {},
   "outputs": [],
   "source": [
    "def sortedlist(x):\n",
    "    positive=[]\n",
    "    negative=[]\n",
    "    for i in x :\n",
    "        if i==0 or i>0:\n",
    "            positive.append(i)\n",
    "        else :\n",
    "            negative.append(i)\n",
    "    return [sorted(positive)] + [sorted(negative)]        "
   ]
  },
  {
   "cell_type": "code",
   "execution_count": 33,
   "id": "fd9a86ad-fb57-409c-9104-b60fcf617e53",
   "metadata": {},
   "outputs": [
    {
     "data": {
      "text/plain": [
       "[[0, 1, 2, 3, 4, 5, 6], [-5, -4, -3, -2, -1]]"
      ]
     },
     "execution_count": 33,
     "metadata": {},
     "output_type": "execute_result"
    }
   ],
   "source": [
    "sortedlist(l2)"
   ]
  },
  {
   "cell_type": "code",
   "execution_count": null,
   "id": "f4021c8d-df71-475c-9553-c99e2cbb3c20",
   "metadata": {},
   "outputs": [],
   "source": []
  },
  {
   "cell_type": "code",
   "execution_count": null,
   "id": "217b2883-3048-4a0e-9b4c-7820f65a261f",
   "metadata": {},
   "outputs": [],
   "source": []
  },
  {
   "cell_type": "code",
   "execution_count": null,
   "id": "c93867ca-67a8-4cfb-b3b5-77dac4a56a29",
   "metadata": {},
   "outputs": [],
   "source": []
  },
  {
   "cell_type": "code",
   "execution_count": null,
   "id": "849983d5-91e4-43b9-b988-103cd02fcc0b",
   "metadata": {},
   "outputs": [],
   "source": []
  },
  {
   "cell_type": "code",
   "execution_count": null,
   "id": "94322af4-e8c2-46bf-92bd-730ecc966cc0",
   "metadata": {},
   "outputs": [],
   "source": []
  },
  {
   "cell_type": "code",
   "execution_count": null,
   "id": "2deec9c1-e20b-44f3-b784-3b44da153bee",
   "metadata": {},
   "outputs": [],
   "source": []
  },
  {
   "cell_type": "code",
   "execution_count": null,
   "id": "9907f6aa-cc01-4aef-85b9-abca3b9162a7",
   "metadata": {},
   "outputs": [],
   "source": []
  },
  {
   "cell_type": "code",
   "execution_count": null,
   "id": "735edb65-1eb0-4034-bf08-e6523d26cf6d",
   "metadata": {},
   "outputs": [],
   "source": []
  },
  {
   "cell_type": "code",
   "execution_count": null,
   "id": "360b2de9-e0d5-4947-a0f5-7553dae39437",
   "metadata": {},
   "outputs": [],
   "source": []
  },
  {
   "cell_type": "code",
   "execution_count": null,
   "id": "6ebd99fa-0de1-4385-ac33-ea1d9910708b",
   "metadata": {},
   "outputs": [],
   "source": []
  },
  {
   "cell_type": "code",
   "execution_count": null,
   "id": "762a0e38-47d0-4b0f-bc04-f10df7a47ae6",
   "metadata": {},
   "outputs": [],
   "source": []
  },
  {
   "cell_type": "code",
   "execution_count": null,
   "id": "04cb7f9a-78bb-41b2-be5a-580345617a43",
   "metadata": {},
   "outputs": [],
   "source": []
  },
  {
   "cell_type": "code",
   "execution_count": null,
   "id": "68b99f9e-43b0-405f-b21e-126985d8bfdd",
   "metadata": {},
   "outputs": [],
   "source": []
  },
  {
   "cell_type": "code",
   "execution_count": null,
   "id": "edc905d4-9d29-4b98-a102-0a97a447d20d",
   "metadata": {},
   "outputs": [],
   "source": []
  },
  {
   "cell_type": "code",
   "execution_count": null,
   "id": "9c070729-635d-4bc1-80de-5f7e36242db9",
   "metadata": {},
   "outputs": [],
   "source": []
  },
  {
   "cell_type": "code",
   "execution_count": null,
   "id": "9826f757-a27d-40f2-ab57-106e08c72b31",
   "metadata": {},
   "outputs": [],
   "source": []
  },
  {
   "cell_type": "code",
   "execution_count": null,
   "id": "f2679a41-460f-43f4-8560-4a5327e97cc3",
   "metadata": {},
   "outputs": [],
   "source": []
  }
 ],
 "metadata": {
  "kernelspec": {
   "display_name": "Python 3 (ipykernel)",
   "language": "python",
   "name": "python3"
  },
  "language_info": {
   "codemirror_mode": {
    "name": "ipython",
    "version": 3
   },
   "file_extension": ".py",
   "mimetype": "text/x-python",
   "name": "python",
   "nbconvert_exporter": "python",
   "pygments_lexer": "ipython3",
   "version": "3.10.8"
  }
 },
 "nbformat": 4,
 "nbformat_minor": 5
}

{
 "cells": [
  {
   "cell_type": "markdown",
   "id": "63862c80-d5ab-48bd-80df-161dfe43177e",
   "metadata": {},
   "source": [
    "#### Q1. Create a function which will take a list as an argument and return the product of all the numbers\n",
    "#### after creating a flat list.\n",
    "### Use the below-given list as an argument for your function."
   ]
  },
  {
   "cell_type": "code",
   "execution_count": 5,
   "id": "10a62dcd-e76c-4b26-b700-8e5bd3db6464",
   "metadata": {},
   "outputs": [],
   "source": [
    "list1 = [1,2,3,4, [44,55,66, True], False, (34,56,78,89,34), {1,2,3,3,2,1}, {1:34, \"key2\": [55, 67, 78, 89], 4: (45,22, 61, 34)}, [56, 'data science'], 'Machine Learning']"
   ]
  },
  {
   "cell_type": "code",
   "execution_count": 42,
   "id": "7d66bc93-643e-42f9-830e-f3c3f155bf37",
   "metadata": {},
   "outputs": [],
   "source": [
    "def test1(a):\n",
    "    n=[]\n",
    "    for i in list(a):\n",
    "        if isinstance(i,(list,tuple,set)):\n",
    "            n.extend(i)\n",
    "        elif isinstance(i,dict):\n",
    "                for val in i.values():\n",
    "                    if isinstance(val,(dict,list,set,tuple)):\n",
    "                        n.extend(val)\n",
    "        else:                            \n",
    "            for j in n:\n",
    "                print(j)\n",
    "    product=1\n",
    "    for j in n:\n",
    "        if type(j)==int or type(j)==float:\n",
    "            product*=j\n",
    "    return product \n",
    "            \n",
    "    \n",
    "            \n",
    "    "
   ]
  },
  {
   "cell_type": "code",
   "execution_count": 43,
   "id": "5cde933b-36e1-4faa-98e5-cd0b801d9bb6",
   "metadata": {},
   "outputs": [
    {
     "name": "stdout",
     "output_type": "stream",
     "text": [
      "44\n",
      "55\n",
      "66\n",
      "True\n",
      "44\n",
      "55\n",
      "66\n",
      "True\n",
      "34\n",
      "56\n",
      "78\n",
      "89\n",
      "34\n",
      "1\n",
      "2\n",
      "3\n",
      "55\n",
      "67\n",
      "78\n",
      "89\n",
      "45\n",
      "22\n",
      "61\n",
      "34\n",
      "56\n",
      "data science\n"
     ]
    },
    {
     "data": {
      "text/plain": [
       "1266762205572023737387819008000"
      ]
     },
     "execution_count": 43,
     "metadata": {},
     "output_type": "execute_result"
    }
   ],
   "source": [
    "test1(list1)"
   ]
  },
  {
   "cell_type": "markdown",
   "id": "37cf4f07-b96c-4ef9-b607-8e4584346e69",
   "metadata": {},
   "source": [
    "# Q2. Write a python program for encrypting a message sent to you by your friend. The logic of encryption should be such that, for a the output should be z. For b, the output should be y. For c, the output should be x respectively. Also, the whitespace should be replaced with a dollar sign. Keep the punctuation marks unchanged."
   ]
  },
  {
   "cell_type": "markdown",
   "id": "d47c31e2-27e1-43bb-b934-da0260102961",
   "metadata": {},
   "source": [
    "# Input Sentence: I want to become a Data Scientist."
   ]
  },
  {
   "cell_type": "markdown",
   "id": "b759c918-fc02-464b-ab78-112d5022276f",
   "metadata": {},
   "source": [
    "# Encrypt the above input sentence using the program you just created."
   ]
  },
  {
   "cell_type": "markdown",
   "id": "b86c591e-0138-490f-85a7-ec663a54a186",
   "metadata": {},
   "source": [
    "# Note: Convert the given input sentence into lowercase before encrypting. The final output should be lowercase."
   ]
  },
  {
   "cell_type": "code",
   "execution_count": 50,
   "id": "4fa1b200-90e1-480a-a3a5-45279a2efa4d",
   "metadata": {},
   "outputs": [
    {
     "name": "stdout",
     "output_type": "stream",
     "text": [
      "r$dzmg$gl$yvxlnv$z$wzgz$hxrvmgrhg.\n"
     ]
    }
   ],
   "source": [
    "def encrypt_message(message):\n",
    "    message = message.lower()\n",
    "    encrypted_message = ''\n",
    "    for char in message:\n",
    "        if char.isalpha():\n",
    "            encrypted_char = chr(219 - ord(char))\n",
    "        elif char.isspace():\n",
    "            encrypted_char = '$'\n",
    "        else:\n",
    "            encrypted_char = char\n",
    "        encrypted_message += encrypted_char\n",
    "    return encrypted_message\n",
    "\n",
    "input_sentence = 'I want to become a Data Scientist.'\n",
    "encrypted_sentence = encrypt_message(input_sentence)\n",
    "print(encrypted_sentence)\n"
   ]
  },
  {
   "cell_type": "code",
   "execution_count": null,
   "id": "a096bde3-d4b5-4db2-bc40-7764ade30d36",
   "metadata": {},
   "outputs": [],
   "source": []
  }
 ],
 "metadata": {
  "kernelspec": {
   "display_name": "Python 3 (ipykernel)",
   "language": "python",
   "name": "python3"
  },
  "language_info": {
   "codemirror_mode": {
    "name": "ipython",
    "version": 3
   },
   "file_extension": ".py",
   "mimetype": "text/x-python",
   "name": "python",
   "nbconvert_exporter": "python",
   "pygments_lexer": "ipython3",
   "version": "3.10.8"
  }
 },
 "nbformat": 4,
 "nbformat_minor": 5
}

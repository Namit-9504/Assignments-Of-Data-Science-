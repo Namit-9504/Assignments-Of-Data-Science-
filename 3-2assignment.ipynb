{
 "cells": [
  {
   "cell_type": "markdown",
   "id": "5e27298d-92eb-48bc-a079-fef96fe7e339",
   "metadata": {},
   "source": [
    "Q1. Which keyword is used to create a function? Create a function to return a list of odd numbers in the\n",
    "range of 1 to 25."
   ]
  },
  {
   "cell_type": "markdown",
   "id": "3ee23419-7071-411c-b540-e99b0b305dc8",
   "metadata": {},
   "source": [
    "Ans"
   ]
  },
  {
   "cell_type": "markdown",
   "id": "25f99734-76b9-4328-a918-4013ded6e96f",
   "metadata": {},
   "source": [
    "\"def \" keyword is used to create a function. "
   ]
  },
  {
   "cell_type": "code",
   "execution_count": 5,
   "id": "06a89de6-9f8f-479c-b87b-1515ff1a3f75",
   "metadata": {},
   "outputs": [],
   "source": [
    "def test1():\n",
    "    for i in range(0,25):\n",
    "        if i%2!=0:\n",
    "            print(i)   "
   ]
  },
  {
   "cell_type": "code",
   "execution_count": 6,
   "id": "c4243f5e-23ef-4399-8cf7-b11ca154758c",
   "metadata": {},
   "outputs": [
    {
     "name": "stdout",
     "output_type": "stream",
     "text": [
      "1\n",
      "3\n",
      "5\n",
      "7\n",
      "9\n",
      "11\n",
      "13\n",
      "15\n",
      "17\n",
      "19\n",
      "21\n",
      "23\n"
     ]
    }
   ],
   "source": [
    "test1()"
   ]
  },
  {
   "cell_type": "markdown",
   "id": "ec0c7056-b21e-4b66-abde-469a634ea9bf",
   "metadata": {},
   "source": [
    "Q2. Why *args and **kwargs is used in some functions? Create a function each for *args and **kwargs to\n",
    "demonstrate their use."
   ]
  },
  {
   "cell_type": "markdown",
   "id": "43dddd0f-7bf3-4869-82c0-9931009a64da",
   "metadata": {},
   "source": [
    "ANS"
   ]
  },
  {
   "cell_type": "markdown",
   "id": "b85f98ab-30f1-4f28-8b8b-8ba57ccc3630",
   "metadata": {},
   "source": [
    "*args allows a function to accept a variable number of positional arguments, which are passed to the function as a tuple. This is useful when you want to write a function that can accept any number of arguments.\n",
    "\n",
    "**kwargs allows a function to accept a variable number of keyword arguments, which are passed to the function as a dictionary. This is useful when you want to write a function that can accept any number of keyword arguments."
   ]
  },
  {
   "cell_type": "code",
   "execution_count": 8,
   "id": "95a78d60-b1af-46e9-9cad-2904147aae8b",
   "metadata": {},
   "outputs": [],
   "source": [
    "def sum_all(*args):\n",
    "    result = 0\n",
    "    for arg in args:\n",
    "        result += arg\n",
    "    return result\n"
   ]
  },
  {
   "cell_type": "code",
   "execution_count": 12,
   "id": "667a1d32-6fa1-4e58-a672-b68cb016599d",
   "metadata": {},
   "outputs": [
    {
     "name": "stdout",
     "output_type": "stream",
     "text": [
      "15\n"
     ]
    }
   ],
   "source": [
    "result = sum_all(1, 2, 3, 4, 5)\n",
    "print(result)  \n"
   ]
  },
  {
   "cell_type": "code",
   "execution_count": 13,
   "id": "12785f10-6aaa-4447-978e-24687e11fda9",
   "metadata": {},
   "outputs": [],
   "source": [
    "def print_kwargs(**kwargs):\n",
    "    for key, value in kwargs.items():\n",
    "        print(f\"{key}: {value}\")\n"
   ]
  },
  {
   "cell_type": "code",
   "execution_count": 14,
   "id": "59c0fe3a-2c1a-496a-891c-17fadb5dd9f0",
   "metadata": {},
   "outputs": [
    {
     "name": "stdout",
     "output_type": "stream",
     "text": [
      "name: Alice\n",
      "age: 30\n",
      "city: New York\n"
     ]
    }
   ],
   "source": [
    "print_kwargs(name=\"Alice\", age=30, city=\"New York\")"
   ]
  },
  {
   "cell_type": "markdown",
   "id": "dab0b262-708e-4466-b46f-a6664adb0ed7",
   "metadata": {},
   "source": [
    "Q3. What is an iterator in python? Name the method used to initialise the iterator object and the method\n",
    "used for iteration. Use these methods to print the first five elements of the given list [2, 4, 6, 8, 10, 12, 14, 16,\n",
    "18, 20]."
   ]
  },
  {
   "cell_type": "code",
   "execution_count": 16,
   "id": "7bd43796-2ff9-4052-b3a7-c5c16e0270ff",
   "metadata": {},
   "outputs": [],
   "source": [
    " list =[2, 4, 6, 8, 10, 12, 14, 16, 18, 20]"
   ]
  },
  {
   "cell_type": "markdown",
   "id": "a9e575e7-f6f7-4961-bfb9-c5f8b67eca9a",
   "metadata": {},
   "source": [
    "In Python, an iterator is an object that can be iterated (looped) upon, meaning that you can traverse through all the elements of a sequence, one at a time. An iterator is an implementation of the iterator protocol, which requires that the object have two methods: __iter__() and __next__().\n",
    "\n",
    "__iter__() method is used to initialize the iterator object and returns the iterator object itself.\n",
    "__next__() method is used for iteration and returns the next value in the sequence."
   ]
  },
  {
   "cell_type": "code",
   "execution_count": null,
   "id": "2251da6a-4d0e-4d7f-87ae-da707215ee9b",
   "metadata": {},
   "outputs": [],
   "source": [
    "lst = [2, 4, 6, 8, 10, 12, 14, 16, 18, 20]\n",
    "it = iter(lst)\n",
    "for i in range(5):\n",
    "    print(next(it))\n"
   ]
  },
  {
   "cell_type": "markdown",
   "id": "1c2cf976-f577-49e9-8db2-9d2718442538",
   "metadata": {},
   "source": [
    "Q4. What is a generator function in python? Why yield keyword is used? Give an example of a generator\n",
    "function."
   ]
  },
  {
   "cell_type": "markdown",
   "id": "7f7eacb6-f107-4d90-880f-950a6f3b27f4",
   "metadata": {},
   "source": [
    "ans"
   ]
  },
  {
   "cell_type": "markdown",
   "id": "71e32540-27db-4c64-a8f2-eaf2efd0d3ac",
   "metadata": {},
   "source": [
    "In Python, a generator function is a special type of function that generates a sequence of values using the yield keyword. A generator function returns a generator object, which can be used to iterate over the sequence of values one at a time. The main advantage of using a generator function is that it allows you to generate a sequence of values on the fly, without having to store them all in memory at once.\n",
    "\n",
    "The yield keyword is used in a generator function to return a value from the function, but instead of exiting the function like a return statement would, it saves the state of the function and allows it to be resumed from where it left off the next time the generator is called.\n",
    "\n",
    "Here's an example of a generator function that generates a sequence of even numbers:"
   ]
  },
  {
   "cell_type": "code",
   "execution_count": null,
   "id": "e9432f50-33ba-4a40-b70c-4fff948ba7e9",
   "metadata": {},
   "outputs": [],
   "source": [
    "def generate_even_numbers(n):\n",
    "    i = 0\n",
    "    while i <= n:\n",
    "        yield i\n",
    "        i += 2\n"
   ]
  },
  {
   "cell_type": "code",
   "execution_count": null,
   "id": "9aa8a056-5ff8-45b3-992d-9288f6fe4844",
   "metadata": {},
   "outputs": [],
   "source": [
    "evens = generate_even_numbers(10)\n",
    "for i in evens:\n",
    "    print(i)\n"
   ]
  },
  {
   "cell_type": "markdown",
   "id": "5f256e99-bb39-4b00-9b23-4c0d8e288d65",
   "metadata": {},
   "source": [
    "Q5. Create a generator function for prime numbers less than 1000. Use the next() method to print the\n",
    "first 20 prime numbers."
   ]
  },
  {
   "cell_type": "code",
   "execution_count": null,
   "id": "6b8b138f-9a30-498c-9685-ca77605d3dd8",
   "metadata": {},
   "outputs": [],
   "source": [
    "def generate_primes():\n",
    "    primes = []\n",
    "    num = 2\n",
    "    while num < 1000:\n",
    "        is_prime = True\n",
    "        for prime in primes:\n",
    "            if num % prime == 0:\n",
    "                is_prime = False\n",
    "                break\n",
    "        if is_prime:\n",
    "            primes.append(num)\n",
    "            yield num\n",
    "        num += 1\n"
   ]
  },
  {
   "cell_type": "code",
   "execution_count": null,
   "id": "3f2eedc3-d5e7-41e8-8dfc-68c5c24ca724",
   "metadata": {},
   "outputs": [],
   "source": [
    "primes = generate_primes()\n",
    "for i in range(20):\n",
    "    print(next(primes))\n"
   ]
  },
  {
   "cell_type": "code",
   "execution_count": null,
   "id": "339ffe02-4b6f-4515-92b9-18b1e3f7ecd4",
   "metadata": {},
   "outputs": [],
   "source": []
  },
  {
   "cell_type": "code",
   "execution_count": null,
   "id": "45e3424e-b298-4866-bf00-e7b8907f6bdf",
   "metadata": {},
   "outputs": [],
   "source": []
  },
  {
   "cell_type": "code",
   "execution_count": null,
   "id": "40e416b7-5dd1-4a43-a308-9206a091ddb4",
   "metadata": {},
   "outputs": [],
   "source": []
  },
  {
   "cell_type": "code",
   "execution_count": null,
   "id": "164fa105-dbd9-42d4-b165-e7ac1a074691",
   "metadata": {},
   "outputs": [],
   "source": []
  },
  {
   "cell_type": "code",
   "execution_count": null,
   "id": "22f291fc-42f5-4a46-afab-760338f0d8c2",
   "metadata": {},
   "outputs": [],
   "source": []
  },
  {
   "cell_type": "code",
   "execution_count": null,
   "id": "8b18a979-4058-4585-9205-0c857a74c4da",
   "metadata": {},
   "outputs": [],
   "source": []
  },
  {
   "cell_type": "code",
   "execution_count": null,
   "id": "ca3ebe28-25bf-4675-99ec-d17c8d2c2867",
   "metadata": {},
   "outputs": [],
   "source": []
  },
  {
   "cell_type": "code",
   "execution_count": null,
   "id": "a8ba441b-caf3-45ef-a1bf-f3736c4c94d4",
   "metadata": {},
   "outputs": [],
   "source": []
  },
  {
   "cell_type": "code",
   "execution_count": null,
   "id": "2c9567f3-44ab-4985-beb0-61d9fb6d4c81",
   "metadata": {},
   "outputs": [],
   "source": []
  },
  {
   "cell_type": "code",
   "execution_count": null,
   "id": "4f3987e3-7319-478e-8072-2c3717243999",
   "metadata": {},
   "outputs": [],
   "source": []
  },
  {
   "cell_type": "code",
   "execution_count": null,
   "id": "4377f5a0-9ddc-4c91-8d03-a40aa4d43095",
   "metadata": {},
   "outputs": [],
   "source": []
  },
  {
   "cell_type": "code",
   "execution_count": null,
   "id": "ba2ec14e-bc69-41fe-b45a-eed4f0e34064",
   "metadata": {},
   "outputs": [],
   "source": []
  },
  {
   "cell_type": "code",
   "execution_count": null,
   "id": "b37ef361-76da-49fc-baec-553f9d8e0ded",
   "metadata": {},
   "outputs": [],
   "source": []
  },
  {
   "cell_type": "code",
   "execution_count": null,
   "id": "89d336d3-a77a-43a1-9974-c6c55188dcd9",
   "metadata": {},
   "outputs": [],
   "source": []
  }
 ],
 "metadata": {
  "kernelspec": {
   "display_name": "Python 3 (ipykernel)",
   "language": "python",
   "name": "python3"
  },
  "language_info": {
   "codemirror_mode": {
    "name": "ipython",
    "version": 3
   },
   "file_extension": ".py",
   "mimetype": "text/x-python",
   "name": "python",
   "nbconvert_exporter": "python",
   "pygments_lexer": "ipython3",
   "version": "3.10.8"
  }
 },
 "nbformat": 4,
 "nbformat_minor": 5
}

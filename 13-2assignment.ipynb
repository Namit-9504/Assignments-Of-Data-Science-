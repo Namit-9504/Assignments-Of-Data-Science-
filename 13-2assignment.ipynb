{
 "cells": [
  {
   "cell_type": "markdown",
   "id": "70f7cd7e-6820-4b59-9657-b9191b2d2b73",
   "metadata": {},
   "source": [
    "### Q1. Explain why we have to use the Exception class while creating a Custom Exception. Note: Here Exception class refers to the base class for all the exceptions."
   ]
  },
  {
   "cell_type": "markdown",
   "id": "fa43a9ad-6a55-4fba-9f21-03b04f225afb",
   "metadata": {},
   "source": [
    "We use the Exception class as the base class for creating custom exceptions because it provides the basic functionality required for an exception, such as printing a traceback, raising the exception, and handling it. The Exception class is designed to be subclassed, allowing programmers to create their own custom exceptions that inherit all the functionality of the base class.\n",
    "\n",
    "When creating a custom exception, we can define additional attributes and methods that are specific to our use case. By using the Exception class as the base class, we ensure that our custom exception follows the same interface and behavior as other exceptions in the language. This makes it easier to handle and catch our custom exception along with other built-in exceptions.\n",
    "\n",
    "Furthermore, using the Exception class as the base class for custom exceptions provides consistency and standardization in the language. It ensures that all exceptions adhere to a common interface and can be handled uniformly by programs. This makes it easier for developers to write robust and maintainable code.\n",
    "\n",
    "Overall, using the Exception class as the base class for creating custom exceptions provides a solid foundation and structure for building exceptions that are consistent, maintainable, and easy to use."
   ]
  },
  {
   "cell_type": "markdown",
   "id": "8b75be45-aea6-45cc-ae8e-348cb99c5a46",
   "metadata": {},
   "source": [
    "### Q2. Write a python program to print Python Exception Hierarchy."
   ]
  },
  {
   "cell_type": "code",
   "execution_count": null,
   "id": "10f120b1-773d-44f0-bf4d-291b66d5f6f5",
   "metadata": {},
   "outputs": [],
   "source": [
    "def print_exception_hierarchy(exception_class, indent=0):\n",
    "    print(\" \" * indent + exception_class.__name__)\n",
    "    for subclass in exception_class.__subclasses__():\n",
    "        print_exception_hierarchy(subclass, indent + 4)\n",
    "\n",
    "print_exception_hierarchy(BaseException)\n"
   ]
  },
  {
   "cell_type": "markdown",
   "id": "cb884577-9ec2-4ae2-b902-f29a074f6c7a",
   "metadata": {},
   "source": [
    "### Q3. What errors are defined in the ArithmeticError class? Explain any two with an example."
   ]
  },
  {
   "cell_type": "markdown",
   "id": "0a6c7379-1e45-4349-9f81-6b0bf63ca05b",
   "metadata": {},
   "source": [
    "The ArithmeticError class is a built-in Python exception class that serves as the base class for all arithmetic-related exceptions. It is a subclass of the Exception class and is itself the parent class of several specific arithmetic exceptions.\n",
    "\n",
    "Here are two common errors defined in the ArithmeticError class:\n",
    "\n",
    "ZeroDivisionError: This exception is raised when attempting to divide a number by zero. For example:"
   ]
  },
  {
   "cell_type": "code",
   "execution_count": 5,
   "id": "53bc8b57-bc46-4238-a8ff-446ae73dba11",
   "metadata": {},
   "outputs": [
    {
     "ename": "ZeroDivisionError",
     "evalue": "division by zero",
     "output_type": "error",
     "traceback": [
      "\u001b[0;31m---------------------------------------------------------------------------\u001b[0m",
      "\u001b[0;31mZeroDivisionError\u001b[0m                         Traceback (most recent call last)",
      "Cell \u001b[0;32mIn[5], line 3\u001b[0m\n\u001b[1;32m      1\u001b[0m numerator \u001b[38;5;241m=\u001b[39m \u001b[38;5;241m10\u001b[39m\n\u001b[1;32m      2\u001b[0m denominator \u001b[38;5;241m=\u001b[39m \u001b[38;5;241m0\u001b[39m\n\u001b[0;32m----> 3\u001b[0m result \u001b[38;5;241m=\u001b[39m \u001b[43mnumerator\u001b[49m\u001b[43m \u001b[49m\u001b[38;5;241;43m/\u001b[39;49m\u001b[43m \u001b[49m\u001b[43mdenominator\u001b[49m  \n",
      "\u001b[0;31mZeroDivisionError\u001b[0m: division by zero"
     ]
    }
   ],
   "source": [
    "numerator = 10\n",
    "denominator = 0\n",
    "result = numerator / denominator  \n"
   ]
  },
  {
   "cell_type": "markdown",
   "id": "cd42f6f7-b186-4103-b847-2ae3285e6b85",
   "metadata": {},
   "source": [
    "OverflowError: This exception is raised when the result of an arithmetic operation is too large to be represented as a number in Python. For example:"
   ]
  },
  {
   "cell_type": "code",
   "execution_count": null,
   "id": "311b6c25-a5eb-493b-920a-5f9a1919425f",
   "metadata": {},
   "outputs": [],
   "source": [
    "x = 2 ** 1000000 \n"
   ]
  },
  {
   "cell_type": "markdown",
   "id": "c051b8d0-9397-4d44-911e-a033f6da12ba",
   "metadata": {},
   "source": [
    "Both of these exceptions are subclasses of ArithmeticError, which is itself a subclass of Exception. By catching these exceptions, we can handle them gracefully in our code and prevent our program from crashing."
   ]
  },
  {
   "cell_type": "markdown",
   "id": "d47720bf-702e-4373-9629-50fd225278a8",
   "metadata": {},
   "source": [
    "### Q4. Why LookupError class is used? Explain with an example KeyError and IndexError."
   ]
  },
  {
   "cell_type": "markdown",
   "id": "e4999de0-d51e-4f4f-80bd-f0e94d61e0af",
   "metadata": {},
   "source": [
    "The LookupError class is a built-in Python exception class that serves as the base class for all lookup-related exceptions. It is a subclass of the Exception class and is itself the parent class of several specific lookup exceptions.\n",
    "\n",
    "Here are two common errors defined in the LookupError class:\n",
    "\n",
    "KeyError: This exception is raised when trying to access a dictionary key that does not exist. For example:"
   ]
  },
  {
   "cell_type": "code",
   "execution_count": null,
   "id": "babdf272-9907-41a0-9a92-17d078daac57",
   "metadata": {},
   "outputs": [],
   "source": [
    "my_dict = {'a': 1, 'b': 2, 'c': 3}\n",
    "value = my_dict['d']"
   ]
  },
  {
   "cell_type": "markdown",
   "id": "18ddf5d0-bb15-4fea-844b-5c097ba6c88f",
   "metadata": {},
   "source": [
    "In this example, we are trying to access the value of the key 'd' in my_dict. However, this key does not exist in the dictionary, so a KeyError is raised.\n",
    "\n",
    "IndexError: This exception is raised when trying to access a list or tuple index that is out of range. For example:"
   ]
  },
  {
   "cell_type": "code",
   "execution_count": 3,
   "id": "c3121d1c-8431-42ff-942b-a36ffeee2bb7",
   "metadata": {},
   "outputs": [
    {
     "ename": "IndexError",
     "evalue": "list index out of range",
     "output_type": "error",
     "traceback": [
      "\u001b[0;31m---------------------------------------------------------------------------\u001b[0m",
      "\u001b[0;31mIndexError\u001b[0m                                Traceback (most recent call last)",
      "Cell \u001b[0;32mIn[3], line 2\u001b[0m\n\u001b[1;32m      1\u001b[0m my_list \u001b[38;5;241m=\u001b[39m [\u001b[38;5;241m1\u001b[39m, \u001b[38;5;241m2\u001b[39m, \u001b[38;5;241m3\u001b[39m]\n\u001b[0;32m----> 2\u001b[0m value \u001b[38;5;241m=\u001b[39m \u001b[43mmy_list\u001b[49m\u001b[43m[\u001b[49m\u001b[38;5;241;43m3\u001b[39;49m\u001b[43m]\u001b[49m  \n",
      "\u001b[0;31mIndexError\u001b[0m: list index out of range"
     ]
    }
   ],
   "source": [
    "my_list = [1, 2, 3]\n",
    "value = my_list[3]  \n"
   ]
  },
  {
   "cell_type": "markdown",
   "id": "94067bfe-dc68-4de7-9f00-cb0f1b5b3d66",
   "metadata": {},
   "source": [
    "In this example, we are trying to access the value at index 3 in my_list. However, my_list only has three elements, so an IndexError is raised.\n",
    "\n",
    "Both of these exceptions are subclasses of LookupError, which is itself a subclass of Exception. By catching these exceptions, we can handle them gracefully in our code and prevent our program from crashing.\n",
    "\n",
    "The LookupError class is useful because it provides a common interface for handling all lookup-related exceptions. By catching LookupError, we can handle any of its subclasses, including KeyError and IndexError, without having to write separate exception handlers for each one. This makes our code more concise and easier to maintain."
   ]
  },
  {
   "cell_type": "markdown",
   "id": "6ee562d7-03c7-4b77-b43e-e5c4af44a107",
   "metadata": {},
   "source": [
    "### Q5. Explain ImportError. What is ModuleNotFoundError?"
   ]
  },
  {
   "cell_type": "markdown",
   "id": "736b0588-a89b-4c16-bd23-490e3da1c066",
   "metadata": {},
   "source": [
    "ImportError is a built-in Python exception class that is raised when there is an error while importing a module. It is a subclass of the Exception class.\n",
    "\n",
    "ImportError can be raised for several reasons, such as if the module being imported does not exist, or if there is an error in the code within the module being imported. This exception can be caught and handled in a try-except block to prevent the program from crashing.\n",
    "\n",
    "ModuleNotFoundError is a specific subclass of ImportError that is raised when a module cannot be found during an import statement. This error was introduced in Python 3.6 and is raised when the specified module cannot be found in any of the search paths.\n",
    "\n",
    "For example, consider the following code snippet:"
   ]
  },
  {
   "cell_type": "code",
   "execution_count": 4,
   "id": "09212354-5eac-48bf-83d3-af3a5bd81482",
   "metadata": {},
   "outputs": [
    {
     "name": "stdout",
     "output_type": "stream",
     "text": [
      "ImportError occurred: No module named 'non_existent_module'\n"
     ]
    }
   ],
   "source": [
    "try:\n",
    "    import non_existent_module\n",
    "except ImportError as e:\n",
    "    print(\"ImportError occurred:\", e)\n"
   ]
  },
  {
   "cell_type": "markdown",
   "id": "e71e3b3c-c035-40f3-804a-1da41c2e58b6",
   "metadata": {},
   "source": [
    "In this example, we are attempting to import a module called non_existent_module. Since this module does not exist, an ImportError is raised. We catch the ImportError using a try-except block and print the error message.\n",
    "\n",
    "Now, let's consider another example:"
   ]
  },
  {
   "cell_type": "code",
   "execution_count": 5,
   "id": "91ea90b5-3e12-463c-b721-b0682915477d",
   "metadata": {},
   "outputs": [
    {
     "name": "stdout",
     "output_type": "stream",
     "text": [
      "ModuleNotFoundError occurred: No module named 'my_module'\n"
     ]
    }
   ],
   "source": [
    "try:\n",
    "    import my_module\n",
    "except ModuleNotFoundError as e:\n",
    "    print(\"ModuleNotFoundError occurred:\", e)\n"
   ]
  },
  {
   "cell_type": "markdown",
   "id": "518ceae3-d5c4-439c-9d17-3392ba8e8371",
   "metadata": {},
   "source": [
    "In this example, we are attempting to import a module called my_module. However, if my_module does not exist in any of the search paths, a ModuleNotFoundError is raised instead of a generic ImportError.\n",
    "\n",
    "In summary, ImportError is a general exception that is raised when there is an error while importing a module, while ModuleNotFoundError is a specific subclass of ImportError that is raised when a specified module cannot be found in any of the search paths."
   ]
  },
  {
   "cell_type": "markdown",
   "id": "e3801243-52a2-4eda-ba0f-bc42e23b16a1",
   "metadata": {},
   "source": [
    "Q6. List down some best practices for exception handling in python."
   ]
  },
  {
   "cell_type": "markdown",
   "id": "97dc3bfb-4be2-4e71-b614-a465fd635d59",
   "metadata": {},
   "source": [
    "1. clean up all the resources\n",
    "2. prepare a proper documentation\n",
    "3. try to avoid to write multiple exception handling\n",
    "4. always try to log instesd of print beacase as we know print is wrriten inside the console and log  wrritten into file'\n",
    "5. provide a proper message in a except\n",
    "6. use always a specific Exceptionn\n"
   ]
  },
  {
   "cell_type": "code",
   "execution_count": null,
   "id": "488028d8-67d4-478f-8558-cf19e2fae153",
   "metadata": {},
   "outputs": [],
   "source": []
  }
 ],
 "metadata": {
  "kernelspec": {
   "display_name": "Python 3 (ipykernel)",
   "language": "python",
   "name": "python3"
  },
  "language_info": {
   "codemirror_mode": {
    "name": "ipython",
    "version": 3
   },
   "file_extension": ".py",
   "mimetype": "text/x-python",
   "name": "python",
   "nbconvert_exporter": "python",
   "pygments_lexer": "ipython3",
   "version": "3.10.8"
  }
 },
 "nbformat": 4,
 "nbformat_minor": 5
}

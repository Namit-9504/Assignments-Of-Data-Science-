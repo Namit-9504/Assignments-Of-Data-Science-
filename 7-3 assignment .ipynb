{
 "cells": [
  {
   "cell_type": "markdown",
   "id": "ef38fa92-53d2-48ec-9e74-24a20e240efb",
   "metadata": {},
   "source": [
    "## Q1. What are the three measures of central tendency?"
   ]
  },
  {
   "cell_type": "markdown",
   "id": "8435b021-0c8a-412c-8e69-789484e02050",
   "metadata": {},
   "source": [
    "Three measures of central tendency are :\n",
    "    1. Mean \n",
    "    2. Median\n",
    "    3. Mode"
   ]
  },
  {
   "cell_type": "markdown",
   "id": "22f25782-7b78-4d4e-87a7-ee6bf7b3f445",
   "metadata": {},
   "source": [
    "## Q2. What is the difference between the mean, median, and mode? How are they used to measure the central tendency of a dataset?"
   ]
  },
  {
   "cell_type": "markdown",
   "id": "00332f39-6064-4cbe-951e-d82ab1f15d8f",
   "metadata": {},
   "source": [
    "The mean, median, and mode are three measures of central tendency used to describe the typical or central value of a dataset. The difference between these measures lies in the way they are calculated and the type of data they represent.\n",
    "\n",
    "The mean is the sum of all the values in the dataset divided by the total number of values. It is also known as the arithmetic average. The mean is sensitive to outliers, meaning that extreme values can significantly influence the result. For example, in a dataset of 10 numbers where one number is much larger than the others, the mean will be skewed towards the larger number.\n",
    "\n",
    "The median is the middle value in the dataset when the data is arranged in order from smallest to largest. If there is an even number of values in the dataset, the median is the average of the two middle values. The median is less sensitive to outliers than the mean, making it a more robust measure of central tendency. For example, in a dataset of 10 numbers where one number is much larger than the others, the median will not be affected as much as the mean.\n",
    "\n",
    "The mode is the value that appears most frequently in the dataset. If no value is repeated, then there is no mode. The mode is useful when dealing with categorical or discrete data, such as the number of times a particular event occurred. The mode can also be used with continuous data, but it may not be as meaningful as the mean or median in that case."
   ]
  },
  {
   "cell_type": "markdown",
   "id": "7b29f5d1-b422-4f51-adaa-24ddbe067cb5",
   "metadata": {},
   "source": [
    "## Q3. Measure the three measures of central tendency for the given height data:\n"
   ]
  },
  {
   "cell_type": "raw",
   "id": "5ec00cf4-381e-4993-acf3-142a85305a92",
   "metadata": {},
   "source": [
    "[178,177,176,177,178.2,178,175,179,180,175,178.9,176.2,177,172.5,178,176.5]"
   ]
  },
  {
   "cell_type": "code",
   "execution_count": 1,
   "id": "e9c54090-8702-422f-8964-43127bb0b407",
   "metadata": {},
   "outputs": [],
   "source": [
    "lst=[178,177,176,177,178.2,178,175,179,180,175,178.9,176.2,177,172.5,178,176.5]"
   ]
  },
  {
   "cell_type": "code",
   "execution_count": 2,
   "id": "d132ce05-2fb2-443b-bbaa-074ff8879821",
   "metadata": {},
   "outputs": [],
   "source": [
    "import numpy as np"
   ]
  },
  {
   "cell_type": "code",
   "execution_count": null,
   "id": "bdbce9d9-b3cf-4180-8e52-824565582cc8",
   "metadata": {},
   "outputs": [
    {
     "data": {
      "text/plain": [
       "177.01875"
      ]
     },
     "execution_count": 3,
     "metadata": {},
     "output_type": "execute_result"
    }
   ],
   "source": [
    "### Mean\n",
    "np.mean(lst)"
   ]
  },
  {
   "cell_type": "code",
   "execution_count": null,
   "id": "140d8806-cf04-4cc3-9e84-9ea72d2e2f27",
   "metadata": {},
   "outputs": [
    {
     "data": {
      "text/plain": [
       "177.0"
      ]
     },
     "execution_count": 4,
     "metadata": {},
     "output_type": "execute_result"
    }
   ],
   "source": [
    "### Median\n",
    "np.median(lst)"
   ]
  },
  {
   "cell_type": "code",
   "execution_count": null,
   "id": "4c731685-5174-49b8-afc4-ae0834efcd9f",
   "metadata": {},
   "outputs": [
    {
     "name": "stderr",
     "output_type": "stream",
     "text": [
      "/tmp/ipykernel_139/468030762.py:3: FutureWarning: Unlike other reduction functions (e.g. `skew`, `kurtosis`), the default behavior of `mode` typically preserves the axis it acts along. In SciPy 1.11.0, this behavior will change: the default value of `keepdims` will become False, the `axis` over which the statistic is taken will be eliminated, and the value None will no longer be accepted. Set `keepdims` to True or False to avoid this warning.\n",
      "  stats.mode(lst)\n"
     ]
    },
    {
     "data": {
      "text/plain": [
       "ModeResult(mode=array([177.]), count=array([3]))"
      ]
     },
     "execution_count": 5,
     "metadata": {},
     "output_type": "execute_result"
    }
   ],
   "source": [
    "### mode\n",
    "from scipy import stats\n",
    "stats.mode(lst)"
   ]
  },
  {
   "cell_type": "markdown",
   "id": "9c66bcd5-a1b2-4ba0-bc58-e622035f8e21",
   "metadata": {},
   "source": [
    "## Q4. Find the standard deviation for the given data:"
   ]
  },
  {
   "cell_type": "raw",
   "id": "2a603373-ff18-42d7-9d77-7097ddfda3cb",
   "metadata": {},
   "source": [
    "[178,177,176,177,178.2,178,175,179,180,175,178.9,176.2,177,172.5,178,176.5]"
   ]
  },
  {
   "cell_type": "code",
   "execution_count": 6,
   "id": "d869cbb8-9d6d-45d6-8f06-a4216fbcaf80",
   "metadata": {},
   "outputs": [],
   "source": [
    "lst1 =[178,177,176,177,178.2,178,175,179,180,175,178.9,176.2,177,172.5,178,176.5]"
   ]
  },
  {
   "cell_type": "code",
   "execution_count": 8,
   "id": "fae94f2f-b1af-4e52-86ce-80652db8211d",
   "metadata": {},
   "outputs": [
    {
     "data": {
      "text/plain": [
       "1.7885814036548633"
      ]
     },
     "execution_count": 8,
     "metadata": {},
     "output_type": "execute_result"
    }
   ],
   "source": [
    "import numpy as np\n",
    "np.std(lst1)"
   ]
  },
  {
   "cell_type": "markdown",
   "id": "c0fa3350-7886-4ea3-97f5-fd7fd801353f",
   "metadata": {
    "tags": []
   },
   "source": [
    "## Q5. How are measures of dispersion such as range, variance, and standard deviation used to describe the spread of a dataset? Provide an example."
   ]
  },
  {
   "cell_type": "markdown",
   "id": "7695cbc4-5b7a-4508-ad3f-e0fa25d59f77",
   "metadata": {},
   "source": [
    "Measures of dispersion, such as range, variance, and standard deviation, are used to describe the spread or variability of a dataset. These measures provide information on how far the data points are from the central tendency of the dataset.\n",
    "\n",
    "Range is the simplest measure of dispersion and is calculated as the difference between the maximum and minimum values in a dataset. However, range can be affected by outliers and may not be a reliable measure of dispersion in datasets with extreme values.\n",
    "\n",
    "Variance is a measure of how far the data points are from the mean of the dataset. It is calculated by taking the average of the squared differences between each data point and the mean. The variance is useful for detecting the presence of outliers or extreme values that can affect the mean. However, the variance is measured in squared units, which can make it difficult to interpret.\n",
    "\n",
    "Standard deviation is a more commonly used measure of dispersion and is the square root of the variance. It measures the spread of the data in the same units as the original data. The standard deviation is useful for comparing the variability of datasets with different units or scales. It is also commonly used to define a range of values around the mean, within which a certain percentage of the data points are expected to fall.\n",
    "\n",
    "For example, let's say we have a dataset of salaries of employees at a company. The mean salary is $60,000 per year, and the standard deviation is $10,000 per year. This means that most employees earn a salary between $50,000 and $70,000 per year, and only a few employees earn more than $80,000 or less than $40,000 per year. The range of salaries is not a reliable measure of dispersion in this case, as there may be outliers that skew the range. The variance can provide information on how much the salaries deviate from the mean, but it is not as interpretable as the standard deviation. The standard deviation, on the other hand, provides a measure of the spread of salaries that is easy to interpret and can be used to compare the variability of salaries across different departments or job roles."
   ]
  },
  {
   "cell_type": "code",
   "execution_count": 10,
   "id": "b01f8f4f-d0e2-4e1b-ba13-1435b8be1a14",
   "metadata": {},
   "outputs": [
    {
     "name": "stdout",
     "output_type": "stream",
     "text": [
      "Range of salaries: 40000\n",
      "Variance of salaries: 200000000.0\n",
      "Standard deviation of salaries: 14142.13562373095\n"
     ]
    }
   ],
   "source": [
    "import numpy as np\n",
    "\n",
    "# Define a dataset of salaries\n",
    "salaries = [50000, 60000, 70000, 80000, 90000]\n",
    "\n",
    "# Calculate the range\n",
    "range_salaries = np.max(salaries) - np.min(salaries)\n",
    "print(\"Range of salaries:\", range_salaries)\n",
    "\n",
    "# Calculate the variance\n",
    "variance_salaries = np.var(salaries)\n",
    "print(\"Variance of salaries:\", variance_salaries)\n",
    "\n",
    "# Calculate the standard deviation\n",
    "std_salaries = np.std(salaries)\n",
    "print(\"Standard deviation of salaries:\", std_salaries)\n"
   ]
  },
  {
   "cell_type": "markdown",
   "id": "04b41106-d90b-4888-91ae-4d39544725c6",
   "metadata": {},
   "source": [
    "## Q6. What is a Venn diagram?"
   ]
  },
  {
   "cell_type": "markdown",
   "id": "998302cf-d27a-4114-b6ae-a322b7e5e5e9",
   "metadata": {},
   "source": [
    "A Venn diagram is a graphical representation of the relationships between sets. It consists of overlapping circles or other shapes, each representing a set, and the overlapping region(s) representing the intersection of the sets. The purpose of a Venn diagram is to visually display the similarities and differences between different sets or groups of data.\n",
    "\n",
    "Venn diagrams are commonly used in mathematics, statistics, logic, and computer science to visualize the relationships between sets. They can also be used in other fields such as biology, social sciences, and business to represent data and relationships between categories or groups.\n",
    "\n",
    "In a Venn diagram, the individual sets are usually labeled with capital letters, such as A, B, and C, and the overlapping region(s) are labeled with combinations of the set labels, such as A∩B for the intersection of sets A and B.\n",
    "\n",
    "Venn diagrams can be useful for solving problems involving set operations such as union, intersection, and complement. They can also be used to illustrate concepts such as the inclusion-exclusion principle and the law of total probability.\n",
    "\n",
    "Overall, Venn diagrams are a helpful tool for visually representing complex relationships between sets and making them easier to understand.\n",
    "\n",
    "\n",
    "\n",
    "\n"
   ]
  },
  {
   "cell_type": "markdown",
   "id": "8f602049-2b26-4eaa-85bb-ef2536eb9278",
   "metadata": {
    "tags": []
   },
   "source": [
    "## Q7. For the two given sets A = (2,3,4,5,6,7) & B = (0,2,6,8,10). Find:\n",
    "(i) A ∩ B\n",
    "(ii) A ⋃ B"
   ]
  },
  {
   "cell_type": "raw",
   "id": "de47b813-1646-4e4f-a780-31ce5f5852e3",
   "metadata": {},
   "source": [
    "1.A ∩ B = (2,6)\n",
    "2.A ⋃ B = (0,2,3,4,5,6,7,8,10)"
   ]
  },
  {
   "cell_type": "markdown",
   "id": "483bc640-77d4-4bde-bd62-04622c2c9adb",
   "metadata": {},
   "source": [
    "## Q8. What do you understand about skewness in data?"
   ]
  },
  {
   "cell_type": "markdown",
   "id": "039760fc-6362-4147-a9c4-46b0bd1314db",
   "metadata": {},
   "source": [
    "Skewness in data is a measure of the asymmetry of the probability distribution of a dataset. It refers to the degree to which the shape of the distribution of the data deviates from a normal distribution.\n",
    "\n",
    "A dataset is considered to be skewed if it is not symmetrical around its mean. Skewness can occur in two ways:\n",
    "\n",
    "Positive skewness: When the tail of the distribution extends to the right, and the majority of the data is concentrated on the left side of the distribution. This means that the mean is greater than the median.\n",
    "\n",
    "Negative skewness: When the tail of the distribution extends to the left, and the majority of the data is concentrated on the right side of the distribution. This means that the mean is less than the median.\n",
    "\n",
    "Skewness is measured using a statistical measure called the skewness coefficient, which quantifies the degree and direction of skewness. A skewness coefficient of zero indicates that the data is perfectly symmetrical, while a positive or negative value indicates positive or negative skewness, respectively.\n",
    "\n",
    "Skewed data can have implications for statistical analysis and modeling, as many statistical techniques assume that the data is normally distributed. Skewed data can also affect the interpretation of the central tendency of a dataset, as the mean may not accurately reflect the typical value in the dataset.\n",
    "\n",
    "Overall, skewness is an important concept to understand in data analysis, as it can affect the accuracy and reliability of statistical analysis and modeling."
   ]
  },
  {
   "cell_type": "markdown",
   "id": "2149e2d8-ccc8-4d30-86e2-8e07145d4a36",
   "metadata": {},
   "source": [
    "## Q9. If a data is right skewed then what will be the position of median with respect to mean?"
   ]
  },
  {
   "cell_type": "markdown",
   "id": "60e0f67f-1739-4b5c-9e1c-d5f3fa6610f3",
   "metadata": {},
   "source": [
    "If a dataset is right-skewed, the position of the median with respect to the mean will typically be to the left of the mean.\n",
    "\n",
    "In a right-skewed distribution, the mean is typically larger than the median because the long tail of the distribution is pulling the mean towards the right. This means that the mean is not a good measure of central tendency for right-skewed data. The median, on the other hand, is less affected by extreme values and is a better measure of central tendency in this case.\n",
    "\n",
    "The median will be closer to the lower end of the distribution, where the majority of the data is located, and further away from the tail of the distribution. So, in general, the median will be located to the left of the mean in a right-skewed distribution. However, the exact position of the median with respect to the mean will depend on the specific characteristics of the dataset."
   ]
  },
  {
   "cell_type": "markdown",
   "id": "667e2c8f-4684-41af-8e7d-bfa9cc6ee44a",
   "metadata": {},
   "source": [
    "## Q10. Explain the difference between covariance and correlation. How are these measures used in statistical analysis?"
   ]
  },
  {
   "cell_type": "markdown",
   "id": "45c48563-ec66-451c-96dc-eb27c62edcca",
   "metadata": {},
   "source": [
    "Covariance and correlation are two statistical measures used to describe the relationship between two variables in a dataset. Although they are both used to measure the degree to which two variables are related, they differ in some key ways.\n",
    "\n",
    "Covariance measures the strength and direction of the linear relationship between two variables. It measures how much two variables vary together, or co-vary, from their means. A positive covariance indicates that the two variables tend to increase or decrease together, while a negative covariance indicates that they tend to move in opposite directions.\n",
    "\n",
    "However, covariance alone is difficult to interpret because it is not standardized and is affected by the scales of the variables. Therefore, correlation is often used instead. Correlation measures the strength and direction of the linear relationship between two variables, but it is also standardized and is not affected by the scales of the variables.\n",
    "\n",
    "Correlation ranges from -1 to 1, where -1 indicates a perfect negative correlation, 0 indicates no correlation, and 1 indicates a perfect positive correlation. A correlation coefficient of 0 means that the variables are independent of each other and have no linear relationship.\n",
    "\n",
    "Both covariance and correlation are important measures in statistical analysis because they help to identify relationships between variables. They are used in a variety of fields, including finance, economics, social sciences, and natural sciences, to analyze data and make predictions about future outcomes. Correlation is especially useful in regression analysis, where it is used to estimate the strength of the relationship between the dependent and independent variables."
   ]
  },
  {
   "cell_type": "markdown",
   "id": "d9aaa2d8-cfc9-41c1-979a-e71088f6ce9a",
   "metadata": {},
   "source": [
    "## Q11. What is the formula for calculating the sample mean? Provide an example calculation for a dataset."
   ]
  },
  {
   "cell_type": "markdown",
   "id": "5f18bd41-72b6-409d-ad9a-ace4c7aa51d8",
   "metadata": {},
   "source": [
    "The sample mean, denoted by x̄, is the average of all the values in a dataset. The formula for calculating the sample mean is:\n",
    "\n",
    "x̄ = (Σ xi) / n\n",
    "\n",
    "where Σ xi represents the sum of all the values in the dataset, and n represents the number of values in the dataset.\n",
    "\n",
    "For example, consider the following dataset:\n",
    "\n",
    "3, 7, 5, 9, 2, 6\n",
    "\n",
    "To calculate the sample mean, we first add up all the values in the dataset:\n",
    "\n",
    "3 + 7 + 5 + 9 + 2 + 6 = 32\n",
    "\n",
    "Next, we divide the sum by the number of values in the dataset:\n",
    "\n",
    "x̄ = 32 / 6 = 5.333\n",
    "\n",
    "Therefore, the sample mean of the dataset is 5.333."
   ]
  },
  {
   "cell_type": "markdown",
   "id": "aea5d2db-3375-4916-8d47-36efe8b02654",
   "metadata": {},
   "source": [
    "## Q12. For a normal distribution data what is the relationship between its measure of central tendency?"
   ]
  },
  {
   "cell_type": "markdown",
   "id": "b78b913b-66b2-4c8f-b4f4-71aa12a8ace3",
   "metadata": {},
   "source": [
    "For a normal distribution, the three measures of central tendency - mean, median, and mode - are equal. This is because a normal distribution is a symmetric distribution with a bell-shaped curve, where the mean, median, and mode are all located at the center of the distribution.\n",
    "\n",
    "In a normal distribution, the mean is the most commonly used measure of central tendency because it takes into account all the values in the dataset. The median and mode are also important measures in some cases, particularly if the data contains outliers or is not normally distributed.\n",
    "\n",
    "Overall, the relationship between the measures of central tendency in a normal distribution is that they are all equal and located at the center of the distribution."
   ]
  },
  {
   "cell_type": "markdown",
   "id": "967f9fd8-b876-4c7b-9550-2fc04602f99b",
   "metadata": {},
   "source": [
    "## Q13. How is covariance different from correlation?"
   ]
  },
  {
   "cell_type": "markdown",
   "id": "f8706f37-8856-40f3-a486-410782fbcdee",
   "metadata": {},
   "source": [
    "Covariance and correlation are two measures of the relationship between two variables, but they are different in several ways:\n",
    "\n",
    "1. Definition: Covariance measures the degree to which two variables vary together. It indicates the direction and strength of the linear relationship between two variables. Correlation measures the degree to which two variables are linearly related, but it is a standardized measure, so it can also indicate the strength of the relationship.\n",
    "\n",
    "2. Sign: Covariance can be positive, negative, or zero. Positive covariance indicates that two variables increase or decrease together, while negative covariance indicates that they move in opposite directions. Zero covariance indicates no linear relationship between the variables. Correlation can also be positive, negative, or zero, but it is always between -1 and 1.\n",
    "\n",
    "3. Scale dependence: Covariance is dependent on the scale of the variables, meaning that it is affected by the units in which the variables are measured. Correlation is not affected by the scale of the variables.\n",
    "\n",
    "4. Interpretation: Covariance is difficult to interpret because it does not have a standard unit of measurement. Correlation is easier to interpret because it is standardized and always ranges from -1 to 1."
   ]
  },
  {
   "cell_type": "markdown",
   "id": "ffcb866b-d4aa-4149-9d06-499341dd9118",
   "metadata": {},
   "source": [
    "## Q14. How do outliers affect measures of central tendency and dispersion? Provide an example."
   ]
  },
  {
   "cell_type": "markdown",
   "id": "ed10d820-0d34-4c43-8fa1-c950218ee079",
   "metadata": {},
   "source": [
    "Outliers are data points that are significantly different from other data points in the dataset. Outliers can have a significant impact on measures of central tendency and dispersion.\n",
    "\n",
    "For measures of central tendency, outliers can affect the mean but have little effect on the median and mode. This is because the mean is sensitive to extreme values, while the median and mode are not. An outlier that is significantly larger or smaller than the other data points can pull the mean towards it, resulting in a skewed distribution. On the other hand, the median and mode are not affected by extreme values because they only consider the middle or most common values in the dataset, respectively.\n",
    "\n",
    "For measures of dispersion, outliers can significantly affect the range and standard deviation, but have little effect on the variance. This is because the range and standard deviation both consider the spread of the data, which is affected by extreme values. The range is the difference between the maximum and minimum values in the dataset, so an outlier can increase or decrease the range significantly. The standard deviation is the square root of the variance, which is the average squared deviation from the mean. Outliers can increase the deviation from the mean, resulting in a larger standard deviation. However, the variance is not as affected by outliers because it is based on squared deviations, which give more weight to values closer to the mean.\n",
    "\n",
    "For example, consider the following dataset:\n",
    "\n",
    "1, 2, 3, 4, 5, 10\n",
    "\n",
    "The mean of this dataset is (1+2+3+4+5+10)/6 = 25/6 = 4.167. However, the median and mode are both 3, which are not affected by the outlier (10). The range of the dataset is 10-1 = 9, which is significantly larger than the range of the other data points. The standard deviation of the dataset is approximately 2.87, which is also larger than the standard deviation of the dataset without the outlier (1.87). This shows how outliers can have a significant impact on measures of central tendency and dispersion."
   ]
  },
  {
   "cell_type": "code",
   "execution_count": null,
   "id": "aa310e9e-a0af-44fe-bdb7-90e21cd597d9",
   "metadata": {},
   "outputs": [],
   "source": []
  },
  {
   "cell_type": "code",
   "execution_count": null,
   "id": "e73fcd6e-9337-4365-9237-5b4ffd8deff3",
   "metadata": {},
   "outputs": [],
   "source": []
  },
  {
   "cell_type": "code",
   "execution_count": null,
   "id": "6428dd19-78fc-425b-af2e-2d380e0d6009",
   "metadata": {},
   "outputs": [],
   "source": []
  },
  {
   "cell_type": "code",
   "execution_count": null,
   "id": "7f920e02-10df-432a-8b6b-a902a7dac037",
   "metadata": {},
   "outputs": [],
   "source": []
  },
  {
   "cell_type": "code",
   "execution_count": null,
   "id": "212ef136-1dfb-4151-b67a-c6ee63924a91",
   "metadata": {},
   "outputs": [],
   "source": []
  },
  {
   "cell_type": "code",
   "execution_count": null,
   "id": "cfa4c2f2-f37f-4e11-ae55-4491dc65df46",
   "metadata": {},
   "outputs": [],
   "source": []
  },
  {
   "cell_type": "code",
   "execution_count": null,
   "id": "1a9dfb31-cefc-468c-a368-69b9f81b1204",
   "metadata": {},
   "outputs": [],
   "source": []
  },
  {
   "cell_type": "code",
   "execution_count": null,
   "id": "efb5aeda-940f-4556-b95e-1efb4cab6e7a",
   "metadata": {},
   "outputs": [],
   "source": []
  },
  {
   "cell_type": "code",
   "execution_count": null,
   "id": "7d0c9ebb-d28a-4521-8a05-88f70ea5edd3",
   "metadata": {},
   "outputs": [],
   "source": []
  },
  {
   "cell_type": "code",
   "execution_count": null,
   "id": "d2dff62c-aefa-49f0-ac8e-7354afc1da8b",
   "metadata": {},
   "outputs": [],
   "source": []
  },
  {
   "cell_type": "code",
   "execution_count": null,
   "id": "2cc7a1ed-b481-4396-b0a1-c9422eadb2a2",
   "metadata": {},
   "outputs": [],
   "source": []
  },
  {
   "cell_type": "code",
   "execution_count": null,
   "id": "13d9d413-d1aa-47b9-8b82-d0f81ccb14d5",
   "metadata": {},
   "outputs": [],
   "source": []
  },
  {
   "cell_type": "code",
   "execution_count": null,
   "id": "62fd8a98-c1d9-47de-b3a6-635e843fff14",
   "metadata": {},
   "outputs": [],
   "source": []
  },
  {
   "cell_type": "code",
   "execution_count": null,
   "id": "b888d33e-d28a-49b4-82fc-b0103a17e9b7",
   "metadata": {},
   "outputs": [],
   "source": []
  },
  {
   "cell_type": "code",
   "execution_count": null,
   "id": "a8096412-aeec-4fc7-88ba-79cb0b73eab5",
   "metadata": {},
   "outputs": [],
   "source": []
  },
  {
   "cell_type": "code",
   "execution_count": null,
   "id": "952ddddf-6899-4acb-9632-3b6aaa640f3a",
   "metadata": {},
   "outputs": [],
   "source": []
  },
  {
   "cell_type": "code",
   "execution_count": null,
   "id": "7ad71e50-1052-47b2-aff5-67f9c5c1a53f",
   "metadata": {},
   "outputs": [],
   "source": []
  },
  {
   "cell_type": "code",
   "execution_count": null,
   "id": "3d21034d-e3df-406e-b61b-41a369abff10",
   "metadata": {},
   "outputs": [],
   "source": []
  },
  {
   "cell_type": "code",
   "execution_count": null,
   "id": "05a2142d-77be-47e5-848a-4c18255e274d",
   "metadata": {},
   "outputs": [],
   "source": []
  },
  {
   "cell_type": "code",
   "execution_count": null,
   "id": "0566e43f-de00-48fd-8ce8-9d0bba99c2f6",
   "metadata": {},
   "outputs": [],
   "source": []
  },
  {
   "cell_type": "code",
   "execution_count": null,
   "id": "2355fbe1-86fe-4675-a87e-eba53247db05",
   "metadata": {},
   "outputs": [],
   "source": []
  },
  {
   "cell_type": "code",
   "execution_count": null,
   "id": "7b51cd35-e1ef-46e0-87f3-8dc7339e56ee",
   "metadata": {},
   "outputs": [],
   "source": []
  },
  {
   "cell_type": "code",
   "execution_count": null,
   "id": "a97c13bc-bc83-465a-8c48-d49891b741d3",
   "metadata": {},
   "outputs": [],
   "source": []
  },
  {
   "cell_type": "code",
   "execution_count": null,
   "id": "ad738c23-7f78-46a9-a665-df8e89e664d6",
   "metadata": {},
   "outputs": [],
   "source": []
  },
  {
   "cell_type": "code",
   "execution_count": null,
   "id": "1db5bc3a-e9fc-4f40-addc-691ad14ee2bb",
   "metadata": {},
   "outputs": [],
   "source": []
  },
  {
   "cell_type": "code",
   "execution_count": null,
   "id": "260e0f93-c6ec-4203-9222-e09063b4af99",
   "metadata": {},
   "outputs": [],
   "source": []
  },
  {
   "cell_type": "code",
   "execution_count": null,
   "id": "537e40d5-eb61-4708-be5f-ffe9aa5ad7dc",
   "metadata": {},
   "outputs": [],
   "source": []
  },
  {
   "cell_type": "code",
   "execution_count": null,
   "id": "28683617-fb83-4fb6-a204-2dea44f1d4e5",
   "metadata": {},
   "outputs": [],
   "source": []
  },
  {
   "cell_type": "code",
   "execution_count": null,
   "id": "2fb369cc-b560-443e-9fe7-d532bbea6281",
   "metadata": {},
   "outputs": [],
   "source": []
  },
  {
   "cell_type": "code",
   "execution_count": null,
   "id": "35df56ea-a0c6-4bf5-8243-ae075f8f6813",
   "metadata": {},
   "outputs": [],
   "source": []
  },
  {
   "cell_type": "code",
   "execution_count": null,
   "id": "cdd4f65b-f753-4cd5-8214-a24d824fbf51",
   "metadata": {},
   "outputs": [],
   "source": []
  }
 ],
 "metadata": {
  "kernelspec": {
   "display_name": "Python 3 (ipykernel)",
   "language": "python",
   "name": "python3"
  },
  "language_info": {
   "codemirror_mode": {
    "name": "ipython",
    "version": 3
   },
   "file_extension": ".py",
   "mimetype": "text/x-python",
   "name": "python",
   "nbconvert_exporter": "python",
   "pygments_lexer": "ipython3",
   "version": "3.10.8"
  }
 },
 "nbformat": 4,
 "nbformat_minor": 5
}

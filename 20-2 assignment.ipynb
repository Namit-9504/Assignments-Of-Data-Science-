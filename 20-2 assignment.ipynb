{
 "cells": [
  {
   "cell_type": "markdown",
   "id": "c33ae1de-477e-4c21-aabd-622ea366321b",
   "metadata": {},
   "source": [
    "## Q1. Explain GET and POST methods."
   ]
  },
  {
   "cell_type": "markdown",
   "id": "f67e5c18-d7e2-4eea-946c-6f856659431d",
   "metadata": {},
   "source": [
    "Both GET and POST are HTTP methods used for sending data between a client and a server. However, they differ in how they send and handle data.\n",
    "\n",
    "GET method:\n",
    "\n",
    "The GET method is used to retrieve data from a server.\n",
    "It sends data in the URL query string as key-value pairs, separated by the \"&\" character. For example: http://example.com/?name=John&age=25\n",
    "It is primarily used for fetching data and should not be used for sensitive data since the data is visible in the URL and can be cached by the browser.\n",
    "The GET request can be bookmarked and shared, as it doesn't change any server-side data.\n",
    "\n",
    "\n",
    "POST method:\n",
    "\n",
    "The POST method is used to send data to a server.\n",
    "It sends data in the request body, which can be of various formats such as JSON, XML, plain text, etc.\n",
    "It is primarily used for submitting data such as forms, and can be used for sensitive data since the data is not visible in the URL and cannot be cached by the browser.\n",
    "The POST request cannot be bookmarked or shared, as it can change server-side data.\n"
   ]
  },
  {
   "cell_type": "markdown",
   "id": "f0fa4553-794a-4c92-b92c-5aa892c6bd88",
   "metadata": {},
   "source": [
    "## Q2. Why is request used in Flask?"
   ]
  },
  {
   "cell_type": "markdown",
   "id": "b1d65a49-4c4a-4ab5-8fa8-636f1a03a8e5",
   "metadata": {},
   "source": [
    "In Flask, the request object is used to access incoming request data. It is an object that encapsulates the HTTP request sent by the client to the server. It allows you to access the data submitted in a form, as well as any additional data sent in the request headers.\n",
    "\n",
    "The request object provides access to the following attributes:\n",
    "\n",
    "request.args: A dictionary containing the URL parameters sent in a GET request.\n",
    "request.form: A dictionary containing the form data submitted in a POST request.\n",
    "request.files: A dictionary containing any uploaded files in a request.\n",
    "request.headers: A dictionary containing the headers sent in the request.\n",
    "By using the request object, you can access the data submitted in a request and use it to generate a response. For example, you can use the request.form attribute to access the form data submitted in a POST request and use it to perform some action on the server, such as adding a new user to a database."
   ]
  },
  {
   "cell_type": "code",
   "execution_count": null,
   "id": "a61c75a2-ae9a-4fc7-b761-021417a03190",
   "metadata": {},
   "outputs": [],
   "source": [
    "from flask import Flask, request\n",
    "\n",
    "app = Flask(__name__)\n",
    "\n",
    "@app.route('/process-form', methods=['POST'])\n",
    "def process_form():\n",
    "    name = request.form['name']\n",
    "    email = request.form['email']\n",
    "\n",
    "    # Do something with the form data here...\n",
    "\n",
    "    return 'Thanks for submitting the form, {}!'.format(name)\n",
    "\n",
    "if __name__ == '__main__':\n",
    "    app.run(debug=True)\n"
   ]
  },
  {
   "cell_type": "markdown",
   "id": "d208edc2-a5cb-4c30-9c6d-263ba533fa20",
   "metadata": {},
   "source": [
    "## Q3. Why is redirect() used in Flask?"
   ]
  },
  {
   "cell_type": "markdown",
   "id": "4be4a9c5-c6c3-4971-8039-f7d6ba16ae72",
   "metadata": {},
   "source": [
    "In Flask, the redirect() function is used to redirect a client to a different URL. It is often used after a form has been submitted or after some processing has occurred on the server, to redirect the client to a different page.\n",
    "\n",
    "The redirect() function takes a single argument, which is the URL to redirect to. This URL can be a string or a URL object. When the client receives a redirect response from the server, it automatically makes a new request to the specified URL.\n",
    "\n",
    "Here's an example of how to use the redirect() function in Flask:"
   ]
  },
  {
   "cell_type": "code",
   "execution_count": null,
   "id": "0ed689bb-73e5-431c-806f-d3305ae1a380",
   "metadata": {},
   "outputs": [],
   "source": [
    "from flask import Flask, redirect, url_for\n",
    "\n",
    "app = Flask(__name__)\n",
    "\n",
    "@app.route('/')\n",
    "def index():\n",
    "    # Redirect to the hello() function\n",
    "    return redirect(url_for('hello'))\n",
    "\n",
    "@app.route('/hello')\n",
    "def hello():\n",
    "    return 'Hello, World!'\n",
    "\n",
    "if __name__ == '__main__':\n",
    "    app.run(debug=True)\n"
   ]
  },
  {
   "cell_type": "markdown",
   "id": "241eaa51-f911-4592-b690-3ba9fde246b1",
   "metadata": {},
   "source": [
    "In this example, we define two routes: one for the root URL / and one for the /hello URL. When the client requests the root URL, it is redirected to the /hello URL using the redirect() function and the url_for() function to generate the URL. The client then makes a new request to the /hello URL and the hello() function is executed, returning the string 'Hello, World!' as the response.\n",
    "\n",
    "Note that it is important to use the url_for() function to generate the URL to redirect to, as this ensures that the URL is generated correctly regardless of the current URL scheme or hostname."
   ]
  },
  {
   "cell_type": "markdown",
   "id": "701a3819-e253-49a3-afec-f9ef30aa5093",
   "metadata": {},
   "source": [
    "### Q4. What are templates in Flask? Why is the render_template() function used?"
   ]
  },
  {
   "cell_type": "markdown",
   "id": "80ecd937-c868-47ff-a6d0-f77c6daa730f",
   "metadata": {},
   "source": [
    "In Flask, a template is a file that contains HTML code with placeholders for dynamic content. Templates allow you to separate the presentation logic from the application logic and make it easier to maintain and modify the application's UI.\n",
    "\n",
    "Flask uses the Jinja2 templating engine, which allows you to write templates using a simple syntax that includes variables, control structures, and other features.\n",
    "\n",
    "The render_template() function is used to render a template with the specified context. It takes the name of the template file and any variables that should be passed to the template as keyword arguments. The function returns a string that contains the rendered HTML code.\n",
    "\n",
    "Here's an example of how to use the render_template() function in Flask:"
   ]
  },
  {
   "cell_type": "code",
   "execution_count": null,
   "id": "4f305eff-fa58-4632-8e2e-310490ce2479",
   "metadata": {},
   "outputs": [],
   "source": [
    "from flask import Flask, render_template\n",
    "\n",
    "app = Flask(__name__)\n",
    "\n",
    "@app.route('/')\n",
    "def index():\n",
    "    name = 'John'\n",
    "    return render_template('index.html', name=name)\n",
    "\n",
    "if __name__ == '__main__':\n",
    "    app.run(debug=True)\n"
   ]
  },
  {
   "cell_type": "markdown",
   "id": "4a402a27-79ac-4b7b-b2de-b565c6efa62c",
   "metadata": {},
   "source": [
    "In this example, we define a route for the root URL / that renders the index.html template. The render_template() function is called with the name of the template file and a variable named name that is set to the value 'John'. The index.html template can access this variable using the {{ name }} syntax:"
   ]
  },
  {
   "cell_type": "code",
   "execution_count": null,
   "id": "9aebbf97-86b2-488d-b16e-db348cc07614",
   "metadata": {},
   "outputs": [],
   "source": [
    "<!DOCTYPE html>\n",
    "<html>\n",
    "<head>\n",
    "    <title>Hello, World!</title>\n",
    "</head>\n",
    "<body>\n",
    "    <h1>Hello, {{ name }}!</h1>\n",
    "</body>\n",
    "</html>\n"
   ]
  },
  {
   "cell_type": "markdown",
   "id": "7fb7e8ad-a478-46dd-965f-b355154eea07",
   "metadata": {},
   "source": [
    "When the client requests the root URL, the index() function is called and the render_template() function is executed, which renders the index.html template with the context that includes the name variable. The resulting HTML code is then sent to the client as the response.\n",
    "\n",
    "Note that the render_template() function looks for templates in the templates/ folder in the root directory of your Flask application by default. Make sure to create this folder and store your templates ther"
   ]
  },
  {
   "cell_type": "markdown",
   "id": "96d583be-4a3d-4365-92ef-a02cada56c68",
   "metadata": {},
   "source": [
    "#### Q5. Create a simple API. Use Postman to test it. Attach the screenshot of the output in the Jupyter Notebook."
   ]
  },
  {
   "cell_type": "code",
   "execution_count": null,
   "id": "acc08c05-aee6-4027-a0f9-eaca1b9ae43b",
   "metadata": {},
   "outputs": [],
   "source": [
    "from flask import Flask\n",
    "\n",
    "app = Flask(__name__)\n",
    "\n",
    "@app.route('/')\n",
    "def hello_world():\n",
    "    return \"This is my statement to display wellcome to the world\"\n",
    "\n",
    "if __name__==\"__main__\":\n",
    "    app.run(host=\"0.0.0.0\")"
   ]
  },
  {
   "cell_type": "markdown",
   "id": "d03c9119-4fc8-439a-be89-c5dd61da529e",
   "metadata": {},
   "source": [
    "OUTPUT IN POSTMAN"
   ]
  },
  {
   "cell_type": "markdown",
   "id": "2a253d25-b364-4630-8c5c-ace54af9dde8",
   "metadata": {},
   "source": [
    "<img src = 'output.png'/>"
   ]
  },
  {
   "cell_type": "code",
   "execution_count": null,
   "id": "7850761a-61e1-49c1-9d64-14b27723e370",
   "metadata": {},
   "outputs": [],
   "source": []
  },
  {
   "cell_type": "code",
   "execution_count": null,
   "id": "1a30e64c-3b15-4621-9003-03503d268b95",
   "metadata": {},
   "outputs": [],
   "source": []
  },
  {
   "cell_type": "code",
   "execution_count": null,
   "id": "8e8fe015-e488-4dfc-bf6d-9f50fb83b6fd",
   "metadata": {},
   "outputs": [],
   "source": []
  },
  {
   "cell_type": "code",
   "execution_count": null,
   "id": "f392371e-d689-4b60-9a89-a1c28aeeb679",
   "metadata": {},
   "outputs": [],
   "source": []
  }
 ],
 "metadata": {
  "kernelspec": {
   "display_name": "Python 3 (ipykernel)",
   "language": "python",
   "name": "python3"
  },
  "language_info": {
   "codemirror_mode": {
    "name": "ipython",
    "version": 3
   },
   "file_extension": ".py",
   "mimetype": "text/x-python",
   "name": "python",
   "nbconvert_exporter": "python",
   "pygments_lexer": "ipython3",
   "version": "3.10.8"
  }
 },
 "nbformat": 4,
 "nbformat_minor": 5
}

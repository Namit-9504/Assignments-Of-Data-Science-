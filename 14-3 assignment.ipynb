{
 "cells": [
  {
   "cell_type": "markdown",
   "id": "2b0927cc-3724-4fb9-a584-cec49dadc693",
   "metadata": {},
   "source": [
    "## Q1. Write a Python function that takes in two arrays of data and calculates the F-value for a variance ratio test. The function should return the F-value and the corresponding p-value for the test."
   ]
  },
  {
   "cell_type": "code",
   "execution_count": 1,
   "id": "aef86ea4-3d13-4690-824c-8931a24276e7",
   "metadata": {},
   "outputs": [
    {
     "name": "stdout",
     "output_type": "stream",
     "text": [
      "F-value: 0.0\n",
      "p-value: 1.0\n"
     ]
    }
   ],
   "source": [
    "import numpy as np\n",
    "from scipy.stats import f_oneway\n",
    "\n",
    "def variance_ratio_test(data1, data2):\n",
    "    \"\"\"\n",
    "    Calculates the F-value and p-value for a variance ratio test\n",
    "    between two arrays of data.\n",
    "\n",
    "    Parameters:\n",
    "    data1 (array-like): First array of data.\n",
    "    data2 (array-like): Second array of data.\n",
    "\n",
    "    Returns:\n",
    "    F-value (float): The calculated F-value.\n",
    "    p-value (float): The corresponding p-value.\n",
    "    \"\"\"\n",
    "\n",
    "    # Convert data to numpy arrays\n",
    "    data1 = np.asarray(data1)\n",
    "    data2 = np.asarray(data2)\n",
    "\n",
    "    # Calculate the F-value and p-value using the scipy.stats.f_oneway function\n",
    "    F, p = f_oneway(data1, data2)\n",
    "\n",
    "    return F, p\n",
    "data1 = [10, 12, 14, 16, 18]\n",
    "data2 = [8, 11, 14, 17, 20]\n",
    "\n",
    "F, p = variance_ratio_test(data1, data2)\n",
    "\n",
    "print(\"F-value:\", F)\n",
    "print(\"p-value:\", p)\n"
   ]
  },
  {
   "cell_type": "markdown",
   "id": "ae9d38c3-7f01-4215-a2dd-11553118869b",
   "metadata": {},
   "source": [
    "## Q2. Given a significance level of 0.05 and the degrees of freedom for the numerator and denominator of an F-distribution, write a Python function that returns the critical F-value for a two-tailed test."
   ]
  },
  {
   "cell_type": "code",
   "execution_count": 4,
   "id": "47844de5-ea64-4fd4-b1e5-313a96c0ddc5",
   "metadata": {},
   "outputs": [
    {
     "name": "stdout",
     "output_type": "stream",
     "text": [
      "Critical F-value: 0.07026656300420833\n"
     ]
    }
   ],
   "source": [
    "from scipy.stats import f\n",
    "\n",
    "def critical_f_value(dfn, dfd):\n",
    "    \"\"\"\n",
    "    Calculates the critical F-value for a two-tailed test at a\n",
    "    significance level of 0.05 given the degrees of freedom for the\n",
    "    numerator and denominator of an F-distribution.\n",
    "\n",
    "    Parameters:\n",
    "    dfn (int): Degrees of freedom for the numerator.\n",
    "    dfd (int): Degrees of freedom for the denominator.\n",
    "\n",
    "    Returns:\n",
    "    crit_f (float): The critical F-value.\n",
    "    \"\"\"\n",
    "\n",
    "    # Calculate the critical F-value using the scipy.stats.f.ppf function\n",
    "    alpha = 0.05\n",
    "    crit_f = f.ppf(alpha/2, dfn, dfd)\n",
    "    \n",
    "    return crit_f\n",
    "dfn = 3\n",
    "dfd = 16\n",
    "\n",
    "crit_f = critical_f_value(dfn, dfd)\n",
    "\n",
    "print(\"Critical F-value:\", crit_f)\n"
   ]
  },
  {
   "cell_type": "markdown",
   "id": "dfb85cb2-f5e7-4630-ae9e-9d1a80ab95f0",
   "metadata": {},
   "source": [
    "## Q3. Write a Python program that generates random samples from two normal distributions with known variances and uses an F-test to determine if the variances are equal. The program should output the F- value, degrees of freedom, and p-value for the test."
   ]
  },
  {
   "cell_type": "code",
   "execution_count": 5,
   "id": "f104c041-84a4-45a9-af13-591613a8365b",
   "metadata": {},
   "outputs": [
    {
     "name": "stdout",
     "output_type": "stream",
     "text": [
      "F-value: 0.5224527955216844\n",
      "Degrees of freedom: 19 , 24\n",
      "p-value: 0.8148035169951343\n"
     ]
    }
   ],
   "source": [
    "import numpy as np\n",
    "from scipy.stats import f\n",
    "\n",
    "# Set the known variances and sample sizes\n",
    "variance1 = 10\n",
    "variance2 = 15\n",
    "sample_size1 = 20\n",
    "sample_size2 = 25\n",
    "\n",
    "# Generate random samples from the two normal distributions\n",
    "sample1 = np.random.normal(loc=0, scale=np.sqrt(variance1), size=sample_size1)\n",
    "sample2 = np.random.normal(loc=0, scale=np.sqrt(variance2), size=sample_size2)\n",
    "\n",
    "# Perform the F-test\n",
    "F, p = np.var(sample1, ddof=1) / np.var(sample2, ddof=1), f.sf(variance1/variance2, sample_size1-1, sample_size2-1)\n",
    "\n",
    "# Calculate the degrees of freedom\n",
    "df1 = sample_size1 - 1\n",
    "df2 = sample_size2 - 1\n",
    "\n",
    "# Print the results\n",
    "print(\"F-value:\", F)\n",
    "print(\"Degrees of freedom:\", df1, \",\", df2)\n",
    "print(\"p-value:\", p)\n"
   ]
  },
  {
   "cell_type": "markdown",
   "id": "2815441e-3c4f-4605-91ff-bcee94467924",
   "metadata": {},
   "source": [
    "## Q4.The variances of two populations are known to be 10 and 15. A sample of 12 observations is taken from each population. Conduct an F-test at the 5% significance level to determine if the variances are significantly different."
   ]
  },
  {
   "cell_type": "code",
   "execution_count": 7,
   "id": "db2be0d6-9717-4185-83d5-3f8265a8204d",
   "metadata": {},
   "outputs": [
    {
     "name": "stdout",
     "output_type": "stream",
     "text": [
      "Fail to reject the null hypothesis that the variances are equal.\n",
      "F-value: 0.39063944529828787\n",
      "Degrees of freedom: 11 , 11\n",
      "p-value: 0.9328917111963388\n"
     ]
    }
   ],
   "source": [
    "import numpy as np\n",
    "from scipy.stats import f\n",
    "\n",
    "# Set the known variances and sample sizes\n",
    "variance1 = 10\n",
    "variance2 = 15\n",
    "sample_size1 = 12\n",
    "sample_size2 = 12\n",
    "\n",
    "# Generate random samples from the two normal distributions\n",
    "sample1 = np.random.normal(loc=0, scale=np.sqrt(variance1), size=sample_size1)\n",
    "sample2 = np.random.normal(loc=0, scale=np.sqrt(variance2), size=sample_size2)\n",
    "\n",
    "# Perform the F-test\n",
    "F = np.var(sample1, ddof=1) / np.var(sample2, ddof=1)\n",
    "p = f.sf(F, sample_size1-1, sample_size2-1)\n",
    "\n",
    "# Calculate the degrees of freedom\n",
    "df1 = sample_size1 - 1\n",
    "df2 = sample_size2 - 1\n",
    "\n",
    "# Set the significance level\n",
    "alpha = 0.05\n",
    "\n",
    "# Compare the p-value to the significance level\n",
    "if p < alpha/2 or p > 1-alpha/2:\n",
    "    print(\"Reject the null hypothesis that the variances are equal.\")\n",
    "else:\n",
    "    print(\"Fail to reject the null hypothesis that the variances are equal.\")\n",
    "    \n",
    "# Print the results\n",
    "print(\"F-value:\", F)\n",
    "print(\"Degrees of freedom:\", df1, \",\", df2)\n",
    "print(\"p-value:\", p)\n"
   ]
  },
  {
   "cell_type": "markdown",
   "id": "ce77d9d7-d0ea-4f27-b7ea-4163fbe8d540",
   "metadata": {},
   "source": [
    "## Q5. A manufacturer claims that the variance of the diameter of a certain product is 0.005. A sample of 25 products is taken, and the sample variance is found to be 0.006. Conduct an F-test at the 1% significance level to determine if the claim is justified."
   ]
  },
  {
   "cell_type": "code",
   "execution_count": 8,
   "id": "b10e53fd-d969-4c95-81e8-03af2ddec439",
   "metadata": {},
   "outputs": [
    {
     "name": "stdout",
     "output_type": "stream",
     "text": [
      "Fail to reject the null hypothesis that the variance is 0.005\n",
      "F-value: 1.2\n",
      "Degrees of freedom: 24 , 1\n",
      "p-value: 0.629609961995936\n"
     ]
    }
   ],
   "source": [
    "import numpy as np\n",
    "from scipy.stats import f\n",
    "\n",
    "# Set the null hypothesis and the significance level\n",
    "null_hypothesis = 0.005\n",
    "alpha = 0.01\n",
    "\n",
    "# Set the sample size and the sample variance\n",
    "sample_size = 25\n",
    "sample_variance = 0.006\n",
    "\n",
    "# Perform the F-test\n",
    "F = sample_variance / null_hypothesis\n",
    "p = f.sf(F, sample_size-1, 1)\n",
    "\n",
    "# Calculate the degrees of freedom\n",
    "df1 = sample_size - 1\n",
    "df2 = 1\n",
    "\n",
    "# Compare the p-value to the significance level\n",
    "if p < alpha:\n",
    "    print(\"Reject the null hypothesis that the variance is\", null_hypothesis)\n",
    "else:\n",
    "    print(\"Fail to reject the null hypothesis that the variance is\", null_hypothesis)\n",
    "    \n",
    "# Print the results\n",
    "print(\"F-value:\", F)\n",
    "print(\"Degrees of freedom:\", df1, \",\", df2)\n",
    "print(\"p-value:\", p)\n"
   ]
  },
  {
   "cell_type": "markdown",
   "id": "1076a7a7-6ee9-4aed-9781-54cdc65ecc84",
   "metadata": {},
   "source": [
    "## Q6. Write a Python function that takes in the degrees of freedom for the numerator and denominator of an F-distribution and calculates the mean and variance of the distribution. The function should return the mean and variance as a tuple."
   ]
  },
  {
   "cell_type": "code",
   "execution_count": 9,
   "id": "f3749000-f801-4224-804c-c4bba41d6eb5",
   "metadata": {},
   "outputs": [],
   "source": [
    "def f_dist_mean_var(dfn, dfd):\n",
    "    \"\"\"\n",
    "    Calculate the mean and variance of an F-distribution given the degrees of freedom for the numerator and denominator.\n",
    "    Returns the mean and variance as a tuple.\n",
    "    \"\"\"\n",
    "    # Calculate the mean of the F-distribution\n",
    "    mean = dfd / (dfd - 2)\n",
    "\n",
    "    # Calculate the variance of the F-distribution\n",
    "    var = (2 * dfd**2 * (dfn + dfd - 2)) / (dfn * (dfd - 2)**2 * (dfd - 4))\n",
    "\n",
    "    return mean, var\n"
   ]
  },
  {
   "cell_type": "markdown",
   "id": "faccaf4c-cf26-4d48-860c-e3f63a07d75d",
   "metadata": {},
   "source": [
    "## Q7. A random sample of 10 measurements is taken from a normal population with unknown variance. The sample variance is found to be 25. Another random sample of 15 measurements is taken from another normal population with unknown variance, and the sample variance is found to be 20. Conduct an F-test at the 10% significance level to determine if the variances are significantly different."
   ]
  },
  {
   "cell_type": "code",
   "execution_count": 10,
   "id": "dff65675-515c-40b6-a961-f220697ba10b",
   "metadata": {},
   "outputs": [
    {
     "name": "stdout",
     "output_type": "stream",
     "text": [
      "Fail to reject the null hypothesis that the variances are equal\n",
      "F-value: 1.25\n",
      "Degrees of freedom: 9 , 14\n",
      "p-value: 0.34160971912929744\n"
     ]
    }
   ],
   "source": [
    "import numpy as np\n",
    "from scipy.stats import f\n",
    "\n",
    "# Set the null hypothesis and the significance level\n",
    "null_hypothesis = 1\n",
    "alpha = 0.1\n",
    "\n",
    "# Set the sample sizes and sample variances\n",
    "sample_size_1 = 10\n",
    "sample_variance_1 = 25\n",
    "sample_size_2 = 15\n",
    "sample_variance_2 = 20\n",
    "\n",
    "# Perform the F-test\n",
    "F = sample_variance_1 / sample_variance_2\n",
    "p = f.sf(F, sample_size_1-1, sample_size_2-1)\n",
    "\n",
    "# Calculate the degrees of freedom\n",
    "df1 = sample_size_1 - 1\n",
    "df2 = sample_size_2 - 1\n",
    "\n",
    "# Compare the p-value to the significance level\n",
    "if p < alpha:\n",
    "    print(\"Reject the null hypothesis that the variances are equal\")\n",
    "else:\n",
    "    print(\"Fail to reject the null hypothesis that the variances are equal\")\n",
    "    \n",
    "# Print the results\n",
    "print(\"F-value:\", F)\n",
    "print(\"Degrees of freedom:\", df1, \",\", df2)\n",
    "print(\"p-value:\", p)\n"
   ]
  },
  {
   "cell_type": "markdown",
   "id": "dfa1f372-0f57-4041-9610-173b8e6c9e76",
   "metadata": {},
   "source": [
    "## Q8. The following data represent the waiting times in minutes at two different restaurants on a Saturday night: Restaurant A: 24, 25, 28, 23, 22, 20, 27; Restaurant B: 31, 33, 35, 30, 32, 36. Conduct an F-test at the 5% significance level to determine if the variances are significantly different."
   ]
  },
  {
   "cell_type": "code",
   "execution_count": 11,
   "id": "8afb9cc2-a500-4e4f-924d-0061a7758923",
   "metadata": {},
   "outputs": [
    {
     "name": "stdout",
     "output_type": "stream",
     "text": [
      "Fail to reject the null hypothesis that the variances are equal\n",
      "F-value: 1.4551907719609583\n",
      "Degrees of freedom: 6 , 5\n",
      "p-value: 0.34874078739687414\n"
     ]
    }
   ],
   "source": [
    "import numpy as np\n",
    "from scipy.stats import f\n",
    "\n",
    "# Set the null hypothesis and the significance level\n",
    "null_hypothesis = 1\n",
    "alpha = 0.05\n",
    "\n",
    "# Set the data for the two restaurants\n",
    "restaurant_A = [24, 25, 28, 23, 22, 20, 27]\n",
    "restaurant_B = [31, 33, 35, 30, 32, 36]\n",
    "\n",
    "# Calculate the sample variances\n",
    "variance_A = np.var(restaurant_A, ddof=1)\n",
    "variance_B = np.var(restaurant_B, ddof=1)\n",
    "\n",
    "# Perform the F-test\n",
    "F = variance_A / variance_B\n",
    "p = f.sf(F, len(restaurant_A)-1, len(restaurant_B)-1)\n",
    "\n",
    "# Calculate the degrees of freedom\n",
    "df1 = len(restaurant_A) - 1\n",
    "df2 = len(restaurant_B) - 1\n",
    "\n",
    "# Compare the p-value to the significance level\n",
    "if p < alpha:\n",
    "    print(\"Reject the null hypothesis that the variances are equal\")\n",
    "else:\n",
    "    print(\"Fail to reject the null hypothesis that the variances are equal\")\n",
    "\n",
    "# Print the results\n",
    "print(\"F-value:\", F)\n",
    "print(\"Degrees of freedom:\", df1, \",\", df2)\n",
    "print(\"p-value:\", p)\n"
   ]
  },
  {
   "cell_type": "markdown",
   "id": "14e3bae2-47fd-4616-acd8-3dbe35e59664",
   "metadata": {},
   "source": [
    "## Q9. The following data represent the test scores of two groups of students: Group A: 80, 85, 90, 92, 87, 83; Group B: 75, 78, 82, 79, 81, 84. Conduct an F-test at the 1% significance level to determine if the variances are significantly different."
   ]
  },
  {
   "cell_type": "code",
   "execution_count": 12,
   "id": "7393b3a3-bb10-4570-8c35-1b00a177b65e",
   "metadata": {},
   "outputs": [
    {
     "name": "stdout",
     "output_type": "stream",
     "text": [
      "Fail to reject the null hypothesis that the variances are equal\n",
      "F-value: 1.9442622950819677\n",
      "Degrees of freedom: 5 , 5\n",
      "p-value: 0.2415521774535344\n"
     ]
    }
   ],
   "source": [
    "import numpy as np\n",
    "from scipy.stats import f\n",
    "\n",
    "# Set the null hypothesis and the significance level\n",
    "null_hypothesis = 1\n",
    "alpha = 0.01\n",
    "\n",
    "# Set the sample data for each group\n",
    "group_a = [80, 85, 90, 92, 87, 83]\n",
    "group_b = [75, 78, 82, 79, 81, 84]\n",
    "\n",
    "# Calculate the sample variances\n",
    "sample_variance_a = np.var(group_a, ddof=1)\n",
    "sample_variance_b = np.var(group_b, ddof=1)\n",
    "\n",
    "# Perform the F-test\n",
    "F = sample_variance_a / sample_variance_b\n",
    "p = f.sf(F, len(group_a)-1, len(group_b)-1)\n",
    "\n",
    "# Calculate the degrees of freedom\n",
    "df1 = len(group_a) - 1\n",
    "df2 = len(group_b) - 1\n",
    "\n",
    "# Compare the p-value to the significance level\n",
    "if p < alpha:\n",
    "    print(\"Reject the null hypothesis that the variances are equal\")\n",
    "else:\n",
    "    print(\"Fail to reject the null hypothesis that the variances are equal\")\n",
    "\n",
    "# Print the results\n",
    "print(\"F-value:\", F)\n",
    "print(\"Degrees of freedom:\", df1, \",\", df2)\n",
    "print(\"p-value:\", p)\n"
   ]
  },
  {
   "cell_type": "code",
   "execution_count": null,
   "id": "47456a4d-d5f4-4e5a-9d01-54d07bb119ff",
   "metadata": {},
   "outputs": [],
   "source": []
  }
 ],
 "metadata": {
  "kernelspec": {
   "display_name": "Python 3 (ipykernel)",
   "language": "python",
   "name": "python3"
  },
  "language_info": {
   "codemirror_mode": {
    "name": "ipython",
    "version": 3
   },
   "file_extension": ".py",
   "mimetype": "text/x-python",
   "name": "python",
   "nbconvert_exporter": "python",
   "pygments_lexer": "ipython3",
   "version": "3.10.8"
  }
 },
 "nbformat": 4,
 "nbformat_minor": 5
}

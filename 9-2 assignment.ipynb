{
 "cells": [
  {
   "cell_type": "markdown",
   "id": "4894ea98-46bd-416f-afe0-858088b8b3f1",
   "metadata": {
    "jp-MarkdownHeadingCollapsed": true,
    "tags": []
   },
   "source": [
    "### Q1, Create a vehicle class with an init method having instance variables as name_of_vehicle, max_speed and average_of_vehicle."
   ]
  },
  {
   "cell_type": "code",
   "execution_count": 12,
   "id": "3946b961-6c07-4c1a-9387-a05ceed5f16a",
   "metadata": {},
   "outputs": [],
   "source": [
    "class vehicle():\n",
    "    def __init__(self,name_of_vehicle,max_speed,avarge_of_speed):\n",
    "        self.name_of_vehicle = name_of_vehicle\n",
    "        self.max_speed = max_speed\n",
    "        self.avarge_of_speed = avarge_of_speed\n",
    "    "
   ]
  },
  {
   "cell_type": "code",
   "execution_count": 13,
   "id": "22b31a2b-d4be-4b63-b7ad-b2e4c6ef143a",
   "metadata": {},
   "outputs": [],
   "source": [
    "obj_vehicle = vehicle(\"maruti\",800,500)"
   ]
  },
  {
   "cell_type": "code",
   "execution_count": 15,
   "id": "b737bd0e-6f13-479a-bf21-3f3b810b5e81",
   "metadata": {},
   "outputs": [
    {
     "data": {
      "text/plain": [
       "'maruti'"
      ]
     },
     "execution_count": 15,
     "metadata": {},
     "output_type": "execute_result"
    }
   ],
   "source": [
    "obj_vehicle.name_of_vehicle"
   ]
  },
  {
   "cell_type": "code",
   "execution_count": 16,
   "id": "8b144ba0-3dca-4bfb-a45f-c2ea23dea8e5",
   "metadata": {},
   "outputs": [
    {
     "data": {
      "text/plain": [
       "800"
      ]
     },
     "execution_count": 16,
     "metadata": {},
     "output_type": "execute_result"
    }
   ],
   "source": [
    "obj_vehicle.max_speed"
   ]
  },
  {
   "cell_type": "markdown",
   "id": "3d034327-6496-4e9f-abd2-1a3d54b63e49",
   "metadata": {
    "jp-MarkdownHeadingCollapsed": true,
    "tags": []
   },
   "source": [
    "### Q2. Create a child class car from the vehicle class created in Que 1, which will inherit the vehicle class. Create a method named seating_capacity which takes capacity as an argument and returns the name of the vehicle and its seating capacity."
   ]
  },
  {
   "cell_type": "code",
   "execution_count": 76,
   "id": "2a1ff639-14f8-4600-a3cf-eee4af44739d",
   "metadata": {},
   "outputs": [],
   "source": [
    "class car(vehicle):\n",
    "    def seating_capacity (self,capacity):\n",
    "        self.capacity = capacity\n",
    "        return f\"{self.name_of_vehicle} has a capacity of {self.capacity} people\""
   ]
  },
  {
   "cell_type": "code",
   "execution_count": 77,
   "id": "8c19f091-1a27-4575-8aac-88e06a5df891",
   "metadata": {},
   "outputs": [],
   "source": [
    "obj_car = car(\"maruti\",852,852)"
   ]
  },
  {
   "cell_type": "code",
   "execution_count": 78,
   "id": "35878f1f-12a8-4109-b73c-c2d9c02600c3",
   "metadata": {},
   "outputs": [
    {
     "data": {
      "text/plain": [
       "'maruti has a capacity of 5 people'"
      ]
     },
     "execution_count": 78,
     "metadata": {},
     "output_type": "execute_result"
    }
   ],
   "source": [
    "obj_car.seating_capacity(5)"
   ]
  },
  {
   "cell_type": "markdown",
   "id": "062f0e42-51f0-4499-8d83-96d9b18a891e",
   "metadata": {
    "jp-MarkdownHeadingCollapsed": true,
    "tags": []
   },
   "source": [
    "### Q3. What is multiple inheritance? Write a python code to demonstrate multiple inheritance."
   ]
  },
  {
   "cell_type": "markdown",
   "id": "0334c57f-8d64-4922-85a6-9a15aa18903c",
   "metadata": {},
   "source": [
    "Multiple inheritance is a feature of object-oriented programming languages that allows a class to inherit from more than one parent class. When a class inherits from multiple parent classes, it can access the attributes and methods of all its parent classes.\n",
    "\n",
    "Here's an example of how to demonstrate multiple inheritance in Python:"
   ]
  },
  {
   "cell_type": "code",
   "execution_count": 80,
   "id": "5acd6a41-c57d-4a79-8789-82ff51828cc6",
   "metadata": {},
   "outputs": [
    {
     "name": "stdout",
     "output_type": "stream",
     "text": [
      "Charging battery to 50.\n",
      "Red Tesla is driving.\n",
      "Red Tesla has 50% battery.\n"
     ]
    }
   ],
   "source": [
    "class Vehicle:\n",
    "    def __init__(self, name, color):\n",
    "        self.name = name\n",
    "        self.color = color\n",
    "        \n",
    "    def drive(self):\n",
    "        print(f\"{self.color} {self.name} is driving.\")\n",
    "\n",
    "class Electric:\n",
    "    def __init__(self, battery_level):\n",
    "        self.battery_level = battery_level\n",
    "        \n",
    "    def charge(self):\n",
    "        print(f\"Charging battery to {self.battery_level}.\")\n",
    "\n",
    "class ElectricCar(Vehicle, Electric):\n",
    "    def __init__(self, name, color, battery_level):\n",
    "        Vehicle.__init__(self, name, color)\n",
    "        Electric.__init__(self, battery_level)\n",
    "        \n",
    "    def display_info(self):\n",
    "        print(f\"{self.color} {self.name} has {self.battery_level}% battery.\")\n",
    "        \n",
    "\n",
    "my_car = ElectricCar(\"Tesla\", \"Red\", 50)\n",
    "my_car.charge()\n",
    "my_car.drive()\n",
    "my_car.display_info()\n"
   ]
  },
  {
   "cell_type": "markdown",
   "id": "1362a620-f860-4ea2-b6c0-a72673e4f654",
   "metadata": {
    "jp-MarkdownHeadingCollapsed": true,
    "tags": []
   },
   "source": [
    "### Q4. What are getter and setter in python? Create a class and create a getter and a setter method in this class."
   ]
  },
  {
   "cell_type": "markdown",
   "id": "c84d3cbd-edd7-430b-999f-5d182af4ad03",
   "metadata": {},
   "source": [
    "In Python, getters and setters are methods used to access and modify the values of class attributes respectively. Getters and setters are often used in object-oriented programming to enforce data encapsulation and to control access to class attributes.\n",
    "\n",
    "Here's an example of a class that has a getter and a setter method:"
   ]
  },
  {
   "cell_type": "code",
   "execution_count": 82,
   "id": "4e2d571f-45ba-411f-89d1-34441c017833",
   "metadata": {},
   "outputs": [
    {
     "name": "stdout",
     "output_type": "stream",
     "text": [
      "John\n",
      "Jane\n"
     ]
    }
   ],
   "source": [
    "class Person:\n",
    "    def __init__(self, name, age):\n",
    "        self._name = name\n",
    "        self._age = age\n",
    "        \n",
    "    def get_name(self):\n",
    "        return self._name\n",
    "    \n",
    "    def set_name(self, name):\n",
    "        self._name = name\n",
    "    \n",
    "    def get_age(self):\n",
    "        return self._age\n",
    "    \n",
    "    def set_age(self, age):\n",
    "        self._age = age\n",
    "        \n",
    "person = Person(\"John\", 30)\n",
    "print(person.get_name())  \n",
    "person.set_name(\"Jane\")\n",
    "print(person.get_name())  \n"
   ]
  },
  {
   "cell_type": "markdown",
   "id": "913cac8d-c7d0-4723-a095-97bcec55e52b",
   "metadata": {},
   "source": [
    "### Q5.What is method overriding in python? Write a python code to demonstrate method overriding."
   ]
  },
  {
   "cell_type": "markdown",
   "id": "4f368286-36f9-416d-b772-4dd1e2bc4bb0",
   "metadata": {},
   "source": [
    "Method overriding is a feature of object-oriented programming in which a subclass provides its own implementation of a method that is already defined in its parent class. When a method is overridden in the subclass, the subclass method is called instead of the parent class method when the method is called on an instance of the subclass.\n",
    "\n",
    "Here's an example of how to demonstrate method overriding in Python:"
   ]
  },
  {
   "cell_type": "code",
   "execution_count": 83,
   "id": "c011e5aa-3275-46c9-8a01-1d06d4ec7a6b",
   "metadata": {},
   "outputs": [
    {
     "name": "stdout",
     "output_type": "stream",
     "text": [
      "The animal makes a sound.\n",
      "The dog barks.\n"
     ]
    }
   ],
   "source": [
    "class Animal:\n",
    "    def make_sound(self):\n",
    "        print(\"The animal makes a sound.\")\n",
    "\n",
    "class Dog(Animal):\n",
    "    def make_sound(self):\n",
    "        print(\"The dog barks.\")\n",
    "\n",
    "animal = Animal()\n",
    "dog = Dog()\n",
    "animal.make_sound() \n",
    "dog.make_sound()  \n",
    "\n"
   ]
  },
  {
   "cell_type": "code",
   "execution_count": null,
   "id": "ac89906c-cf02-4ed6-aa3c-fc9db3e12130",
   "metadata": {},
   "outputs": [],
   "source": []
  }
 ],
 "metadata": {
  "kernelspec": {
   "display_name": "Python 3 (ipykernel)",
   "language": "python",
   "name": "python3"
  },
  "language_info": {
   "codemirror_mode": {
    "name": "ipython",
    "version": 3
   },
   "file_extension": ".py",
   "mimetype": "text/x-python",
   "name": "python",
   "nbconvert_exporter": "python",
   "pygments_lexer": "ipython3",
   "version": "3.9.13"
  }
 },
 "nbformat": 4,
 "nbformat_minor": 5
}

{
 "cells": [
  {
   "cell_type": "markdown",
   "id": "e939c1f4-b733-404f-8a95-601957aac1d0",
   "metadata": {
    "jp-MarkdownHeadingCollapsed": true,
    "tags": []
   },
   "source": [
    "### Q1. Which function is used to open a file? What are the different modes of opening a file? Explain each mode of file opening."
   ]
  },
  {
   "cell_type": "markdown",
   "id": "b24af963-ac4a-4357-80b8-bc2fc91a4cac",
   "metadata": {},
   "source": [
    "In Python, the open() function is used to open a file. The open() function takes two arguments: the file path (either relative or absolute), and the mode in which you want to open the file. The syntax of the open() function is as follows:"
   ]
  },
  {
   "cell_type": "code",
   "execution_count": null,
   "id": "8b54eddf-87e7-4b83-8ad9-395ccef86336",
   "metadata": {},
   "outputs": [],
   "source": [
    "file = open(file_path, mode)\n"
   ]
  },
  {
   "cell_type": "markdown",
   "id": "ce3541d6-0bfc-4774-a101-d87663468506",
   "metadata": {},
   "source": [
    "There are different modes of opening a file in Python. They are:\n",
    "\n",
    "Read Mode ('r'): This is the default mode. It is used to open a file for reading. The file pointer is placed at the beginning of the file. If the file does not exist, an error is raised.\n",
    "\n",
    "Write Mode ('w'): This mode is used to open a file for writing. If the file already exists, its contents are truncated. If the file does not exist, a new file is created.\n",
    "\n",
    "Append Mode ('a'): This mode is used to open a file for appending. The file pointer is placed at the end of the file. If the file does not exist, a new file is created.\n",
    "\n",
    "Binary Mode ('b'): This mode is used to open a file in binary mode. This is used to read and write binary data such as images, audio files, etc.\n",
    "\n",
    "Read and Write Mode ('r+'): This mode is used to open a file for both reading and writing.\n",
    "\n",
    "Write and Read Mode ('w+'): This mode is used to open a file for both reading and writing. If the file already exists, its contents are truncated. If the file does not exist, a new file is created.\n",
    "\n",
    "Append and Read Mode ('a+'): This mode is used to open a file for both reading and appending. The file pointer is placed at the end of the file. If the file does not exist, a new file is created."
   ]
  },
  {
   "cell_type": "markdown",
   "id": "4f70d31a-1c56-434c-8359-a4dd4fff810e",
   "metadata": {},
   "source": [
    "In summary, the 'r' mode is used for reading, 'w' mode is used for writing, 'a' mode is used for appending, and the '+' symbol allows the file to be opened for both reading and writing. The 'b' mode is used for binary files."
   ]
  },
  {
   "cell_type": "markdown",
   "id": "15a8e2b9-f871-41b9-a0fa-5543dd0f00a0",
   "metadata": {
    "jp-MarkdownHeadingCollapsed": true,
    "tags": []
   },
   "source": [
    "### Q2. Why close() function is used? Why is it important to close a file?"
   ]
  },
  {
   "cell_type": "markdown",
   "id": "bdfe77e3-ffb2-4058-81e0-0d6e1a87d293",
   "metadata": {},
   "source": [
    "In Python, the close() function is used to close an open file. It is important to close a file after you are done with reading or writing to it. The close() function has the following syntax:"
   ]
  },
  {
   "cell_type": "code",
   "execution_count": null,
   "id": "02f7dde6-8180-4b94-a93d-f456467f3857",
   "metadata": {},
   "outputs": [],
   "source": [
    "file.close()\n"
   ]
  },
  {
   "cell_type": "markdown",
   "id": "9421e8a3-a352-44ff-955f-b081bdf53477",
   "metadata": {},
   "source": [
    "When you open a file in Python using the open() function, it creates a file object in memory. This object is used to interact with the file, such as reading or writing data to it. When you are done with the file, you need to close it using the close() function"
   ]
  },
  {
   "cell_type": "markdown",
   "id": "7794979d-523a-4106-8cea-4a3fa4c287ad",
   "metadata": {},
   "source": [
    " the close() function is used to release system resources, write data to the file, and prevent data corruption. It is important to close a file after you are done with it to ensure that the file is properly written and to prevent performance issues."
   ]
  },
  {
   "cell_type": "markdown",
   "id": "c7c01edc-8f1a-447d-907f-098bfbafdfde",
   "metadata": {
    "jp-MarkdownHeadingCollapsed": true,
    "tags": []
   },
   "source": [
    "### Q3. Write a python program to create a text file. Write ‘I want to become a Data Scientist’ in that file. Then close the file. Open this file and read the content of the file."
   ]
  },
  {
   "cell_type": "code",
   "execution_count": 6,
   "id": "c9a49b30-ebb7-401f-b392-da87e6084d85",
   "metadata": {},
   "outputs": [],
   "source": [
    "f = open(\"demo.txt\",\"w\")"
   ]
  },
  {
   "cell_type": "code",
   "execution_count": 9,
   "id": "a128a46c-79f8-45d7-a916-b04c8b12c376",
   "metadata": {},
   "outputs": [
    {
     "data": {
      "text/plain": [
       "33"
      ]
     },
     "execution_count": 9,
     "metadata": {},
     "output_type": "execute_result"
    }
   ],
   "source": [
    "f.write(\"I want to become a Data Scientist\")"
   ]
  },
  {
   "cell_type": "code",
   "execution_count": 10,
   "id": "cd013317-0062-4399-b9e0-e76828bfa3d3",
   "metadata": {},
   "outputs": [],
   "source": [
    "f.close()"
   ]
  },
  {
   "cell_type": "code",
   "execution_count": 13,
   "id": "1f4432cc-3da4-40e4-9988-75023a802428",
   "metadata": {},
   "outputs": [],
   "source": [
    "data= open(\"demo.txt\",\"r\")"
   ]
  },
  {
   "cell_type": "code",
   "execution_count": 14,
   "id": "510a58cd-8fb9-40ba-a711-7ea85fa09939",
   "metadata": {},
   "outputs": [
    {
     "data": {
      "text/plain": [
       "'I want to become a Data Scientist'"
      ]
     },
     "execution_count": 14,
     "metadata": {},
     "output_type": "execute_result"
    }
   ],
   "source": [
    "data.read()"
   ]
  },
  {
   "cell_type": "markdown",
   "id": "3edcc809-f559-4cce-9d0b-188a6484a65d",
   "metadata": {
    "jp-MarkdownHeadingCollapsed": true,
    "tags": []
   },
   "source": [
    "### Q4. Explain the following with python code: read(), readline() and readlines()."
   ]
  },
  {
   "cell_type": "markdown",
   "id": "e43fbc49-b20f-4d72-9b5c-394c4ac6319d",
   "metadata": {},
   "source": [
    "In Python, there are several ways to read data from a file. Here are the explanations and code examples for the read(), readline(), and readlines() functions."
   ]
  },
  {
   "cell_type": "markdown",
   "id": "1a3efdc0-1b95-4563-b22c-6ee01e355aaa",
   "metadata": {},
   "source": [
    "1. read() function: This function reads the entire content of a file as a single string. It has an optional parameter that specifies the number of bytes to be read. If the parameter is not specified, it reads the entire file."
   ]
  },
  {
   "cell_type": "code",
   "execution_count": null,
   "id": "acbc17bc-c701-4d4f-ae0d-9a22bfee5b71",
   "metadata": {},
   "outputs": [],
   "source": [
    "# Example usage of read() function\n",
    "with open('file.txt', 'r') as f:\n",
    "    content = f.read()\n",
    "    print(content)\n"
   ]
  },
  {
   "cell_type": "markdown",
   "id": "29180b26-2311-47c6-bd4e-f1ded3808a58",
   "metadata": {},
   "source": [
    "In this example, the read() function reads the entire contents of the file.txt file and stores it in the content variable. Then, the contents of the variable are printed to the console."
   ]
  },
  {
   "cell_type": "markdown",
   "id": "0c2c6b3b-37a0-43c6-9a07-95cf247143e6",
   "metadata": {},
   "source": [
    "2. readline() function: This function reads a single line from a file. It has an optional parameter that specifies the maximum number of characters to be read."
   ]
  },
  {
   "cell_type": "code",
   "execution_count": null,
   "id": "89964b5f-8b2c-48a7-a368-710c5f7602d1",
   "metadata": {},
   "outputs": [],
   "source": [
    "# Example usage of readline() function\n",
    "with open('file.txt', 'r') as f:\n",
    "    line = f.readline()\n",
    "    print(line)\n"
   ]
  },
  {
   "cell_type": "markdown",
   "id": "ba992a6b-e102-4eaf-b2c4-9bae531b6364",
   "metadata": {},
   "source": [
    "In this example, the readline() function reads the first line of the file.txt file and stores it in the line variable. Then, the contents of the variable are printed to the console."
   ]
  },
  {
   "cell_type": "markdown",
   "id": "3d7216af-c22c-4841-a3c6-e454a1e32a95",
   "metadata": {},
   "source": [
    "3. The readlines() method is used to read all the lines of a file and return them as a list of strings. Each string in the list represents a line in the file. Here's an example:"
   ]
  },
  {
   "cell_type": "code",
   "execution_count": null,
   "id": "a3b102d8-16c9-447e-a603-2e6e5a85310a",
   "metadata": {},
   "outputs": [],
   "source": [
    "# Opening a file in read mode\n",
    "file = open('example.txt', 'r')\n",
    "\n",
    "# Reading all the lines\n",
    "lines = file.readlines()\n",
    "\n",
    "# Closing the file\n",
    "file.close()\n",
    "\n",
    "# Printing the lines\n",
    "print(lines)\n"
   ]
  },
  {
   "cell_type": "markdown",
   "id": "90afc411-dd56-401e-9fdb-6966201778fe",
   "metadata": {},
   "source": [
    "In all of these examples, we opened the file in read mode by specifying 'r' as the second argument to the open() function. We then read the contents of the file using the appropriate method (read(), readline(), or readlines()), and closed the file using the close() method."
   ]
  },
  {
   "cell_type": "markdown",
   "id": "69e5da81-6638-4b33-92d2-96de5526f30c",
   "metadata": {
    "jp-MarkdownHeadingCollapsed": true,
    "tags": []
   },
   "source": [
    "### Q5. Explain why with statement is used with open(). What is the advantage of using with statement and open() together?"
   ]
  },
  {
   "cell_type": "markdown",
   "id": "276e9807-bff4-48a1-97a1-61c8cedb7a87",
   "metadata": {},
   "source": [
    "In Python, the with statement is used in conjunction with the open() function to simplify the process of opening and closing a file. The with statement ensures that the file is automatically closed when the block of code inside the with statement is exited, even if an exception is raised.\n",
    "\n",
    "Here's an example:"
   ]
  },
  {
   "cell_type": "code",
   "execution_count": null,
   "id": "957a28f1-ae25-483b-831e-0c3f9323d1df",
   "metadata": {},
   "outputs": [],
   "source": [
    "with open('example.txt', 'r') as file:\n",
    "    # Perform some operations on the file\n",
    "    content = file.read()\n",
    "    # Do something with the file contents\n"
   ]
  },
  {
   "cell_type": "markdown",
   "id": "728065fb-2b22-40d1-9435-73690c6c35b3",
   "metadata": {},
   "source": [
    "The advantage of using the with statement with the open() function is that it automatically takes care of closing the file, even if an exception is raised inside the with block. This makes the code more robust and easier to read, since you don't have to worry about explicitly closing the file using the close() method."
   ]
  },
  {
   "cell_type": "markdown",
   "id": "584a27fb-522e-48a8-b5f9-ac85b6ac7384",
   "metadata": {},
   "source": [
    " the advantage of using the with statement with the open() function is that it automatically takes care of closing the file, even if an exception is raised, making the code more robust and easier to read."
   ]
  },
  {
   "cell_type": "markdown",
   "id": "6dc24405-af6c-425b-85fc-bba0b79991fc",
   "metadata": {},
   "source": [
    "### Q6. Explain the write() and writelines() functions. Give a suitable example."
   ]
  },
  {
   "cell_type": "markdown",
   "id": "1cee1e78-b457-4612-a61f-8ef61c91ab3d",
   "metadata": {},
   "source": [
    "In Python, the write() and writelines() functions are used to write data to a file. Here's how they work:"
   ]
  },
  {
   "cell_type": "markdown",
   "id": "038a806f-ca88-45ea-b3e0-716376c6b0a5",
   "metadata": {},
   "source": [
    "write() function:"
   ]
  },
  {
   "cell_type": "markdown",
   "id": "a1c0eaa9-ee8d-4d86-9299-4561f5ee50cb",
   "metadata": {},
   "source": [
    "The write() function is used to write a string to a file. It takes a single argument, which is the string to be written to the file. Here's an example:"
   ]
  },
  {
   "cell_type": "code",
   "execution_count": null,
   "id": "2a0b1d71-e06c-457a-8703-40168ad4c3be",
   "metadata": {},
   "outputs": [],
   "source": [
    "# Opening a file in write mode\n",
    "file = open('example.txt', 'w')\n",
    "\n",
    "# Writing a string to the file\n",
    "file.write('Hello, world!')\n",
    "\n",
    "# Closing the file\n",
    "file.close()\n"
   ]
  },
  {
   "cell_type": "markdown",
   "id": "db1897ba-251d-40cf-9af3-7cfadd9813fe",
   "metadata": {},
   "source": [
    "writelines() function:"
   ]
  },
  {
   "cell_type": "markdown",
   "id": "0479ce21-0105-439b-a7ac-4dbf41cfd357",
   "metadata": {},
   "source": [
    "The writelines() function is used to write a list of strings to a file. Each string in the list represents a line in the file. Here's an example:"
   ]
  },
  {
   "cell_type": "code",
   "execution_count": null,
   "id": "2b558e8a-e286-4a07-8985-f537e35712b7",
   "metadata": {},
   "outputs": [],
   "source": [
    "# Open the file in write mode\n",
    "file = open('example.txt', 'w')\n",
    "\n",
    "# Write a list of strings to the file\n",
    "lines = ['Line 1\\n', 'Line 2\\n', 'Line 3\\n']\n",
    "file.writelines(lines)\n",
    "\n",
    "# Close the file\n",
    "file.close()\n"
   ]
  },
  {
   "cell_type": "code",
   "execution_count": null,
   "id": "1fda28a4-e012-4196-891a-c5fadd875176",
   "metadata": {},
   "outputs": [],
   "source": []
  },
  {
   "cell_type": "code",
   "execution_count": null,
   "id": "6e573b64-6886-421c-a38b-38a21dc5d929",
   "metadata": {},
   "outputs": [],
   "source": []
  },
  {
   "cell_type": "code",
   "execution_count": null,
   "id": "b0d65d15-ba24-4c9d-ae5a-83f3bcf89361",
   "metadata": {},
   "outputs": [],
   "source": []
  },
  {
   "cell_type": "code",
   "execution_count": null,
   "id": "2a5af0b1-d35f-41ac-9698-a0164ed94320",
   "metadata": {},
   "outputs": [],
   "source": []
  },
  {
   "cell_type": "code",
   "execution_count": null,
   "id": "2f1ddcd7-3c94-442a-9d35-d8936ee7eea2",
   "metadata": {},
   "outputs": [],
   "source": []
  },
  {
   "cell_type": "code",
   "execution_count": null,
   "id": "6696076f-d650-4202-8b29-5bb5ca920f58",
   "metadata": {},
   "outputs": [],
   "source": []
  },
  {
   "cell_type": "code",
   "execution_count": null,
   "id": "6aeb019e-b7ba-4224-96a0-3c4440cfcb0f",
   "metadata": {},
   "outputs": [],
   "source": []
  },
  {
   "cell_type": "code",
   "execution_count": null,
   "id": "fc33bea2-7fcc-426f-8827-1400b97d6329",
   "metadata": {},
   "outputs": [],
   "source": []
  },
  {
   "cell_type": "code",
   "execution_count": null,
   "id": "36be3bb6-d08d-4b40-81cb-e15303c05ec8",
   "metadata": {},
   "outputs": [],
   "source": []
  },
  {
   "cell_type": "code",
   "execution_count": null,
   "id": "b06945c5-ffad-45c9-9246-e087d73be094",
   "metadata": {},
   "outputs": [],
   "source": []
  },
  {
   "cell_type": "code",
   "execution_count": null,
   "id": "163171a5-6f7a-4190-aa9e-8425c6d06000",
   "metadata": {},
   "outputs": [],
   "source": []
  },
  {
   "cell_type": "code",
   "execution_count": null,
   "id": "ffdf6ce3-d19c-425b-9066-6482865d8ac5",
   "metadata": {},
   "outputs": [],
   "source": []
  },
  {
   "cell_type": "code",
   "execution_count": null,
   "id": "54eba76b-a859-4ade-be78-376fa8bf3128",
   "metadata": {},
   "outputs": [],
   "source": []
  },
  {
   "cell_type": "code",
   "execution_count": null,
   "id": "0f8806da-4c7a-4d95-ae1f-a4148f824c3f",
   "metadata": {},
   "outputs": [],
   "source": []
  },
  {
   "cell_type": "code",
   "execution_count": null,
   "id": "14e069ed-b5e2-453f-a836-a635385b9fc6",
   "metadata": {},
   "outputs": [],
   "source": []
  },
  {
   "cell_type": "code",
   "execution_count": null,
   "id": "f8ff5dae-8a68-48fa-87d1-d54632e50299",
   "metadata": {},
   "outputs": [],
   "source": []
  },
  {
   "cell_type": "code",
   "execution_count": null,
   "id": "875967ab-ce05-4dc4-8de4-70bb5e236b33",
   "metadata": {},
   "outputs": [],
   "source": []
  },
  {
   "cell_type": "code",
   "execution_count": null,
   "id": "7cdbeb5f-aa50-4a79-9e20-3118ad9aed58",
   "metadata": {},
   "outputs": [],
   "source": []
  },
  {
   "cell_type": "code",
   "execution_count": null,
   "id": "61d92288-0b18-49f3-a305-3449513d5842",
   "metadata": {},
   "outputs": [],
   "source": []
  },
  {
   "cell_type": "code",
   "execution_count": null,
   "id": "8d308c68-1bbf-42df-9235-de0eb16121c0",
   "metadata": {},
   "outputs": [],
   "source": []
  },
  {
   "cell_type": "code",
   "execution_count": null,
   "id": "b4900a91-01eb-45a1-9d75-310cec7e0c9e",
   "metadata": {},
   "outputs": [],
   "source": []
  },
  {
   "cell_type": "code",
   "execution_count": null,
   "id": "e7d2daa1-5f72-4288-931c-e70609ab778c",
   "metadata": {},
   "outputs": [],
   "source": []
  },
  {
   "cell_type": "code",
   "execution_count": null,
   "id": "b5311514-2469-4943-9ad9-eb2b66e2c9a1",
   "metadata": {},
   "outputs": [],
   "source": []
  },
  {
   "cell_type": "code",
   "execution_count": null,
   "id": "8116a597-3304-40bd-8be9-986031be0372",
   "metadata": {},
   "outputs": [],
   "source": []
  },
  {
   "cell_type": "code",
   "execution_count": null,
   "id": "15e0b95c-4bfc-4ade-bffa-608418151420",
   "metadata": {},
   "outputs": [],
   "source": []
  },
  {
   "cell_type": "code",
   "execution_count": null,
   "id": "f8eaab33-faae-4cf7-80f9-853424bbb753",
   "metadata": {},
   "outputs": [],
   "source": []
  },
  {
   "cell_type": "code",
   "execution_count": null,
   "id": "d18e7b84-2654-483f-beaf-40fc705b8152",
   "metadata": {},
   "outputs": [],
   "source": []
  },
  {
   "cell_type": "code",
   "execution_count": null,
   "id": "188c7e59-e7e1-4312-9c09-dff39dab5c02",
   "metadata": {},
   "outputs": [],
   "source": []
  },
  {
   "cell_type": "code",
   "execution_count": null,
   "id": "6e007cb1-2ce6-4af1-837a-cd15aa1d9b67",
   "metadata": {},
   "outputs": [],
   "source": []
  },
  {
   "cell_type": "code",
   "execution_count": null,
   "id": "f1411b37-417d-42ec-a3c5-59a6a12f75e9",
   "metadata": {},
   "outputs": [],
   "source": []
  },
  {
   "cell_type": "code",
   "execution_count": null,
   "id": "814571ef-69a3-4a19-bce5-a32ac04e0465",
   "metadata": {},
   "outputs": [],
   "source": []
  },
  {
   "cell_type": "code",
   "execution_count": null,
   "id": "35da08fb-6483-4bef-9308-dcce5b59fd10",
   "metadata": {},
   "outputs": [],
   "source": []
  },
  {
   "cell_type": "code",
   "execution_count": null,
   "id": "75614be8-c222-427a-89e7-6b40bda70071",
   "metadata": {},
   "outputs": [],
   "source": []
  }
 ],
 "metadata": {
  "kernelspec": {
   "display_name": "Python 3 (ipykernel)",
   "language": "python",
   "name": "python3"
  },
  "language_info": {
   "codemirror_mode": {
    "name": "ipython",
    "version": 3
   },
   "file_extension": ".py",
   "mimetype": "text/x-python",
   "name": "python",
   "nbconvert_exporter": "python",
   "pygments_lexer": "ipython3",
   "version": "3.10.8"
  }
 },
 "nbformat": 4,
 "nbformat_minor": 5
}

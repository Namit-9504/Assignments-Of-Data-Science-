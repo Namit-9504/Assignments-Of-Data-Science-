{
 "cells": [
  {
   "cell_type": "markdown",
   "id": "7c57946f-1460-4620-8e7d-d790dba38167",
   "metadata": {},
   "source": [
    "### Q1. Create a Pandas Series that contains the following data: 4, 8, 15, 16, 23, and 42. Then, print the series."
   ]
  },
  {
   "cell_type": "code",
   "execution_count": 1,
   "id": "5055a578-733a-4401-b939-d81290740ab2",
   "metadata": {},
   "outputs": [
    {
     "name": "stdout",
     "output_type": "stream",
     "text": [
      "0     4\n",
      "1     8\n",
      "2    15\n",
      "3    16\n",
      "4    23\n",
      "5    42\n",
      "dtype: int64\n"
     ]
    }
   ],
   "source": [
    "import pandas as pd\n",
    "\n",
    "my_series = pd.Series([4, 8, 15, 16, 23, 42])\n",
    "\n",
    "print(my_series)\n"
   ]
  },
  {
   "cell_type": "markdown",
   "id": "4606435d-2d94-4e2b-91ac-a45b3b0b036e",
   "metadata": {},
   "source": [
    "# Q2. Create a variable of list type containing 10 elements in it, and apply pandas.Series function on the variable print it."
   ]
  },
  {
   "cell_type": "code",
   "execution_count": 3,
   "id": "59b4c42d-8733-4ca0-bf04-9ad8aa53cbe2",
   "metadata": {},
   "outputs": [
    {
     "name": "stdout",
     "output_type": "stream",
     "text": [
      "0     1\n",
      "1     2\n",
      "2     3\n",
      "3     4\n",
      "4     5\n",
      "5     6\n",
      "6     7\n",
      "7     8\n",
      "8     9\n",
      "9    10\n",
      "dtype: int64\n"
     ]
    }
   ],
   "source": [
    "import pandas as pd\n",
    "variable = [1,2,3,4,5,6,7,8,9,10]\n",
    "series = pd.Series(variable)\n",
    "print(series)"
   ]
  },
  {
   "cell_type": "markdown",
   "id": "75ed847e-78e2-4087-98d7-bdb8bb068a9e",
   "metadata": {},
   "source": [
    "## Q3. Create a Pandas DataFrame that contains the following data:"
   ]
  },
  {
   "cell_type": "code",
   "execution_count": 10,
   "id": "27b7b517-bafd-48b3-b280-04d3af4593fc",
   "metadata": {},
   "outputs": [
    {
     "data": {
      "text/html": [
       "<div>\n",
       "<style scoped>\n",
       "    .dataframe tbody tr th:only-of-type {\n",
       "        vertical-align: middle;\n",
       "    }\n",
       "\n",
       "    .dataframe tbody tr th {\n",
       "        vertical-align: top;\n",
       "    }\n",
       "\n",
       "    .dataframe thead th {\n",
       "        text-align: right;\n",
       "    }\n",
       "</style>\n",
       "<table border=\"1\" class=\"dataframe\">\n",
       "  <thead>\n",
       "    <tr style=\"text-align: right;\">\n",
       "      <th></th>\n",
       "      <th>Name</th>\n",
       "      <th>Age</th>\n",
       "      <th>Gender</th>\n",
       "    </tr>\n",
       "  </thead>\n",
       "  <tbody>\n",
       "    <tr>\n",
       "      <th>0</th>\n",
       "      <td>Alice</td>\n",
       "      <td>25</td>\n",
       "      <td>Female</td>\n",
       "    </tr>\n",
       "    <tr>\n",
       "      <th>1</th>\n",
       "      <td>Bob</td>\n",
       "      <td>30</td>\n",
       "      <td>Male</td>\n",
       "    </tr>\n",
       "    <tr>\n",
       "      <th>2</th>\n",
       "      <td>Claire</td>\n",
       "      <td>27</td>\n",
       "      <td>Female</td>\n",
       "    </tr>\n",
       "  </tbody>\n",
       "</table>\n",
       "</div>"
      ],
      "text/plain": [
       "     Name  Age  Gender\n",
       "0   Alice   25  Female\n",
       "1     Bob   30    Male\n",
       "2  Claire   27  Female"
      ]
     },
     "execution_count": 10,
     "metadata": {},
     "output_type": "execute_result"
    }
   ],
   "source": [
    "import pandas as pd\n",
    "df = pd.DataFrame()\n",
    "df['Name']=['Alice','Bob','Claire']\n",
    "df['Age']=[25,30,27]\n",
    "df['Gender']=['Female','Male','Female']\n",
    "df"
   ]
  },
  {
   "cell_type": "markdown",
   "id": "70b01b46-ab43-457c-b21c-b25d1fb2215f",
   "metadata": {},
   "source": [
    "## Q4. What is ‘DataFrame’ in pandas and how is it different from pandas.series? Explain with an example."
   ]
  },
  {
   "cell_type": "markdown",
   "id": "334f6d2f-2188-4cef-831a-4170f5e2787a",
   "metadata": {},
   "source": [
    "In Pandas, a DataFrame is a two-dimensional labeled data structure with columns of potentially different types. It is essentially a table that consists of rows and columns, where each column can be thought of as a Series. A DataFrame can be created from various sources, such as CSV files, databases, or Python data structures like dictionaries or lists.\n",
    "\n",
    "On the other hand, a Series is a one-dimensional labeled array capable of holding data of any type. It can be created from a variety of data sources, such as lists, tuples, or dictionaries. Each element of a Series is associated with a label called an index, which can be used to access the elements of the Series.\n",
    "\n",
    "Here's an example that shows the difference between a DataFrame and a Series:"
   ]
  },
  {
   "cell_type": "code",
   "execution_count": 11,
   "id": "1b855681-11d2-4676-ae70-35393efc8a20",
   "metadata": {},
   "outputs": [
    {
     "name": "stdout",
     "output_type": "stream",
     "text": [
      "      Name  Age Country\n",
      "0    Alice   25     USA\n",
      "1      Bob   30  Canada\n",
      "2  Charlie   35      UK\n",
      "0    25\n",
      "1    30\n",
      "2    35\n",
      "Name: Age, dtype: int64\n"
     ]
    }
   ],
   "source": [
    "import pandas as pd\n",
    "\n",
    "\n",
    "data = {'Name': ['Alice', 'Bob', 'Charlie'],\n",
    "        'Age': [25, 30, 35],\n",
    "        'Country': ['USA', 'Canada', 'UK']}\n",
    "\n",
    "\n",
    "df = pd.DataFrame(data)\n",
    "\n",
    "\n",
    "age_series = df['Age']\n",
    "\n",
    "\n",
    "print(df)\n",
    "print(age_series)\n"
   ]
  },
  {
   "cell_type": "markdown",
   "id": "d9458f7a-6a44-4e76-a429-9c7e009597a3",
   "metadata": {},
   "source": [
    "As you can see, the DataFrame is a table with rows and columns, while the Series is a one-dimensional labeled array. In this example, we created a DataFrame from a dictionary and then extracted a Series from one of its columns using indexing. We can access the elements of the DataFrame and the Series using different indexing methods. For example, we can access a specific element of the DataFrame using df.loc[row_index, col_index] and access a specific element of the Series using series.loc[index]."
   ]
  },
  {
   "cell_type": "markdown",
   "id": "425e5bdf-58b9-4c1f-a2e8-a6ee0d4673c4",
   "metadata": {},
   "source": [
    "## Q5. What are some common functions you can use to manipulate data in a Pandas DataFrame? Can you give an example of when you might use one of these functions?"
   ]
  },
  {
   "cell_type": "markdown",
   "id": "eacdf551-2d7c-4686-bb18-d1acfe58772a",
   "metadata": {},
   "source": [
    "There are many functions available in Pandas that can be used to manipulate data in a DataFrame. Some of the common functions are"
   ]
  },
  {
   "cell_type": "markdown",
   "id": "97b9c2a0-1bd0-4542-baee-b7bd453461fc",
   "metadata": {},
   "source": [
    "1. head() and tail(): These functions are used to display the first and last n rows of the DataFrame respectively. For example, df.head() will display the first 5 rows of the DataFrame df."
   ]
  },
  {
   "cell_type": "markdown",
   "id": "5e9c559e-e41d-4b44-b949-a6dae884a64b",
   "metadata": {},
   "source": [
    "2. describe(): This function is used to display the descriptive statistics of the DataFrame, including the count, mean, standard deviation, minimum, maximum, and quartiles of each numerical column. For example, df.describe() will display the descriptive statistics of the DataFrame df"
   ]
  },
  {
   "cell_type": "markdown",
   "id": "8d64cf17-f2d0-4ec1-ba6e-568a29fb83e7",
   "metadata": {},
   "source": [
    "3. sort_values(): This function is used to sort the data in the DataFrame based on one or more columns. For example, df.sort_values('Age', ascending=False) will sort the data in the DataFrame df in descending order based on the 'Age' column."
   ]
  },
  {
   "cell_type": "markdown",
   "id": "8f98a83c-79b3-4f02-93e6-11e039230936",
   "metadata": {},
   "source": [
    "## Q6. Which of the following is mutable in nature Series, DataFrame, Panel?"
   ]
  },
  {
   "cell_type": "markdown",
   "id": "3e00b10f-a85a-4ce8-ade1-b1dec1a6b650",
   "metadata": {},
   "source": [
    "In Pandas, both Series and DataFrame are mutable, while Panel is deprecated in version 1.0.0 and later. This means that the elements of a Series or DataFrame can be modified using various methods and operations. However, it is important to note that some operations on a DataFrame may create a new DataFrame instead of modifying the existing one. For example, the drop() function does not modify the original DataFrame, but instead returns a new DataFrame with the specified columns or rows removed."
   ]
  },
  {
   "cell_type": "markdown",
   "id": "33f191f3-fe9e-4e30-a317-caff24987c60",
   "metadata": {},
   "source": [
    "## Q7. Create a DataFrame using multiple Series. Explain with an example."
   ]
  },
  {
   "cell_type": "markdown",
   "id": "c87940e3-9d7f-463f-9c9b-53bc8d6f293f",
   "metadata": {},
   "source": [
    "To create a DataFrame using multiple Series, you can use the pd.DataFrame() function and pass a dictionary of Series objects as input. Each Series in the dictionary will become a column in the resulting DataFrame, with the dictionary keys becoming the column names.\n",
    "\n",
    "Here's an example:"
   ]
  },
  {
   "cell_type": "code",
   "execution_count": 12,
   "id": "92f1e1c8-241e-44ce-8c01-9d3cb2f2455f",
   "metadata": {},
   "outputs": [
    {
     "name": "stdout",
     "output_type": "stream",
     "text": [
      "      Name  Age  Gender\n",
      "0    Alice   25  Female\n",
      "1      Bob   30    Male\n",
      "2  Charlie   27    Male\n"
     ]
    }
   ],
   "source": [
    "import pandas as pd\n",
    "\n",
    "# create three Series objects\n",
    "names = pd.Series(['Alice', 'Bob', 'Charlie'])\n",
    "ages = pd.Series([25, 30, 27])\n",
    "genders = pd.Series(['Female', 'Male', 'Male'])\n",
    "\n",
    "# create a dictionary of Series objects\n",
    "data = {'Name': names, 'Age': ages, 'Gender': genders}\n",
    "\n",
    "# create a DataFrame from the dictionary\n",
    "df = pd.DataFrame(data)\n",
    "\n",
    "# display the resulting DataFrame\n",
    "print(df)\n"
   ]
  },
  {
   "cell_type": "code",
   "execution_count": null,
   "id": "f9c798ae-5943-4979-a297-286d9250f532",
   "metadata": {},
   "outputs": [],
   "source": []
  },
  {
   "cell_type": "code",
   "execution_count": null,
   "id": "9b7be554-ba89-4aee-a79e-fceb0208ff81",
   "metadata": {},
   "outputs": [],
   "source": []
  },
  {
   "cell_type": "code",
   "execution_count": null,
   "id": "1d740d0b-55a6-4552-80b1-059e583b589e",
   "metadata": {},
   "outputs": [],
   "source": []
  },
  {
   "cell_type": "code",
   "execution_count": null,
   "id": "ca37875b-dc1f-47dc-96c6-ebd42bf3a321",
   "metadata": {},
   "outputs": [],
   "source": []
  },
  {
   "cell_type": "code",
   "execution_count": null,
   "id": "7faf1544-37ac-42e0-bb3b-41e80019d080",
   "metadata": {},
   "outputs": [],
   "source": []
  },
  {
   "cell_type": "code",
   "execution_count": null,
   "id": "51f44a99-67da-4cf4-95d4-05adebf23922",
   "metadata": {},
   "outputs": [],
   "source": []
  },
  {
   "cell_type": "code",
   "execution_count": null,
   "id": "8edacbc0-21fb-42ce-869c-45777558b4c8",
   "metadata": {},
   "outputs": [],
   "source": []
  },
  {
   "cell_type": "code",
   "execution_count": null,
   "id": "87ada219-0f94-4fe1-a614-cd7323dd0221",
   "metadata": {},
   "outputs": [],
   "source": []
  },
  {
   "cell_type": "code",
   "execution_count": null,
   "id": "dedd86f8-3e71-4d03-85a6-90f223e8db6c",
   "metadata": {},
   "outputs": [],
   "source": []
  },
  {
   "cell_type": "code",
   "execution_count": null,
   "id": "9cc7e1e3-3b3d-407d-b303-b4c80ef4b9d0",
   "metadata": {},
   "outputs": [],
   "source": []
  },
  {
   "cell_type": "code",
   "execution_count": null,
   "id": "136bde56-f850-4cce-9e5b-e70f5cc5a57a",
   "metadata": {},
   "outputs": [],
   "source": []
  },
  {
   "cell_type": "code",
   "execution_count": null,
   "id": "a7c0246a-fe5c-4aa6-bbb3-c1e5fffb1d17",
   "metadata": {},
   "outputs": [],
   "source": []
  },
  {
   "cell_type": "code",
   "execution_count": null,
   "id": "7ece8ecf-159d-4024-8f6a-a495b0323aff",
   "metadata": {},
   "outputs": [],
   "source": []
  },
  {
   "cell_type": "code",
   "execution_count": null,
   "id": "c1c9974b-ce61-49bc-bc23-f908e0961e45",
   "metadata": {},
   "outputs": [],
   "source": []
  },
  {
   "cell_type": "code",
   "execution_count": null,
   "id": "7835021e-b645-4642-8627-146b2e140da4",
   "metadata": {},
   "outputs": [],
   "source": []
  },
  {
   "cell_type": "code",
   "execution_count": null,
   "id": "b5321b45-e3f1-4d0d-a088-7339cb5e64ff",
   "metadata": {},
   "outputs": [],
   "source": []
  },
  {
   "cell_type": "code",
   "execution_count": null,
   "id": "ccb17ab4-57c2-4c7a-ad56-a64d0ef55b24",
   "metadata": {},
   "outputs": [],
   "source": []
  },
  {
   "cell_type": "code",
   "execution_count": null,
   "id": "a141dba5-bdf7-4025-a7d5-cdea9fb2d70b",
   "metadata": {},
   "outputs": [],
   "source": []
  },
  {
   "cell_type": "code",
   "execution_count": null,
   "id": "a240e736-c28e-4deb-9305-ad62c11c3124",
   "metadata": {},
   "outputs": [],
   "source": []
  },
  {
   "cell_type": "code",
   "execution_count": null,
   "id": "fad74cdb-e37f-493a-97b4-4c2197df3b49",
   "metadata": {},
   "outputs": [],
   "source": []
  },
  {
   "cell_type": "code",
   "execution_count": null,
   "id": "4f8963a1-a3e9-43c6-87d8-3a5acb259be1",
   "metadata": {},
   "outputs": [],
   "source": []
  },
  {
   "cell_type": "code",
   "execution_count": null,
   "id": "d4133ea6-50e7-4f54-9a24-2baf9a46b9b8",
   "metadata": {},
   "outputs": [],
   "source": []
  },
  {
   "cell_type": "code",
   "execution_count": null,
   "id": "bcdb89d1-43ac-4fe5-a38e-d79e6edd9991",
   "metadata": {},
   "outputs": [],
   "source": []
  },
  {
   "cell_type": "code",
   "execution_count": null,
   "id": "fe07e76b-1025-4fc3-8648-179024d56fce",
   "metadata": {},
   "outputs": [],
   "source": []
  },
  {
   "cell_type": "code",
   "execution_count": null,
   "id": "64ecef39-a9ac-41b4-87a3-0c1689f4cec0",
   "metadata": {},
   "outputs": [],
   "source": []
  },
  {
   "cell_type": "code",
   "execution_count": null,
   "id": "b02cb5ae-c04a-48f1-8feb-0f9dceb80b1c",
   "metadata": {},
   "outputs": [],
   "source": []
  },
  {
   "cell_type": "code",
   "execution_count": null,
   "id": "e9075ebe-7bb6-4247-9a91-9912c1f4635a",
   "metadata": {},
   "outputs": [],
   "source": []
  },
  {
   "cell_type": "code",
   "execution_count": null,
   "id": "6cd17e37-00d8-4536-a7da-0ff8d5ab5aa0",
   "metadata": {},
   "outputs": [],
   "source": []
  },
  {
   "cell_type": "code",
   "execution_count": null,
   "id": "d2eb9409-3de4-458a-b1b7-2b022c8fe859",
   "metadata": {},
   "outputs": [],
   "source": []
  },
  {
   "cell_type": "code",
   "execution_count": null,
   "id": "9cf7c058-e2a4-4bc7-b8fd-c747cbbb835b",
   "metadata": {},
   "outputs": [],
   "source": []
  },
  {
   "cell_type": "code",
   "execution_count": null,
   "id": "c8f20a46-9e42-4bf7-a309-b848073de6d6",
   "metadata": {},
   "outputs": [],
   "source": []
  },
  {
   "cell_type": "code",
   "execution_count": null,
   "id": "d087b7ab-005c-4401-994d-1b365585739f",
   "metadata": {},
   "outputs": [],
   "source": []
  },
  {
   "cell_type": "code",
   "execution_count": null,
   "id": "d6de9d6b-cea1-4f57-a268-dbf4e42ce810",
   "metadata": {},
   "outputs": [],
   "source": []
  },
  {
   "cell_type": "code",
   "execution_count": null,
   "id": "43fc8c8a-3844-40ea-8674-d0703b055d2a",
   "metadata": {},
   "outputs": [],
   "source": []
  },
  {
   "cell_type": "code",
   "execution_count": null,
   "id": "e2234247-1396-46b7-b65d-81134c341634",
   "metadata": {},
   "outputs": [],
   "source": []
  },
  {
   "cell_type": "code",
   "execution_count": null,
   "id": "418e56ca-0d90-42e7-bce8-0a72fa9ad198",
   "metadata": {},
   "outputs": [],
   "source": []
  },
  {
   "cell_type": "code",
   "execution_count": null,
   "id": "316a4e6c-5e03-4a4e-b2ee-84ea78ec71cd",
   "metadata": {},
   "outputs": [],
   "source": []
  },
  {
   "cell_type": "code",
   "execution_count": null,
   "id": "f3352d28-2edc-497b-afd1-fc3b6846d810",
   "metadata": {},
   "outputs": [],
   "source": []
  },
  {
   "cell_type": "code",
   "execution_count": null,
   "id": "e9c2b48c-50c0-4bcd-941a-44c253e08581",
   "metadata": {},
   "outputs": [],
   "source": []
  },
  {
   "cell_type": "code",
   "execution_count": null,
   "id": "10853c00-67d5-4147-b2c7-89f6edbf2ccd",
   "metadata": {},
   "outputs": [],
   "source": []
  },
  {
   "cell_type": "code",
   "execution_count": null,
   "id": "d468edee-a279-4954-b294-07cf6e9b665b",
   "metadata": {},
   "outputs": [],
   "source": []
  },
  {
   "cell_type": "code",
   "execution_count": null,
   "id": "32621c9d-2756-4239-b411-567f754fc298",
   "metadata": {},
   "outputs": [],
   "source": []
  },
  {
   "cell_type": "code",
   "execution_count": null,
   "id": "35f29a55-66d5-41cf-a300-6696725883bb",
   "metadata": {},
   "outputs": [],
   "source": []
  },
  {
   "cell_type": "code",
   "execution_count": null,
   "id": "7793515c-8906-4235-b6f0-ddae2a2aff75",
   "metadata": {},
   "outputs": [],
   "source": []
  },
  {
   "cell_type": "code",
   "execution_count": null,
   "id": "b18517be-7fb8-4ff9-8dc9-cac96fe9229a",
   "metadata": {},
   "outputs": [],
   "source": []
  },
  {
   "cell_type": "code",
   "execution_count": null,
   "id": "ac36484e-b100-4036-855d-49041dd5c838",
   "metadata": {},
   "outputs": [],
   "source": []
  },
  {
   "cell_type": "code",
   "execution_count": null,
   "id": "d0f8f4ed-652b-4435-a685-5902c676a016",
   "metadata": {},
   "outputs": [],
   "source": []
  },
  {
   "cell_type": "code",
   "execution_count": null,
   "id": "3f02a3b0-113e-49f8-a669-254123a41a79",
   "metadata": {},
   "outputs": [],
   "source": []
  },
  {
   "cell_type": "code",
   "execution_count": null,
   "id": "5ab81a7d-b7f0-493d-b4a0-179e646e8dd4",
   "metadata": {},
   "outputs": [],
   "source": []
  },
  {
   "cell_type": "code",
   "execution_count": null,
   "id": "5ab99cea-493d-4e62-ad86-6a1220bf9be6",
   "metadata": {},
   "outputs": [],
   "source": []
  },
  {
   "cell_type": "code",
   "execution_count": null,
   "id": "c016d17b-b96b-43d6-8fe2-b11149ad6a6f",
   "metadata": {},
   "outputs": [],
   "source": []
  },
  {
   "cell_type": "code",
   "execution_count": null,
   "id": "f949b19c-7bf0-481d-8c7c-f536c7f3d22f",
   "metadata": {},
   "outputs": [],
   "source": []
  },
  {
   "cell_type": "code",
   "execution_count": null,
   "id": "834eb9cd-c419-49ba-9a62-5d36862b984e",
   "metadata": {},
   "outputs": [],
   "source": []
  },
  {
   "cell_type": "code",
   "execution_count": null,
   "id": "06e2c9c7-7b58-4fb2-bd60-6c0da3f30958",
   "metadata": {},
   "outputs": [],
   "source": []
  },
  {
   "cell_type": "code",
   "execution_count": null,
   "id": "ca8d532e-06fd-45ce-8254-72477b9a10e6",
   "metadata": {},
   "outputs": [],
   "source": []
  }
 ],
 "metadata": {
  "kernelspec": {
   "display_name": "Python 3 (ipykernel)",
   "language": "python",
   "name": "python3"
  },
  "language_info": {
   "codemirror_mode": {
    "name": "ipython",
    "version": 3
   },
   "file_extension": ".py",
   "mimetype": "text/x-python",
   "name": "python",
   "nbconvert_exporter": "python",
   "pygments_lexer": "ipython3",
   "version": "3.10.8"
  }
 },
 "nbformat": 4,
 "nbformat_minor": 5
}

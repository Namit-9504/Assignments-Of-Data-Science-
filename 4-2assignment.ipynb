{
 "cells": [
  {
   "cell_type": "markdown",
   "id": "edd87f11-627e-414d-ac2c-9e01b1753f79",
   "metadata": {
    "tags": []
   },
   "source": [
    "### Q1. Create a python program to sort the given list of tuples based on integer value using a lambda function."
   ]
  },
  {
   "cell_type": "code",
   "execution_count": null,
   "id": "8dae135d-b9d4-4258-8786-97900cc92263",
   "metadata": {
    "tags": []
   },
   "outputs": [],
   "source": []
  },
  {
   "cell_type": "markdown",
   "id": "ca548112-8d3c-4302-a12d-c1efc5d052c0",
   "metadata": {},
   "source": [
    "ANS "
   ]
  },
  {
   "cell_type": "code",
   "execution_count": 12,
   "id": "c18caa1a-b4e5-45b6-8b1b-571d028f4dee",
   "metadata": {},
   "outputs": [
    {
     "name": "stdout",
     "output_type": "stream",
     "text": [
      "[('Virat Kohli', 24936), ('Jack Kallis', 25534), ('Ricky Ponting', 27483), ('Sachin Tendulkar', 34357)]\n"
     ]
    }
   ],
   "source": [
    "l=[('Sachin Tendulkar', 34357), ('Ricky Ponting', 27483), ('Jack Kallis', 25534), ('Virat Kohli', 24936)]\n",
    "sorted_l = sorted(l, key=lambda x: x[1], reverse=False)\n",
    "print(sorted_l)\n"
   ]
  },
  {
   "cell_type": "markdown",
   "id": "6f4ebee7-0313-48c1-94f9-86d85d4ab498",
   "metadata": {},
   "source": [
    "### Q2. Write a Python Program to find the squares of all the numbers in the given list of integers using lambda and map functions."
   ]
  },
  {
   "cell_type": "code",
   "execution_count": 16,
   "id": "9c9857cf-980a-4c74-95cb-80af77ce1286",
   "metadata": {},
   "outputs": [],
   "source": [
    "l2=[1, 2, 3, 4, 5, 6, 7, 8, 9, 10]"
   ]
  },
  {
   "cell_type": "code",
   "execution_count": 20,
   "id": "c203cf32-bae7-4d41-9685-fac2281e2f65",
   "metadata": {},
   "outputs": [
    {
     "data": {
      "text/plain": [
       "[1, 4, 9, 16, 25, 36, 49, 64, 81, 100]"
      ]
     },
     "execution_count": 20,
     "metadata": {},
     "output_type": "execute_result"
    }
   ],
   "source": [
    "\n",
    "list(map(lambda x :x**2,l2))"
   ]
  },
  {
   "cell_type": "markdown",
   "id": "b9928e0c-ca71-484b-add1-09e283e63be5",
   "metadata": {},
   "source": [
    "### Q3. Write a python program to convert the given list of integers into a tuple of strings. Use map and lambda functions"
   ]
  },
  {
   "cell_type": "code",
   "execution_count": 1,
   "id": "4d297ca5-9506-4b27-9299-d7220ca4c2b7",
   "metadata": {},
   "outputs": [],
   "source": [
    "Given_String= [1, 2, 3, 4, 5, 6, 7, 8, 9, 10]\n",
    "Expected_output= ('1', '2', '3', '4', '5', '6', '7', '8', '9', '10')"
   ]
  },
  {
   "cell_type": "code",
   "execution_count": 2,
   "id": "f47a1e9a-ff80-483f-9464-e7c02e0d2562",
   "metadata": {},
   "outputs": [
    {
     "data": {
      "text/plain": [
       "['1', '2', '3', '4', '5', '6', '7', '8', '9', '10']"
      ]
     },
     "execution_count": 2,
     "metadata": {},
     "output_type": "execute_result"
    }
   ],
   "source": [
    "list(map(lambda x:str(x),Given_String))"
   ]
  },
  {
   "cell_type": "markdown",
   "id": "aeaca714-4bcc-4993-a6ad-9a757889bd40",
   "metadata": {},
   "source": [
    "### Q4. Write a python program using reduce function to compute the product of a list containing numbers from 1 to 25."
   ]
  },
  {
   "cell_type": "code",
   "execution_count": 8,
   "id": "7cfdc999-6903-4a36-b1d4-df79a9a6fad3",
   "metadata": {},
   "outputs": [
    {
     "data": {
      "text/plain": [
       "15511210043330985984000000"
      ]
     },
     "execution_count": 8,
     "metadata": {},
     "output_type": "execute_result"
    }
   ],
   "source": [
    "from functools import reduce\n",
    "numbers =list(range(1,26))\n",
    "reduce(lambda x,y:x*y,numbers)"
   ]
  },
  {
   "cell_type": "markdown",
   "id": "14e312c0-6dcc-4156-8725-c52454634032",
   "metadata": {},
   "source": [
    "### Q5. Write a python program to filter the numbers in a given list that are divisible by 2 and 3 using the filter function."
   ]
  },
  {
   "cell_type": "code",
   "execution_count": 10,
   "id": "d5e634d0-67b2-44ef-b086-c0d21b9f8ec0",
   "metadata": {},
   "outputs": [],
   "source": [
    "c=[2, 3, 6, 9, 27, 60, 90, 120, 55, 46]"
   ]
  },
  {
   "cell_type": "code",
   "execution_count": 11,
   "id": "f427a16c-d000-412b-8acc-30390ede9159",
   "metadata": {},
   "outputs": [
    {
     "data": {
      "text/plain": [
       "[6, 60, 90, 120]"
      ]
     },
     "execution_count": 11,
     "metadata": {},
     "output_type": "execute_result"
    }
   ],
   "source": [
    "list(filter(lambda x:x%2==0 and x%3==0,c))"
   ]
  },
  {
   "cell_type": "markdown",
   "id": "2f60595f-58e6-4c91-9b39-b81fcf091bb0",
   "metadata": {},
   "source": [
    "### Q6. Write a python program to find palindromes in the given list of strings using lambda and filter function."
   ]
  },
  {
   "cell_type": "code",
   "execution_count": 13,
   "id": "fd4d6440-7c91-4b67-bb7f-a111085a357b",
   "metadata": {},
   "outputs": [],
   "source": [
    "l0=['python', 'php', 'aba', 'radar', 'level']"
   ]
  },
  {
   "cell_type": "code",
   "execution_count": 15,
   "id": "a47b1aab-8af1-47c2-9f7c-e8f953f83e0b",
   "metadata": {},
   "outputs": [
    {
     "data": {
      "text/plain": [
       "['php', 'aba', 'radar', 'level']"
      ]
     },
     "execution_count": 15,
     "metadata": {},
     "output_type": "execute_result"
    }
   ],
   "source": [
    "list(filter(lambda x:x==x[::-1],l0))"
   ]
  },
  {
   "cell_type": "code",
   "execution_count": null,
   "id": "5054d9d1-71a2-4956-9cae-12f86821e81d",
   "metadata": {},
   "outputs": [],
   "source": []
  }
 ],
 "metadata": {
  "kernelspec": {
   "display_name": "Python 3 (ipykernel)",
   "language": "python",
   "name": "python3"
  },
  "language_info": {
   "codemirror_mode": {
    "name": "ipython",
    "version": 3
   },
   "file_extension": ".py",
   "mimetype": "text/x-python",
   "name": "python",
   "nbconvert_exporter": "python",
   "pygments_lexer": "ipython3",
   "version": "3.10.8"
  }
 },
 "nbformat": 4,
 "nbformat_minor": 5
}

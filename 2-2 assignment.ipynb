{
 "cells": [
  {
   "cell_type": "code",
   "execution_count": null,
   "id": "69c0f750-b5fd-4138-9e28-088f9f24c8d8",
   "metadata": {},
   "outputs": [],
   "source": [
    "Q1. What are the characteristics of the tuples? Is tuple immutable?"
   ]
  },
  {
   "cell_type": "markdown",
   "id": "a2858726-1cfd-4241-b834-d17d634c0199",
   "metadata": {},
   "source": [
    "\n",
    "ANS:- characteristics:\n",
    "\n",
    "1)Tuples are ordered: The order of the elements in a tuple is fixed and maintained when the tuple is created.\n",
    "\n",
    "2)Tuples are indexed: The elements in a tuple can be accessed using an index, just like with lists.\n",
    "\n",
    "3)Tuples can contain any type of object: A tuple can contain elements of any data type, including other tuples.\n",
    "\n",
    "4)Tuples are immutable: Once a tuple is created, its contents cannot be changed. You cannot add or remove elements from a tuple.\n",
    "\n",
    "Yes, tuples are immutable in Python"
   ]
  },
  {
   "cell_type": "markdown",
   "id": "a5e447de-0a0d-4258-9c17-2476ed9decbc",
   "metadata": {},
   "source": [
    "Q2. What are the two tuple methods in python? Give an example of each method. Give a reason why\n",
    "tuples have only two in-built methods as compared to Lists."
   ]
  },
  {
   "cell_type": "markdown",
   "id": "75788a2d-21c5-4584-b0c0-0ff37e9c1703",
   "metadata": {},
   "source": [
    "\n",
    "ANS\n",
    "count(): This method returns the number of times a specified element appears in the tuple. The syntax for this method is tuple.count(element). For example:"
   ]
  },
  {
   "cell_type": "code",
   "execution_count": 1,
   "id": "3a245e45-0879-4b26-950f-b327f05d813a",
   "metadata": {},
   "outputs": [
    {
     "name": "stdout",
     "output_type": "stream",
     "text": [
      "3\n"
     ]
    }
   ],
   "source": [
    "my_tuple = (1, 2, 3, 4, 4, 4, 5)\n",
    "count_4 = my_tuple.count(4)\n",
    "print(count_4) # Output: 3\n",
    "\n"
   ]
  },
  {
   "cell_type": "markdown",
   "id": "1a232d5d-b0e9-4bfb-98b9-10f3cc65a5a3",
   "metadata": {},
   "source": [
    "index(): This method returns the index of the first occurrence of a specified element in the tuple. The syntax for this method is tuple.index(element). For example:"
   ]
  },
  {
   "cell_type": "code",
   "execution_count": 2,
   "id": "2e0950fe-21a6-49bd-af46-4bfdca538366",
   "metadata": {},
   "outputs": [
    {
     "name": "stdout",
     "output_type": "stream",
     "text": [
      "2\n"
     ]
    }
   ],
   "source": [
    "my_tuple = (1, 2, 3, 4, 5)\n",
    "index_3 = my_tuple.index(3)\n",
    "print(index_3) # Output: 2\n"
   ]
  },
  {
   "cell_type": "markdown",
   "id": "729474d4-bc50-47fd-abad-94f527effa0f",
   "metadata": {},
   "source": [
    "The reason why tuples have only two built-in methods compared to lists is that tuples are immutable, which means that they cannot be changed once they are created. Because of this, there is no need for methods like append() or remove() which modify the contents of a list. The count() and index() methods are sufficient for working with tuples. Lists, on the other hand, have many built-in methods that are designed to modify their contents, which is why they have more built-in methods than tuples."
   ]
  },
  {
   "cell_type": "markdown",
   "id": "e6af71b3-4b19-490d-ac82-6afebd82f8a2",
   "metadata": {},
   "source": [
    "Q3. Which collection datatypes in python do not allow duplicate items? Write a code using a set to remove\n",
    "duplicates from the given list."
   ]
  },
  {
   "cell_type": "code",
   "execution_count": 4,
   "id": "3a603dfe-5c9d-40b2-93d6-9e0b2acaffbd",
   "metadata": {},
   "outputs": [],
   "source": [
    "List = [1, 1, 1, 2, 1, 3, 1, 4, 2, 1, 2, 2, 2, 3, 2, 4, 3, 1, 3, 2, 3, 3, 3, 4, 4, 1, 4, 2, 4, 3, 4, 4]"
   ]
  },
  {
   "cell_type": "markdown",
   "id": "fc4c022b-dd87-48ab-a790-92b7bd411db2",
   "metadata": {},
   "source": [
    "The collection datatype in Python that does not allow duplicate items is the \"set\"."
   ]
  },
  {
   "cell_type": "code",
   "execution_count": 6,
   "id": "2327c8be-ee62-4550-88a9-273bb4a29aec",
   "metadata": {},
   "outputs": [
    {
     "name": "stdout",
     "output_type": "stream",
     "text": [
      "{1, 2, 3, 4}\n"
     ]
    }
   ],
   "source": [
    "a=set(List)\n",
    "print(a)"
   ]
  },
  {
   "cell_type": "markdown",
   "id": "e7f895a3-f8f6-4ef2-b714-1f0007ecf29b",
   "metadata": {},
   "source": [
    "Q4. Explain the difference between the union() and update() methods for a set. Give an example of\n",
    "each method."
   ]
  },
  {
   "cell_type": "markdown",
   "id": "81acea69-5cc9-4b62-bd91-e25a7aebd2c2",
   "metadata": {},
   "source": [
    "ANS"
   ]
  },
  {
   "cell_type": "markdown",
   "id": "13b94247-cdac-4360-ba67-a00b2c0bb0c9",
   "metadata": {},
   "source": [
    "In Python, both union() and update() are methods used to combine two or more sets. However, there is a difference between the two:\n",
    "\n",
    "union() returns a new set that contains all the unique elements from all the sets being combined, without modifying any of the original sets. The syntax for this method is set1.union(set2, set3, ...). For example:"
   ]
  },
  {
   "cell_type": "code",
   "execution_count": 8,
   "id": "804adc18-deaf-46f6-8f3f-4f5a864510fa",
   "metadata": {},
   "outputs": [
    {
     "name": "stdout",
     "output_type": "stream",
     "text": [
      "{1, 2, 3, 4, 5, 6, 7}\n"
     ]
    }
   ],
   "source": [
    "set1 = {1, 2, 3}\n",
    "set2 = {3, 4, 5}\n",
    "set3 = {5, 6, 7}\n",
    "new_set = set1.union(set2, set3)\n",
    "print(new_set) # Output: {1, 2, 3, 4, 5, 6, 7}\n"
   ]
  },
  {
   "cell_type": "markdown",
   "id": "bd77b686-4e20-4432-a182-4f821aaff999",
   "metadata": {},
   "source": [
    "update() modifies the set on which it is called by adding all the unique elements from the sets being combined. The syntax for this method is set1.update(set2, set3, ...). For example:"
   ]
  },
  {
   "cell_type": "code",
   "execution_count": 9,
   "id": "2e036faa-9492-4f23-9710-47eaa79cbe43",
   "metadata": {},
   "outputs": [
    {
     "name": "stdout",
     "output_type": "stream",
     "text": [
      "{1, 2, 3, 4, 5, 6, 7}\n"
     ]
    }
   ],
   "source": [
    "set1 = {1, 2, 3}\n",
    "set2 = {3, 4, 5}\n",
    "set3 = {5, 6, 7}\n",
    "set1.update(set2, set3)\n",
    "print(set1) # Output: {1, 2, 3, 4, 5, 6, 7}\n"
   ]
  },
  {
   "cell_type": "markdown",
   "id": "a1c36cd5-fb0d-4672-9942-79623a0667e0",
   "metadata": {},
   "source": [
    "In both cases, duplicates are removed from the final set, since sets cannot have duplicate elements.\n",
    "\n",
    "The key difference is that union() returns a new set without modifying any of the original sets, while update() modifies one of the original sets by adding the elements from the other sets.\n",
    "\n",
    "In summary, union() returns a new set containing all the unique elements from the original set(s) and the other set(s), while update() modifies the original set by adding all the unique elements from the other set(s).\n",
    "\n",
    "It's important to note that union() and update() are both methods for sets and are not available for other collection types like lists or tuples"
   ]
  },
  {
   "cell_type": "markdown",
   "id": "2a60aba8-8028-40c7-a64a-90c95cf53b52",
   "metadata": {},
   "source": [
    "Q5. What is a dictionary? Give an example. Also, state whether a dictionary is ordered or unordered."
   ]
  },
  {
   "cell_type": "markdown",
   "id": "e0aa30ee-475f-4c7d-8f5f-9fb89a0ce416",
   "metadata": {},
   "source": [
    "ANS"
   ]
  },
  {
   "cell_type": "markdown",
   "id": "62b6e8f2-c5be-4500-9dab-bfaf535b1dc4",
   "metadata": {},
   "source": [
    "In Python, a dictionary is a collection of key-value pairs, where each key is unique and maps to a corresponding value. Dictionaries are also sometimes referred to as associative arrays or hash tables in other programming languages.\n",
    "\n",
    "Dictionaries are defined using curly braces {} and key-value pairs separated by colons :. For example, here is a dictionary that maps the names of fruits to their colors:"
   ]
  },
  {
   "cell_type": "code",
   "execution_count": 2,
   "id": "7cb9f8cf-fb58-44c3-8756-eb933c36f83c",
   "metadata": {},
   "outputs": [],
   "source": [
    "fruit_colors = {\"apple\": \"red\",\"banana\": \"yellow\",\"orange\": \"orange\",\"grape\": \"purple\"}\n",
    "\n"
   ]
  },
  {
   "cell_type": "markdown",
   "id": "d85fc5dd-8a32-47ee-8b6e-aa8449a54cd7",
   "metadata": {},
   "source": [
    "In this example, the keys of the dictionary are strings that represent the names of fruits, and the values of the dictionary are also strings that represent the colors of those fruits.\n",
    "\n",
    "Dictionaries in Python are unordered, which means that the order in which the key-value pairs are defined is not preserved."
   ]
  },
  {
   "cell_type": "markdown",
   "id": "84a12f69-0f80-4109-b9a4-fc0b4a6b1bcd",
   "metadata": {},
   "source": [
    "Q6. Can we create a nested dictionary? If so, please give an example by creating a simple one-level\n",
    "nested dictionary."
   ]
  },
  {
   "cell_type": "markdown",
   "id": "4fbf289a-db82-4aa4-b3d6-66e982c01075",
   "metadata": {},
   "source": [
    "ANS"
   ]
  },
  {
   "cell_type": "markdown",
   "id": "e8723ac6-d6ad-4776-b837-0bc66f098591",
   "metadata": {},
   "source": [
    "Yes, we can create a nested dictionary in Python. A nested dictionary is a dictionary where the values are also dictionaries.Yes, we can create a nested dictionary in Python. A nested dictionary is a dictionary where the values are also dictionaries."
   ]
  },
  {
   "cell_type": "code",
   "execution_count": 3,
   "id": "553bb3dd-eada-4535-bb2d-c2aa27fe4d5d",
   "metadata": {},
   "outputs": [],
   "source": [
    "# Create a dictionary of book information\n",
    "book = {\"title\": \"The Great Gatsby\",\"author\": \"F. Scott Fitzgerald\",\"year\": 1925,\"publisher\": {\"name\": \"Charles Scribner's Sons\",\"location\": \"New York\"}}\n"
   ]
  },
  {
   "cell_type": "code",
   "execution_count": 4,
   "id": "acaaee8b-a756-45ac-b0bd-69c350b20669",
   "metadata": {},
   "outputs": [
    {
     "data": {
      "text/plain": [
       "{'title': 'The Great Gatsby',\n",
       " 'author': 'F. Scott Fitzgerald',\n",
       " 'year': 1925,\n",
       " 'publisher': {'name': \"Charles Scribner's Sons\", 'location': 'New York'}}"
      ]
     },
     "execution_count": 4,
     "metadata": {},
     "output_type": "execute_result"
    }
   ],
   "source": [
    "book"
   ]
  },
  {
   "cell_type": "markdown",
   "id": "2f255919-4f78-4ca4-90f0-3ab63e55cada",
   "metadata": {},
   "source": [
    "Q7. Using setdefault() method, create key named topics in the given dictionary and also add the value of\n",
    "the key as this list ['Python', 'Machine Learning’, 'Deep Learning']"
   ]
  },
  {
   "cell_type": "code",
   "execution_count": 19,
   "id": "5561dc66-960e-44ab-9f2a-567434104c57",
   "metadata": {},
   "outputs": [],
   "source": [
    "dict1 = {'language' : 'Python', 'course': 'Data Science Masters'}"
   ]
  },
  {
   "cell_type": "code",
   "execution_count": 21,
   "id": "35b29a28-eeeb-4285-8eba-2ec3ba02111d",
   "metadata": {},
   "outputs": [
    {
     "data": {
      "text/plain": [
       "\"['Python', 'Machine Learning’, 'Deep Learning']\""
      ]
     },
     "execution_count": 21,
     "metadata": {},
     "output_type": "execute_result"
    }
   ],
   "source": [
    "dict1.setdefault(\"topics\",\"['Python', 'Machine Learning’, 'Deep Learning']\")"
   ]
  },
  {
   "cell_type": "code",
   "execution_count": 22,
   "id": "f8b59c77-85f2-4398-860e-8007b4878fa2",
   "metadata": {},
   "outputs": [
    {
     "data": {
      "text/plain": [
       "{'language': 'Python',\n",
       " 'course': 'Data Science Masters',\n",
       " 'topics': \"['Python', 'Machine Learning’, 'Deep Learning']\"}"
      ]
     },
     "execution_count": 22,
     "metadata": {},
     "output_type": "execute_result"
    }
   ],
   "source": [
    "dict1"
   ]
  },
  {
   "cell_type": "markdown",
   "id": "aae85ccd-5999-412d-a6b1-3f7d4d431ee3",
   "metadata": {},
   "source": [
    "Q8. What are the three view objects in dictionaries? Use the three in-built methods in python to display\n",
    "these three view objects for the given dictionary."
   ]
  },
  {
   "cell_type": "code",
   "execution_count": 17,
   "id": "5c591267-387f-4511-bb1e-ce252ff43a8b",
   "metadata": {},
   "outputs": [],
   "source": [
    "dict2 = {'Sport': 'Cricket' , 'Teams': ['India', 'Australia', 'England', 'South Africa', 'Sri Lanka', 'New Zealand']}"
   ]
  },
  {
   "cell_type": "markdown",
   "id": "ac081107-ade2-49ab-8d40-eaff6c0f23ee",
   "metadata": {},
   "source": [
    "ANS"
   ]
  },
  {
   "cell_type": "markdown",
   "id": "2975a342-fb5b-4f9e-b020-702350bd8f6e",
   "metadata": {},
   "source": [
    "In Python, dictionaries have three view objects that provide a dynamic view of the dictionary's contents. These view objects are:\n",
    "\n",
    "dict.keys(): This method returns a view object that contains the keys of the dictionary. The view object behaves like a set, so you can perform set operations like union, intersection, and difference on the keys.\n",
    "\n",
    "dict.values(): This method returns a view object that contains the values of the dictionary. The view object behaves like a list, so you can access the values by index.\n",
    "\n",
    "dict.items(): This method returns a view object that contains the key-value pairs of the dictionary as tuples. The view object behaves like a set of tuples, so you can perform set operations on the key-value pairs."
   ]
  },
  {
   "cell_type": "code",
   "execution_count": 23,
   "id": "66a51ab1-e7c3-41fe-8e59-59830929cc73",
   "metadata": {},
   "outputs": [
    {
     "data": {
      "text/plain": [
       "dict_keys(['Sport', 'Teams'])"
      ]
     },
     "execution_count": 23,
     "metadata": {},
     "output_type": "execute_result"
    }
   ],
   "source": [
    "dict2.keys()"
   ]
  },
  {
   "cell_type": "code",
   "execution_count": 24,
   "id": "da632b2b-d033-4f29-845b-5c1131f67939",
   "metadata": {},
   "outputs": [
    {
     "data": {
      "text/plain": [
       "dict_values(['Cricket', ['India', 'Australia', 'England', 'South Africa', 'Sri Lanka', 'New Zealand']])"
      ]
     },
     "execution_count": 24,
     "metadata": {},
     "output_type": "execute_result"
    }
   ],
   "source": [
    "dict2.values()"
   ]
  },
  {
   "cell_type": "code",
   "execution_count": 25,
   "id": "d0404012-669e-4b9b-b1ab-468306e2d890",
   "metadata": {},
   "outputs": [
    {
     "data": {
      "text/plain": [
       "dict_items([('Sport', 'Cricket'), ('Teams', ['India', 'Australia', 'England', 'South Africa', 'Sri Lanka', 'New Zealand'])])"
      ]
     },
     "execution_count": 25,
     "metadata": {},
     "output_type": "execute_result"
    }
   ],
   "source": [
    "dict2.items()"
   ]
  },
  {
   "cell_type": "code",
   "execution_count": null,
   "id": "161fb0ab-81db-4daf-9ce8-38f6edf11f8b",
   "metadata": {},
   "outputs": [],
   "source": []
  },
  {
   "cell_type": "code",
   "execution_count": null,
   "id": "2cfecda7-a94b-4554-99a5-76967873bbab",
   "metadata": {},
   "outputs": [],
   "source": []
  },
  {
   "cell_type": "code",
   "execution_count": null,
   "id": "5733c250-bb43-49a8-84f3-7f2678094e32",
   "metadata": {},
   "outputs": [],
   "source": []
  },
  {
   "cell_type": "code",
   "execution_count": null,
   "id": "a1d5f1be-2064-4ca9-8da2-89d7d1ee4f61",
   "metadata": {},
   "outputs": [],
   "source": []
  },
  {
   "cell_type": "code",
   "execution_count": null,
   "id": "15db28df-b04e-4eb0-80c2-8f858d649a3f",
   "metadata": {},
   "outputs": [],
   "source": []
  },
  {
   "cell_type": "code",
   "execution_count": null,
   "id": "cf864539-a36f-406b-8f2a-61b8cd2c50af",
   "metadata": {},
   "outputs": [],
   "source": []
  },
  {
   "cell_type": "code",
   "execution_count": null,
   "id": "9a19d146-022c-454d-8571-e5cd6fc8b608",
   "metadata": {},
   "outputs": [],
   "source": []
  },
  {
   "cell_type": "code",
   "execution_count": null,
   "id": "91764741-486e-4c2c-b1fa-0603cf16d53f",
   "metadata": {},
   "outputs": [],
   "source": []
  },
  {
   "cell_type": "code",
   "execution_count": null,
   "id": "9a3199b4-7494-4855-ae19-6f72b2851c6e",
   "metadata": {},
   "outputs": [],
   "source": []
  },
  {
   "cell_type": "code",
   "execution_count": null,
   "id": "ca60177a-14e7-49bb-9e92-e7295d3cea68",
   "metadata": {},
   "outputs": [],
   "source": []
  },
  {
   "cell_type": "code",
   "execution_count": null,
   "id": "2cb32e1e-553b-4506-abc1-2fe0704fd279",
   "metadata": {},
   "outputs": [],
   "source": []
  },
  {
   "cell_type": "code",
   "execution_count": null,
   "id": "9c27cdd9-9224-412a-943f-d8aadb7e7eaf",
   "metadata": {},
   "outputs": [],
   "source": []
  },
  {
   "cell_type": "code",
   "execution_count": null,
   "id": "bc07f320-a1f7-43e3-8726-ad5ca6ab67e5",
   "metadata": {},
   "outputs": [],
   "source": []
  },
  {
   "cell_type": "code",
   "execution_count": null,
   "id": "597a71f2-6fa1-46cf-9a70-80c596594a39",
   "metadata": {},
   "outputs": [],
   "source": []
  },
  {
   "cell_type": "code",
   "execution_count": null,
   "id": "89120e10-ca70-47de-af86-f9257dd7eb01",
   "metadata": {},
   "outputs": [],
   "source": []
  },
  {
   "cell_type": "code",
   "execution_count": null,
   "id": "a7be8f24-6144-43db-a1ab-bed159558a3e",
   "metadata": {},
   "outputs": [],
   "source": []
  },
  {
   "cell_type": "code",
   "execution_count": null,
   "id": "4eb77bbb-23cb-4583-af0c-aaea360f37b3",
   "metadata": {},
   "outputs": [],
   "source": []
  }
 ],
 "metadata": {
  "kernelspec": {
   "display_name": "Python 3 (ipykernel)",
   "language": "python",
   "name": "python3"
  },
  "language_info": {
   "codemirror_mode": {
    "name": "ipython",
    "version": 3
   },
   "file_extension": ".py",
   "mimetype": "text/x-python",
   "name": "python",
   "nbconvert_exporter": "python",
   "pygments_lexer": "ipython3",
   "version": "3.10.8"
  }
 },
 "nbformat": 4,
 "nbformat_minor": 5
}

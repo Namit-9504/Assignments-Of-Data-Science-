{
 "cells": [
  {
   "cell_type": "markdown",
   "id": "7ae9ce74-d05a-4708-a05a-499736d3a0a9",
   "metadata": {},
   "source": [
    "# Part 1: Theoretical Queltions"
   ]
  },
  {
   "cell_type": "markdown",
   "id": "927ff55c-3c12-4bd9-bfec-1191ac7f5345",
   "metadata": {},
   "source": [
    "## Q1 What are the different data structures used in Tensorflow?. Give some examples."
   ]
  },
  {
   "cell_type": "markdown",
   "id": "6a559430-3e61-498d-a34f-ae62d8458231",
   "metadata": {},
   "source": [
    "TensorFlow is a popular open-source machine learning library developed by Google. It provides various data structures to work with data efficiently in the context of deep learning and other machine learning tasks. Here are some of the key data structures used in TensorFlow:\n",
    "\n",
    "1. **Tensors**: Tensors are multi-dimensional arrays that can represent data of different dimensions (scalars, vectors, matrices, etc.). They are the fundamental data structure in TensorFlow. You can think of them as the building blocks for constructing deep learning models.\n",
    "\n",
    "    Example:\n",
    "    ```python\n",
    "    import tensorflow as tf\n",
    "    tensor = tf.constant([1, 2, 3])\n",
    "    ```\n",
    "    \n",
    "    \n",
    "    \n",
    "\n",
    "2. **Variables**: Variables are tensors that can be modified during training. They are typically used to store model parameters that need to be updated through gradient descent or other optimization algorithms.\n",
    "\n",
    "    Example:\n",
    "    ```python\n",
    "    import tensorflow as tf\n",
    "    variable = tf.Variable([1, 2, 3])\n",
    "    ```\n",
    "\n",
    "\n",
    "\n",
    "3. **Constants**: Constants are tensors with values that don't change during execution. They are often used for fixed values in your computations.\n",
    "\n",
    "    Example:\n",
    "    ```python\n",
    "    import tensorflow as tf\n",
    "    constant = tf.constant(42)\n",
    "    ```\n",
    "\n",
    "\n",
    "\n",
    "4. **Placeholders (deprecated in TensorFlow 2.x)**: In older versions of TensorFlow (1.x), placeholders were used to feed data into a TensorFlow computation graph. They have been replaced by `tf.data` and `tf.keras.utils.get_file()` functions in TensorFlow 2.x for more flexibility and performance.\n",
    "\n",
    "\n",
    "\n",
    "5. **Sparse Tensors**: These are used to efficiently represent tensors with many default values. They are helpful when dealing with large, sparse data, such as text data or certain types of embeddings.\n",
    "\n",
    "    Example:\n",
    "    ```python\n",
    "    import tensorflow as tf\n",
    "    sparse_tensor = tf.sparse.SparseTensor(indices=[[0, 1], [1, 2]], values=[1, 2], dense_shape=[3, 3])\n",
    "    ```\n",
    "    \n",
    "    \n",
    "    \n",
    "\n",
    "6. **Ragged Tensors**: Ragged tensors represent data with varying lengths along one or more dimensions. They are useful for sequences of data with different lengths, like text sentences of varying lengths.\n",
    "\n",
    "    Example:\n",
    "    ```python\n",
    "    import tensorflow as tf\n",
    "    ragged_tensor = tf.ragged.constant([[1, 2, 3], [4, 5], [6]])\n",
    "    ```\n",
    "\n",
    "\n",
    "\n",
    "7. **Datasets**: TensorFlow provides the `tf.data.Dataset` API to represent input data pipelines efficiently. Datasets are used for reading, preprocessing, and batching data during training.\n",
    "\n",
    "    Example:\n",
    "    ```python\n",
    "    import tensorflow as tf\n",
    "    dataset = tf.data.Dataset.from_tensor_slices((x_train, y_train)).batch(batch_size)\n",
    "    ```\n",
    "\n",
    "These are some of the fundamental data structures used in TensorFlow. Depending on your specific use case and the version of TensorFlow you are using, you may encounter additional data structures and APIs for more specialized tasks."
   ]
  },
  {
   "cell_type": "markdown",
   "id": "fb94f0ca-27ea-4c8b-a56c-94cad8eb61bd",
   "metadata": {},
   "source": [
    "## Q2  How does the TensorFlow constant differ from a TensorFlow variable? Explain with an example."
   ]
  },
  {
   "cell_type": "markdown",
   "id": "1348549c-f886-478e-a2ed-c83e30213166",
   "metadata": {},
   "source": [
    "TensorFlow provides two fundamental data structures, constants and variables, each serving a different purpose in building and training machine learning models. Here's how they differ, along with examples:\n",
    "\n",
    "**TensorFlow Constant:**\n",
    "\n",
    "1. **Immutable**: A TensorFlow constant is a tensor with a fixed value that cannot be changed after creation. Once you define a constant, its value remains the same throughout the execution of your program.\n",
    "\n",
    "2. **Typical Use**: Constants are typically used for fixed values that don't need to be updated during training. For example, you might use constants to represent hyperparameters or static values in your model.\n",
    "\n",
    "3. **Example**:\n",
    "   ```python\n",
    "   import tensorflow as tf\n",
    "\n",
    "   # Creating a TensorFlow constant\n",
    "   constant_tensor = tf.constant([1, 2, 3])\n",
    "\n",
    "   # Attempting to modify the constant will result in an error\n",
    "   # constant_tensor.assign([4, 5, 6])  # This will raise an error\n",
    "   ```\n",
    "\n",
    "**TensorFlow Variable:**\n",
    "\n",
    "1. **Mutable**: A TensorFlow variable is a tensor that can be modified during the execution of a TensorFlow program. Variables are typically used to store and update the learnable parameters of a machine learning model during training.\n",
    "\n",
    "2. **Typical Use**: Variables are used to represent parameters that need to be updated through optimization algorithms like gradient descent. They are a fundamental part of training deep learning models.\n",
    "\n",
    "3. **Example**:\n",
    "   ```python\n",
    "   import tensorflow as tf\n",
    "\n",
    "   # Creating a TensorFlow variable\n",
    "   initial_values = tf.constant([1, 2, 3])\n",
    "   variable_tensor = tf.Variable(initial_values)\n",
    "\n",
    "   # Modifying the variable's value\n",
    "   variable_tensor.assign([4, 5, 6])\n",
    "\n",
    "   # Accessing the updated value\n",
    "   print(variable_tensor.numpy())  # This will print [4, 5, 6]\n",
    "   ```\n",
    "\n",
    "In summary, the main difference between TensorFlow constants and variables is their mutability. Constants are immutable, and their values remain fixed, while variables are mutable and are typically used for storing and updating parameters during training. Variables are essential for implementing machine learning algorithms as they allow the model to learn from data by adjusting their values iteratively through optimization techniques."
   ]
  },
  {
   "cell_type": "markdown",
   "id": "39048bd1-9601-4b7f-95f2-bc1e55f9c7d8",
   "metadata": {},
   "source": [
    "## Q3 Describe the process of matrix addition, multiplication, and elementDwise operations in TensorFlow."
   ]
  },
  {
   "cell_type": "markdown",
   "id": "922daf7e-3a34-47ce-9806-ec120f7c7dc9",
   "metadata": {},
   "source": [
    "In TensorFlow, you can perform matrix addition, multiplication, and element-wise operations using tensors, which are multi-dimensional arrays. Here's a brief overview of how these operations work in TensorFlow:\n",
    "\n",
    "1. **Matrix Addition:**\n",
    "\n",
    "   Matrix addition is straightforward in TensorFlow. You can use the `tf.add()` function to add two tensors of the same shape element-wise. The tensors must have the same dimensions for addition to be valid.\n",
    "\n",
    "   Example:\n",
    "   ```python\n",
    "   import tensorflow as tf\n",
    "\n",
    "   # Define two matrices\n",
    "   matrix1 = tf.constant([[1, 2], [3, 4]])\n",
    "   matrix2 = tf.constant([[5, 6], [7, 8]])\n",
    "\n",
    "   # Perform matrix addition\n",
    "   result = tf.add(matrix1, matrix2)\n",
    "\n",
    "   print(result.numpy())  # Output: [[6  8]\n",
    "                         #          [10 12]]\n",
    "   ```\n",
    "\n",
    "2. **Matrix Multiplication:**\n",
    "\n",
    "   Matrix multiplication can be performed using `tf.matmul()` or the `@` operator in TensorFlow. The key rule for matrix multiplication is that the number of columns in the first matrix must be equal to the number of rows in the second matrix.\n",
    "\n",
    "   Example:\n",
    "   ```python\n",
    "   import tensorflow as tf\n",
    "\n",
    "   # Define two matrices\n",
    "   matrix1 = tf.constant([[1, 2], [3, 4]])\n",
    "   matrix2 = tf.constant([[5, 6], [7, 8]])\n",
    "\n",
    "   # Perform matrix multiplication\n",
    "   result = tf.matmul(matrix1, matrix2)\n",
    "\n",
    "   # Alternatively, you can use the @ operator\n",
    "   # result = matrix1 @ matrix2\n",
    "\n",
    "   print(result.numpy())  # Output: [[19 22]\n",
    "                         #          [43 50]]\n",
    "   ```\n",
    "\n",
    "3. **Element-wise Operations:**\n",
    "\n",
    "   Element-wise operations are operations that apply a function or operator to corresponding elements of two tensors of the same shape. Common element-wise operations include addition, subtraction, multiplication, division, and more.\n",
    "\n",
    "   Example (element-wise multiplication):\n",
    "   ```python\n",
    "   import tensorflow as tf\n",
    "\n",
    "   # Define two tensors of the same shape\n",
    "   tensor1 = tf.constant([1, 2, 3])\n",
    "   tensor2 = tf.constant([4, 5, 6])\n",
    "\n",
    "   # Perform element-wise multiplication\n",
    "   result = tf.multiply(tensor1, tensor2)\n",
    "\n",
    "   print(result.numpy())  # Output: [ 4 10 18 ]\n",
    "   ```\n",
    "\n",
    "You can perform various other element-wise operations using TensorFlow's functions, such as `tf.add()`, `tf.subtract()`, `tf.multiply()`, and `tf.divide()`. These operations are commonly used in deep learning to apply activation functions, calculate gradients, and manipulate tensors in various ways during the construction and training of neural networks."
   ]
  },
  {
   "cell_type": "markdown",
   "id": "de64bf28-4f48-4367-8350-6b7117d9f2cf",
   "metadata": {},
   "source": [
    "# Part 2 : Practical Implementation\n"
   ]
  },
  {
   "cell_type": "markdown",
   "id": "adfd51c5-c7db-4a6f-8ff5-74ae378fb6a4",
   "metadata": {},
   "source": [
    "## Task 1: Creating and Manipulating Matrices"
   ]
  },
  {
   "cell_type": "markdown",
   "id": "b4dbefd4-d367-43fc-8da7-b98ba57ef3ba",
   "metadata": {},
   "source": [
    "### Q1 Create a normal matrix A with dimensions 2x2, using TensorFlow's random_normal function. Display the values of matrix A."
   ]
  },
  {
   "cell_type": "code",
   "execution_count": 7,
   "id": "babc2739-d550-4293-928e-bdc5ed588be8",
   "metadata": {},
   "outputs": [],
   "source": [
    "import tensorflow as tf\n",
    "import keras \n",
    "import warnings\n",
    "warnings.filterwarnings('ignore')"
   ]
  },
  {
   "cell_type": "code",
   "execution_count": 9,
   "id": "09eb4ff1-a302-4e00-ad7b-b11f8f2cd068",
   "metadata": {},
   "outputs": [
    {
     "name": "stdout",
     "output_type": "stream",
     "text": [
      "tf.Tensor(\n",
      "[[-0.9972431   0.07658315 -0.7657192 ]\n",
      " [ 0.16767868  0.30988738  1.5316368 ]\n",
      " [ 1.0279438   1.1410353  -0.16650687]], shape=(3, 3), dtype=float32)\n"
     ]
    }
   ],
   "source": [
    "matrix_A = tf.random.normal(shape=(3,3))\n",
    "print(matrix_A)"
   ]
  },
  {
   "cell_type": "markdown",
   "id": "d753fb0f-1083-4a65-98b7-08e5c95308c0",
   "metadata": {},
   "source": [
    "### Q2 Create a Gaussian matrix B with dimensions x, using TensorFlow's truncated_normal function. Display the values of matrix B."
   ]
  },
  {
   "cell_type": "code",
   "execution_count": 14,
   "id": "fc987780-bbe5-4d86-affd-11674c2afa1b",
   "metadata": {},
   "outputs": [
    {
     "name": "stdout",
     "output_type": "stream",
     "text": [
      "tf.Tensor(\n",
      "[[ 1.1095859  -1.2786194  -0.14233516 -0.78971905]\n",
      " [ 1.0293694   0.94857204  0.48043835  1.7049803 ]\n",
      " [ 0.42120314  0.30721283  0.5732003   0.18727495]\n",
      " [ 0.361877   -1.0728351  -0.76817745 -1.2357308 ]], shape=(4, 4), dtype=float32)\n"
     ]
    }
   ],
   "source": [
    "matrix_B = tf.random.truncated_normal(shape=(4,4))\n",
    "print(matrix_B)"
   ]
  },
  {
   "cell_type": "markdown",
   "id": "70221295-9987-49b4-9c99-34599046337e",
   "metadata": {},
   "source": [
    "### Q3 Create a matrix C with dimensions 2x2, where the values are drawn from a normal distribution with a mean of 2 and a standard deviation of 0.5, using TensorFlow's random.normal function. Display the values of matrix C."
   ]
  },
  {
   "cell_type": "code",
   "execution_count": 15,
   "id": "8f7ad3f2-02b6-43f3-9599-83e33d6af62c",
   "metadata": {},
   "outputs": [
    {
     "name": "stdout",
     "output_type": "stream",
     "text": [
      "tf.Tensor(\n",
      "[[3.7383046 2.617105 ]\n",
      " [2.270543  2.4716704]], shape=(2, 2), dtype=float32)\n"
     ]
    }
   ],
   "source": [
    "matrix_C = tf.random.normal(shape=(2,2),mean=3,stddev=0.5)\n",
    "print(matrix_C)"
   ]
  },
  {
   "cell_type": "markdown",
   "id": "03660aa5-4303-448c-b53f-b839dfe02d6b",
   "metadata": {},
   "source": [
    "### Q3 Perform matrix addition between matrix A and matrix B, and store the result in matrix D."
   ]
  },
  {
   "cell_type": "markdown",
   "id": "5550b37c-b8fb-4300-9b2d-b04dfe7363ea",
   "metadata": {},
   "source": [
    "Here the dimension of Maxtrix A And Matrix B is not similar so we cant add it if we want to add to similar shapes matrixes then we can add using function \"tf.add()\"\n",
    "\n",
    "matrix_D = tf.add(matrix_A,matrix_B)"
   ]
  },
  {
   "cell_type": "markdown",
   "id": "20c76895-bb47-4c92-8f99-38ebc791d0f9",
   "metadata": {},
   "source": [
    "### Q4 Perform matrix multiplication between matrix C and matrix D, and store the result in matrix E."
   ]
  },
  {
   "cell_type": "markdown",
   "id": "05db91a3-1e19-4167-b5ca-a1e193d382fc",
   "metadata": {},
   "source": [
    "matrix_E = tf.multiply(matrix_C,matrix_D)"
   ]
  },
  {
   "cell_type": "markdown",
   "id": "11208e85-6f35-4eff-839e-e792e7070e52",
   "metadata": {},
   "source": [
    "## Task 2: Performing Additional Matrix Operation."
   ]
  },
  {
   "cell_type": "markdown",
   "id": "4029260d-686a-49d3-9099-e36309e6ddeb",
   "metadata": {},
   "source": [
    "### Q1 Create a matrix F with dimensions 3x3, initialized with random values using TensorFlow's random_uniform function."
   ]
  },
  {
   "cell_type": "code",
   "execution_count": 20,
   "id": "fdaa0147-4f36-42bb-8ab0-906d62f30a72",
   "metadata": {},
   "outputs": [
    {
     "name": "stdout",
     "output_type": "stream",
     "text": [
      "tf.Tensor(\n",
      "[[0.46485054 0.01639354 0.34105742]\n",
      " [0.7764001  0.32765722 0.05486441]\n",
      " [0.5416709  0.66921675 0.36944258]], shape=(3, 3), dtype=float32)\n"
     ]
    }
   ],
   "source": [
    "matrix_F = tf.random.uniform(shape=(3,3))\n",
    "print(matrix_F)"
   ]
  },
  {
   "cell_type": "markdown",
   "id": "f8e21ecd-d26d-47f6-bbe6-3ae6eab67180",
   "metadata": {},
   "source": [
    "### Q2 Calculate the transpose of matrix F and store the result in matrix G."
   ]
  },
  {
   "cell_type": "code",
   "execution_count": 21,
   "id": "6521d07d-639f-4782-bcf3-80128ade567a",
   "metadata": {},
   "outputs": [
    {
     "name": "stdout",
     "output_type": "stream",
     "text": [
      "tf.Tensor(\n",
      "[[0.46485054 0.7764001  0.5416709 ]\n",
      " [0.01639354 0.32765722 0.66921675]\n",
      " [0.34105742 0.05486441 0.36944258]], shape=(3, 3), dtype=float32)\n"
     ]
    }
   ],
   "source": [
    "matrix_G = tf.transpose(matrix_F)\n",
    "print(matrix_G)"
   ]
  },
  {
   "cell_type": "markdown",
   "id": "8ddf1471-6c2e-4549-ad46-91e56faab965",
   "metadata": {},
   "source": [
    "### Q3 Calculate the element-wise exponential of matrix F and store the result in matrix H."
   ]
  },
  {
   "cell_type": "code",
   "execution_count": 22,
   "id": "099b3dfd-3c67-4178-8376-280a7e044971",
   "metadata": {},
   "outputs": [],
   "source": [
    "matrix_H = tf.exp(matrix_F)"
   ]
  },
  {
   "cell_type": "code",
   "execution_count": 23,
   "id": "24a65f66-0a69-400b-9094-92ad68694aa8",
   "metadata": {},
   "outputs": [
    {
     "name": "stdout",
     "output_type": "stream",
     "text": [
      "tf.Tensor(\n",
      "[[1.5917763 1.0165286 1.4064339]\n",
      " [2.1736333 1.3877132 1.0563973]\n",
      " [1.7188766 1.9527073 1.4469279]], shape=(3, 3), dtype=float32)\n"
     ]
    }
   ],
   "source": [
    "print(matrix_H)"
   ]
  },
  {
   "cell_type": "markdown",
   "id": "6dc1f618-cb63-4f31-a40f-881079f37107",
   "metadata": {},
   "source": [
    "### Q4 Create a matrix I by concatenating matrix F and matrix G horizontally."
   ]
  },
  {
   "cell_type": "code",
   "execution_count": 26,
   "id": "121d95b1-cff9-4b79-aa7c-98ed07159815",
   "metadata": {},
   "outputs": [
    {
     "name": "stdout",
     "output_type": "stream",
     "text": [
      "tf.Tensor(\n",
      "[[0.46485054 0.01639354 0.34105742 0.46485054 0.7764001  0.5416709 ]\n",
      " [0.7764001  0.32765722 0.05486441 0.01639354 0.32765722 0.66921675]\n",
      " [0.5416709  0.66921675 0.36944258 0.34105742 0.05486441 0.36944258]], shape=(3, 6), dtype=float32)\n"
     ]
    }
   ],
   "source": [
    "matrix_I = tf.concat([matrix_F,matrix_G],axis=1)\n",
    "print(matrix_I)"
   ]
  },
  {
   "cell_type": "markdown",
   "id": "162e1e48-373f-4e7b-a8ed-08238f8c55c1",
   "metadata": {},
   "source": [
    "### Q5 Create a matrix J by concatenating matrix F and matrix H vertically."
   ]
  },
  {
   "cell_type": "code",
   "execution_count": 28,
   "id": "97b882f0-5d7f-4886-8540-40eebd200527",
   "metadata": {},
   "outputs": [
    {
     "name": "stdout",
     "output_type": "stream",
     "text": [
      "tf.Tensor(\n",
      "[[0.46485054 0.01639354 0.34105742]\n",
      " [0.7764001  0.32765722 0.05486441]\n",
      " [0.5416709  0.66921675 0.36944258]\n",
      " [1.5917763  1.0165286  1.4064339 ]\n",
      " [2.1736333  1.3877132  1.0563973 ]\n",
      " [1.7188766  1.9527073  1.4469279 ]], shape=(6, 3), dtype=float32)\n"
     ]
    }
   ],
   "source": [
    "matrix_J = tf.concat([matrix_F,matrix_H],axis=0)\n",
    "print(matrix_J)"
   ]
  },
  {
   "cell_type": "code",
   "execution_count": null,
   "id": "cdc681a2-10d1-43d9-85a0-76c9e1229697",
   "metadata": {},
   "outputs": [],
   "source": []
  }
 ],
 "metadata": {
  "kernelspec": {
   "display_name": "Python 3 (ipykernel)",
   "language": "python",
   "name": "python3"
  },
  "language_info": {
   "codemirror_mode": {
    "name": "ipython",
    "version": 3
   },
   "file_extension": ".py",
   "mimetype": "text/x-python",
   "name": "python",
   "nbconvert_exporter": "python",
   "pygments_lexer": "ipython3",
   "version": "3.10.8"
  }
 },
 "nbformat": 4,
 "nbformat_minor": 5
}

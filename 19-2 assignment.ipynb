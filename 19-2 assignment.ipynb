{
 "cells": [
  {
   "cell_type": "markdown",
   "id": "be7049f2-633b-4eff-800f-a5173d69d9d0",
   "metadata": {},
   "source": [
    "### Q1. What is Flask Framework? What are the advantages of Flask Framework?"
   ]
  },
  {
   "cell_type": "markdown",
   "id": "dca5a1b6-4fe1-44ca-8a81-f0e1ecd4a5f1",
   "metadata": {},
   "source": [
    "Flask is a micro web framework written in Python. It is designed to be lightweight, flexible, and easy to use. Flask provides developers with a set of tools and libraries for building web applications, without imposing any particular way of doing things. This makes it a popular choice for developing small to medium-sized web applications.\n",
    "\n",
    "Some of the advantages of using Flask framework are:\n",
    "\n",
    "Lightweight and flexible: Flask is designed to be minimalistic and modular. It provides developers with only the bare essentials needed to build a web application, while allowing them to add additional functionality as needed.\n",
    "\n",
    "Easy to learn and use: Flask has a simple and intuitive API that is easy for developers to learn and use. It is also well documented, making it easy for developers to find answers to their questions.\n",
    "\n",
    "Built-in development server: Flask comes with a built-in development server that allows developers to quickly test and debug their applications without the need for a separate web server.\n",
    "\n",
    "Extensible: Flask can be extended with a wide range of third-party extensions, which can add additional functionality to the framework.\n",
    "\n",
    "Large community: Flask has a large and active community of developers, which means that there are a lot of resources and tools available to help developers build web applications with Flask.\n",
    "\n",
    "Support for testing: Flask provides built-in support for testing, which makes it easy for developers to write and run tests for their applications.\n",
    "\n",
    "Overall, Flask is a great choice for building web applications that require a simple and lightweight framework. Its flexibility and extensibility make it suitable for a wide range of use cases, from simple blogs and websites to more complex web applications.\n",
    "\n",
    "\n",
    "\n"
   ]
  },
  {
   "cell_type": "markdown",
   "id": "01a37efc-97b9-4e26-b40c-b63c59afd9a6",
   "metadata": {},
   "source": [
    "# Q2. Create a simple Flask application to display ‘Hello World!!’. Attach the screenshot of the output in Jupyter Notebook."
   ]
  },
  {
   "cell_type": "markdown",
   "id": "37923c3b-4a7c-4fa0-92a6-da2a2367598f",
   "metadata": {},
   "source": [
    "code ==\n",
    "from flask import Flask\n",
    "app = Flask(__name__)\n",
    "@app.route('/')\n",
    "def hello_world():\n",
    "    return \"Hello World\"\n",
    "if __name__ == \"__main__\" :\n",
    "    app.run(host=\"0.0.0.0\")"
   ]
  },
  {
   "cell_type": "markdown",
   "id": "ba4e9a2a-9773-4894-bbcc-25684a798302",
   "metadata": {},
   "source": [
    "<img src = \"hello world screen shot.png\"/>"
   ]
  },
  {
   "cell_type": "markdown",
   "id": "8d4631e0-b24c-4241-8e4d-6dc61598d354",
   "metadata": {},
   "source": [
    "## Q3. What is App routing in Flask? Why do we use app routes?"
   ]
  },
  {
   "cell_type": "markdown",
   "id": "229033fe-17cf-4cde-b9b2-fd528c6fc2a7",
   "metadata": {},
   "source": [
    "In Flask, app routing refers to the process of mapping URLs to view functions. When a user visits a specific URL, Flask matches that URL to a particular view function, which generates the appropriate response.\n",
    "\n",
    "App routing is an important part of building web applications with Flask. It allows developers to define the different pages and endpoints of their web application, and specify what should happen when a user visits each of those pages or endpoints. This is done using the @app.route() decorator, which is used to associate a URL pattern with a view function.\n",
    "\n",
    "For example, here is a simple Flask app that defines two routes:"
   ]
  },
  {
   "cell_type": "code",
   "execution_count": null,
   "id": "352fefa2-04e4-4ebc-8668-97e018680059",
   "metadata": {},
   "outputs": [],
   "source": [
    "from flask import Flask\n",
    "\n",
    "app = Flask(__name__)\n",
    "\n",
    "@app.route('/')\n",
    "def index():\n",
    "    return 'This is the homepage'\n",
    "\n",
    "@app.route('/about')\n",
    "def about():\n",
    "    return 'This is the about page'\n",
    "\n",
    "if __name__ == '__main__':\n",
    "    app.run()\n"
   ]
  },
  {
   "cell_type": "markdown",
   "id": "e13e4099-1623-4e70-8106-55a6688ae6ae",
   "metadata": {},
   "source": [
    "In this example, the @app.route('/') decorator is used to associate the root URL with the index() function, and the @app.route('/about') decorator is used to associate the /about URL with the about() function.\n",
    "\n",
    "App routing is important because it allows developers to create clean and organized URLs for their web applications, making it easier for users to navigate and understand the structure of the application. Additionally, it allows developers to separate the different parts of their application into smaller, more manageable functions, which can make the code easier to maintain and update over time."
   ]
  },
  {
   "cell_type": "markdown",
   "id": "d60ffcc5-8fdf-459c-a3ef-2438ac9a963f",
   "metadata": {},
   "source": [
    "# Q4. Create a “/welcome” route to display the welcome message “Welcome to ABC Corporation” and a “/”    route to show the following details:                                                                   Company Name: ABC Corporation                                                                        Location: India                                                                                        Contact Detail: 999-999-9999"
   ]
  },
  {
   "cell_type": "code",
   "execution_count": null,
   "id": "d870b44f-d342-4fee-a40a-50fd4906446c",
   "metadata": {},
   "outputs": [],
   "source": [
    "Code\n",
    "from flask import Flask\n",
    "app = Flask(__name__)\n",
    "@app.route(\"/wellcome\")\n",
    "def wellcome():\n",
    "    return \"Wellcome to ABC Corporation\"\n",
    "@app.route(\"/\")\n",
    "def details():\n",
    "    return \"Company Name = ABC Corporation /n Location = India /n Contact Deatils = 999-999-999\"\n",
    "if __name__ == \"__main__\":\n",
    "    app.run(host=\"0.0.0.0\")"
   ]
  },
  {
   "cell_type": "markdown",
   "id": "a1b3847f-81f3-4569-9544-0352791d5f93",
   "metadata": {},
   "source": [
    "<img src = \"1.png\"/>"
   ]
  },
  {
   "cell_type": "markdown",
   "id": "1709e791-4fc4-45d5-9ea1-3697686ee784",
   "metadata": {},
   "source": [
    "<img src = \"2.png\"/>"
   ]
  },
  {
   "cell_type": "markdown",
   "id": "1d7a5979-52d0-419b-9b63-5280addda959",
   "metadata": {},
   "source": [
    "# Q5. What function is used in Flask for URL Building? Write a Python code to demonstrate the working of the url_for() function."
   ]
  },
  {
   "cell_type": "markdown",
   "id": "9c44931e-05e7-41a9-b059-7c85808280a6",
   "metadata": {},
   "source": [
    "In Flask, the url_for() function is used for URL building. This function generates a URL to the specified endpoint, taking into account any arguments that are passed to it.\n",
    "\n",
    "Here's an example Python code to demonstrate the working of the url_for() function in Flask:"
   ]
  },
  {
   "cell_type": "code",
   "execution_count": null,
   "id": "9cc24931-ad5e-4bb0-b7e7-3f0c24c6aa9d",
   "metadata": {},
   "outputs": [],
   "source": [
    "from flask import Flask, url_for\n",
    "\n",
    "app = Flask(__name__)\n",
    "\n",
    "@app.route('/')\n",
    "def index():\n",
    "    return 'Welcome to my Flask app!'\n",
    "\n",
    "@app.route('/about')\n",
    "def about():\n",
    "    return 'This is the about page!'\n",
    "\n",
    "@app.route('/user/<username>')\n",
    "def user_profile(username):\n",
    "    return f'This is the profile page for {username}'\n",
    "\n",
    "with app.test_request_context():\n",
    "    print(url_for('index')) # Output: '/'\n",
    "    print(url_for('about')) # Output: '/about'\n",
    "    print(url_for('user_profile', username='JohnDoe')) # Output: '/user/JohnDoe'\n"
   ]
  },
  {
   "cell_type": "markdown",
   "id": "a9d5fd9b-c6af-419a-8ea0-7da73b49e983",
   "metadata": {},
   "source": [
    "In the above example, we have defined three routes - index, about, and user_profile. The url_for() function is used to generate URLs for each of these routes.\n",
    "\n",
    "When called with the argument 'index', url_for() returns '/', which is the URL for the index route. When called with the argument 'about', url_for() returns '/about', which is the URL for the about route.\n",
    "\n",
    "Finally, when called with the argument 'user_profile' and the username argument set to 'JohnDoe', url_for() returns '/user/JohnDoe', which is the URL for the user_profile route with the username parameter set to 'JohnDoe'.\n",
    "\n",
    "Note that the with app.test_request_context(): block is used to create a test request context for the url_for() function, which is required for it to work properly"
   ]
  },
  {
   "cell_type": "code",
   "execution_count": null,
   "id": "4af07ce3-b3a3-4004-94d0-6d3082f8d3b4",
   "metadata": {},
   "outputs": [],
   "source": []
  }
 ],
 "metadata": {
  "kernelspec": {
   "display_name": "Python 3 (ipykernel)",
   "language": "python",
   "name": "python3"
  },
  "language_info": {
   "codemirror_mode": {
    "name": "ipython",
    "version": 3
   },
   "file_extension": ".py",
   "mimetype": "text/x-python",
   "name": "python",
   "nbconvert_exporter": "python",
   "pygments_lexer": "ipython3",
   "version": "3.10.8"
  }
 },
 "nbformat": 4,
 "nbformat_minor": 5
}

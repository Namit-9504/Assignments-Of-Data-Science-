{
 "cells": [
  {
   "cell_type": "markdown",
   "id": "443568eb-3f4f-4f80-b0f5-5f87e7e0aabc",
   "metadata": {},
   "source": [
    "Q1"
   ]
  },
  {
   "cell_type": "code",
   "execution_count": null,
   "id": "619c1253-797a-463e-b7e2-2b6f8f86f6e5",
   "metadata": {},
   "outputs": [],
   "source": [
    "your_percentage=int(input(\"Enter your percentage\"))\n",
    "if your_percentage > 90:\n",
    "    print(\"You got a A grade\")\n",
    "elif your_percentage> 80 and your_percentage<= 90:\n",
    "    print(\"You got a B grade\")\n",
    "elif your_percentage>=60 and your_percentage<=80:\n",
    "    print(\"You got a C grade\")\n",
    "else:\n",
    "    print(\"You got a D grade\")"
   ]
  },
  {
   "cell_type": "markdown",
   "id": "23f912f7-dbe3-4be3-87a7-b4a875d340d6",
   "metadata": {},
   "source": [
    "Q2"
   ]
  },
  {
   "cell_type": "code",
   "execution_count": null,
   "id": "677dea82-2797-4416-b207-1a216f7cbb93",
   "metadata": {},
   "outputs": [],
   "source": [
    "cost_price=int(input(\"Enter Cost Of Bike\"))\n",
    "if cost_price > 100000:\n",
    "    print(\"your tax on bike is 15% which is \",cost_price*0.15)\n",
    "elif cost_price >50000 and cost_price<=100000:\n",
    "    print(\"your tax on bike is 10% which is \",cost_price*0.10)\n",
    "else:\n",
    "    print(\"your tax on bike is 5% which is \",cost_price*0.05)"
   ]
  },
  {
   "cell_type": "markdown",
   "id": "235db842-cf7f-4c9d-a7e8-b4c413889e95",
   "metadata": {},
   "source": [
    "Q3"
   ]
  },
  {
   "cell_type": "code",
   "execution_count": null,
   "id": "06906dad-e124-4724-9298-9ba480c3304d",
   "metadata": {},
   "outputs": [],
   "source": [
    "city_name=str(input(\"Enter your city name City must be delhi, jaipur,agra\"))\n",
    "if city_name=='delhi':\n",
    "    print(\"Monument of Delhi is Red Fort\")\n",
    "elif city_name=='agra':\n",
    "    print(\"Monument of agra is Taj Mahal\")\n",
    "elif city_name=='jaipur':\n",
    "    print(\"Monument of jaipur is Jal Mahal\")\n",
    "else:\n",
    "    print(\"Enter correct city name\")"
   ]
  },
  {
   "cell_type": "markdown",
   "id": "c2c6b3e3-a647-4e01-ab85-f8d6fe11ca9f",
   "metadata": {},
   "source": [
    "Q4"
   ]
  },
  {
   "cell_type": "code",
   "execution_count": null,
   "id": "250fbd4f-25de-4d6a-9abf-046fdbb384e0",
   "metadata": {},
   "outputs": [],
   "source": [
    "number=int(input(\"enter  the number\"))\n",
    "ans=number/3\n",
    "if ans>=10:\n",
    "    print(ans)\n",
    "else :\n",
    "    print(\"number is not divisible by 3 more than 10 times\")"
   ]
  },
  {
   "cell_type": "markdown",
   "id": "17567f79-e6f4-4387-822b-04b4140d92c3",
   "metadata": {},
   "source": [
    "Q5"
   ]
  },
  {
   "cell_type": "markdown",
   "id": "2531f41f-c585-4ec4-a769-97fd97b81b39",
   "metadata": {},
   "source": [
    "A while loop in Python is used to repeat a block of code as long as a certain condition is met. The loop continues to execute as long as the condition is True, and stops once the condition becomes False.\n",
    "\n",
    "Here's a simple example to illustrate the use of a while loop in Python:"
   ]
  },
  {
   "cell_type": "code",
   "execution_count": null,
   "id": "9a40bb63-1884-466c-988a-c533426d5157",
   "metadata": {},
   "outputs": [],
   "source": [
    "count = 1\n",
    "\n",
    "while count <= 5:\n",
    "    print(count)\n",
    "    count += 1\n"
   ]
  },
  {
   "cell_type": "markdown",
   "id": "d40030c1-80e1-4ff3-98e1-d3d7bc651e0c",
   "metadata": {},
   "source": [
    "This code prints the numbers from 1 to 5. The condition count <= 5 is checked before each iteration of the loop. If the condition is True, the loop body is executed, otherwise the loop is terminated. In this example, the value of count is incremented by 1 at the end of each iteration using the count += 1 statement, so the loop eventually terminates when count becomes greater than 5.\n",
    "\n",
    "The while loop is useful when you don't know the exact number of iterations that you need to perform ahead of time. For example, you can use a while loop to continuously prompt the user for input until they provide valid data.\n",
    "\n",
    "Here's an example:"
   ]
  },
  {
   "cell_type": "code",
   "execution_count": null,
   "id": "779471a0-91c7-4010-8300-e9ed5acfc8cd",
   "metadata": {},
   "outputs": [],
   "source": [
    "while True:\n",
    "    user_input = input(\"Enter a positive number: \")\n",
    "    if user_input.isdigit() and int(user_input) > 0:\n",
    "        break\n",
    "    else:\n",
    "        print(\"Invalid input. Please try again.\")\n"
   ]
  },
  {
   "cell_type": "markdown",
   "id": "2af18a2b-757a-4fe7-8e1d-b729a5a5d4b2",
   "metadata": {},
   "source": [
    "In this example, the while loop continues to run until the user provides a valid input, at which point the break statement is executed to exit the loop.\n",
    "\n",
    "It's important to note that if the condition in a while loop never becomes False, the loop will run forever, resulting in an infinite loop. To avoid this, you should make sure that the condition will eventually become False within a reasonable amount of time."
   ]
  },
  {
   "cell_type": "code",
   "execution_count": null,
   "id": "1024d713-5370-4a98-941d-4635f7f56fea",
   "metadata": {},
   "outputs": [],
   "source": []
  },
  {
   "cell_type": "markdown",
   "id": "8c08161d-d97b-4a95-9181-24136f0192ba",
   "metadata": {},
   "source": [
    "Q6"
   ]
  },
  {
   "cell_type": "markdown",
   "id": "046b99a6-1e25-46d1-bd2d-5767cfa18995",
   "metadata": {},
   "source": [
    "1.Triangle pattern:"
   ]
  },
  {
   "cell_type": "code",
   "execution_count": null,
   "id": "4dbc8776-8f1b-488c-9eab-1be75f163f22",
   "metadata": {},
   "outputs": [],
   "source": [
    "rows = int(input(\"Enter the number of rows: \"))\n",
    "\n",
    "count = 1\n",
    "while count <= rows:\n",
    "    inner_count = 1\n",
    "    while inner_count <= count:\n",
    "        print(\"*\", end=\"\")\n",
    "        inner_count += 1\n",
    "    print()\n",
    "    count += 1\n"
   ]
  },
  {
   "cell_type": "markdown",
   "id": "34f5ef62-b391-489a-942a-7fac204d907b",
   "metadata": {},
   "source": [
    "Q7"
   ]
  },
  {
   "cell_type": "code",
   "execution_count": null,
   "id": "682f5d60-821f-4765-813a-2c2c7b4d22f5",
   "metadata": {},
   "outputs": [],
   "source": [
    "count = 10\n",
    "while count >= 1:\n",
    "    print(count)\n",
    "    count -= 1"
   ]
  },
  {
   "cell_type": "markdown",
   "id": "4d1b62c4-d7e5-43c0-b936-56bd76ad30ad",
   "metadata": {},
   "source": [
    "Q8"
   ]
  },
  {
   "cell_type": "code",
   "execution_count": null,
   "id": "2d52d2eb-8a90-406e-a11b-13e2222e2ad5",
   "metadata": {},
   "outputs": [],
   "source": [
    "count = 10\n",
    "while count >= 1:\n",
    "    print(count)\n",
    "    count -= 1\n"
   ]
  },
  {
   "cell_type": "code",
   "execution_count": null,
   "id": "3ca3ad30-e709-4b90-85a3-a15e0de03c44",
   "metadata": {},
   "outputs": [],
   "source": []
  },
  {
   "cell_type": "code",
   "execution_count": null,
   "id": "3462800a-3661-4c69-abf1-44ce904c03e6",
   "metadata": {},
   "outputs": [],
   "source": []
  },
  {
   "cell_type": "code",
   "execution_count": null,
   "id": "087b84a7-620e-4c9f-9e2d-98f55ff39621",
   "metadata": {},
   "outputs": [],
   "source": []
  },
  {
   "cell_type": "code",
   "execution_count": null,
   "id": "adbf98d7-b1e0-4fd4-9d38-1c0d2a9ea1cf",
   "metadata": {},
   "outputs": [],
   "source": []
  },
  {
   "cell_type": "code",
   "execution_count": null,
   "id": "e48a608e-6200-4420-8869-727100781451",
   "metadata": {},
   "outputs": [],
   "source": []
  },
  {
   "cell_type": "code",
   "execution_count": null,
   "id": "be12a71c-928c-4f59-96b3-1e8b134f8485",
   "metadata": {},
   "outputs": [],
   "source": []
  },
  {
   "cell_type": "code",
   "execution_count": null,
   "id": "859f3588-90e6-44c3-9378-7c8faa22518f",
   "metadata": {},
   "outputs": [],
   "source": []
  }
 ],
 "metadata": {
  "kernelspec": {
   "display_name": "Python 3 (ipykernel)",
   "language": "python",
   "name": "python3"
  },
  "language_info": {
   "codemirror_mode": {
    "name": "ipython",
    "version": 3
   },
   "file_extension": ".py",
   "mimetype": "text/x-python",
   "name": "python",
   "nbconvert_exporter": "python",
   "pygments_lexer": "ipython3",
   "version": "3.10.8"
  }
 },
 "nbformat": 4,
 "nbformat_minor": 5
}

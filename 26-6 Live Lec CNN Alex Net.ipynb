{
 "cells": [
  {
   "cell_type": "markdown",
   "id": "90a25af5-f5cf-4888-a684-b4bf9298ae00",
   "metadata": {},
   "source": [
    "## Padding Concept "
   ]
  },
  {
   "cell_type": "markdown",
   "id": "e5c67c69-7e03-4c10-978f-8dca25e16525",
   "metadata": {},
   "source": [
    "## Lenet "
   ]
  },
  {
   "cell_type": "code",
   "execution_count": 1,
   "id": "8e2c14e9-058a-44f1-8127-211a355dd315",
   "metadata": {},
   "outputs": [
    {
     "name": "stderr",
     "output_type": "stream",
     "text": [
      "2023-10-02 03:00:54.665537: I tensorflow/tsl/cuda/cudart_stub.cc:28] Could not find cuda drivers on your machine, GPU will not be used.\n",
      "2023-10-02 03:00:55.205752: E tensorflow/compiler/xla/stream_executor/cuda/cuda_dnn.cc:9342] Unable to register cuDNN factory: Attempting to register factory for plugin cuDNN when one has already been registered\n",
      "2023-10-02 03:00:55.205813: E tensorflow/compiler/xla/stream_executor/cuda/cuda_fft.cc:609] Unable to register cuFFT factory: Attempting to register factory for plugin cuFFT when one has already been registered\n",
      "2023-10-02 03:00:55.208870: E tensorflow/compiler/xla/stream_executor/cuda/cuda_blas.cc:1518] Unable to register cuBLAS factory: Attempting to register factory for plugin cuBLAS when one has already been registered\n",
      "2023-10-02 03:00:55.525067: I tensorflow/tsl/cuda/cudart_stub.cc:28] Could not find cuda drivers on your machine, GPU will not be used.\n",
      "2023-10-02 03:00:55.527680: I tensorflow/core/platform/cpu_feature_guard.cc:182] This TensorFlow binary is optimized to use available CPU instructions in performance-critical operations.\n",
      "To enable the following instructions: AVX2 FMA, in other operations, rebuild TensorFlow with the appropriate compiler flags.\n",
      "2023-10-02 03:00:57.515374: W tensorflow/compiler/tf2tensorrt/utils/py_utils.cc:38] TF-TRT Warning: Could not find TensorRT\n"
     ]
    },
    {
     "name": "stdout",
     "output_type": "stream",
     "text": [
      "Model: \"sequential\"\n",
      "_________________________________________________________________\n",
      " Layer (type)                Output Shape              Param #   \n",
      "=================================================================\n",
      " conv2d (Conv2D)             (None, 28, 28, 6)         456       \n",
      "                                                                 \n",
      " average_pooling2d (Average  (None, 14, 14, 6)         0         \n",
      " Pooling2D)                                                      \n",
      "                                                                 \n",
      " conv2d_1 (Conv2D)           (None, 10, 10, 16)        2416      \n",
      "                                                                 \n",
      " average_pooling2d_1 (Avera  (None, 5, 5, 16)          0         \n",
      " gePooling2D)                                                    \n",
      "                                                                 \n",
      " flatten (Flatten)           (None, 400)               0         \n",
      "                                                                 \n",
      " dense (Dense)               (None, 120)               48120     \n",
      "                                                                 \n",
      " dense_1 (Dense)             (None, 84)                10164     \n",
      "                                                                 \n",
      " dense_2 (Dense)             (None, 10)                850       \n",
      "                                                                 \n",
      "=================================================================\n",
      "Total params: 62006 (242.21 KB)\n",
      "Trainable params: 62006 (242.21 KB)\n",
      "Non-trainable params: 0 (0.00 Byte)\n",
      "_________________________________________________________________\n"
     ]
    }
   ],
   "source": [
    "from tensorflow import keras\n",
    "from keras.datasets import cifar10\n",
    "from keras.layers import Conv2D, MaxPooling2D,AveragePooling2D\n",
    "from keras.layers import Dense, Flatten\n",
    "from keras.models import Sequential\n",
    "\n",
    "# Load the CIFAR-10 dataset\n",
    "(x_train, y_train), (x_test, y_test) = cifar10.load_data()\n",
    "\n",
    "# Normalize pixel values between 0 and 1\n",
    "x_train = x_train / 255.0\n",
    "x_test = x_test / 255.0\n",
    "\n",
    "# Convert labels to one-hot encoding\n",
    "y_train = keras.utils.to_categorical(y_train, 10)\n",
    "y_test = keras.utils.to_categorical(y_test, 10)\n",
    "\n",
    "\n",
    "# Building the Model Architecture\n",
    "\n",
    "model = Sequential()\n",
    "\n",
    "model.add(Conv2D(6, kernel_size = (5,5), padding = 'valid', activation='tanh', input_shape = (32,32,3)))\n",
    "model.add(AveragePooling2D(pool_size= (2,2), strides = 2, padding = 'valid'))\n",
    "\n",
    "model.add(Conv2D(16, kernel_size = (5,5), padding = 'valid', activation='tanh'))\n",
    "model.add(AveragePooling2D(pool_size= (2,2), strides = 2, padding = 'valid'))\n",
    "\n",
    "model.add(Flatten())\n",
    "\n",
    "model.add(Dense(120, activation='tanh'))\n",
    "model.add(Dense(84, activation='tanh'))\n",
    "model.add(Dense(10, activation='softmax'))\n",
    "\n",
    "model.summary()"
   ]
  },
  {
   "cell_type": "markdown",
   "id": "bfeacf9b-e064-4d3d-8133-3dbc277907b3",
   "metadata": {},
   "source": [
    "## Alex Net "
   ]
  },
  {
   "cell_type": "code",
   "execution_count": 14,
   "id": "26214ef5-216e-4b59-898e-367f8ab820df",
   "metadata": {},
   "outputs": [
    {
     "name": "stdout",
     "output_type": "stream",
     "text": [
      "Requirement already satisfied: tflearn in /opt/conda/lib/python3.10/site-packages (0.5.0)\n",
      "Requirement already satisfied: Pillow in /opt/conda/lib/python3.10/site-packages (from tflearn) (9.2.0)\n",
      "Requirement already satisfied: numpy in /opt/conda/lib/python3.10/site-packages (from tflearn) (1.23.5)\n",
      "Requirement already satisfied: six in /opt/conda/lib/python3.10/site-packages (from tflearn) (1.16.0)\n",
      "Note: you may need to restart the kernel to use updated packages.\n"
     ]
    }
   ],
   "source": [
    "pip install tflearn"
   ]
  },
  {
   "cell_type": "code",
   "execution_count": 41,
   "id": "a809cb7f-b277-4ea3-b097-4e74b88cf43e",
   "metadata": {},
   "outputs": [],
   "source": [
    "import tensorflow as tf\n",
    "from tensorflow import keras\n",
    "import keras\n",
    "from keras.models import Sequential\n",
    "from keras.layers import Dense, Activation, Dropout, Flatten, Conv2D, MaxPooling2D\n",
    "from tensorflow.keras.layers import BatchNormalization"
   ]
  },
  {
   "cell_type": "code",
   "execution_count": 33,
   "id": "927bc625-aea7-4c2c-90b3-48da1027dd27",
   "metadata": {},
   "outputs": [],
   "source": [
    "## we taking different dataset beacuse the oxflower17 dataset is unable to load"
   ]
  },
  {
   "cell_type": "code",
   "execution_count": 37,
   "id": "dbea2f48-7883-450a-b422-e55b2c40efed",
   "metadata": {},
   "outputs": [],
   "source": [
    "from keras.datasets import cifar100\n",
    "(X_train,y_train),(X_test,y_test)=cifar100.load_data()"
   ]
  },
  {
   "cell_type": "code",
   "execution_count": 38,
   "id": "03395608-1af5-448e-a2b0-07561a81a13c",
   "metadata": {},
   "outputs": [],
   "source": [
    "X_train = X_train.astype('float32')/255.0\n",
    "X_test = X_test.astype('float32')/255.0"
   ]
  },
  {
   "cell_type": "code",
   "execution_count": 39,
   "id": "b822d67e-8e9a-4eb3-b9f8-d95b7bf3fb4b",
   "metadata": {},
   "outputs": [],
   "source": [
    "from keras.utils import to_categorical\n",
    "y_train = to_categorical(y_train,num_classes=100)\n",
    "y_test = to_categorical(y_test,num_classes=100)"
   ]
  },
  {
   "cell_type": "code",
   "execution_count": 40,
   "id": "d0e2d321-78b7-4ac6-a93a-a5222da1033a",
   "metadata": {},
   "outputs": [
    {
     "name": "stdout",
     "output_type": "stream",
     "text": [
      "(50000, 32, 32, 3)\n",
      "(50000, 100)\n"
     ]
    }
   ],
   "source": [
    "print(X_train.shape)\n",
    "print(y_train.shape)"
   ]
  },
  {
   "cell_type": "code",
   "execution_count": 45,
   "id": "15e24230-c8e0-4d7f-aaf8-5a109569d38c",
   "metadata": {},
   "outputs": [
    {
     "name": "stdout",
     "output_type": "stream",
     "text": [
      "Model: \"sequential_4\"\n",
      "_________________________________________________________________\n",
      " Layer (type)                Output Shape              Param #   \n",
      "=================================================================\n",
      " conv2d_12 (Conv2D)          (None, 32, 32, 60)        4560      \n",
      "                                                                 \n",
      " max_pooling2d_10 (MaxPooli  (None, 16, 16, 60)        0         \n",
      " ng2D)                                                           \n",
      "                                                                 \n",
      " batch_normalization_13 (Ba  (None, 16, 16, 60)        240       \n",
      " tchNormalization)                                               \n",
      "                                                                 \n",
      " conv2d_13 (Conv2D)          (None, 16, 16, 120)       180120    \n",
      "                                                                 \n",
      " max_pooling2d_11 (MaxPooli  (None, 8, 8, 120)         0         \n",
      " ng2D)                                                           \n",
      "                                                                 \n",
      " batch_normalization_14 (Ba  (None, 8, 8, 120)         480       \n",
      " tchNormalization)                                               \n",
      "                                                                 \n",
      " conv2d_14 (Conv2D)          (None, 8, 8, 200)         600200    \n",
      "                                                                 \n",
      " max_pooling2d_12 (MaxPooli  (None, 4, 4, 200)         0         \n",
      " ng2D)                                                           \n",
      "                                                                 \n",
      " batch_normalization_15 (Ba  (None, 4, 4, 200)         800       \n",
      " tchNormalization)                                               \n",
      "                                                                 \n",
      " conv2d_15 (Conv2D)          (None, 4, 4, 200)         1000200   \n",
      "                                                                 \n",
      " max_pooling2d_13 (MaxPooli  (None, 2, 2, 200)         0         \n",
      " ng2D)                                                           \n",
      "                                                                 \n",
      " batch_normalization_16 (Ba  (None, 2, 2, 200)         800       \n",
      " tchNormalization)                                               \n",
      "                                                                 \n",
      " conv2d_16 (Conv2D)          (None, 2, 2, 200)         1000200   \n",
      "                                                                 \n",
      " max_pooling2d_14 (MaxPooli  (None, 1, 1, 200)         0         \n",
      " ng2D)                                                           \n",
      "                                                                 \n",
      " batch_normalization_17 (Ba  (None, 1, 1, 200)         800       \n",
      " tchNormalization)                                               \n",
      "                                                                 \n",
      " flatten_3 (Flatten)         (None, 200)               0         \n",
      "                                                                 \n",
      " dense_7 (Dense)             (None, 5000)              1005000   \n",
      "                                                                 \n",
      " dropout_3 (Dropout)         (None, 5000)              0         \n",
      "                                                                 \n",
      " batch_normalization_18 (Ba  (None, 5000)              20000     \n",
      " tchNormalization)                                               \n",
      "                                                                 \n",
      " dense_8 (Dense)             (None, 2500)              12502500  \n",
      "                                                                 \n",
      " dropout_4 (Dropout)         (None, 2500)              0         \n",
      "                                                                 \n",
      " batch_normalization_19 (Ba  (None, 2500)              10000     \n",
      " tchNormalization)                                               \n",
      "                                                                 \n",
      " dense_9 (Dense)             (None, 100)               250100    \n",
      "                                                                 \n",
      "=================================================================\n",
      "Total params: 16576000 (63.23 MB)\n",
      "Trainable params: 16559440 (63.17 MB)\n",
      "Non-trainable params: 16560 (64.69 KB)\n",
      "_________________________________________________________________\n"
     ]
    }
   ],
   "source": [
    "model = Sequential()\n",
    "\n",
    "model.add(Conv2D(60,kernel_size=(5,5),padding='same',input_shape=(32,32,3),activation='relu'))\n",
    "model.add(MaxPooling2D(pool_size=(2,2),strides=(2,2)))\n",
    "model.add(BatchNormalization())\n",
    "\n",
    "model.add(Conv2D(120,kernel_size=(5,5),padding='same',activation='relu'))\n",
    "model.add(MaxPooling2D(pool_size=(2,2),strides=(2,2)))\n",
    "model.add(BatchNormalization())\n",
    "\n",
    "\n",
    "model.add(Conv2D(200,kernel_size=(5,5),padding='same',activation='relu'))\n",
    "model.add(MaxPooling2D(pool_size=(2,2),strides=(2,2)))\n",
    "model.add(BatchNormalization())\n",
    "\n",
    "model.add(Conv2D(200,kernel_size=(5,5),padding='same',activation='relu'))\n",
    "model.add(MaxPooling2D(pool_size=(2,2),strides=(2,2)))\n",
    "model.add(BatchNormalization())\n",
    "\n",
    "model.add(Conv2D(200,kernel_size=(5,5),padding='same',activation='relu'))\n",
    "model.add(MaxPooling2D(pool_size=(2,2),strides=(2,2)))\n",
    "model.add(BatchNormalization())\n",
    "\n",
    "model.add(Flatten())\n",
    "\n",
    "model.add(Dense(5000,input_shape=(32,32,3),activation='relu'))\n",
    "model.add(Dropout(0.4))\n",
    "model.add(BatchNormalization())\n",
    "\n",
    "model.add(Dense(2500,activation='relu'))\n",
    "model.add(Dropout(0.4))\n",
    "model.add(BatchNormalization())\n",
    "\n",
    "model.add(Dense(100,activation='softmax'))\n",
    "\n",
    "model.summary()"
   ]
  },
  {
   "cell_type": "code",
   "execution_count": null,
   "id": "a8e720e0-8f84-4c17-a697-e8a1e3c671d9",
   "metadata": {},
   "outputs": [],
   "source": []
  }
 ],
 "metadata": {
  "kernelspec": {
   "display_name": "Python 3 (ipykernel)",
   "language": "python",
   "name": "python3"
  },
  "language_info": {
   "codemirror_mode": {
    "name": "ipython",
    "version": 3
   },
   "file_extension": ".py",
   "mimetype": "text/x-python",
   "name": "python",
   "nbconvert_exporter": "python",
   "pygments_lexer": "ipython3",
   "version": "3.10.8"
  }
 },
 "nbformat": 4,
 "nbformat_minor": 5
}

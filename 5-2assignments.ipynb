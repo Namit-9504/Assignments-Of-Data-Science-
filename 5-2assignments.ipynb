{
 "cells": [
  {
   "cell_type": "markdown",
   "id": "9f6d9a6c-98e6-4756-9a4b-914abfeb7a11",
   "metadata": {
    "jp-MarkdownHeadingCollapsed": true,
    "tags": []
   },
   "source": [
    "### Q1. Explain Class and Object with respect to Object-Oriented Programming. Give a suitable example."
   ]
  },
  {
   "cell_type": "markdown",
   "id": "6871668c-c67f-4721-b899-3c6edcaebae9",
   "metadata": {},
   "source": [
    "In Object-Oriented Programming (OOP), a class is a blueprint or a template for creating objects. It defines a set of attributes and methods that an object of that class can have. An object is an instance of a class. It is a runtime entity that has state (attributes or properties) and behavior (methods or functions). In simpler terms, a class is a template or a blueprint, and an object is an instance of that template or blueprint.\n",
    "\n",
    "Let's consider an example of a class called \"Car\". The Car class can have attributes such as \"make\", \"model\", \"year\", \"color\", \"price\", and methods such as \"start_engine()\", \"stop_engine()\", \"accelerate()\", \"brake()\", etc.\n",
    "\n",
    "To create an object of the Car class, we first need to instantiate the class, which means creating an instance of the class. We can do this by using the class name and the parentheses like this:"
   ]
  },
  {
   "cell_type": "code",
   "execution_count": 2,
   "id": "c53e85d0-e0d0-4009-98fc-651334eb627a",
   "metadata": {},
   "outputs": [],
   "source": [
    "class Car:\n",
    "    def __init__(self, make, model, year, color, price):\n",
    "        self.make = make\n",
    "        self.model = model\n",
    "        self.year = year\n",
    "        self.color = color\n",
    "        self.price = price\n",
    "    \n",
    "    def start_engine(self):\n",
    "        print(\"Engine started!\")\n",
    "    \n",
    "    def stop_engine(self):\n",
    "        print(\"Engine stopped!\")\n",
    "    \n",
    "    def accelerate(self):\n",
    "        print(\"Accelerating...\")\n",
    "    \n",
    "    def brake(self):\n",
    "        print(\"Braking...\")\n",
    "\n",
    "my_car = Car(\"Toyota\", \"Corolla\", 2022, \"Red\", 20000)\n"
   ]
  },
  {
   "cell_type": "markdown",
   "id": "2660cf45-029d-4196-bd3f-e8a505dd5c3b",
   "metadata": {},
   "source": [
    "In this example, we have created a Car class with attributes such as \"make\", \"model\", \"year\", \"color\", \"price\", and methods such as \"start_engine()\", \"stop_engine()\", \"accelerate()\", \"brake()\". We then created an object of the Car class called \"my_car\" and passed in values for its attributes.\n",
    "\n",
    "We can now access the attributes and methods of the \"my_car\" object like this:"
   ]
  },
  {
   "cell_type": "code",
   "execution_count": 3,
   "id": "ad423a97-eba3-4c01-ab6c-1049ef613a93",
   "metadata": {},
   "outputs": [
    {
     "name": "stdout",
     "output_type": "stream",
     "text": [
      "Toyota\n",
      "Engine started!\n",
      "Accelerating...\n"
     ]
    }
   ],
   "source": [
    "print(my_car.make)  \n",
    "my_car.start_engine()  \n",
    "my_car.accelerate()  "
   ]
  },
  {
   "cell_type": "markdown",
   "id": "991b1a96-fc0d-4dd1-b7a3-83278cf24bc6",
   "metadata": {
    "jp-MarkdownHeadingCollapsed": true,
    "tags": []
   },
   "source": [
    "### Q2. Name the four pillars of OOPs."
   ]
  },
  {
   "cell_type": "markdown",
   "id": "8181e352-734c-4b4a-93ce-ac362193be5d",
   "metadata": {},
   "source": [
    "Encapsulation: It is the technique of hiding the internal details of an object and providing access to                only the essential features of the object through a well-defined interface.\n",
    "\n",
    "Inheritance: It is the mechanism by which one class acquires the properties and behavior of another                  class. Inheritance allows you to create a new class that is a modified version of an                    existing class.\n",
    "\n",
    "Polymorphism: It is the ability of an object to take on many forms. Polymorphism allows objects of                   different classes to be treated as if they were objects of the same class.\n",
    "\n",
    "Abstraction: It is the process of representing complex real-world objects in a simplified way.                      Abstraction allows you to focus on the essential features of an object while ignoring its              non-essential details."
   ]
  },
  {
   "cell_type": "markdown",
   "id": "11a353a6-9347-4a7a-bd17-b6a78a8d9e03",
   "metadata": {
    "jp-MarkdownHeadingCollapsed": true,
    "tags": []
   },
   "source": [
    "### Q3. Explain why the __init__() function is used. Give a suitable example."
   ]
  },
  {
   "cell_type": "markdown",
   "id": "dded6772-f83c-4144-9d39-6739ad7ee6b3",
   "metadata": {},
   "source": [
    "In Object-Oriented Programming (OOP), the __init__() function is a special method that is called when an object of a class is created. It is used to initialize the attributes of the object with the values passed as arguments. The __init__() function is also known as a constructor because it constructs or initializes the object.\n",
    "\n",
    "Let's consider an example of a class called \"Person\". The Person class has attributes such as \"name\", \"age\", \"gender\", and methods such as \"walk()\", \"talk()\", etc. To create an object of the Person class, we need to initialize its attributes with values. We can do this by using the __init__() function."
   ]
  },
  {
   "cell_type": "code",
   "execution_count": null,
   "id": "846fa5b3-2986-4d97-8520-1da4d6d9ce82",
   "metadata": {},
   "outputs": [],
   "source": [
    "class Person:\n",
    "    def __init__(self, name, age, gender):\n",
    "        self.name = name\n",
    "        self.age = age\n",
    "        self.gender = gender\n",
    "    \n",
    "    def walk(self):\n",
    "        print(self.name, \"is walking...\")\n",
    "    \n",
    "    def talk(self):\n",
    "        print(self.name, \"is talking...\")\n",
    "\n",
    "person1 = Person(\"John\", 30, \"Male\")\n"
   ]
  },
  {
   "cell_type": "markdown",
   "id": "b451fcf8-e838-439f-be05-196f5b2bd953",
   "metadata": {},
   "source": [
    "In this example, we have created a Person class with attributes such as \"name\", \"age\", \"gender\", and methods such as \"walk()\", \"talk()\". We then created an object of the Person class called \"person1\" and passed in values for its attributes using the __init__() function.\n",
    "\n",
    "We can now access the attributes and methods of the \"person1\" object like this:"
   ]
  },
  {
   "cell_type": "code",
   "execution_count": 7,
   "id": "d78590f8-6e9c-4f39-be76-a52f9182816e",
   "metadata": {},
   "outputs": [
    {
     "name": "stdout",
     "output_type": "stream",
     "text": [
      "John\n",
      "John is walking...\n",
      "John is talking...\n"
     ]
    }
   ],
   "source": [
    "print(person1.name) \n",
    "person1.walk()  \n",
    "person1.talk()  \n"
   ]
  },
  {
   "cell_type": "markdown",
   "id": "0c43c92d-c68a-4a03-84b9-4da92330aa56",
   "metadata": {},
   "source": [
    "In summary, the __init__() function is used to initialize the attributes of an object with the values passed as arguments. It is called when an object of a class is created and is used to construct or initialize the object."
   ]
  },
  {
   "cell_type": "markdown",
   "id": "4d0b5f10-0866-45c3-bb27-c21b58053fff",
   "metadata": {
    "jp-MarkdownHeadingCollapsed": true,
    "tags": []
   },
   "source": [
    "### Q4. Why self is used in OOPs?"
   ]
  },
  {
   "cell_type": "markdown",
   "id": "8dc12020-eff7-415b-b4cb-32e06c0dcbf5",
   "metadata": {},
   "source": [
    "In Object-Oriented Programming (OOP), self is a special keyword that is used to refer to the instance or the object of a class. It is a reference to the memory location of the object, and it is used to access its attributes and methods.\n",
    "\n",
    "When a method is called on an object, the object itself is automatically passed as the first argument to the method. By convention, this first argument is called self. The self keyword is used to access the attributes and methods of the object from within the method.\n",
    "\n",
    "Let's consider an example of a class called \"Person\". The Person class has attributes such as \"name\", \"age\", \"gender\", and methods such as \"walk()\", \"talk()\", etc. To access the attributes and methods of an object of the Person class, we use the self keyword."
   ]
  },
  {
   "cell_type": "code",
   "execution_count": 8,
   "id": "6d30745a-4615-402c-a7b4-b671514e32f7",
   "metadata": {},
   "outputs": [
    {
     "name": "stdout",
     "output_type": "stream",
     "text": [
      "John is walking...\n",
      "John is talking...\n"
     ]
    }
   ],
   "source": [
    "class Person:\n",
    "    def __init__(self, name, age, gender):\n",
    "        self.name = name\n",
    "        self.age = age\n",
    "        self.gender = gender\n",
    "    \n",
    "    def walk(self):\n",
    "        print(self.name, \"is walking...\")\n",
    "    \n",
    "    def talk(self):\n",
    "        print(self.name, \"is talking...\")\n",
    "\n",
    "person1 = Person(\"John\", 30, \"Male\")\n",
    "person1.walk()\n",
    "person1.talk()\n"
   ]
  },
  {
   "cell_type": "markdown",
   "id": "be0bba9f-d754-4f13-99f0-ac8a6e7fbb44",
   "metadata": {},
   "source": [
    "In this example, we have created a Person class with attributes such as \"name\", \"age\", \"gender\", and methods such as \"walk()\", \"talk()\". We then created an object of the Person class called \"person1\" and passed in values for its attributes using the __init__() function.\n",
    "\n",
    "To access the attributes and methods of the \"person1\" object from within the methods of the Person class, we use the self keyword. For example, in the walk() method, we use self.name to access the \"name\" attribute of the object.\n",
    "\n",
    "In summary, the self keyword is used to refer to the instance or the object of a class. It is a reference to the memory location of the object, and it is used to access its attributes and methods from within the methods of the class."
   ]
  },
  {
   "cell_type": "markdown",
   "id": "4251ad14-25e0-4565-9a49-af3501be4801",
   "metadata": {
    "jp-MarkdownHeadingCollapsed": true,
    "tags": []
   },
   "source": [
    "### Q5. What is inheritance? Give an example for each type of inheritance."
   ]
  },
  {
   "cell_type": "markdown",
   "id": "4ab7ed7c-dc16-4135-b325-667f1e8403c9",
   "metadata": {},
   "source": [
    "Inheritance is a concept in Object-Oriented Programming (OOP) that allows a class to inherit properties and methods from another class. The class that inherits is called the derived class, while the class that is inherited from is called the base class. Inheritance allows for code reusability and helps to make code more modular.\n",
    "\n",
    "There are several types of inheritance in Python, including:\n",
    "\n",
    "Single Inheritance:\n",
    "Single inheritance is when a class inherits from a single base class. The derived class inherits all the properties and methods of the base class. Here's an example:"
   ]
  },
  {
   "cell_type": "code",
   "execution_count": 10,
   "id": "cf670a28-1a1f-4947-815d-5c2c78f95a7e",
   "metadata": {},
   "outputs": [
    {
     "name": "stdout",
     "output_type": "stream",
     "text": [
      "Buddy is speaking.\n",
      "Buddy is barking.\n"
     ]
    }
   ],
   "source": [
    "class Animal:\n",
    "    def __init__(self, name):\n",
    "        self.name = name\n",
    "    \n",
    "    def speak(self):\n",
    "        print(f\"{self.name} is speaking.\")\n",
    "\n",
    "class Dog(Animal):\n",
    "    def __init__(self, name, breed):\n",
    "        super().__init__(name)\n",
    "        self.breed = breed\n",
    "    \n",
    "    def bark(self):\n",
    "        print(f\"{self.name} is barking.\")\n",
    "\n",
    "dog = Dog(\"Buddy\", \"Labrador\")\n",
    "dog.speak()  \n",
    "dog.bark() \n"
   ]
  },
  {
   "cell_type": "markdown",
   "id": "c060d709-d540-4abe-8ab0-84bc6dcad399",
   "metadata": {},
   "source": [
    "In this example, we have a base class called \"Animal\" with a method called \"speak\". We then have a derived class called \"Dog\" that inherits from the Animal class and has an additional method called \"bark\". The Dog class overrides the __init__() method of the Animal class to add the breed attribute. The super() function is used to call the __init__() method of the base class.\n",
    "\n",
    "Multiple Inheritance:\n",
    "Multiple inheritance is when a class inherits from multiple base classes. The derived class inherits all the properties and methods of the base classes. Here's an example:"
   ]
  },
  {
   "cell_type": "code",
   "execution_count": 11,
   "id": "7398e89d-fa1f-4da3-858b-92c77ece257b",
   "metadata": {},
   "outputs": [
    {
     "name": "stdout",
     "output_type": "stream",
     "text": [
      "Prius is starting.\n",
      "Prius is driving.\n",
      "Prius is riding.\n"
     ]
    }
   ],
   "source": [
    "class Vehicle:\n",
    "    def __init__(self, name, color):\n",
    "        self.name = name\n",
    "        self.color = color\n",
    "    \n",
    "    def start(self):\n",
    "        print(f\"{self.name} is starting.\")\n",
    "\n",
    "class Car(Vehicle):\n",
    "    def drive(self):\n",
    "        print(f\"{self.name} is driving.\")\n",
    "\n",
    "class Bike(Vehicle):\n",
    "    def ride(self):\n",
    "        print(f\"{self.name} is riding.\")\n",
    "\n",
    "class Hybrid(Car, Bike):\n",
    "    pass\n",
    "\n",
    "hybrid = Hybrid(\"Prius\", \"Green\")\n",
    "hybrid.start()  \n",
    "hybrid.drive()  \n",
    "hybrid.ride()  \n"
   ]
  },
  {
   "cell_type": "markdown",
   "id": "1d643f6d-c42d-4653-b447-de87651f1605",
   "metadata": {},
   "source": [
    "In this example, we have a base class called \"Vehicle\" with a method called \"start\". We then have two derived classes called \"Car\" and \"Bike\" that inherit from the Vehicle class and have additional methods called \"drive\" and \"ride\", respectively. Finally, we have a derived class called \"Hybrid\" that inherits from both the Car and Bike classes. The Hybrid class does not define any new methods or attributes, but it inherits all the methods and attributes from both the Car and Bike classes.\n",
    "\n",
    "Hierarchical Inheritance:\n",
    "Hierarchical inheritance is when multiple derived classes inherit from a single base class. Here's an example:"
   ]
  },
  {
   "cell_type": "code",
   "execution_count": 12,
   "id": "e06a0764-cb9d-4731-a07e-d4010c9c34bb",
   "metadata": {},
   "outputs": [
    {
     "name": "stdout",
     "output_type": "stream",
     "text": [
      "Buddy is speaking.\n",
      "Buddy is barking.\n",
      "Kitty is speaking.\n"
     ]
    }
   ],
   "source": [
    "class Animal:\n",
    "    def __init__(self, name):\n",
    "        self.name = name\n",
    "    \n",
    "    def speak(self):\n",
    "        print(f\"{self.name} is speaking.\")\n",
    "\n",
    "class Dog(Animal):\n",
    "    def bark(self):\n",
    "        print(f\"{self.name} is barking.\")\n",
    "\n",
    "class Cat(Animal):\n",
    "    def meow(self):\n",
    "        print(f\"{self.name} is meowing.\")\n",
    "\n",
    "dog = Dog(\"Buddy\")\n",
    "cat = Cat(\"Kitty\")\n",
    "dog.speak()  \n",
    "dog.bark()  \n",
    "cat.speak()  \n"
   ]
  },
  {
   "cell_type": "code",
   "execution_count": null,
   "id": "48248cd3-6a78-42ee-ab6f-d739c7fc7321",
   "metadata": {},
   "outputs": [],
   "source": []
  }
 ],
 "metadata": {
  "kernelspec": {
   "display_name": "Python 3 (ipykernel)",
   "language": "python",
   "name": "python3"
  },
  "language_info": {
   "codemirror_mode": {
    "name": "ipython",
    "version": 3
   },
   "file_extension": ".py",
   "mimetype": "text/x-python",
   "name": "python",
   "nbconvert_exporter": "python",
   "pygments_lexer": "ipython3",
   "version": "3.10.8"
  }
 },
 "nbformat": 4,
 "nbformat_minor": 5
}

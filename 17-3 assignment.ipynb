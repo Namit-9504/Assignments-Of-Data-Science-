{
 "cells": [
  {
   "cell_type": "markdown",
   "id": "276b66b2-4d45-4ac4-b549-528ea71de8b5",
   "metadata": {},
   "source": [
    "## Q1: What are missing values in a dataset? Why is it essential to handle missing values? Name some algorithms that are not affected by missing values."
   ]
  },
  {
   "cell_type": "markdown",
   "id": "5d3c724c-bcdf-404e-b4e3-3e51e5698b2f",
   "metadata": {},
   "source": [
    "Missing values in a dataset refer to the absence of data for one or more variables or observations. This can occur for various reasons, such as data entry errors, equipment malfunction, or participants failing to provide information. Missing values can affect statistical analyses, leading to biased or incorrect results. It is essential to handle missing values because many machine learning algorithms fail if the dataset contains missing values2.\n",
    "\n",
    "However, some algorithms like K-nearest and Naive Bayes support data with missing values"
   ]
  },
  {
   "cell_type": "markdown",
   "id": "3e379de3-fdc0-4336-bc19-c1663f1fe1d9",
   "metadata": {
    "tags": []
   },
   "source": [
    "## Q2: List down techniques used to handle missing data. Give an example of each with python code."
   ]
  },
  {
   "cell_type": "markdown",
   "id": "30a18ebf-8439-478f-a01a-9c8dd6c56260",
   "metadata": {},
   "source": [
    "Following Techinques are used to handel missing values.\n",
    "1. Upscalling \n",
    "2. Downscalling\n",
    "3. Mean Imputation Technique \n",
    "4. Mode Imputation Technique\n",
    "5. Median Imputation Technique\n"
   ]
  },
  {
   "cell_type": "markdown",
   "id": "1d81f092-b989-4cc6-a5d5-bcb468d05e91",
   "metadata": {
    "tags": []
   },
   "source": [
    "### 1. Upscalling :- In this technique We increase the lower data upto the greater data. SMOTE is a one of the known or widely Used Upscallinng Technique"
   ]
  },
  {
   "cell_type": "code",
   "execution_count": 3,
   "id": "42df86d5-7828-4d0d-9eb4-5423e1d0cc7e",
   "metadata": {},
   "outputs": [
    {
     "data": {
      "text/html": [
       "<div>\n",
       "<style scoped>\n",
       "    .dataframe tbody tr th:only-of-type {\n",
       "        vertical-align: middle;\n",
       "    }\n",
       "\n",
       "    .dataframe tbody tr th {\n",
       "        vertical-align: top;\n",
       "    }\n",
       "\n",
       "    .dataframe thead th {\n",
       "        text-align: right;\n",
       "    }\n",
       "</style>\n",
       "<table border=\"1\" class=\"dataframe\">\n",
       "  <thead>\n",
       "    <tr style=\"text-align: right;\">\n",
       "      <th></th>\n",
       "      <th>F1</th>\n",
       "      <th>F2</th>\n",
       "      <th>target</th>\n",
       "    </tr>\n",
       "  </thead>\n",
       "  <tbody>\n",
       "    <tr>\n",
       "      <th>802</th>\n",
       "      <td>-0.527092</td>\n",
       "      <td>-0.204317</td>\n",
       "      <td>1</td>\n",
       "    </tr>\n",
       "    <tr>\n",
       "      <th>970</th>\n",
       "      <td>-1.715901</td>\n",
       "      <td>-1.548765</td>\n",
       "      <td>1</td>\n",
       "    </tr>\n",
       "    <tr>\n",
       "      <th>806</th>\n",
       "      <td>-1.451829</td>\n",
       "      <td>0.555489</td>\n",
       "      <td>1</td>\n",
       "    </tr>\n",
       "    <tr>\n",
       "      <th>771</th>\n",
       "      <td>0.876326</td>\n",
       "      <td>1.369212</td>\n",
       "      <td>1</td>\n",
       "    </tr>\n",
       "    <tr>\n",
       "      <th>888</th>\n",
       "      <td>1.252154</td>\n",
       "      <td>-0.116000</td>\n",
       "      <td>1</td>\n",
       "    </tr>\n",
       "    <tr>\n",
       "      <th>...</th>\n",
       "      <td>...</td>\n",
       "      <td>...</td>\n",
       "      <td>...</td>\n",
       "    </tr>\n",
       "    <tr>\n",
       "      <th>695</th>\n",
       "      <td>1.074465</td>\n",
       "      <td>2.271034</td>\n",
       "      <td>0</td>\n",
       "    </tr>\n",
       "    <tr>\n",
       "      <th>696</th>\n",
       "      <td>1.072630</td>\n",
       "      <td>-0.194144</td>\n",
       "      <td>0</td>\n",
       "    </tr>\n",
       "    <tr>\n",
       "      <th>697</th>\n",
       "      <td>-0.823285</td>\n",
       "      <td>-0.201216</td>\n",
       "      <td>0</td>\n",
       "    </tr>\n",
       "    <tr>\n",
       "      <th>698</th>\n",
       "      <td>0.805982</td>\n",
       "      <td>0.652305</td>\n",
       "      <td>0</td>\n",
       "    </tr>\n",
       "    <tr>\n",
       "      <th>699</th>\n",
       "      <td>0.952831</td>\n",
       "      <td>0.087212</td>\n",
       "      <td>0</td>\n",
       "    </tr>\n",
       "  </tbody>\n",
       "</table>\n",
       "<p>1400 rows × 3 columns</p>\n",
       "</div>"
      ],
      "text/plain": [
       "           F1        F2  target\n",
       "802 -0.527092 -0.204317       1\n",
       "970 -1.715901 -1.548765       1\n",
       "806 -1.451829  0.555489       1\n",
       "771  0.876326  1.369212       1\n",
       "888  1.252154 -0.116000       1\n",
       "..        ...       ...     ...\n",
       "695  1.074465  2.271034       0\n",
       "696  1.072630 -0.194144       0\n",
       "697 -0.823285 -0.201216       0\n",
       "698  0.805982  0.652305       0\n",
       "699  0.952831  0.087212       0\n",
       "\n",
       "[1400 rows x 3 columns]"
      ]
     },
     "execution_count": 3,
     "metadata": {},
     "output_type": "execute_result"
    }
   ],
   "source": [
    "import pandas as pd\n",
    "import numpy as np \n",
    "\n",
    "np.random.seed(123)\n",
    "\n",
    "total_count=1000\n",
    "scale_ratio=0.70\n",
    "class_0=int(scale_ratio*total_count)\n",
    "class_1=total_count-class_0\n",
    "\n",
    "\n",
    "\n",
    "n_class_0=pd.DataFrame({\n",
    "    'F1':np.random.normal(loc=0,scale=1,size=class_0),\n",
    "    'F2':np.random.normal(loc=0,scale=1,size=class_0),\n",
    "    'target':[0]*class_0\n",
    "})\n",
    "n_class_1=pd.DataFrame({\n",
    "    'F1':np.random.normal(loc=0,scale=1,size=class_1),\n",
    "    'F2':np.random.normal(loc=0,scale=1,size=class_1),\n",
    "    'target':[1]*class_1\n",
    "})\n",
    "\n",
    "df=pd.concat([n_class_0,n_class_1]).reset_index(drop=True)\n",
    "df['target'].value_counts()\n",
    "df_minority=df[df['target']==1]\n",
    "df_majority=df[df['target']==0]\n",
    "\n",
    "from sklearn.utils import resample\n",
    "df_minority_update=resample(df_minority,replace=True,n_samples=len(df_majority),random_state=42)\n",
    "\n",
    "\n",
    "upscalled=pd.concat([df_minority_update,df_majority])\n",
    "upscalled"
   ]
  },
  {
   "cell_type": "markdown",
   "id": "8bb39c75-3a9f-4ac7-a4fb-80231c77f662",
   "metadata": {
    "tags": []
   },
   "source": [
    "### 1.1 SMOTE :- In this method we are createing points in betwwen 2 existing points"
   ]
  },
  {
   "cell_type": "code",
   "execution_count": 22,
   "id": "d6427283-0ace-41d0-939e-c5b2605f1c61",
   "metadata": {},
   "outputs": [],
   "source": [
    "from sklearn.datasets import make_classification"
   ]
  },
  {
   "cell_type": "code",
   "execution_count": 23,
   "id": "8904b692-a214-472a-b1a5-00818a556114",
   "metadata": {},
   "outputs": [],
   "source": [
    "x,y=make_classification(n_samples=1000,n_redundant=0,n_features=2,weights=[0.70],n_clusters_per_class=1,\n",
    "                        random_state=12)"
   ]
  },
  {
   "cell_type": "code",
   "execution_count": 24,
   "id": "f6369978-60af-4f66-948d-03cc34b5db72",
   "metadata": {},
   "outputs": [],
   "source": [
    "import pandas as pd\n",
    "df1=pd.DataFrame(x,columns=['f1','f2'])\n",
    "df2=pd.DataFrame(y,columns=['target'])\n",
    "final_df=pd.concat([df1,df2],axis=1)"
   ]
  },
  {
   "cell_type": "code",
   "execution_count": 4,
   "id": "eb741981-d813-4484-bdb4-e42bb2213eaf",
   "metadata": {},
   "outputs": [
    {
     "data": {
      "text/html": [
       "<div>\n",
       "<style scoped>\n",
       "    .dataframe tbody tr th:only-of-type {\n",
       "        vertical-align: middle;\n",
       "    }\n",
       "\n",
       "    .dataframe tbody tr th {\n",
       "        vertical-align: top;\n",
       "    }\n",
       "\n",
       "    .dataframe thead th {\n",
       "        text-align: right;\n",
       "    }\n",
       "</style>\n",
       "<table border=\"1\" class=\"dataframe\">\n",
       "  <thead>\n",
       "    <tr style=\"text-align: right;\">\n",
       "      <th></th>\n",
       "      <th>f1</th>\n",
       "      <th>f2</th>\n",
       "      <th>target</th>\n",
       "    </tr>\n",
       "  </thead>\n",
       "  <tbody>\n",
       "    <tr>\n",
       "      <th>0</th>\n",
       "      <td>-1.267359</td>\n",
       "      <td>0.779033</td>\n",
       "      <td>1</td>\n",
       "    </tr>\n",
       "    <tr>\n",
       "      <th>1</th>\n",
       "      <td>-1.075436</td>\n",
       "      <td>-1.051162</td>\n",
       "      <td>0</td>\n",
       "    </tr>\n",
       "    <tr>\n",
       "      <th>2</th>\n",
       "      <td>-0.610115</td>\n",
       "      <td>-0.909802</td>\n",
       "      <td>0</td>\n",
       "    </tr>\n",
       "    <tr>\n",
       "      <th>3</th>\n",
       "      <td>-2.023284</td>\n",
       "      <td>-0.428945</td>\n",
       "      <td>1</td>\n",
       "    </tr>\n",
       "    <tr>\n",
       "      <th>4</th>\n",
       "      <td>-0.812921</td>\n",
       "      <td>-1.316206</td>\n",
       "      <td>0</td>\n",
       "    </tr>\n",
       "  </tbody>\n",
       "</table>\n",
       "</div>"
      ],
      "text/plain": [
       "         f1        f2  target\n",
       "0 -1.267359  0.779033       1\n",
       "1 -1.075436 -1.051162       0\n",
       "2 -0.610115 -0.909802       0\n",
       "3 -2.023284 -0.428945       1\n",
       "4 -0.812921 -1.316206       0"
      ]
     },
     "execution_count": 4,
     "metadata": {},
     "output_type": "execute_result"
    }
   ],
   "source": [
    "final_df.head()"
   ]
  },
  {
   "cell_type": "code",
   "execution_count": 5,
   "id": "b3d1d06b-fe87-40a5-b8ae-5e4ecadec94b",
   "metadata": {},
   "outputs": [
    {
     "data": {
      "text/plain": [
       "0    702\n",
       "1    298\n",
       "Name: target, dtype: int64"
      ]
     },
     "execution_count": 5,
     "metadata": {},
     "output_type": "execute_result"
    }
   ],
   "source": [
    "final_df['target'].value_counts()"
   ]
  },
  {
   "cell_type": "code",
   "execution_count": 6,
   "id": "6501ae4b-75c2-4823-ac4f-05558d2e7b50",
   "metadata": {},
   "outputs": [],
   "source": [
    "import  matplotlib.pyplot as plt"
   ]
  },
  {
   "cell_type": "code",
   "execution_count": 7,
   "id": "aaed0213-451d-4819-85f4-4cbf590a466f",
   "metadata": {},
   "outputs": [
    {
     "data": {
      "text/plain": [
       "<matplotlib.collections.PathCollection at 0x7f27a1b37760>"
      ]
     },
     "execution_count": 7,
     "metadata": {},
     "output_type": "execute_result"
    },
    {
     "data": {
      "image/png": "[encoded data removed]",
      "text/plain": [
       "<Figure size 640x480 with 1 Axes>"
      ]
     },
     "metadata": {},
     "output_type": "display_data"
    }
   ],
   "source": [
    "plt.scatter(final_df['f1'],final_df['f2'],c=final_df['target'])"
   ]
  },
  {
   "cell_type": "code",
   "execution_count": 8,
   "id": "3d45cf08-5c5f-4228-8a75-ed53c8bcba82",
   "metadata": {},
   "outputs": [
    {
     "name": "stdout",
     "output_type": "stream",
     "text": [
      "Requirement already satisfied: imblearn in /opt/conda/lib/python3.10/site-packages (0.0)\n",
      "Requirement already satisfied: imbalanced-learn in /opt/conda/lib/python3.10/site-packages (from imblearn) (0.11.0)\n",
      "Requirement already satisfied: numpy>=1.17.3 in /opt/conda/lib/python3.10/site-packages (from imbalanced-learn->imblearn) (1.23.5)\n",
      "Requirement already satisfied: threadpoolctl>=2.0.0 in /opt/conda/lib/python3.10/site-packages (from imbalanced-learn->imblearn) (3.1.0)\n",
      "Requirement already satisfied: scikit-learn>=1.0.2 in /opt/conda/lib/python3.10/site-packages (from imbalanced-learn->imblearn) (1.2.0)\n",
      "Requirement already satisfied: joblib>=1.1.1 in /opt/conda/lib/python3.10/site-packages (from imbalanced-learn->imblearn) (1.2.0)\n",
      "Requirement already satisfied: scipy>=1.5.0 in /opt/conda/lib/python3.10/site-packages (from imbalanced-learn->imblearn) (1.9.3)\n",
      "Note: you may need to restart the kernel to use updated packages.\n"
     ]
    }
   ],
   "source": [
    "pip install imblearn"
   ]
  },
  {
   "cell_type": "code",
   "execution_count": 9,
   "id": "f3398072-36e6-4100-ae37-00cfe1c7c5ae",
   "metadata": {},
   "outputs": [],
   "source": [
    "from imblearn.over_sampling import SMOTE"
   ]
  },
  {
   "cell_type": "code",
   "execution_count": 10,
   "id": "ed6076e0-e669-4a3f-be82-964bcb432e9e",
   "metadata": {},
   "outputs": [],
   "source": [
    "oversampling=SMOTE()"
   ]
  },
  {
   "cell_type": "code",
   "execution_count": 11,
   "id": "1c978268-a5f9-41c9-a7bf-93dd3cf379ef",
   "metadata": {},
   "outputs": [],
   "source": [
    "x,y=oversampling.fit_resample(final_df[['f1','f2']],final_df['target'])"
   ]
  },
  {
   "cell_type": "code",
   "execution_count": 12,
   "id": "dff61478-6c28-4b10-95ae-29dd24f6c11e",
   "metadata": {},
   "outputs": [
    {
     "data": {
      "text/plain": [
       "(1404, 2)"
      ]
     },
     "execution_count": 12,
     "metadata": {},
     "output_type": "execute_result"
    }
   ],
   "source": [
    "x.shape"
   ]
  },
  {
   "cell_type": "code",
   "execution_count": 13,
   "id": "0a3f8812-f601-4be3-9a23-8eabc59db144",
   "metadata": {},
   "outputs": [
    {
     "data": {
      "text/plain": [
       "(1404,)"
      ]
     },
     "execution_count": 13,
     "metadata": {},
     "output_type": "execute_result"
    }
   ],
   "source": [
    "y.shape"
   ]
  },
  {
   "cell_type": "code",
   "execution_count": 14,
   "id": "34630236-df71-4c06-a4a1-3948df271dde",
   "metadata": {},
   "outputs": [
    {
     "data": {
      "text/plain": [
       "702"
      ]
     },
     "execution_count": 14,
     "metadata": {},
     "output_type": "execute_result"
    }
   ],
   "source": [
    "len(y[y==0])"
   ]
  },
  {
   "cell_type": "code",
   "execution_count": 15,
   "id": "95bd21c1-70dc-48db-8b14-139a28605130",
   "metadata": {},
   "outputs": [],
   "source": [
    "df1=pd.DataFrame(x,columns=['f1','f2'])\n",
    "df2=pd.DataFrame(y,columns=['target'])\n",
    "oversample_df=pd.concat([df1,df2],axis=1)"
   ]
  },
  {
   "cell_type": "code",
   "execution_count": 16,
   "id": "4ebbdefe-6bd8-4f64-a363-116edd4f41d5",
   "metadata": {},
   "outputs": [
    {
     "data": {
      "text/plain": [
       "<matplotlib.collections.PathCollection at 0x7f27a180d510>"
      ]
     },
     "execution_count": 16,
     "metadata": {},
     "output_type": "execute_result"
    },
    {
     "data": {
      "image/png": "[encoded data removed]",
      "text/plain": [
       "<Figure size 640x480 with 1 Axes>"
      ]
     },
     "metadata": {},
     "output_type": "display_data"
    }
   ],
   "source": [
    "plt.scatter(oversample_df['f1'],oversample_df['f2'],c=oversample_df['target'])"
   ]
  },
  {
   "cell_type": "markdown",
   "id": "33abf86d-20d1-4eff-8c6c-91a461f4b412",
   "metadata": {
    "tags": []
   },
   "source": [
    "### Downsampling :- In this method we can reduce greater data "
   ]
  },
  {
   "cell_type": "code",
   "execution_count": 1,
   "id": "345a7232-eb06-49f9-b317-6000cbb8f400",
   "metadata": {},
   "outputs": [],
   "source": [
    "import numpy as np\n",
    "import pandas as pd\n",
    "total_count = 1000\n",
    "scale_ratio=0.90\n",
    "n_class_0=int(total_count*scale_ratio)\n",
    "n_class_1=total_count-n_class_0"
   ]
  },
  {
   "cell_type": "code",
   "execution_count": 2,
   "id": "2f8f9027-3e90-4b42-9047-4a84e691f892",
   "metadata": {},
   "outputs": [
    {
     "data": {
      "text/plain": [
       "(900, 100)"
      ]
     },
     "execution_count": 2,
     "metadata": {},
     "output_type": "execute_result"
    }
   ],
   "source": [
    "n_class_0,n_class_1"
   ]
  },
  {
   "cell_type": "code",
   "execution_count": 3,
   "id": "3fa52be1-a774-420e-95f0-93ac7afc386b",
   "metadata": {},
   "outputs": [],
   "source": [
    "class_0=pd.DataFrame({\n",
    "    'feature1':np.random.normal(loc=0,scale=1,size=n_class_0),\n",
    "    'feature2':np.random.normal(loc=0,scale=1,size=n_class_0),\n",
    "    'target':[0]*n_class_0\n",
    "})\n",
    "class_1=pd.DataFrame({\n",
    "    'feature1':np.random.normal(loc=0,scale=1,size=n_class_1),\n",
    "    'feature2':np.random.normal(loc=0,scale=1,size=n_class_1),\n",
    "    'target':[1]*n_class_1\n",
    "})"
   ]
  },
  {
   "cell_type": "code",
   "execution_count": 4,
   "id": "6ada311d-f2c9-45b6-8f3d-1fbe6b65daea",
   "metadata": {},
   "outputs": [],
   "source": [
    "final_df=pd.concat([class_0,class_1])"
   ]
  },
  {
   "cell_type": "code",
   "execution_count": 5,
   "id": "387063ee-d882-4460-a516-0cce6c707d40",
   "metadata": {},
   "outputs": [
    {
     "data": {
      "text/plain": [
       "0    900\n",
       "1    100\n",
       "Name: target, dtype: int64"
      ]
     },
     "execution_count": 5,
     "metadata": {},
     "output_type": "execute_result"
    }
   ],
   "source": [
    "final_df['target'].value_counts()"
   ]
  },
  {
   "cell_type": "code",
   "execution_count": 13,
   "id": "c5ab66cf-99be-43a4-90ba-b715dfd5dddc",
   "metadata": {},
   "outputs": [],
   "source": [
    "df_minority=final_df[final_df['target']==1]\n",
    "df_majority=final_df[final_df['target']==0]"
   ]
  },
  {
   "cell_type": "code",
   "execution_count": 14,
   "id": "9effafc5-9d7e-4efb-8243-2e2e4f632d49",
   "metadata": {},
   "outputs": [],
   "source": [
    "from sklearn.utils import resample"
   ]
  },
  {
   "cell_type": "code",
   "execution_count": 15,
   "id": "97a82b51-2bcf-49da-8946-444d62079ead",
   "metadata": {},
   "outputs": [],
   "source": [
    "df_majority_update = resample(df_majority,replace=False,n_samples=len(df_minority),random_state=125)"
   ]
  },
  {
   "cell_type": "code",
   "execution_count": 16,
   "id": "6c8c60f3-1865-4a02-99ed-a4008c0baa66",
   "metadata": {},
   "outputs": [
    {
     "data": {
      "text/plain": [
       "(100, 3)"
      ]
     },
     "execution_count": 16,
     "metadata": {},
     "output_type": "execute_result"
    }
   ],
   "source": [
    "df_majority_update.shape"
   ]
  },
  {
   "cell_type": "code",
   "execution_count": 17,
   "id": "53d996c4-15e0-4ee1-a896-ebd482fb043c",
   "metadata": {},
   "outputs": [],
   "source": [
    "downscalling=pd.concat([df_majority_update,df_minority])"
   ]
  },
  {
   "cell_type": "code",
   "execution_count": 18,
   "id": "eec2b8b9-4db7-4b20-921c-c356850ea5be",
   "metadata": {},
   "outputs": [
    {
     "data": {
      "text/plain": [
       "(200, 3)"
      ]
     },
     "execution_count": 18,
     "metadata": {},
     "output_type": "execute_result"
    }
   ],
   "source": [
    "downscalling.shape"
   ]
  },
  {
   "cell_type": "code",
   "execution_count": 19,
   "id": "75641a57-95de-4460-9bac-8f4ab05f58df",
   "metadata": {},
   "outputs": [
    {
     "data": {
      "text/plain": [
       "0    100\n",
       "1    100\n",
       "Name: target, dtype: int64"
      ]
     },
     "execution_count": 19,
     "metadata": {},
     "output_type": "execute_result"
    }
   ],
   "source": [
    "downscalling['target'].value_counts()"
   ]
  },
  {
   "cell_type": "markdown",
   "id": "c1ad3278-84b2-4fbd-92e4-137e29db67b3",
   "metadata": {
    "tags": []
   },
   "source": [
    "### Mean Imputation Technique"
   ]
  },
  {
   "cell_type": "code",
   "execution_count": 1,
   "id": "b9e56ac2-1881-44a4-83fc-6f9abff481cb",
   "metadata": {},
   "outputs": [],
   "source": [
    "import seaborn as sns\n",
    "df=sns.load_dataset('titanic')"
   ]
  },
  {
   "cell_type": "code",
   "execution_count": 2,
   "id": "b4df47ec-a6ee-4207-846c-356bed1a4b06",
   "metadata": {},
   "outputs": [
    {
     "data": {
      "text/html": [
       "<div>\n",
       "<style scoped>\n",
       "    .dataframe tbody tr th:only-of-type {\n",
       "        vertical-align: middle;\n",
       "    }\n",
       "\n",
       "    .dataframe tbody tr th {\n",
       "        vertical-align: top;\n",
       "    }\n",
       "\n",
       "    .dataframe thead th {\n",
       "        text-align: right;\n",
       "    }\n",
       "</style>\n",
       "<table border=\"1\" class=\"dataframe\">\n",
       "  <thead>\n",
       "    <tr style=\"text-align: right;\">\n",
       "      <th></th>\n",
       "      <th>survived</th>\n",
       "      <th>pclass</th>\n",
       "      <th>sex</th>\n",
       "      <th>age</th>\n",
       "      <th>sibsp</th>\n",
       "      <th>parch</th>\n",
       "      <th>fare</th>\n",
       "      <th>embarked</th>\n",
       "      <th>class</th>\n",
       "      <th>who</th>\n",
       "      <th>adult_male</th>\n",
       "      <th>deck</th>\n",
       "      <th>embark_town</th>\n",
       "      <th>alive</th>\n",
       "      <th>alone</th>\n",
       "    </tr>\n",
       "  </thead>\n",
       "  <tbody>\n",
       "    <tr>\n",
       "      <th>0</th>\n",
       "      <td>0</td>\n",
       "      <td>3</td>\n",
       "      <td>male</td>\n",
       "      <td>22.0</td>\n",
       "      <td>1</td>\n",
       "      <td>0</td>\n",
       "      <td>7.2500</td>\n",
       "      <td>S</td>\n",
       "      <td>Third</td>\n",
       "      <td>man</td>\n",
       "      <td>True</td>\n",
       "      <td>NaN</td>\n",
       "      <td>Southampton</td>\n",
       "      <td>no</td>\n",
       "      <td>False</td>\n",
       "    </tr>\n",
       "    <tr>\n",
       "      <th>1</th>\n",
       "      <td>1</td>\n",
       "      <td>1</td>\n",
       "      <td>female</td>\n",
       "      <td>38.0</td>\n",
       "      <td>1</td>\n",
       "      <td>0</td>\n",
       "      <td>71.2833</td>\n",
       "      <td>C</td>\n",
       "      <td>First</td>\n",
       "      <td>woman</td>\n",
       "      <td>False</td>\n",
       "      <td>C</td>\n",
       "      <td>Cherbourg</td>\n",
       "      <td>yes</td>\n",
       "      <td>False</td>\n",
       "    </tr>\n",
       "    <tr>\n",
       "      <th>2</th>\n",
       "      <td>1</td>\n",
       "      <td>3</td>\n",
       "      <td>female</td>\n",
       "      <td>26.0</td>\n",
       "      <td>0</td>\n",
       "      <td>0</td>\n",
       "      <td>7.9250</td>\n",
       "      <td>S</td>\n",
       "      <td>Third</td>\n",
       "      <td>woman</td>\n",
       "      <td>False</td>\n",
       "      <td>NaN</td>\n",
       "      <td>Southampton</td>\n",
       "      <td>yes</td>\n",
       "      <td>True</td>\n",
       "    </tr>\n",
       "    <tr>\n",
       "      <th>3</th>\n",
       "      <td>1</td>\n",
       "      <td>1</td>\n",
       "      <td>female</td>\n",
       "      <td>35.0</td>\n",
       "      <td>1</td>\n",
       "      <td>0</td>\n",
       "      <td>53.1000</td>\n",
       "      <td>S</td>\n",
       "      <td>First</td>\n",
       "      <td>woman</td>\n",
       "      <td>False</td>\n",
       "      <td>C</td>\n",
       "      <td>Southampton</td>\n",
       "      <td>yes</td>\n",
       "      <td>False</td>\n",
       "    </tr>\n",
       "    <tr>\n",
       "      <th>4</th>\n",
       "      <td>0</td>\n",
       "      <td>3</td>\n",
       "      <td>male</td>\n",
       "      <td>35.0</td>\n",
       "      <td>0</td>\n",
       "      <td>0</td>\n",
       "      <td>8.0500</td>\n",
       "      <td>S</td>\n",
       "      <td>Third</td>\n",
       "      <td>man</td>\n",
       "      <td>True</td>\n",
       "      <td>NaN</td>\n",
       "      <td>Southampton</td>\n",
       "      <td>no</td>\n",
       "      <td>True</td>\n",
       "    </tr>\n",
       "    <tr>\n",
       "      <th>...</th>\n",
       "      <td>...</td>\n",
       "      <td>...</td>\n",
       "      <td>...</td>\n",
       "      <td>...</td>\n",
       "      <td>...</td>\n",
       "      <td>...</td>\n",
       "      <td>...</td>\n",
       "      <td>...</td>\n",
       "      <td>...</td>\n",
       "      <td>...</td>\n",
       "      <td>...</td>\n",
       "      <td>...</td>\n",
       "      <td>...</td>\n",
       "      <td>...</td>\n",
       "      <td>...</td>\n",
       "    </tr>\n",
       "    <tr>\n",
       "      <th>886</th>\n",
       "      <td>0</td>\n",
       "      <td>2</td>\n",
       "      <td>male</td>\n",
       "      <td>27.0</td>\n",
       "      <td>0</td>\n",
       "      <td>0</td>\n",
       "      <td>13.0000</td>\n",
       "      <td>S</td>\n",
       "      <td>Second</td>\n",
       "      <td>man</td>\n",
       "      <td>True</td>\n",
       "      <td>NaN</td>\n",
       "      <td>Southampton</td>\n",
       "      <td>no</td>\n",
       "      <td>True</td>\n",
       "    </tr>\n",
       "    <tr>\n",
       "      <th>887</th>\n",
       "      <td>1</td>\n",
       "      <td>1</td>\n",
       "      <td>female</td>\n",
       "      <td>19.0</td>\n",
       "      <td>0</td>\n",
       "      <td>0</td>\n",
       "      <td>30.0000</td>\n",
       "      <td>S</td>\n",
       "      <td>First</td>\n",
       "      <td>woman</td>\n",
       "      <td>False</td>\n",
       "      <td>B</td>\n",
       "      <td>Southampton</td>\n",
       "      <td>yes</td>\n",
       "      <td>True</td>\n",
       "    </tr>\n",
       "    <tr>\n",
       "      <th>888</th>\n",
       "      <td>0</td>\n",
       "      <td>3</td>\n",
       "      <td>female</td>\n",
       "      <td>NaN</td>\n",
       "      <td>1</td>\n",
       "      <td>2</td>\n",
       "      <td>23.4500</td>\n",
       "      <td>S</td>\n",
       "      <td>Third</td>\n",
       "      <td>woman</td>\n",
       "      <td>False</td>\n",
       "      <td>NaN</td>\n",
       "      <td>Southampton</td>\n",
       "      <td>no</td>\n",
       "      <td>False</td>\n",
       "    </tr>\n",
       "    <tr>\n",
       "      <th>889</th>\n",
       "      <td>1</td>\n",
       "      <td>1</td>\n",
       "      <td>male</td>\n",
       "      <td>26.0</td>\n",
       "      <td>0</td>\n",
       "      <td>0</td>\n",
       "      <td>30.0000</td>\n",
       "      <td>C</td>\n",
       "      <td>First</td>\n",
       "      <td>man</td>\n",
       "      <td>True</td>\n",
       "      <td>C</td>\n",
       "      <td>Cherbourg</td>\n",
       "      <td>yes</td>\n",
       "      <td>True</td>\n",
       "    </tr>\n",
       "    <tr>\n",
       "      <th>890</th>\n",
       "      <td>0</td>\n",
       "      <td>3</td>\n",
       "      <td>male</td>\n",
       "      <td>32.0</td>\n",
       "      <td>0</td>\n",
       "      <td>0</td>\n",
       "      <td>7.7500</td>\n",
       "      <td>Q</td>\n",
       "      <td>Third</td>\n",
       "      <td>man</td>\n",
       "      <td>True</td>\n",
       "      <td>NaN</td>\n",
       "      <td>Queenstown</td>\n",
       "      <td>no</td>\n",
       "      <td>True</td>\n",
       "    </tr>\n",
       "  </tbody>\n",
       "</table>\n",
       "<p>891 rows × 15 columns</p>\n",
       "</div>"
      ],
      "text/plain": [
       "     survived  pclass     sex   age  sibsp  parch     fare embarked   class  \\\n",
       "0           0       3    male  22.0      1      0   7.2500        S   Third   \n",
       "1           1       1  female  38.0      1      0  71.2833        C   First   \n",
       "2           1       3  female  26.0      0      0   7.9250        S   Third   \n",
       "3           1       1  female  35.0      1      0  53.1000        S   First   \n",
       "4           0       3    male  35.0      0      0   8.0500        S   Third   \n",
       "..        ...     ...     ...   ...    ...    ...      ...      ...     ...   \n",
       "886         0       2    male  27.0      0      0  13.0000        S  Second   \n",
       "887         1       1  female  19.0      0      0  30.0000        S   First   \n",
       "888         0       3  female   NaN      1      2  23.4500        S   Third   \n",
       "889         1       1    male  26.0      0      0  30.0000        C   First   \n",
       "890         0       3    male  32.0      0      0   7.7500        Q   Third   \n",
       "\n",
       "       who  adult_male deck  embark_town alive  alone  \n",
       "0      man        True  NaN  Southampton    no  False  \n",
       "1    woman       False    C    Cherbourg   yes  False  \n",
       "2    woman       False  NaN  Southampton   yes   True  \n",
       "3    woman       False    C  Southampton   yes  False  \n",
       "4      man        True  NaN  Southampton    no   True  \n",
       "..     ...         ...  ...          ...   ...    ...  \n",
       "886    man        True  NaN  Southampton    no   True  \n",
       "887  woman       False    B  Southampton   yes   True  \n",
       "888  woman       False  NaN  Southampton    no  False  \n",
       "889    man        True    C    Cherbourg   yes   True  \n",
       "890    man        True  NaN   Queenstown    no   True  \n",
       "\n",
       "[891 rows x 15 columns]"
      ]
     },
     "execution_count": 2,
     "metadata": {},
     "output_type": "execute_result"
    }
   ],
   "source": [
    "df"
   ]
  },
  {
   "cell_type": "code",
   "execution_count": 3,
   "id": "ad6313c8-2fa3-4712-ad6a-408d88e9ca74",
   "metadata": {},
   "outputs": [
    {
     "data": {
      "text/plain": [
       "survived         0\n",
       "pclass           0\n",
       "sex              0\n",
       "age            177\n",
       "sibsp            0\n",
       "parch            0\n",
       "fare             0\n",
       "embarked         2\n",
       "class            0\n",
       "who              0\n",
       "adult_male       0\n",
       "deck           688\n",
       "embark_town      2\n",
       "alive            0\n",
       "alone            0\n",
       "dtype: int64"
      ]
     },
     "execution_count": 3,
     "metadata": {},
     "output_type": "execute_result"
    }
   ],
   "source": [
    "df.isnull().sum()"
   ]
  },
  {
   "cell_type": "code",
   "execution_count": 4,
   "id": "061335f4-b6c5-4f23-95e2-94a11e944644",
   "metadata": {},
   "outputs": [],
   "source": [
    "df['mean_age']=df['age'].fillna(df['age'].mean())"
   ]
  },
  {
   "cell_type": "code",
   "execution_count": 5,
   "id": "0d196e3c-55f4-4d10-9c21-420ca1c002ef",
   "metadata": {},
   "outputs": [
    {
     "data": {
      "text/html": [
       "<div>\n",
       "<style scoped>\n",
       "    .dataframe tbody tr th:only-of-type {\n",
       "        vertical-align: middle;\n",
       "    }\n",
       "\n",
       "    .dataframe tbody tr th {\n",
       "        vertical-align: top;\n",
       "    }\n",
       "\n",
       "    .dataframe thead th {\n",
       "        text-align: right;\n",
       "    }\n",
       "</style>\n",
       "<table border=\"1\" class=\"dataframe\">\n",
       "  <thead>\n",
       "    <tr style=\"text-align: right;\">\n",
       "      <th></th>\n",
       "      <th>mean_age</th>\n",
       "      <th>age</th>\n",
       "    </tr>\n",
       "  </thead>\n",
       "  <tbody>\n",
       "    <tr>\n",
       "      <th>0</th>\n",
       "      <td>22.000000</td>\n",
       "      <td>22.0</td>\n",
       "    </tr>\n",
       "    <tr>\n",
       "      <th>1</th>\n",
       "      <td>38.000000</td>\n",
       "      <td>38.0</td>\n",
       "    </tr>\n",
       "    <tr>\n",
       "      <th>2</th>\n",
       "      <td>26.000000</td>\n",
       "      <td>26.0</td>\n",
       "    </tr>\n",
       "    <tr>\n",
       "      <th>3</th>\n",
       "      <td>35.000000</td>\n",
       "      <td>35.0</td>\n",
       "    </tr>\n",
       "    <tr>\n",
       "      <th>4</th>\n",
       "      <td>35.000000</td>\n",
       "      <td>35.0</td>\n",
       "    </tr>\n",
       "    <tr>\n",
       "      <th>...</th>\n",
       "      <td>...</td>\n",
       "      <td>...</td>\n",
       "    </tr>\n",
       "    <tr>\n",
       "      <th>886</th>\n",
       "      <td>27.000000</td>\n",
       "      <td>27.0</td>\n",
       "    </tr>\n",
       "    <tr>\n",
       "      <th>887</th>\n",
       "      <td>19.000000</td>\n",
       "      <td>19.0</td>\n",
       "    </tr>\n",
       "    <tr>\n",
       "      <th>888</th>\n",
       "      <td>29.699118</td>\n",
       "      <td>NaN</td>\n",
       "    </tr>\n",
       "    <tr>\n",
       "      <th>889</th>\n",
       "      <td>26.000000</td>\n",
       "      <td>26.0</td>\n",
       "    </tr>\n",
       "    <tr>\n",
       "      <th>890</th>\n",
       "      <td>32.000000</td>\n",
       "      <td>32.0</td>\n",
       "    </tr>\n",
       "  </tbody>\n",
       "</table>\n",
       "<p>891 rows × 2 columns</p>\n",
       "</div>"
      ],
      "text/plain": [
       "      mean_age   age\n",
       "0    22.000000  22.0\n",
       "1    38.000000  38.0\n",
       "2    26.000000  26.0\n",
       "3    35.000000  35.0\n",
       "4    35.000000  35.0\n",
       "..         ...   ...\n",
       "886  27.000000  27.0\n",
       "887  19.000000  19.0\n",
       "888  29.699118   NaN\n",
       "889  26.000000  26.0\n",
       "890  32.000000  32.0\n",
       "\n",
       "[891 rows x 2 columns]"
      ]
     },
     "execution_count": 5,
     "metadata": {},
     "output_type": "execute_result"
    }
   ],
   "source": [
    "df[['mean_age','age']]"
   ]
  },
  {
   "cell_type": "markdown",
   "id": "e170474e-d8de-465d-84fb-ac958dd3abe9",
   "metadata": {
    "tags": []
   },
   "source": [
    "### Median Imputation Technique"
   ]
  },
  {
   "cell_type": "code",
   "execution_count": 6,
   "id": "6330a59d-ebc5-42cc-b80c-e4ffcd8d1b4d",
   "metadata": {},
   "outputs": [],
   "source": [
    "df['median_age']=df['age'].fillna(df['age'].median())"
   ]
  },
  {
   "cell_type": "code",
   "execution_count": 7,
   "id": "104f5166-d022-41f1-a1c3-9250db0287f2",
   "metadata": {},
   "outputs": [
    {
     "data": {
      "text/html": [
       "<div>\n",
       "<style scoped>\n",
       "    .dataframe tbody tr th:only-of-type {\n",
       "        vertical-align: middle;\n",
       "    }\n",
       "\n",
       "    .dataframe tbody tr th {\n",
       "        vertical-align: top;\n",
       "    }\n",
       "\n",
       "    .dataframe thead th {\n",
       "        text-align: right;\n",
       "    }\n",
       "</style>\n",
       "<table border=\"1\" class=\"dataframe\">\n",
       "  <thead>\n",
       "    <tr style=\"text-align: right;\">\n",
       "      <th></th>\n",
       "      <th>median_age</th>\n",
       "      <th>mean_age</th>\n",
       "      <th>age</th>\n",
       "    </tr>\n",
       "  </thead>\n",
       "  <tbody>\n",
       "    <tr>\n",
       "      <th>0</th>\n",
       "      <td>22.0</td>\n",
       "      <td>22.000000</td>\n",
       "      <td>22.0</td>\n",
       "    </tr>\n",
       "    <tr>\n",
       "      <th>1</th>\n",
       "      <td>38.0</td>\n",
       "      <td>38.000000</td>\n",
       "      <td>38.0</td>\n",
       "    </tr>\n",
       "    <tr>\n",
       "      <th>2</th>\n",
       "      <td>26.0</td>\n",
       "      <td>26.000000</td>\n",
       "      <td>26.0</td>\n",
       "    </tr>\n",
       "    <tr>\n",
       "      <th>3</th>\n",
       "      <td>35.0</td>\n",
       "      <td>35.000000</td>\n",
       "      <td>35.0</td>\n",
       "    </tr>\n",
       "    <tr>\n",
       "      <th>4</th>\n",
       "      <td>35.0</td>\n",
       "      <td>35.000000</td>\n",
       "      <td>35.0</td>\n",
       "    </tr>\n",
       "    <tr>\n",
       "      <th>...</th>\n",
       "      <td>...</td>\n",
       "      <td>...</td>\n",
       "      <td>...</td>\n",
       "    </tr>\n",
       "    <tr>\n",
       "      <th>886</th>\n",
       "      <td>27.0</td>\n",
       "      <td>27.000000</td>\n",
       "      <td>27.0</td>\n",
       "    </tr>\n",
       "    <tr>\n",
       "      <th>887</th>\n",
       "      <td>19.0</td>\n",
       "      <td>19.000000</td>\n",
       "      <td>19.0</td>\n",
       "    </tr>\n",
       "    <tr>\n",
       "      <th>888</th>\n",
       "      <td>28.0</td>\n",
       "      <td>29.699118</td>\n",
       "      <td>NaN</td>\n",
       "    </tr>\n",
       "    <tr>\n",
       "      <th>889</th>\n",
       "      <td>26.0</td>\n",
       "      <td>26.000000</td>\n",
       "      <td>26.0</td>\n",
       "    </tr>\n",
       "    <tr>\n",
       "      <th>890</th>\n",
       "      <td>32.0</td>\n",
       "      <td>32.000000</td>\n",
       "      <td>32.0</td>\n",
       "    </tr>\n",
       "  </tbody>\n",
       "</table>\n",
       "<p>891 rows × 3 columns</p>\n",
       "</div>"
      ],
      "text/plain": [
       "     median_age   mean_age   age\n",
       "0          22.0  22.000000  22.0\n",
       "1          38.0  38.000000  38.0\n",
       "2          26.0  26.000000  26.0\n",
       "3          35.0  35.000000  35.0\n",
       "4          35.0  35.000000  35.0\n",
       "..          ...        ...   ...\n",
       "886        27.0  27.000000  27.0\n",
       "887        19.0  19.000000  19.0\n",
       "888        28.0  29.699118   NaN\n",
       "889        26.0  26.000000  26.0\n",
       "890        32.0  32.000000  32.0\n",
       "\n",
       "[891 rows x 3 columns]"
      ]
     },
     "execution_count": 7,
     "metadata": {},
     "output_type": "execute_result"
    }
   ],
   "source": [
    "df[['median_age','mean_age','age']]"
   ]
  },
  {
   "cell_type": "markdown",
   "id": "1850216e-9d8a-44ad-b016-acbcb26dbf97",
   "metadata": {
    "tags": []
   },
   "source": [
    "### Mode Imputation Techinque"
   ]
  },
  {
   "cell_type": "code",
   "execution_count": 19,
   "id": "5e3e34be-443b-4903-99ac-e1401567ed41",
   "metadata": {},
   "outputs": [],
   "source": [
    "mode_value=df[df['deck'].notna()]['deck'].mode()[0]"
   ]
  },
  {
   "cell_type": "code",
   "execution_count": 20,
   "id": "d7010a83-3980-4a4f-8a77-8993e4d7f9e1",
   "metadata": {},
   "outputs": [],
   "source": [
    "df['mode_deck']=df['deck'].fillna(mode_value)"
   ]
  },
  {
   "cell_type": "code",
   "execution_count": 21,
   "id": "1c9a5041-73b7-4aca-9d2c-3406ec082da5",
   "metadata": {},
   "outputs": [
    {
     "data": {
      "text/html": [
       "<div>\n",
       "<style scoped>\n",
       "    .dataframe tbody tr th:only-of-type {\n",
       "        vertical-align: middle;\n",
       "    }\n",
       "\n",
       "    .dataframe tbody tr th {\n",
       "        vertical-align: top;\n",
       "    }\n",
       "\n",
       "    .dataframe thead th {\n",
       "        text-align: right;\n",
       "    }\n",
       "</style>\n",
       "<table border=\"1\" class=\"dataframe\">\n",
       "  <thead>\n",
       "    <tr style=\"text-align: right;\">\n",
       "      <th></th>\n",
       "      <th>mode_deck</th>\n",
       "      <th>deck</th>\n",
       "    </tr>\n",
       "  </thead>\n",
       "  <tbody>\n",
       "    <tr>\n",
       "      <th>0</th>\n",
       "      <td>C</td>\n",
       "      <td>NaN</td>\n",
       "    </tr>\n",
       "    <tr>\n",
       "      <th>1</th>\n",
       "      <td>C</td>\n",
       "      <td>C</td>\n",
       "    </tr>\n",
       "    <tr>\n",
       "      <th>2</th>\n",
       "      <td>C</td>\n",
       "      <td>NaN</td>\n",
       "    </tr>\n",
       "    <tr>\n",
       "      <th>3</th>\n",
       "      <td>C</td>\n",
       "      <td>C</td>\n",
       "    </tr>\n",
       "    <tr>\n",
       "      <th>4</th>\n",
       "      <td>C</td>\n",
       "      <td>NaN</td>\n",
       "    </tr>\n",
       "    <tr>\n",
       "      <th>...</th>\n",
       "      <td>...</td>\n",
       "      <td>...</td>\n",
       "    </tr>\n",
       "    <tr>\n",
       "      <th>886</th>\n",
       "      <td>C</td>\n",
       "      <td>NaN</td>\n",
       "    </tr>\n",
       "    <tr>\n",
       "      <th>887</th>\n",
       "      <td>B</td>\n",
       "      <td>B</td>\n",
       "    </tr>\n",
       "    <tr>\n",
       "      <th>888</th>\n",
       "      <td>C</td>\n",
       "      <td>NaN</td>\n",
       "    </tr>\n",
       "    <tr>\n",
       "      <th>889</th>\n",
       "      <td>C</td>\n",
       "      <td>C</td>\n",
       "    </tr>\n",
       "    <tr>\n",
       "      <th>890</th>\n",
       "      <td>C</td>\n",
       "      <td>NaN</td>\n",
       "    </tr>\n",
       "  </tbody>\n",
       "</table>\n",
       "<p>891 rows × 2 columns</p>\n",
       "</div>"
      ],
      "text/plain": [
       "    mode_deck deck\n",
       "0           C  NaN\n",
       "1           C    C\n",
       "2           C  NaN\n",
       "3           C    C\n",
       "4           C  NaN\n",
       "..        ...  ...\n",
       "886         C  NaN\n",
       "887         B    B\n",
       "888         C  NaN\n",
       "889         C    C\n",
       "890         C  NaN\n",
       "\n",
       "[891 rows x 2 columns]"
      ]
     },
     "execution_count": 21,
     "metadata": {},
     "output_type": "execute_result"
    }
   ],
   "source": [
    "df[['mode_deck','deck']]"
   ]
  },
  {
   "cell_type": "markdown",
   "id": "f5e89a49-dbf4-42cf-8327-5f37c44f3ec5",
   "metadata": {},
   "source": [
    "## Q3: Explain the imbalanced data. What will happen if imbalanced data is not handled?"
   ]
  },
  {
   "cell_type": "markdown",
   "id": "4101f2f3-eea3-45ba-b2f8-0ef04b4071eb",
   "metadata": {},
   "source": [
    "Imbalanced data is a dataset where the classes are not evenly distributed. This means that there are a much larger number of instances of one class than the other. This can be a problem for machine learning models, as they can become biased towards the majority class.\n",
    "\n",
    "For example, let's say we have a dataset of credit card transactions, and we want to build a model to predict whether a transaction is fraudulent. If the dataset is imbalanced, there will be many more instances of non-fraudulent transactions than fraudulent transactions. This means that the model is more likely to predict that a transaction is not fraudulent, even if it is actually fraudulent.\n",
    "\n",
    "There are a number of techniques that can be used to handle imbalanced data. These include:\n",
    "\n",
    "Oversampling: This involves creating more instances of the minority class. This can be done by duplicating existing instances or by generating new instances using synthetic data.\n",
    "Undersampling: This involves removing instances from the majority class. This can be done by randomly deleting instances or by using a technique called SMOTE (Synthetic Minority Oversampling Technique).\n",
    "Cost-sensitive learning: This involves assigning different costs to misclassifications of different classes. This means that the model will be penalized more for misclassifying instances of the minority class.\n",
    "If imbalanced data is not handled, the machine learning model is likely to be biased towards the majority class. This can lead to poor performance, especially for tasks where it is important to accurately classify the minority class.\n",
    "\n",
    "Here are some specific examples of what can happen if imbalanced data is not handled:\n",
    "\n",
    "A spam filter might not be able to accurately identify spam emails.\n",
    "A fraud detection system might not be able to accurately identify fraudulent transactions.\n",
    "A medical diagnosis system might not be able to accurately identify rare diseases.\n",
    "It is important to handle imbalanced data in order to ensure that machine learning models are accurate and reliable."
   ]
  },
  {
   "cell_type": "markdown",
   "id": "19ecc059-4db3-4c43-90ee-56f4ae74d836",
   "metadata": {},
   "source": [
    "## Q4: What are Up-sampling and Down-sampling? Explain with an example when up-sampling and down-sampling are required."
   ]
  },
  {
   "cell_type": "markdown",
   "id": "3c8605ab-4b53-4905-a477-5312776d8844",
   "metadata": {},
   "source": [
    "Upsampling and downsampling are two techniques used to manipulate the resolution of images or data. Upsampling increases the resolution of an image by adding new pixels, while downsampling reduces the resolution of an image by removing pixels.\n",
    "\n",
    "Upsampling is often used to improve the quality of images that have been downsampled. For example, if you have an image that has been resized to fit on a mobile phone screen, upsampling can be used to restore the original resolution of the image.\n",
    "\n",
    "Downsampling is often used to reduce the size of an image or data set. For example, if you have a large image that you want to store on a mobile device, downsampling can be used to reduce the size of the image without significantly impacting the quality.\n",
    "\n",
    "Here are some examples of when upsampling and downsampling are required:\n",
    "\n",
    "Upsampling:\n",
    "To improve the quality of an image that has been downsampled.\n",
    "To create a higher resolution image from a lower resolution image.\n",
    "To increase the size of an image to fit a specific display.\n",
    "Downsampling:\n",
    "To reduce the size of an image or data set.\n",
    "To improve the performance of a machine learning algorithm.\n",
    "To reduce the amount of storage space required for an image or data set.\n",
    "Here is an example of how upsampling and downsampling can be used in machine learning:\n",
    "\n",
    "Let's say you are building a machine learning model to classify images of cats and dogs. You have a dataset of images that is evenly balanced between cats and dogs. However, the images of cats are all very small, while the images of dogs are all very large. This means that the machine learning model is more likely to correctly classify images of dogs than images of cats.\n",
    "\n",
    "To address this imbalance, you can use upsampling to increase the size of the images of cats. This will make the images of cats more similar in size to the images of dogs, which will help the machine learning model to learn to classify both types of images more accurately.\n",
    "\n",
    "On the other hand, if you are building a machine learning model to detect fraud in credit card transactions, you may want to use downsampling to reduce the size of your dataset. This is because fraud transactions are very rare, so your dataset may be very large. Downsampling will help you to reduce the size of your dataset without significantly impacting the performance of your machine learning model."
   ]
  },
  {
   "cell_type": "markdown",
   "id": "8b633d34-bdf8-4049-9f99-00648e09c2f8",
   "metadata": {},
   "source": [
    "## Q5: What is data Augmentation? Explain SMOTE."
   ]
  },
  {
   "cell_type": "markdown",
   "id": "a2131a1e-0670-4b67-95de-8414e1edc6d2",
   "metadata": {},
   "source": [
    "Data augmentation is a technique of artificially increasing the training set by creating modified copies of a dataset using existing data. This can be done for a variety of reasons, such as to improve the performance of machine learning models, to make the dataset more representative of the real world, or to simply make the dataset more interesting to work with.\n",
    "\n",
    "There are many different ways to perform data augmentation. Some common techniques include:\n",
    "\n",
    "Geometric transformations: This involves randomly flipping, rotating, or translating images.\n",
    "Color space transformations: This involves changing the RGB color channels, intensifying any color, or applying filters.\n",
    "Noise addition: This involves adding random noise to images or data.\n",
    "Feature combination: This involves combining different features to create new features.\n",
    "SMOTE (Synthetic Minority Oversampling Technique) is a specific type of data augmentation that is used to deal with imbalanced datasets. Imbalanced datasets are datasets where there are a much larger number of instances of one class than the other. This can be a problem for machine learning models, as they can become biased towards the majority class.\n",
    "\n",
    "SMOTE works by creating synthetic instances of the minority class. This is done by randomly selecting a minority class instance and then creating new instances that are located between the selected instance and its k nearest neighbors. The value of k is a parameter that controls the number of synthetic instances that are created.\n",
    "\n",
    "SMOTE is a very effective technique for dealing with imbalanced datasets. It has been shown to improve the performance of machine learning models on a variety of tasks.\n",
    "\n",
    "Here are some of the benefits of using data augmentation:\n",
    "\n",
    "Improved model performance: Data augmentation can help to improve the performance of machine learning models by making the training set more representative of the real world. This is especially important for tasks where the data is imbalanced.\n",
    "More representative dataset: Data augmentation can help to make the dataset more representative of the real world by adding more variation to the data. This can help to improve the generalization performance of the model.\n",
    "More interesting dataset: Data augmentation can make the dataset more interesting to work with by adding more variation to the data. This can help to make the data more challenging and engaging to work with.\n",
    "Here are some of the limitations of using data augmentation:\n",
    "\n",
    "Increased training time: Data augmentation can increase the training time of machine learning models. This is because the model needs to be trained on a larger dataset.\n",
    "Overfitting: Data augmentation can lead to overfitting if the model is not properly regularized. This is because the model is being trained on a larger dataset, which can make it more likely to memorize the training data.\n",
    "Overall, data augmentation is a powerful technique that can be used to improve the performance of machine learning models. However, it is important to be aware of the limitations of data augmentation and to use it in a way that does not lead to overfitting."
   ]
  },
  {
   "cell_type": "markdown",
   "id": "0f5826d6-6f2c-4486-96ed-1f16c629b226",
   "metadata": {},
   "source": [
    "## Q6: What are outliers in a dataset? Why is it essential to handle outliers?"
   ]
  },
  {
   "cell_type": "markdown",
   "id": "d8945254-7fc5-466f-ba41-bb57950bdab7",
   "metadata": {},
   "source": [
    "\n",
    "Outliers are data points that are significantly different from the rest of the data in a dataset. They can be caused by a variety of factors, such as measurement errors, data entry errors, or genuine anomalies.\n",
    "\n",
    "Outliers can have a significant impact on the results of statistical analysis. For example, if an outlier is present in a dataset, it can skew the mean and standard deviation of the dataset. This can make it difficult to identify patterns in the data and to make accurate predictions.\n",
    "\n",
    "It is important to handle outliers in a dataset in order to ensure that the results of statistical analysis are accurate. There are a number of different ways to handle outliers, including:\n",
    "\n",
    "Identifying and removing outliers: This is the most common approach to handling outliers. Outliers can be identified using a variety of methods, such as the z-score method, the interquartile range (IQR) method, and the Grubbs test. Once outliers have been identified, they can be removed from the dataset.\n",
    "Imputing outliers: This involves replacing outliers with estimated values. This can be done using a variety of methods, such as the mean imputation method, the median imputation method, and the k-nearest neighbors imputation method.\n",
    "Modeling outliers: This involves modeling the outliers as a separate group from the rest of the data. This can be done using a variety of methods, such as the mixture model method and the robust regression method.\n",
    "The best approach to handling outliers will depend on the specific dataset and the statistical analysis that is being performed. However, it is important to handle outliers in order to ensure that the results of statistical analysis are accurate.\n",
    "\n",
    "Here are some of the reasons why it is essential to handle outliers:\n",
    "\n",
    "Outliers can skew the results of statistical analysis: Outliers can have a significant impact on the mean and standard deviation of a dataset. This can make it difficult to identify patterns in the data and to make accurate predictions.\n",
    "Outliers can mislead the analyst: Outliers can be misleading to the analyst, as they can appear to be genuine data points when they are actually errors or anomalies. This can lead to incorrect conclusions being drawn from the data.\n",
    "Outliers can affect the performance of machine learning models: Outliers can affect the performance of machine learning models, as they can cause the models to learn incorrect patterns in the data. This can lead to the models making inaccurate predictions.\n",
    "Overall, it is important to handle outliers in a dataset in order to ensure that the results of statistical analysis are accurate and that the models are not misled by the outliers."
   ]
  },
  {
   "cell_type": "markdown",
   "id": "a9611752-7331-4015-9fc8-dcdc47122f60",
   "metadata": {},
   "source": [
    "## Q7: You are working on a project that requires analyzing customer data. However, you notice that some of the data is missing. What are some techniques you can use to handle the missing data in your analysis?"
   ]
  },
  {
   "cell_type": "markdown",
   "id": "8eba57a6-72c3-486e-8d63-e9a190f5141a",
   "metadata": {},
   "source": [
    "#### Data Interpolation\n",
    "Data interpolation is the process of estimating unknown values within a dataset based on the known values. In Python, there are various libraries available that can be used for data interpolation, such as NumPy, SciPy, and Pandas. Here is an example of how to perform data interpolation using the NumPy library:\n",
    "\n",
    "1. Linear Interpolation\n",
    "2. Cubic Interpolation With Scipy\n",
    "3. Polynomial Interpolation"
   ]
  },
  {
   "cell_type": "markdown",
   "id": "4349f3a5-f6af-47a3-8540-98c1137cd64d",
   "metadata": {},
   "source": [
    "## Q8: You are working with a large dataset and find that a small percentage of the data is missing. What are some strategies you can use to determine if the missing data is missing at random or if there is a pattern to the missing data?"
   ]
  },
  {
   "cell_type": "markdown",
   "id": "ed4267eb-8cbc-4ac2-a90f-8c411b1fcd6b",
   "metadata": {},
   "source": [
    "\n",
    "Here are some strategies you can use to determine if the missing data is missing at random or if there is a pattern to the missing data:\n",
    "\n",
    "Check the distribution of the missing data: If the missing data is missing at random, then the distribution of the missing data should be random. This means that the missing data should be evenly distributed across all values of the variable. However, if there is a pattern to the missing data, then the distribution of the missing data will not be random.\n",
    "Look for correlations between the missing data and other variables: If the missing data is not missing at random, then there may be a correlation between the missing data and other variables in the dataset. For example, if the missing data is for a variable that is related to income, then there may be a correlation between the missing data and the income of the respondents.\n",
    "Use statistical tests: There are a number of statistical tests that can be used to determine if the missing data is missing at random. These tests include the Little's MCAR test, the Rubin's Test, and the Allison's Score test.\n",
    "The best strategy to use will depend on the specific dataset and the analysis that is being performed. However, it is important to determine if the missing data is missing at random or if there is a pattern to the missing data in order to ensure that the results of the analysis are accurate.\n",
    "\n",
    "Here are some additional considerations when determining if the missing data is missing at random or if there is a pattern to the missing data:\n",
    "\n",
    "The size of the dataset: The size of the dataset can affect the ability to detect patterns in the missing data. For example, if the dataset is small, then it may be difficult to detect patterns in the missing data.\n",
    "The type of data: The type of data can also affect the ability to detect patterns in the missing data. For example, it may be easier to detect patterns in missing categorical data than in missing numerical data.\n",
    "The impact of the missing data: The impact of the missing data on the analysis can also affect the ability to detect patterns in the missing data. For example, if the missing data is not random, then it may be more difficult to detect patterns in the missing data.\n",
    "Overall, there is no single best strategy to determine if the missing data is missing at random or if there is a pattern to the missing data. The best strategy will depend on the specific dataset and the analysis that is being performed. However, it is important to determine if the missing data is missing at random or if there is a pattern to the missing data in order to ensure that the results of the analysis are accurate."
   ]
  },
  {
   "cell_type": "markdown",
   "id": "5702ab60-eded-43f7-b236-3b742691f898",
   "metadata": {},
   "source": [
    "## Q9: Suppose you are working on a medical diagnosis project and find that the majority of patients in the dataset do not have the condition of interest, while a small percentage do. What are some strategies you can use to evaluate the performance of your machine learning model on this imbalanced dataset?"
   ]
  },
  {
   "cell_type": "markdown",
   "id": "b1f795e8-da71-4816-88ca-b2465ff9ec0b",
   "metadata": {},
   "source": [
    "\n",
    "Imbalanced datasets are a common problem in medical diagnosis projects. This is because the majority of patients do not have the condition of interest, while a small percentage do. This can make it difficult to evaluate the performance of a machine learning model on an imbalanced dataset.\n",
    "\n",
    "Here are some strategies you can use to evaluate the performance of your machine learning model on an imbalanced dataset:\n",
    "\n",
    "Use different evaluation metrics: There are a number of different evaluation metrics that can be used to evaluate the performance of a machine learning model on an imbalanced dataset. These metrics include accuracy, precision, recall, and F1 score. Accuracy is the most common evaluation metric, but it can be misleading for imbalanced datasets. Precision measures the proportion of positive predictions that are actually positive, while recall measures the proportion of actual positives that are predicted as positive. F1 score is a weighted average of precision and recall.\n",
    "Use stratified sampling: Stratified sampling is a technique that can be used to create a balanced dataset from an imbalanced dataset. This involves dividing the dataset into strata, or groups, based on the target variable. Then, a random sample is taken from each stratum to create a balanced dataset.\n",
    "Use cost-sensitive learning: Cost-sensitive learning is a technique that can be used to train a machine learning model to give more weight to the minority class. This involves assigning different costs to misclassifications of different classes. This means that the model will be penalized more for misclassifying instances of the minority class.\n",
    "Use ensemble learning: Ensemble learning is a technique that can be used to combine the predictions of multiple machine learning models. This can help to improve the performance of the model on an imbalanced dataset.\n",
    "The best strategy to use will depend on the specific dataset and the analysis that is being performed. However, it is important to use a variety of strategies to evaluate the performance of a machine learning model on an imbalanced dataset in order to ensure that the results are accurate.\n",
    "\n",
    "Here are some additional considerations when evaluating the performance of a machine learning model on an imbalanced dataset:\n",
    "\n",
    "The purpose of the model: The purpose of the model can affect the best evaluation metric to use. For example, if the model is being used to make predictions about the majority class, then accuracy may be the most important metric. However, if the model is being used to make predictions about the minority class, then precision or recall may be more important metrics.\n",
    "The severity of the imbalance: The severity of the imbalance can also affect the best evaluation metric to use. For example, if the imbalance is very severe, then accuracy may not be a good metric to use. In this case, precision or recall may be more appropriate metrics.\n",
    "The impact of the imbalance: The impact of the imbalance on the analysis can also affect the best evaluation metric to use. For example, if the imbalance is not having a significant impact on the analysis, then accuracy may be a good metric to use. However, if the imbalance is having a significant impact on the analysis, then precision or recall may be more appropriate metrics.\n",
    "Overall, there is no single best strategy to evaluate the performance of a machine learning model on an imbalanced dataset. The best strategy will depend on the specific dataset and the analysis that is being performed. However, it is important to use a variety of strategies to evaluate the performance of the model in order to ensure that the results are accurate."
   ]
  },
  {
   "cell_type": "markdown",
   "id": "0e451da0-7150-40c8-8389-d35f06626213",
   "metadata": {},
   "source": [
    "## Q10: When attempting to estimate customer satisfaction for a project, you discover that the dataset is unbalanced, with the bulk of customers reporting being satisfied. What methods can you employ to balance the dataset and down-sample the majority class?"
   ]
  },
  {
   "cell_type": "markdown",
   "id": "282c3571-fc8f-4d77-b284-c37f5e478774",
   "metadata": {},
   "source": [
    "Synthetic minority oversampling technique (SMOTE): This is a technique that generates synthetic instances of the minority class. This is done by randomly selecting an instance from the minority class and then creating new instances that are located between the selected instance and its k nearest neighbors. The value of k is a parameter that controls the number of synthetic instances that are created."
   ]
  },
  {
   "cell_type": "markdown",
   "id": "d0f1374a-222d-4c51-9b29-0040e750fe03",
   "metadata": {},
   "source": [
    "## Q11: You discover that the dataset is unbalanced with a low percentage of occurrences while working on a project that requires you to estimate the occurrence of a rare event. What methods can you employ to balance the dataset and up-sample the minority class?"
   ]
  },
  {
   "cell_type": "markdown",
   "id": "63814653-2427-43fa-a663-290d25842f58",
   "metadata": {},
   "source": [
    "Random oversampling: This involves randomly duplicating instances from the minority class until the dataset is balanced. This is a simple and effective method, but it can also lead to overfitting.\n",
    "SMOTE: This is a technique that generates synthetic instances of the minority class. This is done by randomly selecting an instance from the minority class and then creating new instances that are located between the selected instance and its k nearest neighbors. The value of k is a parameter that controls the number of synthetic instances that are created.\n",
    "Borderline SMOTE: This is a variation of SMOTE that only generates synthetic instances that are located on the decision boundary of the model. This can help to improve the performance of the model on the minority class.\n",
    "ADASYN: This is a technique that weights the instances in the minority class based on their distance to the decision boundary. This can help to ensure that the synthetic instances are created in areas where the model is most likely to make mistakes.\n",
    "The best method to use will depend on the specific dataset and the analysis that is being performed. However, it is important to use a method that will balance the dataset without overfitting.\n",
    "\n",
    "Here are some additional considerations when balancing a dataset and up-sampling the minority class:\n",
    "\n",
    "The purpose of the model: The purpose of the model can affect the best method to use. For example, if the model is being used to make predictions about the minority class, then random oversampling or SMOTE may be the best methods to use. However, if the model is being used to make predictions about the majority class, then random undersampling may be a better method to use.\n",
    "The severity of the imbalance: The severity of the imbalance can also affect the best method to use. For example, if the imbalance is very severe, then SMOTE or Borderline SMOTE may be the best methods to use. However, if the imbalance is not very severe, then random oversampling may be a good method to use.\n",
    "The impact of the imbalance: The impact of the imbalance on the analysis can also affect the best method to use. For example, if the imbalance is not having a significant impact on the analysis, then random oversampling may be a good method to use. However, if the imbalance is having a significant impact on the analysis, then SMOTE or Borderline SMOTE may be better methods to use.\n",
    "Overall, there is no single best method to balance a dataset and up-sample the minority class. The best method will depend on the specific dataset and the analysis that is being performed. However, it is important to use a method that will balance the dataset without overfitting."
   ]
  },
  {
   "cell_type": "code",
   "execution_count": null,
   "id": "e3717256-012c-4ac2-9dd8-4b9cefb4ffe1",
   "metadata": {},
   "outputs": [],
   "source": []
  }
 ],
 "metadata": {
  "kernelspec": {
   "display_name": "Python 3 (ipykernel)",
   "language": "python",
   "name": "python3"
  },
  "language_info": {
   "codemirror_mode": {
    "name": "ipython",
    "version": 3
   },
   "file_extension": ".py",
   "mimetype": "text/x-python",
   "name": "python",
   "nbconvert_exporter": "python",
   "pygments_lexer": "ipython3",
   "version": "3.10.8"
  }
 },
 "nbformat": 4,
 "nbformat_minor": 5
}

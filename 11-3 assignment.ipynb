{
 "cells": [
  {
   "cell_type": "markdown",
   "id": "317370cd-6219-476e-a41a-bd3b694a7633",
   "metadata": {},
   "source": [
    "## Q1: What is the difference between a t-test and a z-test? Provide an example scenario where you would use each type of test."
   ]
  },
  {
   "cell_type": "markdown",
   "id": "5d5e4153-6afe-48c3-ab3c-f351d0df910c",
   "metadata": {},
   "source": [
    "The t-test and z-test are both statistical tests used to determine whether two population means are significantly different from each other. However, there are some differences between them, including:\n",
    "\n",
    "The z-test is used when the sample size is large (typically n > 30) and the population standard deviation is known or can be estimated from the sample. The t-test, on the other hand, is used when the sample size is small (typically n < 30) or when the population standard deviation is unknown.\n",
    "\n",
    "The z-test assumes that the population follows a normal distribution, whereas the t-test assumes that the population follows a t-distribution, which is similar to a normal distribution but with heavier tails.\n",
    "\n",
    "The z-test is generally more powerful than the t-test, meaning it has a better chance of detecting a significant difference between the means, but this only holds when the assumptions of the z-test are met.\n",
    "\n",
    "An example scenario where you would use a t-test is when you want to compare the mean weight of two groups of people (e.g., men and women) and you have a small sample size (e.g., n = 20 for each group) and you don't know the population standard deviation. In this case, you would use a two-sample t-test.\n",
    "\n",
    "An example scenario where you would use a z-test is when you want to compare the mean height of two groups of trees (e.g., oak trees and maple trees) and you have a large sample size (e.g., n = 100 for each group) and you know the population standard deviation (e.g., from previous studies or experience). In this case, you would use a two-sample z-test."
   ]
  },
  {
   "cell_type": "markdown",
   "id": "b60a518c-8dea-46b5-a6ac-cda599adae32",
   "metadata": {},
   "source": [
    "## Q2: Differentiate between one-tailed and two-tailed tests."
   ]
  },
  {
   "cell_type": "markdown",
   "id": "80c02ce7-2287-46e9-83e0-a2bcbef18337",
   "metadata": {},
   "source": [
    "One-tailed and two-tailed tests are types of statistical hypothesis tests used to determine whether an observed difference between groups or variables is statistically significant or not. The main difference between them is the direction of the alternative hypothesis.\n",
    "\n",
    "In a one-tailed test, the alternative hypothesis specifies the direction of the difference between the groups or variables being tested. For example, if you are testing whether a new drug improves memory, the one-tailed alternative hypothesis would be that the drug improves memory compared to the control group, with no consideration of the possibility that the drug could have a negative effect on memory. One-tailed tests are more powerful than two-tailed tests, meaning they have a higher chance of detecting a significant effect, but they also carry a higher risk of a Type I error (rejecting the null hypothesis when it is actually true).\n",
    "\n",
    "In a two-tailed test, the alternative hypothesis does not specify the direction of the difference between the groups or variables being tested, but only that there is a difference. For example, if you are testing whether a new drug has an effect on memory, the two-tailed alternative hypothesis would be that the drug has a different effect on memory compared to the control group, without specifying whether it is better or worse. Two-tailed tests are less powerful than one-tailed tests, but they have a lower risk of a Type I error.\n",
    "\n",
    "To determine whether to use a one-tailed or two-tailed test, you should consider the research question and the direction of the effect you are interested in. If there is a clear theoretical or empirical reason to expect a difference in a specific direction, a one-tailed test may be appropriate. Otherwise, a two-tailed test may be more appropriate to allow for the possibility of a difference in either direction."
   ]
  },
  {
   "cell_type": "markdown",
   "id": "74f1a12a-bea5-4fae-bd09-77a8a07a1c92",
   "metadata": {},
   "source": [
    "## Q3: Explain the concept of Type 1 and Type 2 errors in hypothesis testing. Provide an example scenario for each type of error."
   ]
  },
  {
   "cell_type": "markdown",
   "id": "3225a207-396e-4e72-afe8-7c91041fb67e",
   "metadata": {},
   "source": [
    "In statistical hypothesis testing, Type I and Type II errors refer to the two types of errors that can occur when we make a decision about a hypothesis based on the statistical evidence.\n",
    "\n",
    "Type I error occurs when we reject the null hypothesis even though it is true. In other words, we falsely conclude that there is a significant effect or difference when in reality there is not. The probability of making a Type I error is denoted by alpha (α), and it is typically set at 0.05 or 0.01.\n",
    "\n",
    "An example scenario for a Type I error is a medical test that falsely diagnoses a healthy person as having a disease. For instance, a blood test for a disease may show a positive result when the person does not actually have the disease. This can lead to unnecessary treatment and emotional distress for the patient.\n",
    "\n",
    "Type II error occurs when we fail to reject the null hypothesis even though it is false. In other words, we fail to detect a significant effect or difference when in reality there is one. The probability of making a Type II error is denoted by beta (β), and it is affected by the sample size, the size of the effect, and the level of alpha.\n",
    "\n",
    "An example scenario for a Type II error is a medical test that falsely diagnoses a sick person as healthy. For instance, a blood test for a disease may show a negative result when the person actually has the disease. This can lead to delayed or no treatment, which can have serious consequences for the patient.\n",
    "\n",
    "To minimize the risk of both types of errors, researchers should carefully choose the sample size, the level of alpha, and the statistical test used. Additionally, it is important to interpret the statistical results in the context of the research question and the available evidence."
   ]
  },
  {
   "cell_type": "markdown",
   "id": "917f3c7e-0156-4cd3-9134-bed18ac53c17",
   "metadata": {},
   "source": [
    "## Q4: Explain Bayes's theorem with an example."
   ]
  },
  {
   "cell_type": "markdown",
   "id": "99e7b299-e172-401b-8f17-be35314f0511",
   "metadata": {},
   "source": [
    "Bayes's theorem is a mathematical formula used to calculate the probability of an event, given some prior knowledge or evidence. It is named after the 18th-century British statistician and philosopher Thomas Bayes.\n",
    "\n",
    "The formula for Bayes's theorem is:\n",
    "\n",
    "P(A|B) = P(B|A) * P(A) / P(B)\n",
    "\n",
    "where:\n",
    "\n",
    "P(A|B) is the probability of event A occurring given that event B has occurred\n",
    "\n",
    "P(B|A) is the probability of event B occurring given that event A has occurred\n",
    "\n",
    "P(A) is the prior probability of event A occurring\n",
    "\n",
    "P(B) is the prior probability of event B occurring\n",
    "\n",
    "An example scenario where Bayes's theorem could be used is in medical diagnosis. Suppose a certain disease affects 1% of the population, and there is a test for the disease that is 90% accurate (meaning that if a person has the disease, the test will correctly detect it 90% of the time, and if a person does not have the disease, the test will correctly indicate that they don't have it 90% of the time). A person takes the test and gets a positive result.\n",
    "\n",
    "Using Bayes's theorem, we can calculate the probability that the person actually has the disease, given the positive test result:\n",
    "\n",
    "P(A) = 0.01 (prior probability of having the disease)\n",
    "\n",
    "P(B|A) = 0.9 (probability of getting a positive test result given that the person has the disease)\n",
    "\n",
    "P(B|not A) = 0.1 (probability of getting a positive test result given that the person does not have the disease)\n",
    "\n",
    "P(not A) = 0.99 (prior probability of not having the disease)\n",
    "\n",
    "Using these values, we can calculate P(B), the probability of getting a positive test result:\n",
    "\n",
    "P(B) = P(B|A) * P(A) + P(B|not A) * P(not A)\n",
    "\n",
    "= 0.9 * 0.01 + 0.1 * 0.99\n",
    "\n",
    "= 0.108\n",
    "\n",
    "Now we can calculate P(A|B), the probability that the person actually has the disease given the positive test result:\n",
    "\n",
    "P(A|B) = P(B|A) * P(A) / P(B)\n",
    "\n",
    "= 0.9 * 0.01 / 0.108\n",
    "\n",
    "= 0.0833 or approximately 8.3%\n",
    "\n",
    "Therefore, even though the person tested positive for the disease, the probability that they actually have it is only 8.3%, which is significantly lower than the initial 90% accuracy rate of the test. This example illustrates how prior probabilities and test accuracy can influence the interpretation of test results."
   ]
  },
  {
   "cell_type": "markdown",
   "id": "6d966e0f-793f-48d3-866d-db67d9369ab9",
   "metadata": {},
   "source": [
    "## Q5: What is a confidence interval? How to calculate the confidence interval, explain with an example."
   ]
  },
  {
   "cell_type": "markdown",
   "id": "28abb275-188b-4209-9d44-2b22ace81b13",
   "metadata": {},
   "source": [
    "A confidence interval is a range of values that is likely to contain the true value of a population parameter, such as the mean or proportion, with a certain degree of confidence. It is commonly used in inferential statistics to estimate population parameters based on a sample.\n",
    "\n",
    "The calculation of a confidence interval involves the sample statistic, the standard error, and the desired level of confidence. The standard error is a measure of the variability of the sample statistic and is calculated based on the sample size and the population standard deviation or the sample standard deviation. The level of confidence represents the probability that the true population parameter lies within the calculated interval.\n",
    "\n",
    "The formula for a confidence interval for the population mean, when the population standard deviation is known, is:\n",
    "\n",
    "CI = X̄ ± z*(σ/√n)\n",
    "\n",
    "where:\n",
    "\n",
    "CI is the confidence interval\n",
    "\n",
    "X̄ is the sample mean\n",
    "\n",
    "z is the z-score for the desired level of confidence (e.g., 1.96 for 95% confidence)\n",
    "\n",
    "σ is the population standard deviation\n",
    "\n",
    "n is the sample size\n",
    "\n",
    "For example, suppose we want to estimate the average height of all college students in the United States with 95% confidence. We take a random sample of 50 students and find that their average height is 68 inches, with a sample standard deviation of 3 inches. The population standard deviation is known to be 2.5 inches.\n",
    "\n",
    "Using the formula above, we can calculate the confidence interval:\n",
    "\n",
    "CI = 68 ± 1.96*(2.5/√50)\n",
    "\n",
    "= 68 ± 0.873\n",
    "\n",
    "= [67.13, 68.87]\n",
    "\n",
    "Therefore, we can say with 95% confidence that the true average height of all college students in the United States lies between 67.13 inches and 68.87 inches. This means that if we were to repeat the sampling process and calculate a new confidence interval each time, 95% of the intervals would contain the true population parameter."
   ]
  },
  {
   "cell_type": "markdown",
   "id": "71d4b8bb-8737-444d-b7da-0d0a74bb66b4",
   "metadata": {},
   "source": [
    "## Q6. Use Bayes' Theorem to calculate the probability of an event occurring given prior knowledge of the event's probability and new evidence. Provide a sample problem and solution."
   ]
  },
  {
   "cell_type": "markdown",
   "id": "6a3f1076-94ed-4313-a359-e7b5cdd528c0",
   "metadata": {},
   "source": [
    "Suppose there are two factories, A and B, that produce widgets. Factory A produces 60% of all widgets, while factory B produces 40%. However, factory A produces defective widgets 5% of the time, while factory B produces defective widgets 10% of the time. A widget is chosen at random from the overall production, and it is found to be defective. What is the probability that it came from factory A?\n",
    "\n",
    "We can use Bayes' theorem to calculate this probability as follows:\n",
    "\n",
    "Let A be the event that the widget came from factory A, and D be the event that the widget is defective. We want to find P(A|D), the probability that the widget came from factory A given that it is defective.\n",
    "\n",
    "From the problem statement, we know the following probabilities:\n",
    "\n",
    "P(A) = 0.6 (prior probability of a widget coming from factory A)\n",
    "\n",
    "P(B) = 0.4 (prior probability of a widget coming from factory B)\n",
    "\n",
    "P(D|A) = 0.05 (probability of a widget being defective given that it came from factory A)\n",
    "\n",
    "P(D|B) = 0.1 (probability of a widget being defective given that it came from factory B)\n",
    "\n",
    "Using Bayes' theorem, we have:\n",
    "\n",
    "P(A|D) = P(D|A) * P(A) / P(D)\n",
    "\n",
    "where P(D) is the overall probability of a widget being defective, which can be calculated using the law of total probability:\n",
    "\n",
    "P(D) = P(D|A) * P(A) + P(D|B) * P(B)\n",
    "\n",
    "= 0.05 * 0.6 + 0.1 * 0.4\n",
    "\n",
    "= 0.07\n",
    "\n",
    "Therefore, we can calculate:\n",
    "\n",
    "P(A|D) = P(D|A) * P(A) / P(D)\n",
    "\n",
    "= 0.05 * 0.6 / 0.07\n",
    "\n",
    "= 0.429 or approximately 42.9%\n",
    "\n",
    "\n",
    "\n",
    "So the probability that the defective widget came from factory A is about 42.9%, while the probability that it came from factory B is about 57.1%.\n"
   ]
  },
  {
   "cell_type": "markdown",
   "id": "247016ff-24a4-4a74-9980-c3b7fcdf5e9b",
   "metadata": {},
   "source": [
    "## Q7. Calculate the 95% confidence interval for a sample of data with a mean of 50 and a standard deviation of 5. Interpret the results."
   ]
  },
  {
   "cell_type": "markdown",
   "id": "5d2690ef-3470-461a-92f1-2aaf350cb47c",
   "metadata": {},
   "source": [
    "To calculate the 95% confidence interval for a sample of data with a mean of 50 and a standard deviation of 5, we can use the formula:\n",
    "\n",
    "CI = X̄ ± z*(σ/√n)\n",
    "\n",
    "where X̄ is the sample mean, σ is the population standard deviation (which is unknown in this case), n is the sample size (which is not given), and z is the z-score corresponding to the desired level of confidence (which is 1.96 for 95% confidence).\n",
    "\n",
    "Since we do not have information about the sample size or the population standard deviation, we cannot calculate a precise confidence interval. However, we can estimate the interval using the formula and the given values:\n",
    "\n",
    "CI = 50 ± 1.96*(5/√n)\n",
    "\n",
    "For a large enough sample size (typically n > 30), we can assume that the sample mean follows a normal distribution and use the z-score of \n",
    "1.96. However, if the sample size is small, we may need to use a t-distribution with n-1 degrees of freedom to find the appropriate critical value.\n",
    "\n",
    "Interpreting the results: With 95% confidence, we can say that the true population mean lies within the calculated interval. In this case, we can estimate the confidence interval to be approximately 50 ± 1.96*(5/√n). The larger the sample size, the narrower the interval and the more precise the estimate of the population mean.\n",
    "\n",
    "\n",
    "\n",
    "\n"
   ]
  },
  {
   "cell_type": "markdown",
   "id": "7859bb32-092a-42d5-a0c8-52163ec27a89",
   "metadata": {},
   "source": [
    "## Q8. What is the margin of error in a confidence interval? How does sample size affect the margin of error? Provide an example of a scenario where a larger sample size would result in a smaller margin of error."
   ]
  },
  {
   "cell_type": "markdown",
   "id": "829215a0-ef89-46dc-9544-a4802c86b1b1",
   "metadata": {},
   "source": [
    "The margin of error in a confidence interval is a measure of the amount of error that is possible in estimating a population parameter based on a sample of data. It represents the range within which the true population parameter is likely to lie with a certain level of confidence.\n",
    "\n",
    "The margin of error is calculated using the formula:\n",
    "\n",
    "Margin of error = z*(σ/√n)\n",
    "\n",
    "where z is the z-score or t-score corresponding to the desired level of confidence, σ is the population standard deviation (or the sample standard deviation if the population standard deviation is unknown), and n is the sample size.\n",
    "\n",
    "The margin of error is inversely proportional to the square root of the sample size. This means that as the sample size increases, the margin of error decreases, and vice versa. In other words, larger sample sizes generally result in more precise estimates of population parameters and smaller margins of error.\n",
    "\n",
    "For example, suppose we want to estimate the proportion of voters in a city who support a particular candidate. A random sample of 200 voters is taken and 120 of them say they support the candidate. Using a 95% confidence level, we can calculate the margin of error as:\n",
    "\n",
    "Margin of error = 1.96 * sqrt[(0.3 * 0.7) / 200] ≈ 0.06 or 6%\n",
    "\n",
    "This means that with 95% confidence, we can say that the true proportion of voters who support the candidate lies between 0.54 (0.6 - 0.06) and 0.66 (0.6 + 0.06). If we had taken a larger sample, say 1000 voters, the margin of error would have been smaller, resulting in a more precise estimate of the true proportion of voters who support the candidate.\n",
    "\n",
    "In summary, a larger sample size generally results in a smaller margin of error, which means more precise estimates of population parameters."
   ]
  },
  {
   "cell_type": "markdown",
   "id": "6e039566-22f3-4587-a20b-18fd5f02c4aa",
   "metadata": {},
   "source": [
    "## Q9. Calculate the z-score for a data point with a value of 75, a population mean of 70, and a population standard deviation of 5. Interpret the results."
   ]
  },
  {
   "cell_type": "markdown",
   "id": "741df25e-52db-4776-b178-8039a7d8d875",
   "metadata": {},
   "source": [
    "To calculate the z-score for a data point with a value of 75, a population mean of 70, and a population standard deviation of 5, we can use the formula:\n",
    "\n",
    "z = (x - μ) / σ\n",
    "\n",
    "where x is the data point, μ is the population mean, and σ is the population standard deviation.\n",
    "\n",
    "Substituting the given values, we get:\n",
    "\n",
    "z = (75 - 70) / 5 = 1\n",
    "\n",
    "This means that the data point of 75 is 1 standard deviation above the population mean. The z-score of 1 indicates that the data point is above the mean by an amount equal to the population standard deviation.\n",
    "\n",
    "Z-scores are used to standardize data and are often used in hypothesis testing and calculating confidence intervals. In this case, a z-score of 1 indicates that the data point is relatively close to the mean, as it is only 1 standard deviation away.\n",
    "\n",
    "\n",
    "\n",
    "\n",
    "\n"
   ]
  },
  {
   "cell_type": "markdown",
   "id": "c309303a-88e7-4526-a9f0-2c6ceaa21ece",
   "metadata": {},
   "source": [
    "## Q10. In a study of the effectiveness of a new weight loss drug, a sample of 50 participants lost an average of 6 pounds with a standard deviation of 2.5 pounds. Conduct a hypothesis test to determine if the drug is significantly effective at a 95% confidence level using a t-test."
   ]
  },
  {
   "cell_type": "markdown",
   "id": "92b88270-ea2f-4543-9050-567f8545a2e8",
   "metadata": {},
   "source": [
    "To conduct a hypothesis test to determine if the weight loss drug is significantly effective at a 95% confidence level, we can use a t-test. The null hypothesis is that the mean weight loss from the drug is equal to zero (i.e., the drug has no effect), and the alternative hypothesis is that the mean weight loss from the drug is greater than zero (i.e., the drug is effective).\n",
    "\n",
    "We can set up the hypotheses as follows:\n",
    "\n",
    "H0: μ = 0\n",
    "\n",
    "Ha: μ > 0\n",
    "\n",
    "where μ is the population mean weight loss.\n",
    "\n",
    "To perform the t-test, we first calculate the t-statistic using the formula:\n",
    "\n",
    "t = (x̄ - μ0) / (s / sqrt(n))\n",
    "\n",
    "where x̄ is the sample mean weight loss, μ0 is the hypothesized population mean (i.e., 0), s is the sample standard deviation, and n is the sample size.\n",
    "\n",
    "Substituting the given values, we get:\n",
    "\n",
    "t = (6 - 0) / (2.5 / sqrt(50)) = 10.39\n",
    "\n",
    "Next, we need to determine the critical value of t for a 95% confidence level with 49 degrees of freedom (i.e., n - 1). We can use a t-table or a calculator to find this value. For a one-tailed test with a 95% confidence level and 49 degrees of freedom, the critical value of t is approximately 1.677.\n",
    "\n",
    "Since our calculated t-statistic of 10.39 is greater than the critical value of 1.677, we can reject the null hypothesis and conclude that the weight loss drug is significantly effective at a 95% confidence level.\n",
    "\n",
    "In other words, there is strong evidence to suggest that the average weight loss from the drug is greater than zero, and the results are unlikely to be due to chance alone.\n",
    "\n",
    "Note that we used a t-test instead of a z-test because the population standard deviation is unknown, and we are using the sample standard deviation as an estimate.\n",
    "\n",
    "\n",
    "\n",
    "\n"
   ]
  },
  {
   "cell_type": "markdown",
   "id": "08f20867-5443-4a4c-a96d-8418a992d279",
   "metadata": {},
   "source": [
    "## Q11. In a survey of 500 people, 65% reported being satisfied with their current job. Calculate the 95% confidence interval for the true proportion of people who are satisfied with their job."
   ]
  },
  {
   "cell_type": "markdown",
   "id": "25a99df5-e158-4507-82e6-20401411f08e",
   "metadata": {},
   "source": [
    "To calculate the 95% confidence interval for the true proportion of people who are satisfied with their job, we can use the following formula:\n",
    "\n",
    "CI = p ± z * sqrt((p * (1 - p)) / n)\n",
    "\n",
    "where CI is the confidence interval, p is the sample proportion (i.e., the proportion of people who are satisfied with their job), z is the critical value of the standard normal distribution for the desired confidence level (which is approximately 1.96 for a 95% confidence level), and n is the sample size.\n",
    "\n",
    "Substituting the given values, we get:\n",
    "\n",
    "CI = 0.65 ± 1.96 * sqrt((0.65 * (1 - 0.65)) / 500)\n",
    "\n",
    "Simplifying this expression, we get:\n",
    "\n",
    "CI = 0.65 ± 0.041\n",
    "\n",
    "Therefore, the 95% confidence interval for the true proportion of people who are satisfied with their job is approximately (0.609, 0.691). This means that we can be 95% confident that the true proportion of people who are satisfied with their job falls between 60.9% and 69.1%.\n",
    "\n",
    "Interpreting the results, we can say that there is a high degree of certainty that the true proportion of people who are satisfied with their job lies within this interval. This information can be useful for decision-making and planning purposes, such as identifying areas where improvements can be made to increase job satisfaction."
   ]
  },
  {
   "cell_type": "markdown",
   "id": "64f480f7-3c38-4596-8c1f-090655c78e17",
   "metadata": {},
   "source": [
    "## Q12. A researcher is testing the effectiveness of two different teaching methods on student performance. Sample A has a mean score of 85 with a standard deviation of 6, while sample B has a mean score of 82 with a standard deviation of 5. Conduct a hypothesis test to determine if the two teaching methods have a significant difference in student performance using a t-test with a significance level of 0.01."
   ]
  },
  {
   "cell_type": "markdown",
   "id": "56cb1c4f-1b8c-48a4-b473-e12032341415",
   "metadata": {},
   "source": [
    "To conduct a hypothesis test to determine if there is a significant difference in student performance between two teaching methods, we can use a two-sample t-test. The null hypothesis for this test is that there is no significant difference between the means of the two samples, while the alternative hypothesis is that there is a significant difference.\n",
    "\n",
    "In this case, we have two samples, A and B, with mean scores of 85 and 82, respectively, and standard deviations of 6 and 5, respectively. We will use a significance level of 0.01, which corresponds to a confidence level of 99%.\n",
    "\n",
    "The test statistic for a two-sample t-test is given by:\n",
    "\n",
    "t = (x̄A - x̄B) / sqrt((sA^2 / nA) + (sB^2 / nB))\n",
    "\n",
    "where x̄A and x̄B are the sample means, sA and sB are the sample standard deviations, and nA and nB are the sample sizes.\n",
    "\n",
    "Substituting the given values, we get:\n",
    "\n",
    "t = (85 - 82) / sqrt((6^2 / 1) + (5^2 / 1))\n",
    "\n",
    "t = 3 / sqrt(61)\n",
    "\n",
    "t ≈ 0.386\n",
    "\n",
    "The degrees of freedom for this test are calculated as:\n",
    "\n",
    "df = (sA^2 / nA + sB^2 / nB)^2 / ( (sA^2 / nA)^2 / (nA - 1) + (sB^2 / nB)^2 / (nB - 1) )\n",
    "\n",
    "Substituting the given values, we get:\n",
    "\n",
    "df = (6^2 / 1 + 5^2 / 1)^2 / ((6^2 / 1)^2 / (1 - 1) + (5^2 / 1)^2 / (1 - 1))\n",
    "\n",
    "df = 1\n",
    "\n",
    "The critical value for a two-tailed t-test with a significance level of 0.01 and 1 degree of freedom is approximately ±6.965.\n",
    "\n",
    "Since our calculated t-value of 0.386 is less than the critical value of ±6.965, we fail to reject the null hypothesis. Therefore, we can conclude that there is not sufficient evidence to suggest a significant difference in student performance between the two teaching methods at a 99% confidence level."
   ]
  },
  {
   "cell_type": "markdown",
   "id": "38235119-531a-4301-b086-e44d02d65796",
   "metadata": {},
   "source": [
    "## Q13. A population has a mean of 60 and a standard deviation of 8. A sample of 50 observations has a mean of 65. Calculate the 90% confidence interval for the true population mean."
   ]
  },
  {
   "cell_type": "markdown",
   "id": "09bc54c8-ff2f-428b-9f01-dca6ce730a40",
   "metadata": {},
   "source": [
    "To calculate the 90% confidence interval for the true population mean, we can use the formula:\n",
    "\n",
    "CI = x̄ ± z*(σ/√n)\n",
    "\n",
    "where CI is the confidence interval, x̄ is the sample mean, z is the z-score corresponding to the desired confidence level, σ is the population standard deviation, and n is the sample size.\n",
    "\n",
    "Substituting the given values, we get:\n",
    "\n",
    "CI = 65 ± z*(8/√50)\n",
    "\n",
    "To find the value of z, we can refer to the standard normal distribution table or use a calculator. For a 90% confidence level, the z-score is approximately 1.645.\n",
    "\n",
    "Substituting this value, we get:\n",
    "\n",
    "CI = 65 ± 1.645*(8/√50)\n",
    "\n",
    "CI ≈ (62.36, 67.64)\n",
    "\n",
    "Therefore, we can say with 90% confidence that the true population mean lies between 62.36 and 67.64."
   ]
  },
  {
   "cell_type": "markdown",
   "id": "c36bcf56-944d-4f81-88f0-ab4ebf3431f3",
   "metadata": {},
   "source": [
    "## Q14. In a study of the effects of caffeine on reaction time, a sample of 30 participants had an average reaction time of 0.25 seconds with a standard deviation of 0.05 seconds. Conduct a hypothesis test to determine if the caffeine has a significant effect on reaction time at a 90% confidence level using a t-test."
   ]
  },
  {
   "cell_type": "markdown",
   "id": "a0a59243-283c-4697-a278-20fe481ea931",
   "metadata": {},
   "source": [
    "To conduct a hypothesis test to determine if caffeine has a significant effect on reaction time, we can use the following steps:\n",
    "\n",
    "Step 1: State the null and alternative hypotheses:\n",
    "\n",
    "Null hypothesis (H0): The mean reaction time of participants who consume caffeine is the same as the mean reaction time of participants who do not consume caffeine.\n",
    "\n",
    "Alternative hypothesis (Ha): The mean reaction time of participants who consume caffeine is different from the mean reaction time of participants who do not consume caffeine.\n",
    "\n",
    "Step 2: Choose the appropriate significance level and test statistic. Since the sample size is less than 30, we will use a t-test. The significance level is given as 90%, which corresponds to a significance level of 0.1.\n",
    "\n",
    "Step 3: Calculate the test statistic:\n",
    "\n",
    "t = (x̄ - μ) / (s / √n)\n",
    "\n",
    "where x̄ is the sample mean, μ is the population mean, s is the sample standard deviation, and n is the sample size.\n",
    "\n",
    "Substituting the given values, we get:\n",
    "\n",
    "t = (0.25 - μ) / (0.05 / √30)\n",
    "\n",
    "Step 4: Determine the critical values or p-value. Since this is a two-tailed test, we need to find the critical values that correspond to a significance level of 0.05.\n",
    "\n",
    "Using a t-distribution table with 29 degrees of freedom, we find the critical values to be ±1.699.\n",
    "\n",
    "Step 5: Make a decision and interpret the results. We can compare the calculated test statistic to the critical values to make a decision. If the calculated test statistic falls outside the critical values, we reject the null hypothesis and conclude that caffeine has a significant effect on reaction time. Otherwise, we fail to reject the null hypothesis.\n",
    "\n",
    "t = (0.25 - μ) / (0.05 / √30)\n",
    "\n",
    "We don't know the population mean, so we cannot directly calculate the test statistic. Instead, we can use the sample mean as an estimate for the population mean. Assuming that the null hypothesis is true, we can calculate the t-value as follows:\n",
    "\n",
    "t = (0.25 - 0) / (0.05 / √30) = 18\n",
    "\n",
    "Since the calculated t-value (18) is greater than the critical value (1.699), we reject the null hypothesis and conclude that caffeine has a significant effect on reaction time at a 90% confidence level. This means that there is strong evidence to suggest that caffeine has an effect on reaction time in the population.\n",
    "\n",
    "\n",
    "\n",
    "\n"
   ]
  },
  {
   "cell_type": "code",
   "execution_count": null,
   "id": "651a6ddf-bc6a-42ef-ba4f-006b337d7c0f",
   "metadata": {},
   "outputs": [],
   "source": []
  },
  {
   "cell_type": "code",
   "execution_count": null,
   "id": "76817c0b-2732-47f7-80ea-2392b99f76f3",
   "metadata": {},
   "outputs": [],
   "source": []
  }
 ],
 "metadata": {
  "kernelspec": {
   "display_name": "Python 3 (ipykernel)",
   "language": "python",
   "name": "python3"
  },
  "language_info": {
   "codemirror_mode": {
    "name": "ipython",
    "version": 3
   },
   "file_extension": ".py",
   "mimetype": "text/x-python",
   "name": "python",
   "nbconvert_exporter": "python",
   "pygments_lexer": "ipython3",
   "version": "3.10.8"
  }
 },
 "nbformat": 4,
 "nbformat_minor": 5
}
